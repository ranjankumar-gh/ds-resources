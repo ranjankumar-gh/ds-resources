{
 "cells": [
  {
   "cell_type": "markdown",
   "metadata": {},
   "source": [
    "# Ridge Regression (interpretation)"
   ]
  },
  {
   "cell_type": "markdown",
   "metadata": {},
   "source": [
    "In this notebook, we will run ridge regression multiple times with different L2 penalties to see which one produces the best fit. We will revisit the example of polynomial regression as a means to see the effect of L2 regularization. In particular, we will:\n",
    "* Use a pre-built implementation of regression (sklearn) to run polynomial regression\n",
    "* Use matplotlib to visualize polynomial regressions\n",
    "* Use a pre-built implementation of regression (sklearn) to run polynomial regression, this time with L2 penalty\n",
    "* Use matplotlib to visualize polynomial regressions under L2 regularization\n",
    "* Choose best L2 penalty using cross-validation.\n",
    "* Assess the final fit using test data.\n",
    "\n",
    "We will continue to use the House data."
   ]
  },
  {
   "cell_type": "code",
   "execution_count": 6,
   "metadata": {
    "collapsed": true
   },
   "outputs": [],
   "source": [
    "import numpy as np\n",
    "import pandas as pd\n",
    "import math\n",
    "from sklearn.linear_model import Ridge\n",
    "from sklearn.cross_validation import train_test_split, KFold\n",
    "from sklearn.utils import shuffle\n",
    "import matplotlib.pyplot as plt\n",
    "%matplotlib inline"
   ]
  },
  {
   "cell_type": "markdown",
   "metadata": {},
   "source": [
    "# Polynomial Regression - revisited"
   ]
  },
  {
   "cell_type": "markdown",
   "metadata": {},
   "source": [
    "Function to produce an DataFrame with columns containing the powers of a given input. "
   ]
  },
  {
   "cell_type": "code",
   "execution_count": 7,
   "metadata": {
    "collapsed": true
   },
   "outputs": [],
   "source": [
    "def polynomial_dframe(feature, degree):\n",
    "    # assume that degree >= 1\n",
    "    # initialize the Data Frame:\n",
    "    poly_dframe = pd.DataFrame()\n",
    "    \n",
    "    # and set poly_dframe['power_1'] equal to the passed feature\n",
    "    poly_dframe['power_1'] = feature\n",
    "    \n",
    "    # first check if degree > 1\n",
    "    if degree > 1:\n",
    "        # then loop over the remaining degrees:\n",
    "        # range usually starts at 0 and stops at the endpoint-1. We want it to start at 2 and stop at degree\n",
    "        for power in range(2, degree+1): \n",
    "            # first we'll give the column a name:\n",
    "            name = 'power_' + str(power)\n",
    "            # then assign poly_dframe[name] to the appropriate power of feature\n",
    "            \n",
    "            def powered(x):\n",
    "                return math.pow(x, power)\n",
    "            powered = np.vectorize(powered)\n",
    "            poly_dframe[name] = powered(feature)\n",
    "            #poly_dframe[name] = feature.apply(lambda x: x**power)\n",
    "    #print poly_dframe.head()\n",
    "\n",
    "    return poly_dframe"
   ]
  },
  {
   "cell_type": "markdown",
   "metadata": {},
   "source": [
    "Let's use matplotlib to visualize what a polynomial regression looks like on the house data."
   ]
  },
  {
   "cell_type": "code",
   "execution_count": 8,
   "metadata": {
    "collapsed": true
   },
   "outputs": [],
   "source": [
    "import matplotlib.pyplot as plt\n",
    "%matplotlib inline"
   ]
  },
  {
   "cell_type": "code",
   "execution_count": 9,
   "metadata": {
    "collapsed": false
   },
   "outputs": [
    {
     "data": {
      "text/html": [
       "<div>\n",
       "<table border=\"1\" class=\"dataframe\">\n",
       "  <thead>\n",
       "    <tr style=\"text-align: right;\">\n",
       "      <th></th>\n",
       "      <th>id</th>\n",
       "      <th>date</th>\n",
       "      <th>price</th>\n",
       "      <th>bedrooms</th>\n",
       "      <th>bathrooms</th>\n",
       "      <th>sqft_living</th>\n",
       "      <th>sqft_lot</th>\n",
       "      <th>floors</th>\n",
       "      <th>waterfront</th>\n",
       "      <th>view</th>\n",
       "      <th>...</th>\n",
       "      <th>grade</th>\n",
       "      <th>sqft_above</th>\n",
       "      <th>sqft_basement</th>\n",
       "      <th>yr_built</th>\n",
       "      <th>yr_renovated</th>\n",
       "      <th>zipcode</th>\n",
       "      <th>lat</th>\n",
       "      <th>long</th>\n",
       "      <th>sqft_living15</th>\n",
       "      <th>sqft_lot15</th>\n",
       "    </tr>\n",
       "  </thead>\n",
       "  <tbody>\n",
       "    <tr>\n",
       "      <th>0</th>\n",
       "      <td>7129300520</td>\n",
       "      <td>20141013T000000</td>\n",
       "      <td>221900</td>\n",
       "      <td>3</td>\n",
       "      <td>1.00</td>\n",
       "      <td>1180</td>\n",
       "      <td>5650</td>\n",
       "      <td>1</td>\n",
       "      <td>0</td>\n",
       "      <td>0</td>\n",
       "      <td>...</td>\n",
       "      <td>7</td>\n",
       "      <td>1180</td>\n",
       "      <td>0</td>\n",
       "      <td>1955</td>\n",
       "      <td>0</td>\n",
       "      <td>98178</td>\n",
       "      <td>47.5112</td>\n",
       "      <td>-122.257</td>\n",
       "      <td>1340</td>\n",
       "      <td>5650</td>\n",
       "    </tr>\n",
       "    <tr>\n",
       "      <th>1</th>\n",
       "      <td>6414100192</td>\n",
       "      <td>20141209T000000</td>\n",
       "      <td>538000</td>\n",
       "      <td>3</td>\n",
       "      <td>2.25</td>\n",
       "      <td>2570</td>\n",
       "      <td>7242</td>\n",
       "      <td>2</td>\n",
       "      <td>0</td>\n",
       "      <td>0</td>\n",
       "      <td>...</td>\n",
       "      <td>7</td>\n",
       "      <td>2170</td>\n",
       "      <td>400</td>\n",
       "      <td>1951</td>\n",
       "      <td>1991</td>\n",
       "      <td>98125</td>\n",
       "      <td>47.7210</td>\n",
       "      <td>-122.319</td>\n",
       "      <td>1690</td>\n",
       "      <td>7639</td>\n",
       "    </tr>\n",
       "    <tr>\n",
       "      <th>2</th>\n",
       "      <td>5631500400</td>\n",
       "      <td>20150225T000000</td>\n",
       "      <td>180000</td>\n",
       "      <td>2</td>\n",
       "      <td>1.00</td>\n",
       "      <td>770</td>\n",
       "      <td>10000</td>\n",
       "      <td>1</td>\n",
       "      <td>0</td>\n",
       "      <td>0</td>\n",
       "      <td>...</td>\n",
       "      <td>6</td>\n",
       "      <td>770</td>\n",
       "      <td>0</td>\n",
       "      <td>1933</td>\n",
       "      <td>0</td>\n",
       "      <td>98028</td>\n",
       "      <td>47.7379</td>\n",
       "      <td>-122.233</td>\n",
       "      <td>2720</td>\n",
       "      <td>8062</td>\n",
       "    </tr>\n",
       "    <tr>\n",
       "      <th>3</th>\n",
       "      <td>2487200875</td>\n",
       "      <td>20141209T000000</td>\n",
       "      <td>604000</td>\n",
       "      <td>4</td>\n",
       "      <td>3.00</td>\n",
       "      <td>1960</td>\n",
       "      <td>5000</td>\n",
       "      <td>1</td>\n",
       "      <td>0</td>\n",
       "      <td>0</td>\n",
       "      <td>...</td>\n",
       "      <td>7</td>\n",
       "      <td>1050</td>\n",
       "      <td>910</td>\n",
       "      <td>1965</td>\n",
       "      <td>0</td>\n",
       "      <td>98136</td>\n",
       "      <td>47.5208</td>\n",
       "      <td>-122.393</td>\n",
       "      <td>1360</td>\n",
       "      <td>5000</td>\n",
       "    </tr>\n",
       "    <tr>\n",
       "      <th>4</th>\n",
       "      <td>1954400510</td>\n",
       "      <td>20150218T000000</td>\n",
       "      <td>510000</td>\n",
       "      <td>3</td>\n",
       "      <td>2.00</td>\n",
       "      <td>1680</td>\n",
       "      <td>8080</td>\n",
       "      <td>1</td>\n",
       "      <td>0</td>\n",
       "      <td>0</td>\n",
       "      <td>...</td>\n",
       "      <td>8</td>\n",
       "      <td>1680</td>\n",
       "      <td>0</td>\n",
       "      <td>1987</td>\n",
       "      <td>0</td>\n",
       "      <td>98074</td>\n",
       "      <td>47.6168</td>\n",
       "      <td>-122.045</td>\n",
       "      <td>1800</td>\n",
       "      <td>7503</td>\n",
       "    </tr>\n",
       "  </tbody>\n",
       "</table>\n",
       "<p>5 rows × 21 columns</p>\n",
       "</div>"
      ],
      "text/plain": [
       "           id             date   price  bedrooms  bathrooms  sqft_living  \\\n",
       "0  7129300520  20141013T000000  221900         3       1.00         1180   \n",
       "1  6414100192  20141209T000000  538000         3       2.25         2570   \n",
       "2  5631500400  20150225T000000  180000         2       1.00          770   \n",
       "3  2487200875  20141209T000000  604000         4       3.00         1960   \n",
       "4  1954400510  20150218T000000  510000         3       2.00         1680   \n",
       "\n",
       "   sqft_lot  floors  waterfront  view     ...      grade  sqft_above  \\\n",
       "0      5650       1           0     0     ...          7        1180   \n",
       "1      7242       2           0     0     ...          7        2170   \n",
       "2     10000       1           0     0     ...          6         770   \n",
       "3      5000       1           0     0     ...          7        1050   \n",
       "4      8080       1           0     0     ...          8        1680   \n",
       "\n",
       "   sqft_basement  yr_built  yr_renovated  zipcode      lat     long  \\\n",
       "0              0      1955             0    98178  47.5112 -122.257   \n",
       "1            400      1951          1991    98125  47.7210 -122.319   \n",
       "2              0      1933             0    98028  47.7379 -122.233   \n",
       "3            910      1965             0    98136  47.5208 -122.393   \n",
       "4              0      1987             0    98074  47.6168 -122.045   \n",
       "\n",
       "   sqft_living15  sqft_lot15  \n",
       "0           1340        5650  \n",
       "1           1690        7639  \n",
       "2           2720        8062  \n",
       "3           1360        5000  \n",
       "4           1800        7503  \n",
       "\n",
       "[5 rows x 21 columns]"
      ]
     },
     "execution_count": 9,
     "metadata": {},
     "output_type": "execute_result"
    }
   ],
   "source": [
    "sales = pd.read_csv('data/kc_housing_sales_data.csv')\n",
    "sales.head()"
   ]
  },
  {
   "cell_type": "markdown",
   "metadata": {},
   "source": [
    "We will continue using the sqft_living variable. For plotting purposes (connecting the dots), we'll need to sort by the values of sqft_living. For houses with identical square footage, we break the tie by their prices."
   ]
  },
  {
   "cell_type": "code",
   "execution_count": 10,
   "metadata": {
    "collapsed": false
   },
   "outputs": [],
   "source": [
    "sales = sales.sort_values(['sqft_living','price'])"
   ]
  },
  {
   "cell_type": "code",
   "execution_count": 11,
   "metadata": {
    "collapsed": false
   },
   "outputs": [
    {
     "data": {
      "text/html": [
       "<div>\n",
       "<table border=\"1\" class=\"dataframe\">\n",
       "  <thead>\n",
       "    <tr style=\"text-align: right;\">\n",
       "      <th></th>\n",
       "      <th>id</th>\n",
       "      <th>date</th>\n",
       "      <th>price</th>\n",
       "      <th>bedrooms</th>\n",
       "      <th>bathrooms</th>\n",
       "      <th>sqft_living</th>\n",
       "      <th>sqft_lot</th>\n",
       "      <th>floors</th>\n",
       "      <th>waterfront</th>\n",
       "      <th>view</th>\n",
       "      <th>...</th>\n",
       "      <th>grade</th>\n",
       "      <th>sqft_above</th>\n",
       "      <th>sqft_basement</th>\n",
       "      <th>yr_built</th>\n",
       "      <th>yr_renovated</th>\n",
       "      <th>zipcode</th>\n",
       "      <th>lat</th>\n",
       "      <th>long</th>\n",
       "      <th>sqft_living15</th>\n",
       "      <th>sqft_lot15</th>\n",
       "    </tr>\n",
       "  </thead>\n",
       "  <tbody>\n",
       "    <tr>\n",
       "      <th>19452</th>\n",
       "      <td>3980300371</td>\n",
       "      <td>20140926T000000</td>\n",
       "      <td>142000</td>\n",
       "      <td>0</td>\n",
       "      <td>0.00</td>\n",
       "      <td>290</td>\n",
       "      <td>20875</td>\n",
       "      <td>1</td>\n",
       "      <td>0</td>\n",
       "      <td>0</td>\n",
       "      <td>...</td>\n",
       "      <td>1</td>\n",
       "      <td>290</td>\n",
       "      <td>0</td>\n",
       "      <td>1963</td>\n",
       "      <td>0</td>\n",
       "      <td>98024</td>\n",
       "      <td>47.5308</td>\n",
       "      <td>-121.888</td>\n",
       "      <td>1620</td>\n",
       "      <td>22850</td>\n",
       "    </tr>\n",
       "    <tr>\n",
       "      <th>15381</th>\n",
       "      <td>2856101479</td>\n",
       "      <td>20140701T000000</td>\n",
       "      <td>276000</td>\n",
       "      <td>1</td>\n",
       "      <td>0.75</td>\n",
       "      <td>370</td>\n",
       "      <td>1801</td>\n",
       "      <td>1</td>\n",
       "      <td>0</td>\n",
       "      <td>0</td>\n",
       "      <td>...</td>\n",
       "      <td>5</td>\n",
       "      <td>370</td>\n",
       "      <td>0</td>\n",
       "      <td>1923</td>\n",
       "      <td>0</td>\n",
       "      <td>98117</td>\n",
       "      <td>47.6778</td>\n",
       "      <td>-122.389</td>\n",
       "      <td>1340</td>\n",
       "      <td>5000</td>\n",
       "    </tr>\n",
       "    <tr>\n",
       "      <th>860</th>\n",
       "      <td>1723049033</td>\n",
       "      <td>20140620T000000</td>\n",
       "      <td>245000</td>\n",
       "      <td>1</td>\n",
       "      <td>0.75</td>\n",
       "      <td>380</td>\n",
       "      <td>15000</td>\n",
       "      <td>1</td>\n",
       "      <td>0</td>\n",
       "      <td>0</td>\n",
       "      <td>...</td>\n",
       "      <td>5</td>\n",
       "      <td>380</td>\n",
       "      <td>0</td>\n",
       "      <td>1963</td>\n",
       "      <td>0</td>\n",
       "      <td>98168</td>\n",
       "      <td>47.4810</td>\n",
       "      <td>-122.323</td>\n",
       "      <td>1170</td>\n",
       "      <td>15000</td>\n",
       "    </tr>\n",
       "    <tr>\n",
       "      <th>18379</th>\n",
       "      <td>1222029077</td>\n",
       "      <td>20141029T000000</td>\n",
       "      <td>265000</td>\n",
       "      <td>0</td>\n",
       "      <td>0.75</td>\n",
       "      <td>384</td>\n",
       "      <td>213444</td>\n",
       "      <td>1</td>\n",
       "      <td>0</td>\n",
       "      <td>0</td>\n",
       "      <td>...</td>\n",
       "      <td>4</td>\n",
       "      <td>384</td>\n",
       "      <td>0</td>\n",
       "      <td>2003</td>\n",
       "      <td>0</td>\n",
       "      <td>98070</td>\n",
       "      <td>47.4177</td>\n",
       "      <td>-122.491</td>\n",
       "      <td>1920</td>\n",
       "      <td>224341</td>\n",
       "    </tr>\n",
       "    <tr>\n",
       "      <th>4868</th>\n",
       "      <td>6896300380</td>\n",
       "      <td>20141002T000000</td>\n",
       "      <td>228000</td>\n",
       "      <td>0</td>\n",
       "      <td>1.00</td>\n",
       "      <td>390</td>\n",
       "      <td>5900</td>\n",
       "      <td>1</td>\n",
       "      <td>0</td>\n",
       "      <td>0</td>\n",
       "      <td>...</td>\n",
       "      <td>4</td>\n",
       "      <td>390</td>\n",
       "      <td>0</td>\n",
       "      <td>1953</td>\n",
       "      <td>0</td>\n",
       "      <td>98118</td>\n",
       "      <td>47.5260</td>\n",
       "      <td>-122.261</td>\n",
       "      <td>2170</td>\n",
       "      <td>6000</td>\n",
       "    </tr>\n",
       "  </tbody>\n",
       "</table>\n",
       "<p>5 rows × 21 columns</p>\n",
       "</div>"
      ],
      "text/plain": [
       "               id             date   price  bedrooms  bathrooms  sqft_living  \\\n",
       "19452  3980300371  20140926T000000  142000         0       0.00          290   \n",
       "15381  2856101479  20140701T000000  276000         1       0.75          370   \n",
       "860    1723049033  20140620T000000  245000         1       0.75          380   \n",
       "18379  1222029077  20141029T000000  265000         0       0.75          384   \n",
       "4868   6896300380  20141002T000000  228000         0       1.00          390   \n",
       "\n",
       "       sqft_lot  floors  waterfront  view     ...      grade  sqft_above  \\\n",
       "19452     20875       1           0     0     ...          1         290   \n",
       "15381      1801       1           0     0     ...          5         370   \n",
       "860       15000       1           0     0     ...          5         380   \n",
       "18379    213444       1           0     0     ...          4         384   \n",
       "4868       5900       1           0     0     ...          4         390   \n",
       "\n",
       "       sqft_basement  yr_built  yr_renovated  zipcode      lat     long  \\\n",
       "19452              0      1963             0    98024  47.5308 -121.888   \n",
       "15381              0      1923             0    98117  47.6778 -122.389   \n",
       "860                0      1963             0    98168  47.4810 -122.323   \n",
       "18379              0      2003             0    98070  47.4177 -122.491   \n",
       "4868               0      1953             0    98118  47.5260 -122.261   \n",
       "\n",
       "       sqft_living15  sqft_lot15  \n",
       "19452           1620       22850  \n",
       "15381           1340        5000  \n",
       "860             1170       15000  \n",
       "18379           1920      224341  \n",
       "4868            2170        6000  \n",
       "\n",
       "[5 rows x 21 columns]"
      ]
     },
     "execution_count": 11,
     "metadata": {},
     "output_type": "execute_result"
    }
   ],
   "source": [
    "sales.head()"
   ]
  },
  {
   "cell_type": "code",
   "execution_count": 12,
   "metadata": {
    "collapsed": true
   },
   "outputs": [],
   "source": [
    "def print_coefficients(model):    \n",
    "    # Get the degree of the polynomial\n",
    "    deg = len(model.coef_)\n",
    "\n",
    "    # Get learned parameters as a list\n",
    "    w = [model.intercept_] + model.coef_.tolist()\n",
    "    \n",
    "    # Numpy has a nifty function to print out polynomials in a pretty way\n",
    "    # (We'll use it, but it needs the parameters in the reverse order)\n",
    "    print 'Learned polynomial for degree ' + str(deg) + ':'\n",
    "    \n",
    "    w.reverse()\n",
    "    \n",
    "    print np.poly1d(w)"
   ]
  },
  {
   "cell_type": "markdown",
   "metadata": {},
   "source": [
    "Let us revisit the 15th-order polynomial model using the 'sqft_living' input. Generate polynomial features up to degree 15 using `polynomial_dframe()` and fit a model with these features. When fitting the model, use an L2 penalty of `1e-5`:"
   ]
  },
  {
   "cell_type": "code",
   "execution_count": 13,
   "metadata": {
    "collapsed": true
   },
   "outputs": [],
   "source": [
    "l2_small_penalty = 1e-5"
   ]
  },
  {
   "cell_type": "markdown",
   "metadata": {},
   "source": [
    "**Note:** When we have so many features and so few data points, the solution can become highly numerically unstable, which can sometimes lead to strange unpredictable results.  Thus, rather than using no regularization, we will introduce a tiny amount of regularization (`l2_penalty=1e-5`) to make the solution numerically stable.  (The regularization can also help with numerical stability, and here we are seeing a practical example.)\n",
    "\n",
    "With the L2 penalty specified above, fit the model and print out the learned weights."
   ]
  },
  {
   "cell_type": "code",
   "execution_count": 14,
   "metadata": {
    "collapsed": false
   },
   "outputs": [
    {
     "name": "stdout",
     "output_type": "stream",
     "text": [
      "['power_1', 'power_2', 'power_3', 'power_4', 'power_5', 'power_6', 'power_7', 'power_8', 'power_9', 'power_10', 'power_11', 'power_12', 'power_13', 'power_14', 'power_15']\n",
      "Learned polynomial for degree 15:\n",
      "            15             14             13             12\n",
      "-3.498e-49 x  - 1.313e-43 x  + 1.135e-38 x  - 3.521e-34 x \n",
      "              11             10             9             8\n",
      " + 5.336e-30 x  - 4.081e-26 x  + 1.273e-22 x + 9.095e-20 x\n",
      "              7             6             5             4             3\n",
      " - 9.829e-16 x - 3.839e-20 x - 5.507e-20 x - 4.947e-25 x - 1.615e-30 x\n",
      "              2\n",
      " + 9.072e-36 x + 1.577e+04 x + 2.208e+08\n"
     ]
    }
   ],
   "source": [
    "for degree in range(15,16):\n",
    "    poly_data_dframe = polynomial_dframe(sales['sqft_living'],degree)\n",
    "        \n",
    "    my_features = poly_data_dframe.columns.tolist()\n",
    "    print my_features\n",
    "    \n",
    "    X = poly_data_dframe[my_features]\n",
    "    poly_data_dframe['price'] = sales['price']\n",
    "    y = poly_data_dframe['price']\n",
    "    \n",
    "    model = Ridge(alpha=l2_small_penalty)\n",
    "    model.fit(X, y)\n",
    "\n",
    "    print_coefficients(model)"
   ]
  },
  {
   "cell_type": "markdown",
   "metadata": {},
   "source": [
    "# Observe overfitting"
   ]
  },
  {
   "cell_type": "markdown",
   "metadata": {},
   "source": [
    "Recall from [Assessing Fit (polynomial regression)](https://github.com/ranjankumar-gh/ml-specialization/blob/master/regression/notebooks/4-assessing-fit-polynomial-regression.ipynb) that the polynomial fit of degree 15 changed wildly whenever the data changed. In particular, when we split the sales data into four subsets and fit the model of degree 15, the result came out to be very different for each subset. The model had a *high variance*. We will see in a moment that **ridge regression reduces such variance**. But first, we must reproduce the experiment we did."
   ]
  },
  {
   "cell_type": "markdown",
   "metadata": {},
   "source": [
    "First, split the data into split the sales data into four subsets of roughly equal size and call them `set_1`, `set_2`, `set_3`, and `set_4`. Use `.random_split` function and make sure you set `seed=0`. "
   ]
  },
  {
   "cell_type": "code",
   "execution_count": 15,
   "metadata": {
    "collapsed": false
   },
   "outputs": [],
   "source": [
    "(sales1, sales2) = train_test_split(sales, test_size = 0.5, train_size = 0.5, random_state = 1)\n",
    "(set_1, set_2) = train_test_split(sales1, test_size = 0.5, train_size = 0.5, random_state = 1)\n",
    "(set_3, set_4) = train_test_split(sales2, test_size = 0.5, train_size = 0.5, random_state = 1)\n",
    "set_1 = set_1.sort_values(['sqft_living'])\n",
    "set_2 = set_2.sort_values(['sqft_living'])\n",
    "set_3 = set_3.sort_values(['sqft_living'])\n",
    "set_4 = set_4.sort_values(['sqft_living'])"
   ]
  },
  {
   "cell_type": "markdown",
   "metadata": {},
   "source": [
    "Next, fit a 15th degree polynomial on `set_1`, `set_2`, `set_3`, and `set_4`, using 'sqft_living' to predict prices. Print the weights and make a plot of the resulting model.\n",
    "\n",
    "Hint: When creating ridge model, use the same L2 penalty as before (i.e. `l2_small_penalty`)."
   ]
  },
  {
   "cell_type": "markdown",
   "metadata": {},
   "source": [
    "## Set 1"
   ]
  },
  {
   "cell_type": "code",
   "execution_count": 16,
   "metadata": {
    "collapsed": false
   },
   "outputs": [
    {
     "name": "stdout",
     "output_type": "stream",
     "text": [
      "Learned polynomial for degree 15:\n",
      "            15             14             13             12\n",
      "-1.312e-47 x  + 8.892e-43 x  - 2.516e-38 x  + 3.869e-34 x \n",
      "              11             10             9             8\n",
      " - 3.479e-30 x  + 1.775e-26 x  - 4.164e-23 x - 5.428e-21 x\n",
      "              7             6             5             4             3\n",
      " + 1.521e-16 x + 1.963e-20 x - 6.087e-21 x - 1.406e-25 x + 2.572e-31 x\n",
      "              2\n",
      " + 3.029e-36 x - 3.197e+05 x + 6.046e+08\n"
     ]
    }
   ],
   "source": [
    "degree = 15\n",
    "\n",
    "poly15_data_set_1 = polynomial_dframe(set_1['sqft_living'],degree)\n",
    "my_features = poly15_data_set_1.columns.tolist()\n",
    "\n",
    "X15_set_1 = poly15_data_set_1[my_features]\n",
    "poly15_data_set_1['price'] = set_1['price']\n",
    "y15_set_1 = poly15_data_set_1['price']\n",
    "\n",
    "model15_set_1 = Ridge(alpha=l2_small_penalty)\n",
    "model15_set_1.fit(X15_set_1, y15_set_1)\n",
    "\n",
    "print_coefficients(model15_set_1)"
   ]
  },
  {
   "cell_type": "code",
   "execution_count": 17,
   "metadata": {
    "collapsed": false
   },
   "outputs": [
    {
     "data": {
      "text/plain": [
       "[<matplotlib.lines.Line2D at 0x7fefd13f9350>,\n",
       " <matplotlib.lines.Line2D at 0x7fefd16cad50>]"
      ]
     },
     "execution_count": 17,
     "metadata": {},
     "output_type": "execute_result"
    },
    {
     "data": {
      "image/png": "[encoded data removed]",
      "text/plain": [
       "<matplotlib.figure.Figure at 0x7fefd1b39750>"
      ]
     },
     "metadata": {},
     "output_type": "display_data"
    }
   ],
   "source": [
    "plt.plot(poly15_data_set_1['power_1'],poly15_data_set_1['price'],'.',\n",
    "        poly15_data_set_1['power_1'], model15_set_1.predict(X15_set_1),'-')"
   ]
  },
  {
   "cell_type": "markdown",
   "metadata": {},
   "source": [
    "## Set 2"
   ]
  },
  {
   "cell_type": "code",
   "execution_count": 18,
   "metadata": {
    "collapsed": false
   },
   "outputs": [
    {
     "name": "stdout",
     "output_type": "stream",
     "text": [
      "Learned polynomial for degree 15:\n",
      "            15             14             13             12\n",
      "-1.581e-46 x  + 8.846e-42 x  - 2.099e-37 x  + 2.719e-33 x \n",
      "              11             10             9             8\n",
      " - 2.074e-29 x  + 9.336e-26 x  - 2.313e-22 x + 2.525e-19 x\n",
      "              7             6             5             4             3\n",
      " - 3.163e-17 x - 3.776e-18 x + 3.636e-20 x - 1.934e-24 x - 1.312e-29 x\n",
      "              2\n",
      " + 4.334e-34 x - 2.381e+04 x + 4.273e+07\n"
     ]
    }
   ],
   "source": [
    "degree = 15\n",
    "\n",
    "poly15_data_set_2 = polynomial_dframe(set_2['sqft_living'],degree)\n",
    "my_features = poly15_data_set_2.columns.tolist()\n",
    "\n",
    "X15_set_2 = poly15_data_set_2[my_features]\n",
    "poly15_data_set_2['price'] = set_2['price']\n",
    "y15_set_2 = poly15_data_set_2['price']\n",
    "\n",
    "model15_set_2 = Ridge(alpha=l2_small_penalty)\n",
    "model15_set_2.fit(X15_set_2, y15_set_2)\n",
    "\n",
    "print_coefficients(model15_set_2)"
   ]
  },
  {
   "cell_type": "code",
   "execution_count": 19,
   "metadata": {
    "collapsed": false
   },
   "outputs": [
    {
     "data": {
      "text/plain": [
       "[<matplotlib.lines.Line2D at 0x7fefd12f8c10>,\n",
       " <matplotlib.lines.Line2D at 0x7fefd12f8d10>]"
      ]
     },
     "execution_count": 19,
     "metadata": {},
     "output_type": "execute_result"
    },
    {
     "data": {
      "image/png": "[encoded data removed]",
      "text/plain": [
       "<matplotlib.figure.Figure at 0x7fefd1b53bd0>"
      ]
     },
     "metadata": {},
     "output_type": "display_data"
    }
   ],
   "source": [
    "plt.plot(poly15_data_set_2['power_1'],poly15_data_set_2['price'],'.',\n",
    "        poly15_data_set_2['power_1'], model15_set_2.predict(X15_set_2),'-')"
   ]
  },
  {
   "cell_type": "markdown",
   "metadata": {},
   "source": [
    "## Set 3"
   ]
  },
  {
   "cell_type": "code",
   "execution_count": 20,
   "metadata": {
    "collapsed": false
   },
   "outputs": [
    {
     "name": "stdout",
     "output_type": "stream",
     "text": [
      "Learned polynomial for degree 15:\n",
      "            15             14             13            12\n",
      "-4.081e-46 x  + 3.036e-41 x  - 9.461e-37 x  + 1.61e-32 x \n",
      "              11             10             9             8\n",
      " - 1.626e-28 x  + 9.875e-25 x  - 3.441e-21 x + 5.929e-18 x\n",
      "              7             6             5             4             3\n",
      " - 3.069e-15 x + 2.971e-18 x - 1.167e-20 x + 4.227e-24 x + 7.985e-29 x\n",
      "              2\n",
      " - 3.698e-33 x - 1.737e+06 x + 2.979e+09\n"
     ]
    }
   ],
   "source": [
    "degree = 15\n",
    "\n",
    "poly15_data_set_3 = polynomial_dframe(set_3['sqft_living'],degree)\n",
    "my_features = poly15_data_set_3.columns.tolist()\n",
    "\n",
    "X15_set_3 = poly15_data_set_3[my_features]\n",
    "poly15_data_set_3['price'] = set_3['price']\n",
    "y15_set_3 = poly15_data_set_3['price']\n",
    "\n",
    "model15_set_3 = Ridge(alpha=l2_small_penalty)\n",
    "model15_set_3.fit(X15_set_3, y15_set_3)\n",
    "\n",
    "print_coefficients(model15_set_3)"
   ]
  },
  {
   "cell_type": "code",
   "execution_count": 21,
   "metadata": {
    "collapsed": false
   },
   "outputs": [
    {
     "data": {
      "text/plain": [
       "[<matplotlib.lines.Line2D at 0x7fefd0cbfed0>,\n",
       " <matplotlib.lines.Line2D at 0x7fefd0cbffd0>]"
      ]
     },
     "execution_count": 21,
     "metadata": {},
     "output_type": "execute_result"
    },
    {
     "data": {
      "image/png": "[encoded data removed]",
      "text/plain": [
       "<matplotlib.figure.Figure at 0x7fefd133a690>"
      ]
     },
     "metadata": {},
     "output_type": "display_data"
    }
   ],
   "source": [
    "plt.plot(poly15_data_set_3['power_1'],poly15_data_set_3['price'],'.',\n",
    "        poly15_data_set_3['power_1'], model15_set_3.predict(X15_set_3),'-')"
   ]
  },
  {
   "cell_type": "markdown",
   "metadata": {},
   "source": [
    "## Set 4"
   ]
  },
  {
   "cell_type": "code",
   "execution_count": 22,
   "metadata": {
    "collapsed": false
   },
   "outputs": [
    {
     "name": "stdout",
     "output_type": "stream",
     "text": [
      "Learned polynomial for degree 15:\n",
      "            15             14             13            12\n",
      "-1.339e-46 x  + 7.074e-42 x  - 1.547e-37 x  + 1.83e-33 x \n",
      "              11             10             9            8\n",
      " - 1.264e-29 x  + 4.952e-26 x  - 8.585e-23 x - 5.46e-20 x\n",
      "              7             6             5            4             3\n",
      " + 3.373e-16 x + 3.222e-19 x + 8.697e-20 x + 2.95e-24 x - 6.554e-29 x\n",
      "              2\n",
      " + 4.576e-35 x - 1.412e+05 x + 2.274e+08\n"
     ]
    }
   ],
   "source": [
    "degree = 15\n",
    "\n",
    "poly15_data_set_4 = polynomial_dframe(set_4['sqft_living'],degree)\n",
    "my_features = poly15_data_set_4.columns.tolist()\n",
    "\n",
    "X15_set_4 = poly15_data_set_4[my_features]\n",
    "poly15_data_set_4['price'] = set_4['price']\n",
    "y15_set_4 = poly15_data_set_4['price']\n",
    "\n",
    "model15_set_4 = Ridge(alpha=l2_small_penalty)\n",
    "model15_set_4.fit(X15_set_4, y15_set_4)\n",
    "\n",
    "print_coefficients(model15_set_4)"
   ]
  },
  {
   "cell_type": "code",
   "execution_count": 23,
   "metadata": {
    "collapsed": false
   },
   "outputs": [
    {
     "data": {
      "text/plain": [
       "[<matplotlib.lines.Line2D at 0x7fefd0c75a50>,\n",
       " <matplotlib.lines.Line2D at 0x7fefd0c75b50>]"
      ]
     },
     "execution_count": 23,
     "metadata": {},
     "output_type": "execute_result"
    },
    {
     "data": {
      "image/png": "[encoded data removed]",
      "text/plain": [
       "<matplotlib.figure.Figure at 0x7fefd0ce4750>"
      ]
     },
     "metadata": {},
     "output_type": "display_data"
    }
   ],
   "source": [
    "plt.plot(poly15_data_set_4['power_1'],poly15_data_set_4['price'],'.',\n",
    "        poly15_data_set_4['power_1'], model15_set_4.predict(X15_set_4),'-')"
   ]
  },
  {
   "cell_type": "markdown",
   "metadata": {},
   "source": [
    "The four curves should differ from one another a lot, as should the coefficients you learned."
   ]
  },
  {
   "cell_type": "markdown",
   "metadata": {},
   "source": [
    "# Ridge regression comes to rescue"
   ]
  },
  {
   "cell_type": "markdown",
   "metadata": {},
   "source": [
    "**Generally, whenever we see weights change so much in response to change in data, we believe the variance of our estimate to be large. Ridge regression aims to address this issue by penalizing \"large\" weights.** (Weights of `model15` looked quite small, but they are not that small because 'sqft_living' input is in the order of thousands.)\n",
    "\n",
    "With the argument `l2_penalty=1e5`, fit a 15th-order polynomial model on `set_1`, `set_2`, `set_3`, and `set_4`. Other than the change in the `l2_penalty` parameter, the code should be the same as the experiment above."
   ]
  },
  {
   "cell_type": "code",
   "execution_count": 24,
   "metadata": {
    "collapsed": true
   },
   "outputs": [],
   "source": [
    "l2_penalty=1e5"
   ]
  },
  {
   "cell_type": "markdown",
   "metadata": {},
   "source": [
    "## Set 1"
   ]
  },
  {
   "cell_type": "code",
   "execution_count": 25,
   "metadata": {
    "collapsed": false
   },
   "outputs": [
    {
     "name": "stdout",
     "output_type": "stream",
     "text": [
      "Learned polynomial for degree 15:\n",
      "            15             14             13            12\n",
      "-4.279e-49 x  + 3.448e-44 x  - 1.299e-39 x  + 2.67e-35 x \n",
      "              11             10             9             8\n",
      " - 3.104e-31 x  + 2.033e-27 x  - 6.909e-24 x + 7.984e-21 x\n",
      "              7            6             5             4             3\n",
      " + 7.467e-18 x - 8.63e-22 x + 8.838e-22 x + 2.641e-26 x - 1.975e-32 x\n",
      "              2\n",
      " + 1.482e-37 x - 0.4021 x - 1.653e+06\n"
     ]
    }
   ],
   "source": [
    "degree = 15\n",
    "\n",
    "poly15_data_set_1 = polynomial_dframe(set_1['sqft_living'],degree)\n",
    "my_features = poly15_data_set_1.columns.tolist()\n",
    "\n",
    "X15_set_1 = poly15_data_set_1[my_features]\n",
    "poly15_data_set_1['price'] = set_1['price']\n",
    "y15_set_1 = poly15_data_set_1['price']\n",
    "\n",
    "model15_set_1 = Ridge(alpha=l2_penalty)\n",
    "model15_set_1.fit(X15_set_1, y15_set_1)\n",
    "\n",
    "print_coefficients(model15_set_1)"
   ]
  },
  {
   "cell_type": "code",
   "execution_count": 26,
   "metadata": {
    "collapsed": false
   },
   "outputs": [
    {
     "data": {
      "text/plain": [
       "[<matplotlib.lines.Line2D at 0x7fefd0b40210>,\n",
       " <matplotlib.lines.Line2D at 0x7fefd0b40950>]"
      ]
     },
     "execution_count": 26,
     "metadata": {},
     "output_type": "execute_result"
    },
    {
     "data": {
      "image/png": "[encoded data removed]",
      "text/plain": [
       "<matplotlib.figure.Figure at 0x7fefd133a210>"
      ]
     },
     "metadata": {},
     "output_type": "display_data"
    }
   ],
   "source": [
    "plt.plot(poly15_data_set_1['power_1'],poly15_data_set_1['price'],'.',\n",
    "        poly15_data_set_1['power_1'], model15_set_1.predict(X15_set_1),'-')"
   ]
  },
  {
   "cell_type": "markdown",
   "metadata": {},
   "source": [
    "## Set 2"
   ]
  },
  {
   "cell_type": "code",
   "execution_count": 27,
   "metadata": {
    "collapsed": false
   },
   "outputs": [
    {
     "name": "stdout",
     "output_type": "stream",
     "text": [
      "Learned polynomial for degree 15:\n",
      "            15             14             13             12\n",
      "-8.982e-47 x  + 3.901e-42 x  - 7.356e-38 x  + 7.782e-34 x \n",
      "              11             10             9             8\n",
      " - 4.971e-30 x  + 1.912e-26 x  - 4.081e-23 x + 3.649e-20 x\n",
      "              7             6             5             4             3\n",
      " + 3.221e-18 x + 2.034e-19 x + 7.793e-24 x + 1.306e-26 x + 4.843e-30 x\n",
      "              2\n",
      " - 1.132e-34 x - 0.3712 x - 1.851e+06\n"
     ]
    }
   ],
   "source": [
    "degree = 15\n",
    "\n",
    "poly15_data_set_2 = polynomial_dframe(set_2['sqft_living'],degree)\n",
    "my_features = poly15_data_set_2.columns.tolist()\n",
    "\n",
    "X15_set_2 = poly15_data_set_2[my_features]\n",
    "poly15_data_set_2['price'] = set_2['price']\n",
    "y15_set_2 = poly15_data_set_2['price']\n",
    "\n",
    "model15_set_2 = Ridge(alpha=l2_penalty)\n",
    "model15_set_2.fit(X15_set_2, y15_set_2)\n",
    "\n",
    "print_coefficients(model15_set_2)"
   ]
  },
  {
   "cell_type": "code",
   "execution_count": 28,
   "metadata": {
    "collapsed": false
   },
   "outputs": [
    {
     "data": {
      "text/plain": [
       "[<matplotlib.lines.Line2D at 0x7fefd0af6590>,\n",
       " <matplotlib.lines.Line2D at 0x7fefd0af6cd0>]"
      ]
     },
     "execution_count": 28,
     "metadata": {},
     "output_type": "execute_result"
    },
    {
     "data": {
      "image/png": "[encoded data removed]",
      "text/plain": [
       "<matplotlib.figure.Figure at 0x7fefd0b58a50>"
      ]
     },
     "metadata": {},
     "output_type": "display_data"
    }
   ],
   "source": [
    "plt.plot(poly15_data_set_2['power_1'],poly15_data_set_2['price'],'.',\n",
    "        poly15_data_set_2['power_1'], model15_set_2.predict(X15_set_2),'-')"
   ]
  },
  {
   "cell_type": "markdown",
   "metadata": {},
   "source": [
    "## Set 3"
   ]
  },
  {
   "cell_type": "code",
   "execution_count": 29,
   "metadata": {
    "collapsed": false
   },
   "outputs": [
    {
     "name": "stdout",
     "output_type": "stream",
     "text": [
      "Learned polynomial for degree 15:\n",
      "            15            14             13             12\n",
      "-4.039e-47 x  + 1.87e-42 x  - 3.439e-38 x  + 2.942e-34 x \n",
      "             11             10             9            8             7\n",
      " - 7.01e-31 x  - 7.718e-27 x  + 7.076e-23 x - 2.32e-19 x + 2.816e-16 x\n",
      "              6             5             4             3             2\n",
      " + 6.939e-20 x + 3.055e-21 x - 1.418e-26 x + 3.657e-31 x + 3.863e-35 x - 30.2 x - 4.813e+06\n"
     ]
    }
   ],
   "source": [
    "degree = 15\n",
    "\n",
    "poly15_data_set_3 = polynomial_dframe(set_3['sqft_living'],degree)\n",
    "my_features = poly15_data_set_3.columns.tolist()\n",
    "\n",
    "X15_set_3 = poly15_data_set_3[my_features]\n",
    "poly15_data_set_3['price'] = set_3['price']\n",
    "y15_set_3 = poly15_data_set_3['price']\n",
    "\n",
    "model15_set_3 = Ridge(alpha=l2_penalty)\n",
    "model15_set_3.fit(X15_set_3, y15_set_3)\n",
    "\n",
    "print_coefficients(model15_set_3)"
   ]
  },
  {
   "cell_type": "code",
   "execution_count": 30,
   "metadata": {
    "collapsed": false
   },
   "outputs": [
    {
     "data": {
      "text/plain": [
       "[<matplotlib.lines.Line2D at 0x7fefd0a38290>,\n",
       " <matplotlib.lines.Line2D at 0x7fefd0a389d0>]"
      ]
     },
     "execution_count": 30,
     "metadata": {},
     "output_type": "execute_result"
    },
    {
     "data": {
      "image/png": "[encoded data removed]",
      "text/plain": [
       "<matplotlib.figure.Figure at 0x7fefd0b32b50>"
      ]
     },
     "metadata": {},
     "output_type": "display_data"
    }
   ],
   "source": [
    "plt.plot(poly15_data_set_3['power_1'],poly15_data_set_3['price'],'.',\n",
    "        poly15_data_set_3['power_1'], model15_set_3.predict(X15_set_3),'-')"
   ]
  },
  {
   "cell_type": "markdown",
   "metadata": {},
   "source": [
    "## Set 4"
   ]
  },
  {
   "cell_type": "code",
   "execution_count": 31,
   "metadata": {
    "collapsed": false
   },
   "outputs": [
    {
     "name": "stdout",
     "output_type": "stream",
     "text": [
      "Learned polynomial for degree 15:\n",
      "          15            14             13             12             11\n",
      "-1.8e-47 x  + 1.01e-42 x  - 2.411e-38 x  + 3.183e-34 x  - 2.527e-30 x \n",
      "             10             9            8             7            6\n",
      " + 1.22e-26 x  - 3.383e-23 x + 4.54e-20 x - 1.642e-17 x - 1.19e-20 x\n",
      "              5             4             3           2\n",
      " - 6.525e-21 x - 1.179e-25 x + 3.111e-30 x + 8.3e-37 x - 4.076 x + 1.755e+05\n"
     ]
    }
   ],
   "source": [
    "degree = 15\n",
    "\n",
    "poly15_data_set_4 = polynomial_dframe(set_4['sqft_living'],degree)\n",
    "my_features = poly15_data_set_4.columns.tolist()\n",
    "\n",
    "X15_set_4 = poly15_data_set_4[my_features]\n",
    "poly15_data_set_4['price'] = set_4['price']\n",
    "y15_set_4 = poly15_data_set_4['price']\n",
    "\n",
    "model15_set_4 = Ridge(alpha=l2_penalty)\n",
    "model15_set_4.fit(X15_set_4, y15_set_4)\n",
    "\n",
    "print_coefficients(model15_set_4)"
   ]
  },
  {
   "cell_type": "code",
   "execution_count": 32,
   "metadata": {
    "collapsed": false
   },
   "outputs": [
    {
     "data": {
      "text/plain": [
       "[<matplotlib.lines.Line2D at 0x7fefd0973690>,\n",
       " <matplotlib.lines.Line2D at 0x7fefd0973dd0>]"
      ]
     },
     "execution_count": 32,
     "metadata": {},
     "output_type": "execute_result"
    },
    {
     "data": {
      "image/png": "[encoded data removed]",
      "text/plain": [
       "<matplotlib.figure.Figure at 0x7fefd09ea450>"
      ]
     },
     "metadata": {},
     "output_type": "display_data"
    }
   ],
   "source": [
    "plt.plot(poly15_data_set_4['power_1'],poly15_data_set_4['price'],'.',\n",
    "        poly15_data_set_4['power_1'], model15_set_4.predict(X15_set_4),'-')"
   ]
  },
  {
   "cell_type": "markdown",
   "metadata": {},
   "source": [
    "These curves should vary a lot less, now that you applied a high degree of regularization."
   ]
  },
  {
   "cell_type": "markdown",
   "metadata": {},
   "source": [
    "# Selecting an L2 penalty via cross-validation"
   ]
  },
  {
   "cell_type": "markdown",
   "metadata": {},
   "source": [
    "Just like the polynomial degree, the L2 penalty is a \"magic\" parameter we need to select. We could use the validation set approach as we did in the last module, but that approach has a major disadvantage: it leaves fewer observations available for training. **Cross-validation** seeks to overcome this issue by using all of the training set in a smart way.\n",
    "\n",
    "We will implement a kind of cross-validation called **k-fold cross-validation**. The method gets its name because it involves dividing the training set into k segments of roughtly equal size. Similar to the validation set method, we measure the validation error with one of the segments designated as the validation set. The major difference is that we repeat the process k times as follows:\n",
    "\n",
    "Set aside segment 0 as the validation set, and fit a model on rest of data, and evalutate it on this validation set<br>\n",
    "Set aside segment 1 as the validation set, and fit a model on rest of data, and evalutate it on this validation set<br>\n",
    "...<br>\n",
    "Set aside segment k-1 as the validation set, and fit a model on rest of data, and evalutate it on this validation set\n",
    "\n",
    "After this process, we compute the average of the k validation errors, and use it as an estimate of the generalization error. Notice that  all observations are used for both training and validation, as we iterate over segments of data. \n",
    "\n",
    "To estimate the generalization error well, it is crucial to shuffle the training data before dividing them into segments. sklearn has a utility function for shuffling a given DataFrame. We reserve 10% of the data as the test set and shuffle the remainder."
   ]
  },
  {
   "cell_type": "code",
   "execution_count": 33,
   "metadata": {
    "collapsed": true
   },
   "outputs": [],
   "source": [
    "(train_valid, test) = train_test_split(sales, test_size=0.1, train_size=0.9, random_state=1)\n",
    "train_valid_shuffled = shuffle(train_valid, random_state=1)"
   ]
  },
  {
   "cell_type": "code",
   "execution_count": 35,
   "metadata": {
    "collapsed": true
   },
   "outputs": [],
   "source": [
    "def is_nan(x):\n",
    "    return isinstance(x, float) and math.isnan(x)"
   ]
  },
  {
   "cell_type": "code",
   "execution_count": 104,
   "metadata": {
    "collapsed": false
   },
   "outputs": [],
   "source": [
    "def k_fold_cross_validation(k, l2_penalty, train_valid_shuffled, output_name, features_list, deg):\n",
    "        \n",
    "        poly_data = polynomial_dframe(train_valid_shuffled['sqft_living'],degree)\n",
    "                \n",
    "        feature_cols = poly_data.columns.tolist()\n",
    "                \n",
    "        poly_data['price'] = train_valid_shuffled['price']\n",
    "                              \n",
    "        num = len(poly_data)\n",
    "        folds = KFold(num, n_folds=k, shuffle=False, random_state=None)\n",
    "                \n",
    "        mse = []\n",
    "        \n",
    "        for train_index, valid_index in folds:\n",
    "            \n",
    "            \n",
    "            poly_data_train1 = poly_data.ix[train_index]\n",
    "            poly_data_valid1 = poly_data.ix[valid_index]\n",
    "            \n",
    "            poly_data_train = poly_data_train1[poly_data_train1.power_1 > 0]\n",
    "            poly_data_valid = poly_data_valid1[poly_data_valid1.power_1 > 0]\n",
    "            \n",
    "            X = poly_data_train[feature_cols]\n",
    "            y = poly_data_train['price']\n",
    "            \n",
    "            model = Ridge(alpha=l2_penalty)\n",
    "            model.fit(X,y)\n",
    "            \n",
    "            \n",
    "            Xv = poly_data_valid[feature_cols]\n",
    "            yv = poly_data_valid['price']\n",
    "            prediction = model.predict(Xv)\n",
    "        \n",
    "            error = prediction - poly_data_valid['price']\n",
    "            error_squared = error * error\n",
    "        \n",
    "            error_squared_sum = sum(error_squared)\n",
    "                  \n",
    "            mse.append(error_squared_sum)\n",
    "            \n",
    "        \n",
    "        return np.mean(mse)"
   ]
  },
  {
   "cell_type": "code",
   "execution_count": 109,
   "metadata": {
    "collapsed": false
   },
   "outputs": [
    {
     "name": "stdout",
     "output_type": "stream",
     "text": [
      "3.46900890971e+20\n"
     ]
    }
   ],
   "source": [
    "l2_penalty = 1e5\n",
    "\n",
    "average_error = k_fold_cross_validation(10, l2_penalty, train_valid_shuffled, 'price', my_features, 15)\n",
    "print average_error"
   ]
  },
  {
   "cell_type": "markdown",
   "metadata": {},
   "source": [
    "Once we have a function to compute the average validation error for a model, we can write a loop to find the model that minimizes the average validation error. Lets write a loop that does the following:\n",
    "* We will again be aiming to fit a 15th-order polynomial model using the `sqft_living` input\n",
    "* For `l2_penalty` in [10^1, 10^1.5, 10^2, 10^2.5, ..., 10^7] (to get this in Python, you can use this Numpy function: `np.logspace(1, 7, num=13)`.)\n",
    "    * Run 10-fold cross-validation with `l2_penalty`\n",
    "* Check which L2 penalty produced the lowest average validation error.\n",
    "\n",
    "print np.logspace(1,7,num=13)Note: since the degree of the polynomial is now fixed to 15, to make things faster, you should generate polynomial features in advance and re-use them throughout the loop. Make sure to use `train_valid_shuffled` when generating polynomial features!"
   ]
  },
  {
   "cell_type": "code",
   "execution_count": 121,
   "metadata": {
    "collapsed": false
   },
   "outputs": [
    {
     "name": "stdout",
     "output_type": "stream",
     "text": [
      "10000000.0 3.4411303146e+20\n"
     ]
    }
   ],
   "source": [
    "degree = 15\n",
    "\n",
    "from array import *\n",
    "errors = []\n",
    "l2_penalties = []\n",
    "\n",
    "for l2_penalty in np.logspace(1,7,num=13):\n",
    "    average_error = k_fold_cross_validation(10, l2_penalty, train_valid_shuffled, 'price', my_features, 15)\n",
    "    errors.append(average_error)\n",
    "    l2_penalties.append(l2_penalty)\n",
    "\n",
    "best_l2_penalty = 'NaN'\n",
    "min_error = min(errors)\n",
    "for i in xrange(len(result)):\n",
    "    if errors[i] == min_error:\n",
    "        best_l2_penalty = l2_penalties[i]\n",
    "        print l2_penalties[i], errors[i]"
   ]
  },
  {
   "cell_type": "code",
   "execution_count": 140,
   "metadata": {
    "collapsed": false
   },
   "outputs": [
    {
     "data": {
      "text/plain": [
       "[<matplotlib.lines.Line2D at 0x7fefcdad3cd0>]"
      ]
     },
     "execution_count": 140,
     "metadata": {},
     "output_type": "execute_result"
    },
    {
     "data": {
      "image/png": "[encoded data removed]",
      "text/plain": [
       "<matplotlib.figure.Figure at 0x7fefcdfd5d10>"
      ]
     },
     "metadata": {},
     "output_type": "display_data"
    }
   ],
   "source": [
    "# Plot the l2_penalty values in the x axis and the cross-validation error in the y axis.\n",
    "# Using plt.xscale('log') will make your plot more intuitive.\n",
    "plt.xscale('log')\n",
    "plt.yscale('log')\n",
    "plt.plot(l2_penalties, errors,'-')"
   ]
  },
  {
   "cell_type": "markdown",
   "metadata": {},
   "source": [
    "Once you found the best value for the L2 penalty using cross-validation, it is important to retrain a final model on all of the training data using this value of `l2_penalty`.  This way, your final model will be trained on the entire dataset."
   ]
  },
  {
   "cell_type": "code",
   "execution_count": 129,
   "metadata": {
    "collapsed": false
   },
   "outputs": [
    {
     "name": "stdout",
     "output_type": "stream",
     "text": [
      "3.80172512126e+19\n"
     ]
    }
   ],
   "source": [
    "degree = 15\n",
    "\n",
    "poly_data_dframe = polynomial_dframe(train_valid_shuffled['sqft_living'],degree)\n",
    "\n",
    "my_features = poly_data_dframe.columns.tolist()\n",
    "\n",
    "X = poly_data_dframe[my_features]\n",
    "poly_data_dframe['price'] = train_valid_shuffled['price']\n",
    "y = poly_data_dframe['price']\n",
    "            \n",
    "model = Ridge(alpha=best_l2_penalty)\n",
    "model.fit(X,y)\n",
    "\n",
    "poly_data_dframe_test = polynomial_dframe(test['sqft_living'], degree)\n",
    "\n",
    "Xt = poly_data_dframe_test[my_features]\n",
    "predictions = model.predict(Xt)\n",
    "error = predictions - test['price']\n",
    "error_squared = error * error\n",
    "error_squared_sum = sum(error_squared)\n",
    "print error_squared_sum"
   ]
  }
 ],
 "metadata": {
  "kernelspec": {
   "display_name": "Python 2",
   "language": "python",
   "name": "python2"
  },
  "language_info": {
   "codemirror_mode": {
    "name": "ipython",
    "version": 2
   },
   "file_extension": ".py",
   "mimetype": "text/x-python",
   "name": "python",
   "nbconvert_exporter": "python",
   "pygments_lexer": "ipython2",
   "version": "2.7.11"
  }
 },
 "nbformat": 4,
 "nbformat_minor": 0
}
