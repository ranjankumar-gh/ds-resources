{
 "cells": [
  {
   "cell_type": "markdown",
   "metadata": {},
   "source": [
    "# Multiple Regression\n",
    "We will use data on house sales in King County to predict prices using multiple regression. You will:\n",
    "* Do some feature engineering\n",
    "* Use built-in sklearn functions to compute the regression weights (coefficients/parameters)\n",
    "* Given the regression weights, predictors and outcome write a function to compute the Residual Sum of Squares\n",
    "* Look at coefficients and interpret their meanings\n",
    "* Evaluate multiple models via RSS"
   ]
  },
  {
   "cell_type": "code",
   "execution_count": 57,
   "metadata": {
    "collapsed": true
   },
   "outputs": [],
   "source": [
    "import pandas as pd\n",
    "import numpy as np\n",
    "from sklearn.cross_validation import train_test_split\n",
    "from sklearn.linear_model import LinearRegression"
   ]
  },
  {
   "cell_type": "markdown",
   "metadata": {},
   "source": [
    "## Load house sales data\n",
    "Dataset is from house sales in King County, the region where the city of Seattle, WA is located.\n",
    "\n",
    "Read data from csv file and put in dataframe."
   ]
  },
  {
   "cell_type": "code",
   "execution_count": 93,
   "metadata": {
    "collapsed": false
   },
   "outputs": [
    {
     "data": {
      "text/html": [
       "<div>\n",
       "<table border=\"1\" class=\"dataframe\">\n",
       "  <thead>\n",
       "    <tr style=\"text-align: right;\">\n",
       "      <th></th>\n",
       "      <th>id</th>\n",
       "      <th>date</th>\n",
       "      <th>price</th>\n",
       "      <th>bedrooms</th>\n",
       "      <th>bathrooms</th>\n",
       "      <th>sqft_living</th>\n",
       "      <th>sqft_lot</th>\n",
       "      <th>floors</th>\n",
       "      <th>waterfront</th>\n",
       "      <th>view</th>\n",
       "      <th>...</th>\n",
       "      <th>grade</th>\n",
       "      <th>sqft_above</th>\n",
       "      <th>sqft_basement</th>\n",
       "      <th>yr_built</th>\n",
       "      <th>yr_renovated</th>\n",
       "      <th>zipcode</th>\n",
       "      <th>lat</th>\n",
       "      <th>long</th>\n",
       "      <th>sqft_living15</th>\n",
       "      <th>sqft_lot15</th>\n",
       "    </tr>\n",
       "  </thead>\n",
       "  <tbody>\n",
       "    <tr>\n",
       "      <th>0</th>\n",
       "      <td>7129300520</td>\n",
       "      <td>20141013T000000</td>\n",
       "      <td>221900</td>\n",
       "      <td>3</td>\n",
       "      <td>1.00</td>\n",
       "      <td>1180</td>\n",
       "      <td>5650</td>\n",
       "      <td>1</td>\n",
       "      <td>0</td>\n",
       "      <td>0</td>\n",
       "      <td>...</td>\n",
       "      <td>7</td>\n",
       "      <td>1180</td>\n",
       "      <td>0</td>\n",
       "      <td>1955</td>\n",
       "      <td>0</td>\n",
       "      <td>98178</td>\n",
       "      <td>47.5112</td>\n",
       "      <td>-122.257</td>\n",
       "      <td>1340</td>\n",
       "      <td>5650</td>\n",
       "    </tr>\n",
       "    <tr>\n",
       "      <th>1</th>\n",
       "      <td>6414100192</td>\n",
       "      <td>20141209T000000</td>\n",
       "      <td>538000</td>\n",
       "      <td>3</td>\n",
       "      <td>2.25</td>\n",
       "      <td>2570</td>\n",
       "      <td>7242</td>\n",
       "      <td>2</td>\n",
       "      <td>0</td>\n",
       "      <td>0</td>\n",
       "      <td>...</td>\n",
       "      <td>7</td>\n",
       "      <td>2170</td>\n",
       "      <td>400</td>\n",
       "      <td>1951</td>\n",
       "      <td>1991</td>\n",
       "      <td>98125</td>\n",
       "      <td>47.7210</td>\n",
       "      <td>-122.319</td>\n",
       "      <td>1690</td>\n",
       "      <td>7639</td>\n",
       "    </tr>\n",
       "    <tr>\n",
       "      <th>2</th>\n",
       "      <td>5631500400</td>\n",
       "      <td>20150225T000000</td>\n",
       "      <td>180000</td>\n",
       "      <td>2</td>\n",
       "      <td>1.00</td>\n",
       "      <td>770</td>\n",
       "      <td>10000</td>\n",
       "      <td>1</td>\n",
       "      <td>0</td>\n",
       "      <td>0</td>\n",
       "      <td>...</td>\n",
       "      <td>6</td>\n",
       "      <td>770</td>\n",
       "      <td>0</td>\n",
       "      <td>1933</td>\n",
       "      <td>0</td>\n",
       "      <td>98028</td>\n",
       "      <td>47.7379</td>\n",
       "      <td>-122.233</td>\n",
       "      <td>2720</td>\n",
       "      <td>8062</td>\n",
       "    </tr>\n",
       "    <tr>\n",
       "      <th>3</th>\n",
       "      <td>2487200875</td>\n",
       "      <td>20141209T000000</td>\n",
       "      <td>604000</td>\n",
       "      <td>4</td>\n",
       "      <td>3.00</td>\n",
       "      <td>1960</td>\n",
       "      <td>5000</td>\n",
       "      <td>1</td>\n",
       "      <td>0</td>\n",
       "      <td>0</td>\n",
       "      <td>...</td>\n",
       "      <td>7</td>\n",
       "      <td>1050</td>\n",
       "      <td>910</td>\n",
       "      <td>1965</td>\n",
       "      <td>0</td>\n",
       "      <td>98136</td>\n",
       "      <td>47.5208</td>\n",
       "      <td>-122.393</td>\n",
       "      <td>1360</td>\n",
       "      <td>5000</td>\n",
       "    </tr>\n",
       "    <tr>\n",
       "      <th>4</th>\n",
       "      <td>1954400510</td>\n",
       "      <td>20150218T000000</td>\n",
       "      <td>510000</td>\n",
       "      <td>3</td>\n",
       "      <td>2.00</td>\n",
       "      <td>1680</td>\n",
       "      <td>8080</td>\n",
       "      <td>1</td>\n",
       "      <td>0</td>\n",
       "      <td>0</td>\n",
       "      <td>...</td>\n",
       "      <td>8</td>\n",
       "      <td>1680</td>\n",
       "      <td>0</td>\n",
       "      <td>1987</td>\n",
       "      <td>0</td>\n",
       "      <td>98074</td>\n",
       "      <td>47.6168</td>\n",
       "      <td>-122.045</td>\n",
       "      <td>1800</td>\n",
       "      <td>7503</td>\n",
       "    </tr>\n",
       "  </tbody>\n",
       "</table>\n",
       "<p>5 rows × 21 columns</p>\n",
       "</div>"
      ],
      "text/plain": [
       "           id             date   price  bedrooms  bathrooms  sqft_living  \\\n",
       "0  7129300520  20141013T000000  221900         3       1.00         1180   \n",
       "1  6414100192  20141209T000000  538000         3       2.25         2570   \n",
       "2  5631500400  20150225T000000  180000         2       1.00          770   \n",
       "3  2487200875  20141209T000000  604000         4       3.00         1960   \n",
       "4  1954400510  20150218T000000  510000         3       2.00         1680   \n",
       "\n",
       "   sqft_lot  floors  waterfront  view     ...      grade  sqft_above  \\\n",
       "0      5650       1           0     0     ...          7        1180   \n",
       "1      7242       2           0     0     ...          7        2170   \n",
       "2     10000       1           0     0     ...          6         770   \n",
       "3      5000       1           0     0     ...          7        1050   \n",
       "4      8080       1           0     0     ...          8        1680   \n",
       "\n",
       "   sqft_basement  yr_built  yr_renovated  zipcode      lat     long  \\\n",
       "0              0      1955             0    98178  47.5112 -122.257   \n",
       "1            400      1951          1991    98125  47.7210 -122.319   \n",
       "2              0      1933             0    98028  47.7379 -122.233   \n",
       "3            910      1965             0    98136  47.5208 -122.393   \n",
       "4              0      1987             0    98074  47.6168 -122.045   \n",
       "\n",
       "   sqft_living15  sqft_lot15  \n",
       "0           1340        5650  \n",
       "1           1690        7639  \n",
       "2           2720        8062  \n",
       "3           1360        5000  \n",
       "4           1800        7503  \n",
       "\n",
       "[5 rows x 21 columns]"
      ]
     },
     "execution_count": 93,
     "metadata": {},
     "output_type": "execute_result"
    }
   ],
   "source": [
    "sales = pd.read_csv('data/kc_housing_sales_data.csv')\n",
    "sales.head()"
   ]
  },
  {
   "cell_type": "code",
   "execution_count": 13,
   "metadata": {
    "collapsed": false
   },
   "outputs": [
    {
     "data": {
      "text/plain": [
       "(21613, 21)"
      ]
     },
     "execution_count": 13,
     "metadata": {},
     "output_type": "execute_result"
    }
   ],
   "source": [
    "# print the shape of the DataFrame\n",
    "sales.shape"
   ]
  },
  {
   "cell_type": "markdown",
   "metadata": {},
   "source": [
    "## Split data into training and testing\n",
    "Split the data in train data and test data (80:20) ratio"
   ]
  },
  {
   "cell_type": "code",
   "execution_count": 6,
   "metadata": {
    "collapsed": false
   },
   "outputs": [],
   "source": [
    "train_data,test_data = train_test_split(sales, test_size = 0.2)"
   ]
  },
  {
   "cell_type": "markdown",
   "metadata": {},
   "source": [
    "## Learning a multiple regression model\n",
    "We can use the following code to learn a multiple regression model predicting 'price' based on the following features:\n",
    "\n",
    "example_features = ['sqft_living', 'bedrooms', 'bathrooms'] on training data with the following code:\n",
    "\n",
    "(Aside: We set validation_set = None to ensure that the results are always the same)"
   ]
  },
  {
   "cell_type": "code",
   "execution_count": 87,
   "metadata": {
    "collapsed": false
   },
   "outputs": [
    {
     "name": "stdout",
     "output_type": "stream",
     "text": [
      "70034.6153597\n",
      "[   312.09223148 -56885.47468074   6792.45503181]\n"
     ]
    }
   ],
   "source": [
    "feature_cols = ['sqft_living', 'bedrooms', 'bathrooms']\n",
    "X = train_data[example_features]\n",
    "y = train_data.price\n",
    "\n",
    "# Create linear regression object\n",
    "lm = LinearRegression()\n",
    "\n",
    "# Train the model using the training sets\n",
    "lm.fit(X, y)\n",
    "\n",
    "# print intercept and coefficients\n",
    "print lm.intercept_\n",
    "print lm.coef_"
   ]
  },
  {
   "cell_type": "code",
   "execution_count": 88,
   "metadata": {
    "collapsed": false
   },
   "outputs": [
    {
     "data": {
      "text/plain": [
       "[('sqft_living', 312.09223147796951),\n",
       " ('bedrooms', -56885.474680742438),\n",
       " ('bathrooms', 6792.455031806232)]"
      ]
     },
     "execution_count": 88,
     "metadata": {},
     "output_type": "execute_result"
    }
   ],
   "source": [
    "# pair the feature names with the coefficients\n",
    "zip(feature_cols, lm.coef_)"
   ]
  },
  {
   "cell_type": "code",
   "execution_count": 89,
   "metadata": {
    "collapsed": false
   },
   "outputs": [
    {
     "data": {
      "text/plain": [
       "array([ 399826.98248669,  429338.09187653,  355858.76487865, ...,\n",
       "        917027.88858554,  274439.47949325,  427915.28331971])"
      ]
     },
     "execution_count": 89,
     "metadata": {},
     "output_type": "execute_result"
    }
   ],
   "source": [
    "# predict for a new observation\n",
    "X_test = test_data[feature_cols] \n",
    "lm.predict(X_test)"
   ]
  },
  {
   "cell_type": "markdown",
   "metadata": {},
   "source": [
    "## Compute RSS"
   ]
  },
  {
   "cell_type": "code",
   "execution_count": 45,
   "metadata": {
    "collapsed": true
   },
   "outputs": [],
   "source": [
    "def get_residual_sum_of_squares(model, data, outcome):\n",
    "    # First get the predictions\n",
    "    prediction = model.predict(data)\n",
    "\n",
    "    # Then compute the residuals/errors\n",
    "    residuals = prediction - outcome\n",
    "    \n",
    "    # Then square and add them up\n",
    "    rss = sum(residuals * residuals)\n",
    "\n",
    "    #return(RSS)    \n",
    "    return rss"
   ]
  },
  {
   "cell_type": "code",
   "execution_count": 90,
   "metadata": {
    "collapsed": false
   },
   "outputs": [
    {
     "name": "stdout",
     "output_type": "stream",
     "text": [
      "1.14543649881e+15\n"
     ]
    }
   ],
   "source": [
    "rss_example_train = get_residual_sum_of_squares(lm, X, train_data.price)\n",
    "print rss_example_train "
   ]
  },
  {
   "cell_type": "markdown",
   "metadata": {},
   "source": [
    "## Create some new features"
   ]
  },
  {
   "cell_type": "markdown",
   "metadata": {},
   "source": [
    "Although we often think of multiple regression as including multiple different features (e.g. # of bedrooms, squarefeet, and # of bathrooms) but we can also consider transformations of existing features e.g. the log of the squarefeet or even \"interaction\" features such as the product of bedrooms and bathrooms."
   ]
  },
  {
   "cell_type": "markdown",
   "metadata": {},
   "source": [
    "Next create the following 4 new features as column in both TEST and TRAIN data:\n",
    "* bedrooms_squared = bedrooms*bedrooms\n",
    "* bed_bath_rooms = bedrooms*bathrooms\n",
    "* log_sqft_living = log(sqft_living)\n",
    "* lat_plus_long = lat + long As an example here's the first one:"
   ]
  },
  {
   "cell_type": "code",
   "execution_count": 53,
   "metadata": {
    "collapsed": false
   },
   "outputs": [],
   "source": [
    "train_data['bedrooms_squared'] =  train_data['bedrooms'] * train_data['bedrooms']\n",
    "test_data['bedrooms_squared'] =  test_data['bedrooms'] * test_data['bedrooms']"
   ]
  },
  {
   "cell_type": "code",
   "execution_count": 54,
   "metadata": {
    "collapsed": false
   },
   "outputs": [],
   "source": [
    "train_data['bed_bath_rooms'] =  train_data['bedrooms'] * train_data['bathrooms']\n",
    "test_data['bed_bath_rooms'] =  test_data['bedrooms'] * test_data['bathrooms']"
   ]
  },
  {
   "cell_type": "code",
   "execution_count": 58,
   "metadata": {
    "collapsed": false
   },
   "outputs": [],
   "source": [
    "train_data['log_sqft_living'] = np.log(train_data['sqft_living'])\n",
    "test_data['log_sqft_living'] =  np.log(test_data['sqft_living'])"
   ]
  },
  {
   "cell_type": "code",
   "execution_count": 59,
   "metadata": {
    "collapsed": true
   },
   "outputs": [],
   "source": [
    "train_data['lat_plus_long'] = train_data['lat'] + train_data['long']\n",
    "test_data['lat_plus_long'] =  test_data['lat'] + test_data['long']"
   ]
  },
  {
   "cell_type": "markdown",
   "metadata": {},
   "source": [
    "* Squaring bedrooms will increase the separation between not many bedrooms (e.g. 1) and lots of bedrooms (e.g. 4) since 1^2 = 1 but 4^2 = 16. Consequently this feature will mostly affect houses with many bedrooms.\n",
    "* bedrooms times bathrooms gives what's called an \"interaction\" feature. It is large when both of them are large.\n",
    "* Taking the log of squarefeet has the effect of bringing large values closer together and spreading out small values.\n",
    "* Adding latitude to longitude is totally non-sensical but we will do it anyway"
   ]
  },
  {
   "cell_type": "markdown",
   "metadata": {},
   "source": [
    "## Learning Multiple Models"
   ]
  },
  {
   "cell_type": "markdown",
   "metadata": {},
   "source": [
    "Now we will learn the weights for three (nested) models for predicting house prices. The first model will have the fewest features the second model will add one more feature and the third will add a few more:\n",
    "* Model 1: squarefeet, # bedrooms, # bathrooms, latitude & longitude\n",
    "* Model 2: add bedrooms*bathrooms\n",
    "* Model 3: Add log squarefeet, bedrooms squared, and the (nonsensical) latitude + longitude"
   ]
  },
  {
   "cell_type": "code",
   "execution_count": 68,
   "metadata": {
    "collapsed": true
   },
   "outputs": [],
   "source": [
    "model_1_features = ['sqft_living', 'bedrooms', 'bathrooms', 'lat', 'long']\n",
    "model_2_features = model_1_features + ['bed_bath_rooms']\n",
    "model_3_features = model_2_features + ['bedrooms_squared', 'log_sqft_living', 'lat_plus_long']"
   ]
  },
  {
   "cell_type": "markdown",
   "metadata": {},
   "source": [
    "Now that you have the features, learn the weights for the three different models for predicting target = 'price' and look at the value of the weights/coefficients:"
   ]
  },
  {
   "cell_type": "markdown",
   "metadata": {},
   "source": [
    "### Model 1"
   ]
  },
  {
   "cell_type": "code",
   "execution_count": 67,
   "metadata": {
    "collapsed": false
   },
   "outputs": [
    {
     "data": {
      "text/html": [
       "<div>\n",
       "<table border=\"1\" class=\"dataframe\">\n",
       "  <thead>\n",
       "    <tr style=\"text-align: right;\">\n",
       "      <th></th>\n",
       "      <th>id</th>\n",
       "      <th>date</th>\n",
       "      <th>price</th>\n",
       "      <th>bedrooms</th>\n",
       "      <th>bathrooms</th>\n",
       "      <th>sqft_living</th>\n",
       "      <th>sqft_lot</th>\n",
       "      <th>floors</th>\n",
       "      <th>waterfront</th>\n",
       "      <th>view</th>\n",
       "      <th>...</th>\n",
       "      <th>yr_renovated</th>\n",
       "      <th>zipcode</th>\n",
       "      <th>lat</th>\n",
       "      <th>long</th>\n",
       "      <th>sqft_living15</th>\n",
       "      <th>sqft_lot15</th>\n",
       "      <th>bedrooms_squared</th>\n",
       "      <th>bed_bath_rooms</th>\n",
       "      <th>log_sqft_living</th>\n",
       "      <th>lat_plus_long</th>\n",
       "    </tr>\n",
       "  </thead>\n",
       "  <tbody>\n",
       "    <tr>\n",
       "      <th>10837</th>\n",
       "      <td>6844700510</td>\n",
       "      <td>20141203T000000</td>\n",
       "      <td>700000</td>\n",
       "      <td>4</td>\n",
       "      <td>2.50</td>\n",
       "      <td>2672</td>\n",
       "      <td>4297</td>\n",
       "      <td>2</td>\n",
       "      <td>0</td>\n",
       "      <td>0</td>\n",
       "      <td>...</td>\n",
       "      <td>0</td>\n",
       "      <td>98115</td>\n",
       "      <td>47.6955</td>\n",
       "      <td>-122.289</td>\n",
       "      <td>1720</td>\n",
       "      <td>6120</td>\n",
       "      <td>16</td>\n",
       "      <td>10.00</td>\n",
       "      <td>7.890583</td>\n",
       "      <td>-74.5935</td>\n",
       "    </tr>\n",
       "    <tr>\n",
       "      <th>10650</th>\n",
       "      <td>8564500240</td>\n",
       "      <td>20140527T000000</td>\n",
       "      <td>415000</td>\n",
       "      <td>5</td>\n",
       "      <td>1.50</td>\n",
       "      <td>1900</td>\n",
       "      <td>10226</td>\n",
       "      <td>1</td>\n",
       "      <td>0</td>\n",
       "      <td>0</td>\n",
       "      <td>...</td>\n",
       "      <td>0</td>\n",
       "      <td>98034</td>\n",
       "      <td>47.7226</td>\n",
       "      <td>-122.227</td>\n",
       "      <td>1690</td>\n",
       "      <td>10227</td>\n",
       "      <td>25</td>\n",
       "      <td>7.50</td>\n",
       "      <td>7.549609</td>\n",
       "      <td>-74.5044</td>\n",
       "    </tr>\n",
       "    <tr>\n",
       "      <th>5162</th>\n",
       "      <td>9320200050</td>\n",
       "      <td>20141216T000000</td>\n",
       "      <td>1500000</td>\n",
       "      <td>4</td>\n",
       "      <td>2.75</td>\n",
       "      <td>2930</td>\n",
       "      <td>25697</td>\n",
       "      <td>1</td>\n",
       "      <td>0</td>\n",
       "      <td>0</td>\n",
       "      <td>...</td>\n",
       "      <td>0</td>\n",
       "      <td>98004</td>\n",
       "      <td>47.6264</td>\n",
       "      <td>-122.226</td>\n",
       "      <td>3810</td>\n",
       "      <td>20681</td>\n",
       "      <td>16</td>\n",
       "      <td>11.00</td>\n",
       "      <td>7.982758</td>\n",
       "      <td>-74.5996</td>\n",
       "    </tr>\n",
       "    <tr>\n",
       "      <th>6160</th>\n",
       "      <td>2893000280</td>\n",
       "      <td>20150501T000000</td>\n",
       "      <td>216600</td>\n",
       "      <td>3</td>\n",
       "      <td>1.75</td>\n",
       "      <td>2200</td>\n",
       "      <td>7700</td>\n",
       "      <td>1</td>\n",
       "      <td>0</td>\n",
       "      <td>0</td>\n",
       "      <td>...</td>\n",
       "      <td>0</td>\n",
       "      <td>98031</td>\n",
       "      <td>47.4119</td>\n",
       "      <td>-122.181</td>\n",
       "      <td>1770</td>\n",
       "      <td>7360</td>\n",
       "      <td>9</td>\n",
       "      <td>5.25</td>\n",
       "      <td>7.696213</td>\n",
       "      <td>-74.7691</td>\n",
       "    </tr>\n",
       "    <tr>\n",
       "      <th>11702</th>\n",
       "      <td>16000200</td>\n",
       "      <td>20141024T000000</td>\n",
       "      <td>250000</td>\n",
       "      <td>3</td>\n",
       "      <td>2.25</td>\n",
       "      <td>1640</td>\n",
       "      <td>4420</td>\n",
       "      <td>2</td>\n",
       "      <td>0</td>\n",
       "      <td>0</td>\n",
       "      <td>...</td>\n",
       "      <td>1983</td>\n",
       "      <td>98002</td>\n",
       "      <td>47.3110</td>\n",
       "      <td>-122.210</td>\n",
       "      <td>1230</td>\n",
       "      <td>6632</td>\n",
       "      <td>9</td>\n",
       "      <td>6.75</td>\n",
       "      <td>7.402452</td>\n",
       "      <td>-74.8990</td>\n",
       "    </tr>\n",
       "  </tbody>\n",
       "</table>\n",
       "<p>5 rows × 25 columns</p>\n",
       "</div>"
      ],
      "text/plain": [
       "               id             date    price  bedrooms  bathrooms  sqft_living  \\\n",
       "10837  6844700510  20141203T000000   700000         4       2.50         2672   \n",
       "10650  8564500240  20140527T000000   415000         5       1.50         1900   \n",
       "5162   9320200050  20141216T000000  1500000         4       2.75         2930   \n",
       "6160   2893000280  20150501T000000   216600         3       1.75         2200   \n",
       "11702    16000200  20141024T000000   250000         3       2.25         1640   \n",
       "\n",
       "       sqft_lot  floors  waterfront  view      ...        yr_renovated  \\\n",
       "10837      4297       2           0     0      ...                   0   \n",
       "10650     10226       1           0     0      ...                   0   \n",
       "5162      25697       1           0     0      ...                   0   \n",
       "6160       7700       1           0     0      ...                   0   \n",
       "11702      4420       2           0     0      ...                1983   \n",
       "\n",
       "       zipcode      lat     long  sqft_living15  sqft_lot15  bedrooms_squared  \\\n",
       "10837    98115  47.6955 -122.289           1720        6120                16   \n",
       "10650    98034  47.7226 -122.227           1690       10227                25   \n",
       "5162     98004  47.6264 -122.226           3810       20681                16   \n",
       "6160     98031  47.4119 -122.181           1770        7360                 9   \n",
       "11702    98002  47.3110 -122.210           1230        6632                 9   \n",
       "\n",
       "       bed_bath_rooms  log_sqft_living  lat_plus_long  \n",
       "10837           10.00         7.890583       -74.5935  \n",
       "10650            7.50         7.549609       -74.5044  \n",
       "5162            11.00         7.982758       -74.5996  \n",
       "6160             5.25         7.696213       -74.7691  \n",
       "11702            6.75         7.402452       -74.8990  \n",
       "\n",
       "[5 rows x 25 columns]"
      ]
     },
     "execution_count": 67,
     "metadata": {},
     "output_type": "execute_result"
    }
   ],
   "source": [
    "train_data.head()"
   ]
  },
  {
   "cell_type": "code",
   "execution_count": 79,
   "metadata": {
    "collapsed": false
   },
   "outputs": [
    {
     "name": "stdout",
     "output_type": "stream",
     "text": [
      "-70061287.9109\n",
      "[  3.10137064e+02  -5.33187832e+04   1.66145553e+04   6.60644244e+05\n",
      "  -3.16510187e+05]\n"
     ]
    }
   ],
   "source": [
    "X_model_1 = train_data[model_1_features]\n",
    "y_model_1 = train_data.price\n",
    "lm_model_1 = LinearRegression()\n",
    "lm_model_1.fit(X_model_1, y_model_1)\n",
    "print lm_model_1.intercept_\n",
    "print lm_model_1.coef_"
   ]
  },
  {
   "cell_type": "markdown",
   "metadata": {},
   "source": [
    "### Model 2"
   ]
  },
  {
   "cell_type": "code",
   "execution_count": 80,
   "metadata": {
    "collapsed": false
   },
   "outputs": [
    {
     "name": "stdout",
     "output_type": "stream",
     "text": [
      "-68004950.1421\n",
      "[  3.04726527e+02  -1.03834912e+05  -6.66653130e+04   6.56593914e+05\n",
      "  -3.02696520e+05   2.43131467e+04]\n"
     ]
    }
   ],
   "source": [
    "X_model_2 = train_data[model_2_features]\n",
    "y_model_2 = train_data.price\n",
    "lm_model_2 = LinearRegression()\n",
    "lm_model_2.fit(X_model_2, y_model_2)\n",
    "print lm_model_2.intercept_\n",
    "print lm_model_2.coef_"
   ]
  },
  {
   "cell_type": "markdown",
   "metadata": {},
   "source": [
    "### Model 3"
   ]
  },
  {
   "cell_type": "code",
   "execution_count": 81,
   "metadata": {
    "collapsed": false
   },
   "outputs": [
    {
     "name": "stdout",
     "output_type": "stream",
     "text": [
      "-62665968.489\n",
      "[  5.23540383e+02  -6.89255890e+03   9.22530375e+04   5.32970515e+05\n",
      "  -4.09341005e+05  -1.51727762e+04   8.67116372e+02  -5.42495446e+05\n",
      "   1.23629511e+05]\n"
     ]
    }
   ],
   "source": [
    "X_model_3 = train_data[model_3_features]\n",
    "y_model_3 = train_data.price\n",
    "lm_model_3 = LinearRegression()\n",
    "lm_model_3.fit(X_model_3, y_model_3)\n",
    "print lm_model_3.intercept_\n",
    "print lm_model_3.coef_"
   ]
  },
  {
   "cell_type": "markdown",
   "metadata": {},
   "source": [
    "### Comparing multiple models"
   ]
  },
  {
   "cell_type": "code",
   "execution_count": 92,
   "metadata": {
    "collapsed": false
   },
   "outputs": [
    {
     "name": "stdout",
     "output_type": "stream",
     "text": [
      "9.50980784684e+14\n",
      "9.4240631382e+14\n",
      "8.89875987072e+14\n"
     ]
    }
   ],
   "source": [
    "# RSS on training data\n",
    "print get_residual_sum_of_squares(lm_model_1, X_model_1, train_data.price)\n",
    "print get_residual_sum_of_squares(lm_model_2, X_model_2, train_data.price)\n",
    "print get_residual_sum_of_squares(lm_model_3, X_model_3, train_data.price)"
   ]
  }
 ],
 "metadata": {
  "kernelspec": {
   "display_name": "Python 2",
   "language": "python",
   "name": "python2"
  },
  "language_info": {
   "codemirror_mode": {
    "name": "ipython",
    "version": 2
   },
   "file_extension": ".py",
   "mimetype": "text/x-python",
   "name": "python",
   "nbconvert_exporter": "python",
   "pygments_lexer": "ipython2",
   "version": "2.7.10"
  }
 },
 "nbformat": 4,
 "nbformat_minor": 0
}
