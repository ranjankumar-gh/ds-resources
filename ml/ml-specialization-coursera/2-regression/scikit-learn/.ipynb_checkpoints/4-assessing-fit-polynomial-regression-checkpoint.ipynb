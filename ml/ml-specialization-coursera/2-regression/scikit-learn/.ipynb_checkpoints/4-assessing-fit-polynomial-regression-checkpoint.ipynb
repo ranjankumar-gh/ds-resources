{
 "cells": [
  {
   "cell_type": "markdown",
   "metadata": {},
   "source": [
    "# Assessing Fit (polynomial regression)"
   ]
  },
  {
   "cell_type": "markdown",
   "metadata": {},
   "source": [
    "Lets compare different regression models in order to assess which model fits best. We will be using polynomial regression as a means to examine this topic. In particular you will:\n",
    "* Write a function to take an numpy array and a degree and return an pandas data frame where each column is the numpy array to a polynomial value up to the total degree e.g. degree = 3 then column 1 is the numpy array, column 2 is the numpy array squared and column 3 is the numpy array cubed\n",
    "* Use matplotlib to visualize polynomial regressions\n",
    "* Use matplotlib to visualize the same polynomial degree on different subsets of the data\n",
    "* Use a validation set to select a polynomial degree\n",
    "* Assess the final fit using test data\n",
    "\n",
    "We will continue to use the House data from previous notebooks."
   ]
  },
  {
   "cell_type": "code",
   "execution_count": 3,
   "metadata": {
    "collapsed": true
   },
   "outputs": [],
   "source": [
    "import numpy as np\n",
    "import pandas as pd\n",
    "import math\n",
    "from sklearn.linear_model import LinearRegression\n",
    "from sklearn.cross_validation import train_test_split\n",
    "import matplotlib.pyplot as plt\n",
    "%matplotlib inline"
   ]
  },
  {
   "cell_type": "markdown",
   "metadata": {},
   "source": [
    "## Warm Up"
   ]
  },
  {
   "cell_type": "markdown",
   "metadata": {},
   "source": [
    "Next we're going to write a polynomial function that takes an SArray and a maximal degree and returns an SFrame with columns containing the SArray to all the powers up to the maximal degree."
   ]
  },
  {
   "cell_type": "code",
   "execution_count": 4,
   "metadata": {
    "collapsed": false
   },
   "outputs": [
    {
     "name": "stdout",
     "output_type": "stream",
     "text": [
      "[1.0, 2.0, 3.0]\n",
      "[  1.   8.  27.]\n"
     ]
    }
   ],
   "source": [
    "tmp = [1., 2., 3.]\n",
    "\n",
    "def cube(x):\n",
    "    return math.pow(x, 3)\n",
    "\n",
    "cube = np.vectorize(cube) \n",
    "\n",
    "tmp_cubed = cube(tmp)\n",
    "\n",
    "print tmp\n",
    "print tmp_cubed"
   ]
  },
  {
   "cell_type": "markdown",
   "metadata": {},
   "source": [
    "We can create an empty data frame using pandas.DataFrame() and then add any columns to it with df['column_name'] = value. For example we create an empty data frame and make the column 'power_1' to be the first power of tmp (i.e. tmp itself)."
   ]
  },
  {
   "cell_type": "code",
   "execution_count": 5,
   "metadata": {
    "collapsed": false
   },
   "outputs": [
    {
     "name": "stdout",
     "output_type": "stream",
     "text": [
      "   power_1\n",
      "0        1\n",
      "1        2\n",
      "2        3\n"
     ]
    }
   ],
   "source": [
    "df = pd.DataFrame()\n",
    "df['power_1'] = tmp\n",
    "print df"
   ]
  },
  {
   "cell_type": "markdown",
   "metadata": {},
   "source": [
    "## Polynomial data frame function"
   ]
  },
  {
   "cell_type": "markdown",
   "metadata": {},
   "source": [
    "Function to create an data frame consisting of the powers of an numpy array up to a specific degree:"
   ]
  },
  {
   "cell_type": "code",
   "execution_count": 6,
   "metadata": {
    "collapsed": true
   },
   "outputs": [],
   "source": [
    "def polynomial_dframe(feature, degree):\n",
    "    # assume that degree >= 1\n",
    "    # initialize the Data Frame:\n",
    "    poly_dframe = pd.DataFrame()\n",
    "    \n",
    "    # and set poly_dframe['power_1'] equal to the passed feature\n",
    "    poly_dframe['power_1'] = feature\n",
    "    \n",
    "    # first check if degree > 1\n",
    "    if degree > 1:\n",
    "        # then loop over the remaining degrees:\n",
    "        # range usually starts at 0 and stops at the endpoint-1. We want it to start at 2 and stop at degree\n",
    "        for power in range(2, degree+1): \n",
    "            # first we'll give the column a name:\n",
    "            name = 'power_' + str(power)\n",
    "            # then assign poly_dframe[name] to the appropriate power of feature\n",
    "            \n",
    "            def powered(x):\n",
    "                return math.pow(x, power)\n",
    "            powered = np.vectorize(powered)\n",
    "            poly_dframe[name] = powered(feature)\n",
    "            #poly_dframe[name] = feature.apply(lambda x: x**power)\n",
    "\n",
    "    return poly_dframe"
   ]
  },
  {
   "cell_type": "code",
   "execution_count": 7,
   "metadata": {
    "collapsed": false
   },
   "outputs": [
    {
     "name": "stdout",
     "output_type": "stream",
     "text": [
      "   power_1  power_2  power_3  power_4  power_5  power_6  power_7  power_8  \\\n",
      "0        1        1        1        1        1        1        1        1   \n",
      "1        2        4        8       16       32       64      128      256   \n",
      "2        3        9       27       81      243      729     2187     6561   \n",
      "\n",
      "   power_9  power_10  \n",
      "0        1         1  \n",
      "1      512      1024  \n",
      "2    19683     59049  \n"
     ]
    }
   ],
   "source": [
    "# test the above function\n",
    "print polynomial_dframe(tmp, 10)"
   ]
  },
  {
   "cell_type": "markdown",
   "metadata": {},
   "source": [
    "## Visualizing polynomial regression"
   ]
  },
  {
   "cell_type": "markdown",
   "metadata": {},
   "source": [
    "Let's use matplotlib to visualize what a polynomial regression looks like on some real data."
   ]
  },
  {
   "cell_type": "markdown",
   "metadata": {},
   "source": [
    "### Load house sales data\n",
    "Dataset is from house sales in King County, the region where the city of Seattle, WA is located.\n",
    "\n",
    "Read data from csv file and put in dataframe."
   ]
  },
  {
   "cell_type": "code",
   "execution_count": 8,
   "metadata": {
    "collapsed": false
   },
   "outputs": [
    {
     "data": {
      "text/html": [
       "<div>\n",
       "<table border=\"1\" class=\"dataframe\">\n",
       "  <thead>\n",
       "    <tr style=\"text-align: right;\">\n",
       "      <th></th>\n",
       "      <th>id</th>\n",
       "      <th>date</th>\n",
       "      <th>price</th>\n",
       "      <th>bedrooms</th>\n",
       "      <th>bathrooms</th>\n",
       "      <th>sqft_living</th>\n",
       "      <th>sqft_lot</th>\n",
       "      <th>floors</th>\n",
       "      <th>waterfront</th>\n",
       "      <th>view</th>\n",
       "      <th>...</th>\n",
       "      <th>grade</th>\n",
       "      <th>sqft_above</th>\n",
       "      <th>sqft_basement</th>\n",
       "      <th>yr_built</th>\n",
       "      <th>yr_renovated</th>\n",
       "      <th>zipcode</th>\n",
       "      <th>lat</th>\n",
       "      <th>long</th>\n",
       "      <th>sqft_living15</th>\n",
       "      <th>sqft_lot15</th>\n",
       "    </tr>\n",
       "  </thead>\n",
       "  <tbody>\n",
       "    <tr>\n",
       "      <th>0</th>\n",
       "      <td>7129300520</td>\n",
       "      <td>20141013T000000</td>\n",
       "      <td>221900</td>\n",
       "      <td>3</td>\n",
       "      <td>1.00</td>\n",
       "      <td>1180</td>\n",
       "      <td>5650</td>\n",
       "      <td>1</td>\n",
       "      <td>0</td>\n",
       "      <td>0</td>\n",
       "      <td>...</td>\n",
       "      <td>7</td>\n",
       "      <td>1180</td>\n",
       "      <td>0</td>\n",
       "      <td>1955</td>\n",
       "      <td>0</td>\n",
       "      <td>98178</td>\n",
       "      <td>47.5112</td>\n",
       "      <td>-122.257</td>\n",
       "      <td>1340</td>\n",
       "      <td>5650</td>\n",
       "    </tr>\n",
       "    <tr>\n",
       "      <th>1</th>\n",
       "      <td>6414100192</td>\n",
       "      <td>20141209T000000</td>\n",
       "      <td>538000</td>\n",
       "      <td>3</td>\n",
       "      <td>2.25</td>\n",
       "      <td>2570</td>\n",
       "      <td>7242</td>\n",
       "      <td>2</td>\n",
       "      <td>0</td>\n",
       "      <td>0</td>\n",
       "      <td>...</td>\n",
       "      <td>7</td>\n",
       "      <td>2170</td>\n",
       "      <td>400</td>\n",
       "      <td>1951</td>\n",
       "      <td>1991</td>\n",
       "      <td>98125</td>\n",
       "      <td>47.7210</td>\n",
       "      <td>-122.319</td>\n",
       "      <td>1690</td>\n",
       "      <td>7639</td>\n",
       "    </tr>\n",
       "    <tr>\n",
       "      <th>2</th>\n",
       "      <td>5631500400</td>\n",
       "      <td>20150225T000000</td>\n",
       "      <td>180000</td>\n",
       "      <td>2</td>\n",
       "      <td>1.00</td>\n",
       "      <td>770</td>\n",
       "      <td>10000</td>\n",
       "      <td>1</td>\n",
       "      <td>0</td>\n",
       "      <td>0</td>\n",
       "      <td>...</td>\n",
       "      <td>6</td>\n",
       "      <td>770</td>\n",
       "      <td>0</td>\n",
       "      <td>1933</td>\n",
       "      <td>0</td>\n",
       "      <td>98028</td>\n",
       "      <td>47.7379</td>\n",
       "      <td>-122.233</td>\n",
       "      <td>2720</td>\n",
       "      <td>8062</td>\n",
       "    </tr>\n",
       "    <tr>\n",
       "      <th>3</th>\n",
       "      <td>2487200875</td>\n",
       "      <td>20141209T000000</td>\n",
       "      <td>604000</td>\n",
       "      <td>4</td>\n",
       "      <td>3.00</td>\n",
       "      <td>1960</td>\n",
       "      <td>5000</td>\n",
       "      <td>1</td>\n",
       "      <td>0</td>\n",
       "      <td>0</td>\n",
       "      <td>...</td>\n",
       "      <td>7</td>\n",
       "      <td>1050</td>\n",
       "      <td>910</td>\n",
       "      <td>1965</td>\n",
       "      <td>0</td>\n",
       "      <td>98136</td>\n",
       "      <td>47.5208</td>\n",
       "      <td>-122.393</td>\n",
       "      <td>1360</td>\n",
       "      <td>5000</td>\n",
       "    </tr>\n",
       "    <tr>\n",
       "      <th>4</th>\n",
       "      <td>1954400510</td>\n",
       "      <td>20150218T000000</td>\n",
       "      <td>510000</td>\n",
       "      <td>3</td>\n",
       "      <td>2.00</td>\n",
       "      <td>1680</td>\n",
       "      <td>8080</td>\n",
       "      <td>1</td>\n",
       "      <td>0</td>\n",
       "      <td>0</td>\n",
       "      <td>...</td>\n",
       "      <td>8</td>\n",
       "      <td>1680</td>\n",
       "      <td>0</td>\n",
       "      <td>1987</td>\n",
       "      <td>0</td>\n",
       "      <td>98074</td>\n",
       "      <td>47.6168</td>\n",
       "      <td>-122.045</td>\n",
       "      <td>1800</td>\n",
       "      <td>7503</td>\n",
       "    </tr>\n",
       "  </tbody>\n",
       "</table>\n",
       "<p>5 rows × 21 columns</p>\n",
       "</div>"
      ],
      "text/plain": [
       "           id             date   price  bedrooms  bathrooms  sqft_living  \\\n",
       "0  7129300520  20141013T000000  221900         3       1.00         1180   \n",
       "1  6414100192  20141209T000000  538000         3       2.25         2570   \n",
       "2  5631500400  20150225T000000  180000         2       1.00          770   \n",
       "3  2487200875  20141209T000000  604000         4       3.00         1960   \n",
       "4  1954400510  20150218T000000  510000         3       2.00         1680   \n",
       "\n",
       "   sqft_lot  floors  waterfront  view     ...      grade  sqft_above  \\\n",
       "0      5650       1           0     0     ...          7        1180   \n",
       "1      7242       2           0     0     ...          7        2170   \n",
       "2     10000       1           0     0     ...          6         770   \n",
       "3      5000       1           0     0     ...          7        1050   \n",
       "4      8080       1           0     0     ...          8        1680   \n",
       "\n",
       "   sqft_basement  yr_built  yr_renovated  zipcode      lat     long  \\\n",
       "0              0      1955             0    98178  47.5112 -122.257   \n",
       "1            400      1951          1991    98125  47.7210 -122.319   \n",
       "2              0      1933             0    98028  47.7379 -122.233   \n",
       "3            910      1965             0    98136  47.5208 -122.393   \n",
       "4              0      1987             0    98074  47.6168 -122.045   \n",
       "\n",
       "   sqft_living15  sqft_lot15  \n",
       "0           1340        5650  \n",
       "1           1690        7639  \n",
       "2           2720        8062  \n",
       "3           1360        5000  \n",
       "4           1800        7503  \n",
       "\n",
       "[5 rows x 21 columns]"
      ]
     },
     "execution_count": 8,
     "metadata": {},
     "output_type": "execute_result"
    }
   ],
   "source": [
    "sales = pd.read_csv('data/kc_housing_sales_data.csv')\n",
    "sales.head()"
   ]
  },
  {
   "cell_type": "markdown",
   "metadata": {},
   "source": [
    "We will use the sqft_living variable. For plotting purposes (connecting the dots), you'll need to sort by the values of sqft_living. For houses with identical square footage, we break the tie by their prices."
   ]
  },
  {
   "cell_type": "code",
   "execution_count": 9,
   "metadata": {
    "collapsed": false
   },
   "outputs": [],
   "source": [
    "sales = sales.sort_values(['sqft_living', 'price'])"
   ]
  },
  {
   "cell_type": "markdown",
   "metadata": {},
   "source": [
    "Let's start with a degree 1 polynomial using 'sqft_living' (i.e. a line) to predict 'price' and plot what it looks like."
   ]
  },
  {
   "cell_type": "code",
   "execution_count": 10,
   "metadata": {
    "collapsed": false
   },
   "outputs": [
    {
     "data": {
      "text/html": [
       "<div>\n",
       "<table border=\"1\" class=\"dataframe\">\n",
       "  <thead>\n",
       "    <tr style=\"text-align: right;\">\n",
       "      <th></th>\n",
       "      <th>power_1</th>\n",
       "      <th>price</th>\n",
       "    </tr>\n",
       "  </thead>\n",
       "  <tbody>\n",
       "    <tr>\n",
       "      <th>19452</th>\n",
       "      <td>290</td>\n",
       "      <td>142000</td>\n",
       "    </tr>\n",
       "    <tr>\n",
       "      <th>15381</th>\n",
       "      <td>370</td>\n",
       "      <td>276000</td>\n",
       "    </tr>\n",
       "    <tr>\n",
       "      <th>860</th>\n",
       "      <td>380</td>\n",
       "      <td>245000</td>\n",
       "    </tr>\n",
       "    <tr>\n",
       "      <th>18379</th>\n",
       "      <td>384</td>\n",
       "      <td>265000</td>\n",
       "    </tr>\n",
       "    <tr>\n",
       "      <th>4868</th>\n",
       "      <td>390</td>\n",
       "      <td>228000</td>\n",
       "    </tr>\n",
       "  </tbody>\n",
       "</table>\n",
       "</div>"
      ],
      "text/plain": [
       "       power_1   price\n",
       "19452      290  142000\n",
       "15381      370  276000\n",
       "860        380  245000\n",
       "18379      384  265000\n",
       "4868       390  228000"
      ]
     },
     "execution_count": 10,
     "metadata": {},
     "output_type": "execute_result"
    }
   ],
   "source": [
    "poly1_data = polynomial_dframe(sales['sqft_living'], 1)\n",
    "poly1_data['price'] = sales['price'] # add price to the data since it's the target\n",
    "poly1_data.head()"
   ]
  },
  {
   "cell_type": "code",
   "execution_count": 11,
   "metadata": {
    "collapsed": false
   },
   "outputs": [
    {
     "name": "stdout",
     "output_type": "stream",
     "text": [
      "-43580.7430945\n",
      "[ 280.6235679]\n"
     ]
    }
   ],
   "source": [
    "# create X and y\n",
    "feature_cols = ['power_1']\n",
    "X = poly1_data[feature_cols]\n",
    "y = poly1_data.price\n",
    "\n",
    "model1 = LinearRegression()\n",
    "model1.fit(X, y)\n",
    "\n",
    "# print intercept and coefficients\n",
    "print model1.intercept_\n",
    "print model1.coef_"
   ]
  },
  {
   "cell_type": "code",
   "execution_count": 12,
   "metadata": {
    "collapsed": false
   },
   "outputs": [
    {
     "data": {
      "text/plain": [
       "[<matplotlib.lines.Line2D at 0x7ffa3b54a7d0>,\n",
       " <matplotlib.lines.Line2D at 0x7ffa3dba83d0>]"
      ]
     },
     "execution_count": 12,
     "metadata": {},
     "output_type": "execute_result"
    },
    {
     "data": {
      "image/png": "[encoded data removed]",
      "text/plain": [
       "<matplotlib.figure.Figure at 0x7ffa3d80ce10>"
      ]
     },
     "metadata": {},
     "output_type": "display_data"
    }
   ],
   "source": [
    "plt.plot(poly1_data['power_1'],poly1_data['price'],'.',\n",
    "        poly1_data['power_1'], model1.predict(X),'-')"
   ]
  },
  {
   "cell_type": "markdown",
   "metadata": {},
   "source": [
    "Let's unpack that plt.plot() command. The first pair of arrays we passed are the 1st power of sqft and the actual price we then ask it to print these as dots '.'. The next pair we pass is the 1st power of sqft and the predicted values from the linear model. We ask these to be plotted as a line '-'.\n",
    "\n",
    "We can see, not surprisingly, that the predicted values all fall on a line, specifically the one with slope 280 and intercept -43579. \n",
    "\n",
    "What if we wanted to plot a second degree polynomial?"
   ]
  },
  {
   "cell_type": "code",
   "execution_count": 14,
   "metadata": {
    "collapsed": false
   },
   "outputs": [],
   "source": [
    "poly2_data = polynomial_dframe(sales['sqft_living'], 2)\n",
    "\n",
    "my_features = poly2_data.columns.tolist() # get the name of the features\n",
    "\n",
    "poly2_data['price'] = sales['price'] # add price to the data since it's the target"
   ]
  },
  {
   "cell_type": "code",
   "execution_count": 60,
   "metadata": {
    "collapsed": false
   },
   "outputs": [
    {
     "name": "stdout",
     "output_type": "stream",
     "text": [
      "199222.279305\n",
      "[  6.79940947e+01   3.85812609e-02]\n"
     ]
    }
   ],
   "source": [
    "# create X and y\n",
    "X2 = poly2_data[my_features]\n",
    "y2 = poly2_data.price\n",
    "\n",
    "model2 = LinearRegression()\n",
    "model2.fit(X2, y2)\n",
    "\n",
    "# print intercept and coefficients\n",
    "print model2.intercept_\n",
    "print model2.coef_"
   ]
  },
  {
   "cell_type": "code",
   "execution_count": 61,
   "metadata": {
    "collapsed": false
   },
   "outputs": [
    {
     "data": {
      "text/plain": [
       "[<matplotlib.lines.Line2D at 0x7fa5c5afcb50>,\n",
       " <matplotlib.lines.Line2D at 0x7fa5c5c50810>]"
      ]
     },
     "execution_count": 61,
     "metadata": {},
     "output_type": "execute_result"
    },
    {
     "data": {
      "image/png": "[encoded data removed]",
      "text/plain": [
       "<matplotlib.figure.Figure at 0x7fa5c5b93f10>"
      ]
     },
     "metadata": {},
     "output_type": "display_data"
    }
   ],
   "source": [
    "plt.plot(poly2_data['power_1'],poly2_data['price'],'.',\n",
    "        poly2_data['power_1'], model2.predict(X2),'-')"
   ]
  },
  {
   "cell_type": "markdown",
   "metadata": {},
   "source": [
    "The resulting model looks like half a parabola. Lets see what the cubic looks like:"
   ]
  },
  {
   "cell_type": "code",
   "execution_count": 63,
   "metadata": {
    "collapsed": false
   },
   "outputs": [],
   "source": [
    "poly3_data = polynomial_dframe(sales['sqft_living'], 3)\n",
    "\n",
    "my_features = poly3_data.columns # get the name of the features\n",
    "\n",
    "poly3_data['price'] = sales['price'] # add price to the data since it's the target"
   ]
  },
  {
   "cell_type": "code",
   "execution_count": 64,
   "metadata": {
    "collapsed": false
   },
   "outputs": [
    {
     "name": "stdout",
     "output_type": "stream",
     "text": [
      "336819.74822\n",
      "[ -9.01819864e+01   8.70465089e-02  -3.84055260e-06]\n"
     ]
    }
   ],
   "source": [
    "# create X and y\n",
    "X3 = poly3_data[my_features]\n",
    "y3 = poly3_data.price\n",
    "\n",
    "model3 = LinearRegression()\n",
    "model3.fit(X3, y3)\n",
    "\n",
    "# print intercept and coefficients\n",
    "print model3.intercept_\n",
    "print model3.coef_"
   ]
  },
  {
   "cell_type": "code",
   "execution_count": 65,
   "metadata": {
    "collapsed": false
   },
   "outputs": [
    {
     "data": {
      "text/plain": [
       "[<matplotlib.lines.Line2D at 0x7fa5c59e9890>,\n",
       " <matplotlib.lines.Line2D at 0x7fa5c59e9f90>]"
      ]
     },
     "execution_count": 65,
     "metadata": {},
     "output_type": "execute_result"
    },
    {
     "data": {
      "image/png": "[encoded data removed]",
      "text/plain": [
       "<matplotlib.figure.Figure at 0x7fa5c5acd2d0>"
      ]
     },
     "metadata": {},
     "output_type": "display_data"
    }
   ],
   "source": [
    "plt.plot(poly3_data['power_1'],poly3_data['price'],'.',\n",
    "        poly3_data['power_1'], model3.predict(X3),'-')"
   ]
  },
  {
   "cell_type": "markdown",
   "metadata": {},
   "source": [
    "Now try a 15th degree polynomial:"
   ]
  },
  {
   "cell_type": "code",
   "execution_count": 69,
   "metadata": {
    "collapsed": true
   },
   "outputs": [],
   "source": [
    "poly15_data = polynomial_dframe(sales['sqft_living'], 15)\n",
    "\n",
    "my_features = poly15_data.columns # get the name of the features\n",
    "\n",
    "poly15_data['price'] = sales['price'] # add price to the data since it's the target"
   ]
  },
  {
   "cell_type": "code",
   "execution_count": 70,
   "metadata": {
    "collapsed": false
   },
   "outputs": [
    {
     "name": "stdout",
     "output_type": "stream",
     "text": [
      "537116.329638\n",
      "[  4.56404164e-91  -6.23779166e-50  -1.30992711e-57   4.31995061e-61\n",
      "  -1.24125555e-75   2.68575522e-71   2.26147568e-67   1.85900299e-63\n",
      "   1.47144115e-59   1.09771012e-55   7.43509038e-52   4.23015577e-48\n",
      "   1.61618577e-44  -2.49283826e-48   9.59718336e-53]\n"
     ]
    }
   ],
   "source": [
    "# create X and y\n",
    "X15 = poly15_data[my_features]\n",
    "y15 = poly15_data.price\n",
    "\n",
    "model15 = LinearRegression()\n",
    "model15.fit(X15, y15)\n",
    "\n",
    "# print intercept and coefficients\n",
    "print model15.intercept_\n",
    "print model15.coef_"
   ]
  },
  {
   "cell_type": "code",
   "execution_count": 71,
   "metadata": {
    "collapsed": false
   },
   "outputs": [
    {
     "data": {
      "text/plain": [
       "[<matplotlib.lines.Line2D at 0x7fa5c5832190>,\n",
       " <matplotlib.lines.Line2D at 0x7fa5c5a5e0d0>]"
      ]
     },
     "execution_count": 71,
     "metadata": {},
     "output_type": "execute_result"
    },
    {
     "data": {
      "image/png": "[encoded data removed]",
      "text/plain": [
       "<matplotlib.figure.Figure at 0x7fa5c59aa250>"
      ]
     },
     "metadata": {},
     "output_type": "display_data"
    }
   ],
   "source": [
    "plt.plot(poly15_data['power_1'],poly15_data['price'],'.',\n",
    "        poly15_data['power_1'], model15.predict(X15),'-')"
   ]
  },
  {
   "cell_type": "markdown",
   "metadata": {},
   "source": [
    "## Changing the data and re-learning"
   ]
  },
  {
   "cell_type": "markdown",
   "metadata": {},
   "source": [
    "Lets split the sales data into four subsets of roughly equal size. Then we will estimate a 15th degree polynomial model on all four subsets of the data. Print the coefficients and plot the resulting fit (as we did above).\n",
    "\n",
    "To split the sales data into four subsets, we perform the following steps:\n",
    "* First split sales into 2 subsets with `train_test_split(sales, test_size = 0.5)`. \n",
    "* Next split the resulting subsets into 2 more subsets each. Use `train_test_split(sales, test_size = 0.5)`.\n",
    "\n",
    "You should end up with 4 subsets (`set_1`, `set_2`, `set_3`, `set_4`) of approximately equal size. "
   ]
  },
  {
   "cell_type": "code",
   "execution_count": 189,
   "metadata": {
    "collapsed": false
   },
   "outputs": [],
   "source": [
    "(sales1, sales2) = train_test_split(sales, test_size = 0.5, train_size = 0.5, random_state = 0)\n",
    "(set_1, set_2) = train_test_split(sales1, test_size = 0.5, train_size = 0.5, random_state = 0)\n",
    "(set_3, set_4) = train_test_split(sales2, test_size = 0.5, train_size = 0.5, random_state = 0)\n",
    "set_1 = set_1.sort_values(['sqft_living'])\n",
    "set_2 = set_2.sort_values(['sqft_living'])\n",
    "set_3 = set_3.sort_values(['sqft_living'])\n",
    "set_4 = set_4.sort_values(['sqft_living'])"
   ]
  },
  {
   "cell_type": "code",
   "execution_count": 190,
   "metadata": {
    "collapsed": false
   },
   "outputs": [
    {
     "name": "stdout",
     "output_type": "stream",
     "text": [
      "(5403, 21) (5403, 21) (5403, 21) (5404, 21) (10806, 21) (10807, 21)\n"
     ]
    }
   ],
   "source": [
    "print set_1.shape, set_2.shape, set_3.shape, set_4.shape, sales1.shape, sales2.shape"
   ]
  },
  {
   "cell_type": "markdown",
   "metadata": {},
   "source": [
    "Fit a 15th degree polynomial on set_1, set_2, set_3, and set_4 using sqft_living to predict prices. Print the coefficients and make a plot of the resulting model."
   ]
  },
  {
   "cell_type": "markdown",
   "metadata": {},
   "source": [
    "### Set 1"
   ]
  },
  {
   "cell_type": "code",
   "execution_count": 191,
   "metadata": {
    "collapsed": false
   },
   "outputs": [],
   "source": [
    "poly15_data_set_1 = polynomial_dframe(set_1['sqft_living'], 15)\n",
    "\n",
    "my_features_set_1 = poly15_data_set_1.columns # get the name of the features\n",
    "\n",
    "poly15_data_set_1['price'] = set_1['price'] # add price to the data since it's the target"
   ]
  },
  {
   "cell_type": "code",
   "execution_count": 192,
   "metadata": {
    "collapsed": false
   },
   "outputs": [
    {
     "name": "stdout",
     "output_type": "stream",
     "text": [
      "505653.211982 [  1.64713901e-77   5.03533283e-39  -1.30748854e-44  -2.68833249e-50\n",
      "  -6.14149215e-54  -9.62796554e-58   2.65044885e-55   1.12564025e-51\n",
      "   4.43305998e-48   1.54833699e-44   4.38157803e-41   7.84251710e-38\n",
      "  -2.90717721e-41   3.57133514e-45  -1.45172967e-49]\n"
     ]
    }
   ],
   "source": [
    "X15_set1 = poly15_data_set_1[my_features_set_1]\n",
    "y15_set1 = poly15_data_set_1.price\n",
    "\n",
    "model15_set_1 = LinearRegression()\n",
    "model15_set_1.fit(X15_set1, y15_set1)\n",
    "\n",
    "print model15_set_1.intercept_, model15_set_1.coef_"
   ]
  },
  {
   "cell_type": "code",
   "execution_count": 193,
   "metadata": {
    "collapsed": false
   },
   "outputs": [
    {
     "data": {
      "text/plain": [
       "[<matplotlib.lines.Line2D at 0x7fa5c3d6f350>,\n",
       " <matplotlib.lines.Line2D at 0x7fa5c3f69a90>]"
      ]
     },
     "execution_count": 193,
     "metadata": {},
     "output_type": "execute_result"
    },
    {
     "data": {
      "image/png": "[encoded data removed]",
      "text/plain": [
       "<matplotlib.figure.Figure at 0x7fa5c3f609d0>"
      ]
     },
     "metadata": {},
     "output_type": "display_data"
    }
   ],
   "source": [
    "plt.plot(poly15_data_set_1['power_1'],poly15_data_set_1['price'],'.',\n",
    "        poly15_data_set_1['power_1'], model15_set_1.predict(X15_set1),'-')"
   ]
  },
  {
   "cell_type": "markdown",
   "metadata": {},
   "source": [
    "### Set 2"
   ]
  },
  {
   "cell_type": "code",
   "execution_count": 194,
   "metadata": {
    "collapsed": true
   },
   "outputs": [],
   "source": [
    "poly15_data_set_2 = polynomial_dframe(set_2['sqft_living'], 15)\n",
    "\n",
    "my_features_set_2 = poly15_data_set_2.columns # get the name of the features\n",
    "\n",
    "poly15_data_set_2['price'] = set_2['price'] # add price to the data since it's the target"
   ]
  },
  {
   "cell_type": "code",
   "execution_count": 195,
   "metadata": {
    "collapsed": false
   },
   "outputs": [
    {
     "name": "stdout",
     "output_type": "stream",
     "text": [
      "508297.397679 [  2.06673035e-77  -9.68606023e-40   3.30514092e-45  -2.86025672e-49\n",
      "   5.11527938e-55  -5.05962707e-58   3.10501982e-55   1.29978836e-51\n",
      "   5.04049826e-48   1.73148641e-44   4.81254107e-41   8.44735282e-38\n",
      "  -3.27742402e-41   4.23214658e-45  -1.81726865e-49]\n"
     ]
    }
   ],
   "source": [
    "X15_set2 = poly15_data_set_2[my_features_set_2]\n",
    "y15_set2 = poly15_data_set_2.price\n",
    "\n",
    "model15_set_2 = LinearRegression()\n",
    "model15_set_2.fit(X15_set2, y15_set2)\n",
    "\n",
    "print model15_set_2.intercept_, model15_set_2.coef_"
   ]
  },
  {
   "cell_type": "code",
   "execution_count": 196,
   "metadata": {
    "collapsed": false
   },
   "outputs": [
    {
     "data": {
      "text/plain": [
       "[<matplotlib.lines.Line2D at 0x7fa5c3ca4610>,\n",
       " <matplotlib.lines.Line2D at 0x7fa5c3ca4d50>]"
      ]
     },
     "execution_count": 196,
     "metadata": {},
     "output_type": "execute_result"
    },
    {
     "data": {
      "image/png": "[encoded data removed]",
      "text/plain": [
       "<matplotlib.figure.Figure at 0x7fa5c3d9ca10>"
      ]
     },
     "metadata": {},
     "output_type": "display_data"
    }
   ],
   "source": [
    "plt.plot(poly15_data_set_2['power_1'],poly15_data_set_2['price'],'.',\n",
    "        poly15_data_set_2['power_1'], model15_set_2.predict(X15_set2),'-')"
   ]
  },
  {
   "cell_type": "markdown",
   "metadata": {},
   "source": [
    "### Set 3"
   ]
  },
  {
   "cell_type": "code",
   "execution_count": 197,
   "metadata": {
    "collapsed": true
   },
   "outputs": [],
   "source": [
    "poly15_data_set_3 = polynomial_dframe(set_3['sqft_living'], 15)\n",
    "\n",
    "my_features_set_3 = poly15_data_set_3.columns # get the name of the features\n",
    "\n",
    "poly15_data_set_3['price'] = set_3['price'] # add price to the data since it's the target"
   ]
  },
  {
   "cell_type": "code",
   "execution_count": 198,
   "metadata": {
    "collapsed": false
   },
   "outputs": [
    {
     "name": "stdout",
     "output_type": "stream",
     "text": [
      "541469.962748 [  2.91296634e-91   8.12806898e-50  -2.57699418e-55  -9.97625909e-61\n",
      "   1.19001824e-74   1.98665138e-71   1.72338793e-67   1.45618391e-63\n",
      "   1.18181701e-59   9.01758248e-56   6.23236266e-52   3.61015489e-48\n",
      "   1.40147071e-44  -2.15331334e-48   8.26074981e-53]\n"
     ]
    }
   ],
   "source": [
    "X15_set3 = poly15_data_set_3[my_features_set_3]\n",
    "y15_set3 = poly15_data_set_3.price\n",
    "\n",
    "model15_set_3 = LinearRegression()\n",
    "model15_set_3.fit(X15_set3, y15_set3)\n",
    "\n",
    "print model15_set_3.intercept_, model15_set_3.coef_"
   ]
  },
  {
   "cell_type": "code",
   "execution_count": 199,
   "metadata": {
    "collapsed": false
   },
   "outputs": [
    {
     "data": {
      "text/plain": [
       "[<matplotlib.lines.Line2D at 0x7fa5c3be98d0>,\n",
       " <matplotlib.lines.Line2D at 0x7fa5c3be9fd0>]"
      ]
     },
     "execution_count": 199,
     "metadata": {},
     "output_type": "execute_result"
    },
    {
     "data": {
      "image/png": "[encoded data removed]",
      "text/plain": [
       "<matplotlib.figure.Figure at 0x7fa5c3ccfb50>"
      ]
     },
     "metadata": {},
     "output_type": "display_data"
    }
   ],
   "source": [
    "plt.plot(poly15_data_set_3['power_1'],poly15_data_set_3['price'],'.',\n",
    "        poly15_data_set_3['power_1'], model15_set_3.predict(X15_set3),'-')"
   ]
  },
  {
   "cell_type": "markdown",
   "metadata": {},
   "source": [
    "### Set 4"
   ]
  },
  {
   "cell_type": "code",
   "execution_count": 200,
   "metadata": {
    "collapsed": true
   },
   "outputs": [],
   "source": [
    "poly15_data_set_4 = polynomial_dframe(set_4['sqft_living'], 15)\n",
    "\n",
    "my_features_set_4 = poly15_data_set_4.columns # get the name of the features\n",
    "\n",
    "poly15_data_set_4['price'] = set_4['price'] # add price to the data since it's the target"
   ]
  },
  {
   "cell_type": "code",
   "execution_count": 201,
   "metadata": {
    "collapsed": false
   },
   "outputs": [
    {
     "name": "stdout",
     "output_type": "stream",
     "text": [
      "516057.323749 [  1.46320070e-78   9.03972241e-40  -3.05386395e-45  -1.75201802e-50\n",
      "  -2.61029641e-54  -5.30687512e-58   4.38916772e-56   2.07990881e-52\n",
      "   9.13165014e-49   3.55140001e-45   1.11750980e-41   2.22073970e-38\n",
      "  -7.43915637e-42   8.28927348e-46  -3.07084135e-50]\n"
     ]
    }
   ],
   "source": [
    "X15_set4 = poly15_data_set_4[my_features_set_4]\n",
    "y15_set4 = poly15_data_set_4.price\n",
    "\n",
    "model15_set_4 = LinearRegression()\n",
    "model15_set_4.fit(X15_set4, y15_set4)\n",
    "\n",
    "print model15_set_4.intercept_, model15_set_4.coef_"
   ]
  },
  {
   "cell_type": "code",
   "execution_count": 202,
   "metadata": {
    "collapsed": false
   },
   "outputs": [
    {
     "data": {
      "text/plain": [
       "[<matplotlib.lines.Line2D at 0x7fa5c3ab60d0>,\n",
       " <matplotlib.lines.Line2D at 0x7fa5c411b790>]"
      ]
     },
     "execution_count": 202,
     "metadata": {},
     "output_type": "execute_result"
    },
    {
     "data": {
      "image/png": "[encoded data removed]",
      "text/plain": [
       "<matplotlib.figure.Figure at 0x7fa5c3c2c8d0>"
      ]
     },
     "metadata": {},
     "output_type": "display_data"
    }
   ],
   "source": [
    "plt.plot(poly15_data_set_4['power_1'],poly15_data_set_4['price'],'.',\n",
    "        poly15_data_set_4['power_1'], model15_set_3.predict(X15_set4),'-')"
   ]
  },
  {
   "cell_type": "markdown",
   "metadata": {},
   "source": [
    "## Selecting a Polynomial Degree"
   ]
  },
  {
   "cell_type": "markdown",
   "metadata": {},
   "source": [
    "Whenever we have a \"magic\" parameter like the degree of the polynomial there is one well-known way to select these parameters: validation set.\n",
    "\n",
    "We split the sales dataset 3-way into training set, test set, and validation set as follows:\n",
    "\n",
    "* Split our sales data into 2 sets: `training_and_validation` and `testing`. Use `random_split(0.9, seed=1)`.\n",
    "* Further split our training data into two sets: `training` and `validation`. Use `random_split(0.5, seed=1)`."
   ]
  },
  {
   "cell_type": "code",
   "execution_count": 204,
   "metadata": {
    "collapsed": false
   },
   "outputs": [],
   "source": [
    "(training_and_validation_data, testing_data) = train_test_split(sales, train_size = 0.9, test_size = 0.1, random_state = 1)\n",
    "(training_data, validation_data) = train_test_split(training_and_validation_data, train_size = 0.5, test_size = 0.5, random_state =1)"
   ]
  },
  {
   "cell_type": "code",
   "execution_count": 205,
   "metadata": {
    "collapsed": false
   },
   "outputs": [
    {
     "name": "stdout",
     "output_type": "stream",
     "text": [
      "(9725, 21) (9726, 21) (2162, 21)\n"
     ]
    }
   ],
   "source": [
    "print training_data.shape, validation_data.shape, testing_data.shape"
   ]
  },
  {
   "cell_type": "markdown",
   "metadata": {},
   "source": [
    "### Compute RSS"
   ]
  },
  {
   "cell_type": "code",
   "execution_count": 206,
   "metadata": {
    "collapsed": true
   },
   "outputs": [],
   "source": [
    "def get_residual_sum_of_squares(model, data, outcome):\n",
    "    # First get the predictions\n",
    "    prediction = model.predict(data)\n",
    "\n",
    "    # Then compute the residuals/errors\n",
    "    residuals = prediction - outcome\n",
    "    \n",
    "    # Then square and add them up\n",
    "    rss = sum(residuals * residuals)\n",
    "\n",
    "    #return(RSS)    \n",
    "    return rss"
   ]
  },
  {
   "cell_type": "code",
   "execution_count": 217,
   "metadata": {
    "collapsed": false
   },
   "outputs": [
    {
     "name": "stdout",
     "output_type": "stream",
     "text": [
      "6 6.0402035488e+14\n"
     ]
    }
   ],
   "source": [
    "array_rss = []\n",
    "for degree in range(1,16):\n",
    "    poly_data_dframe = polynomial_dframe(training_data['sqft_living'], degree)\n",
    "    validation_data_dframe = polynomial_dframe(validation_data['sqft_living'], degree)\n",
    "    \n",
    "    my_features = poly_data_dframe.columns\n",
    "    \n",
    "    poly_data_dframe['price'] = training_data['price']\n",
    "    validation_data_dframe['price'] = validation_data['price']\n",
    "    \n",
    "    X = poly_data_dframe[my_features]\n",
    "    y = poly_data_dframe.price\n",
    "\n",
    "    model = LinearRegression()\n",
    "    model.fit(X, y)\n",
    "    \n",
    "    rss = get_residual_sum_of_squares(model, validation_data_dframe[my_features], validation_data['price'])\n",
    "    \n",
    "    array_rss.append(rss)\n",
    "\n",
    "min_rss = min(array_rss)\n",
    "for i in xrange(len(array_rss)):\n",
    "    if array_rss[i] == min_rss:\n",
    "        print i+1, array_rss[i]"
   ]
  },
  {
   "cell_type": "markdown",
   "metadata": {},
   "source": [
    "From above we found that polynomial with degree 6 is giving minimum RSS.\n",
    "\n",
    "Lets now calculate RSS on test data for degree 6."
   ]
  },
  {
   "cell_type": "code",
   "execution_count": 218,
   "metadata": {
    "collapsed": false
   },
   "outputs": [
    {
     "name": "stdout",
     "output_type": "stream",
     "text": [
      "RSS: 1.43374933513e+14\n"
     ]
    }
   ],
   "source": [
    "degree = 6\n",
    "\n",
    "poly_data_dframe = polynomial_dframe(training_data['sqft_living'], degree)\n",
    "testing_data_dframe = polynomial_dframe(testing_data['sqft_living'], degree)\n",
    "\n",
    "my_features = poly_data_dframe.columns\n",
    "\n",
    "poly_data_dframe['price'] = training_data['price']\n",
    "\n",
    "X = poly_data_dframe[my_features]\n",
    "y = poly_data_dframe.price\n",
    "\n",
    "model = LinearRegression()\n",
    "model.fit(X, y)\n",
    "\n",
    "rss = get_residual_sum_of_squares(model, testing_data_dframe[my_features], testing_data['price'])\n",
    "\n",
    "print \"RSS: \" + str(rss)"
   ]
  },
  {
   "cell_type": "code",
   "execution_count": null,
   "metadata": {
    "collapsed": true
   },
   "outputs": [],
   "source": []
  }
 ],
 "metadata": {
  "kernelspec": {
   "display_name": "Python 2",
   "language": "python",
   "name": "python2"
  },
  "language_info": {
   "codemirror_mode": {
    "name": "ipython",
    "version": 2
   },
   "file_extension": ".py",
   "mimetype": "text/x-python",
   "name": "python",
   "nbconvert_exporter": "python",
   "pygments_lexer": "ipython2",
   "version": "2.7.11"
  }
 },
 "nbformat": 4,
 "nbformat_minor": 0
}
