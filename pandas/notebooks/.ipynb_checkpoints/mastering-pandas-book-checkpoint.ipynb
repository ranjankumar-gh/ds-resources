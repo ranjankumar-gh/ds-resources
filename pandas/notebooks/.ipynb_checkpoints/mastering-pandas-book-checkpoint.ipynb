{
 "cells": [
  {
   "cell_type": "markdown",
   "metadata": {},
   "source": [
    "# Mastering pandas book"
   ]
  },
  {
   "cell_type": "code",
   "execution_count": 1,
   "metadata": {
    "collapsed": true
   },
   "outputs": [],
   "source": [
    "import numpy as np"
   ]
  },
  {
   "cell_type": "markdown",
   "metadata": {},
   "source": [
    "## NumPy array creation\n",
    "### NumPy arrays via `numpy.array`"
   ]
  },
  {
   "cell_type": "code",
   "execution_count": 7,
   "metadata": {
    "collapsed": false
   },
   "outputs": [
    {
     "name": "stdout",
     "output_type": "stream",
     "text": [
      "Array 1:  [0 1 2 3]\n",
      "Array 2:  [[0 3 5]\n",
      " [2 8 7]]\n",
      "Array shape:  (2, 3)\n",
      "Array dimension:  2\n"
     ]
    }
   ],
   "source": [
    "# 1 dimensional array\n",
    "ar1 = np.array([0,1,2,3])\n",
    "\n",
    "# 2 dimensional array\n",
    "ar2 = np.array([[0,3,5], [2,8,7]])\n",
    "\n",
    "print(\"Array 1: \", ar1)\n",
    "print(\"Array 2: \", ar2)\n",
    "print(\"Array shape: \", ar2.shape)\n",
    "print(\"Array dimension: \", ar2.ndim)"
   ]
  },
  {
   "cell_type": "markdown",
   "metadata": {},
   "source": [
    "### NumPy array via `numpy.arange`"
   ]
  },
  {
   "cell_type": "code",
   "execution_count": 9,
   "metadata": {
    "collapsed": false
   },
   "outputs": [
    {
     "name": "stdout",
     "output_type": "stream",
     "text": [
      "[ 0  1  2  3  4  5  6  7  8  9 10 11]\n",
      "[3 6 9]\n"
     ]
    }
   ],
   "source": [
    "# Python's range function\n",
    "ar3 = np.arange(12)\n",
    "print(ar3)\n",
    "\n",
    "ar4 = np.arange(3, 10, 3)\n",
    "print(ar4)"
   ]
  },
  {
   "cell_type": "markdown",
   "metadata": {},
   "source": [
    "### NumPy array via `numpy.linspace`"
   ]
  },
  {
   "cell_type": "code",
   "execution_count": 10,
   "metadata": {
    "collapsed": false
   },
   "outputs": [
    {
     "name": "stdout",
     "output_type": "stream",
     "text": [
      "[ 0.          0.22222222  0.44444444  0.66666667]\n"
     ]
    }
   ],
   "source": [
    "ar5 = np.linspace(0, 2.0/3, 4)\n",
    "print(ar5)"
   ]
  },
  {
   "cell_type": "markdown",
   "metadata": {},
   "source": [
    "## NumPy array via various other functions\n",
    "### `numpy.ones`"
   ]
  },
  {
   "cell_type": "code",
   "execution_count": 11,
   "metadata": {
    "collapsed": false
   },
   "outputs": [
    {
     "name": "stdout",
     "output_type": "stream",
     "text": [
      "[[[ 1.  1.]\n",
      "  [ 1.  1.]\n",
      "  [ 1.  1.]]\n",
      "\n",
      " [[ 1.  1.]\n",
      "  [ 1.  1.]\n",
      "  [ 1.  1.]]]\n"
     ]
    }
   ],
   "source": [
    "ar7 = np.ones((2, 3, 2))\n",
    "print(ar7)"
   ]
  },
  {
   "cell_type": "markdown",
   "metadata": {},
   "source": [
    "### `numpy.zeros`"
   ]
  },
  {
   "cell_type": "code",
   "execution_count": 12,
   "metadata": {
    "collapsed": false
   },
   "outputs": [
    {
     "name": "stdout",
     "output_type": "stream",
     "text": [
      "[[ 0.  0.]\n",
      " [ 0.  0.]\n",
      " [ 0.  0.]\n",
      " [ 0.  0.]]\n"
     ]
    }
   ],
   "source": [
    "ar8 = np.zeros((4, 2))\n",
    "print(ar8)"
   ]
  },
  {
   "cell_type": "markdown",
   "metadata": {},
   "source": [
    "### `numpy.eye`"
   ]
  },
  {
   "cell_type": "code",
   "execution_count": 13,
   "metadata": {
    "collapsed": false
   },
   "outputs": [
    {
     "name": "stdout",
     "output_type": "stream",
     "text": [
      "[[ 1.  0.  0.]\n",
      " [ 0.  1.  0.]\n",
      " [ 0.  0.  1.]]\n"
     ]
    }
   ],
   "source": [
    "ar9 = np.eye(3)\n",
    "print(ar9)"
   ]
  },
  {
   "cell_type": "markdown",
   "metadata": {},
   "source": [
    "### `numpy.diag`"
   ]
  },
  {
   "cell_type": "code",
   "execution_count": 14,
   "metadata": {
    "collapsed": false
   },
   "outputs": [
    {
     "name": "stdout",
     "output_type": "stream",
     "text": [
      "[[2 0 0 0]\n",
      " [0 1 0 0]\n",
      " [0 0 4 0]\n",
      " [0 0 0 6]]\n"
     ]
    }
   ],
   "source": [
    "ar10 = np.diag((2, 1, 4, 6))\n",
    "print(ar10)"
   ]
  },
  {
   "cell_type": "markdown",
   "metadata": {},
   "source": [
    "### `numpy.random.rand`"
   ]
  },
  {
   "cell_type": "code",
   "execution_count": 26,
   "metadata": {
    "collapsed": false
   },
   "outputs": [
    {
     "name": "stdout",
     "output_type": "stream",
     "text": [
      "[ 0.54340494  0.27836939  0.42451759]\n"
     ]
    }
   ],
   "source": [
    "np.random.seed(100)\n",
    "ar11 = np.random.rand(3)\n",
    "print(ar11)"
   ]
  },
  {
   "cell_type": "code",
   "execution_count": 25,
   "metadata": {
    "collapsed": false
   },
   "outputs": [
    {
     "name": "stdout",
     "output_type": "stream",
     "text": [
      "[ 0.10837689  0.21969749  0.97862378  0.81168315  0.17194101]\n"
     ]
    }
   ],
   "source": [
    "ar12 = np.random.rand(5)\n",
    "print(ar12)"
   ]
  },
  {
   "cell_type": "markdown",
   "metadata": {},
   "source": [
    "### `numpy.empty`"
   ]
  }
 ],
 "metadata": {
  "kernelspec": {
   "display_name": "Python 3",
   "language": "python",
   "name": "python3"
  },
  "language_info": {
   "codemirror_mode": {
    "name": "ipython",
    "version": 3
   },
   "file_extension": ".py",
   "mimetype": "text/x-python",
   "name": "python",
   "nbconvert_exporter": "python",
   "pygments_lexer": "ipython3",
   "version": "3.5.1"
  }
 },
 "nbformat": 4,
 "nbformat_minor": 0
}
