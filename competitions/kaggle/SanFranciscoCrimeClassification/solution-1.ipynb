{
 "cells": [
  {
   "cell_type": "markdown",
   "metadata": {},
   "source": [
    "#San Francisco Crime Classification"
   ]
  },
  {
   "cell_type": "code",
   "execution_count": 1,
   "metadata": {
    "collapsed": true
   },
   "outputs": [],
   "source": [
    "import pandas as pd\n",
    "import numpy as np\n",
    "import math\n",
    "import zipfile\n",
    "import matplotlib.pyplot as plt\n",
    "from sklearn.neighbors import KNeighborsClassifier\n",
    "%matplotlib inline"
   ]
  },
  {
   "cell_type": "code",
   "execution_count": 2,
   "metadata": {
    "collapsed": true
   },
   "outputs": [],
   "source": [
    "def llfun(act, pred):\n",
    "    \"\"\" Logloss function for 1/0 probability\n",
    "    \"\"\"\n",
    "    return (-(~(act == pred)).astype(int) * math.log(1e-15)).sum() / len(act)"
   ]
  },
  {
   "cell_type": "code",
   "execution_count": 6,
   "metadata": {
    "collapsed": false
   },
   "outputs": [],
   "source": [
    "z = zipfile.ZipFile('train.csv.zip')\n",
    "train = pd.read_csv(z.open('train.csv'), parse_dates=['Dates'])[['X', 'Y', 'Category']]"
   ]
  },
  {
   "cell_type": "code",
   "execution_count": 7,
   "metadata": {
    "collapsed": false
   },
   "outputs": [
    {
     "name": "stdout",
     "output_type": "stream",
     "text": [
      "                   X              Y\n",
      "count  878049.000000  878049.000000\n",
      "mean     -122.422616      37.771020\n",
      "std         0.030354       0.456893\n",
      "min      -122.513642      37.707879\n",
      "25%      -122.432952      37.752427\n",
      "50%      -122.416420      37.775421\n",
      "75%      -122.406959      37.784369\n",
      "max      -120.500000      90.000000\n",
      "            X          Y        Category\n",
      "0 -122.425892  37.774599        WARRANTS\n",
      "1 -122.425892  37.774599  OTHER OFFENSES\n",
      "2 -122.424363  37.800414  OTHER OFFENSES\n",
      "3 -122.426995  37.800873   LARCENY/THEFT\n",
      "4 -122.438738  37.771541   LARCENY/THEFT\n"
     ]
    }
   ],
   "source": [
    "print train.describe()\n",
    "print train.head()"
   ]
  },
  {
   "cell_type": "code",
   "execution_count": 15,
   "metadata": {
    "collapsed": false
   },
   "outputs": [
    {
     "name": "stdout",
     "output_type": "stream",
     "text": [
      "Original size: 878049\n",
      "Train set: 701866\n",
      "Test set: 176183\n"
     ]
    }
   ],
   "source": [
    "# Separate test and train set out of orignal train set.\n",
    "msk = np.random.rand(len(train)) < 0.8\n",
    "\n",
    "knn_train = train[msk]\n",
    "knn_test = train[~msk]\n",
    "n = len(knn_test)\n",
    "\n",
    "print(\"Original size: %s\" % len(train))\n",
    "print(\"Train set: %s\" % len(knn_train))\n",
    "print(\"Test set: %s\" % len(knn_test))"
   ]
  },
  {
   "cell_type": "code",
   "execution_count": 16,
   "metadata": {
    "collapsed": true
   },
   "outputs": [],
   "source": [
    "# Prepare data sets\n",
    "x = knn_train[['X', 'Y']]\n",
    "y = knn_train['Category'].astype('category')\n",
    "actual = knn_test['Category'].astype('category')"
   ]
  },
  {
   "cell_type": "code",
   "execution_count": 17,
   "metadata": {
    "collapsed": true
   },
   "outputs": [],
   "source": [
    "# Fit\n",
    "logloss = []\n",
    "for i in range(1, 50, 1):\n",
    "    knn = KNeighborsClassifier(n_neighbors=i)\n",
    "    knn.fit(x, y)\n",
    "    \n",
    "    # Predict on test set\n",
    "    outcome = knn.predict(knn_test[['X', 'Y']])\n",
    "    \n",
    "    # Logloss\n",
    "    logloss.append(llfun(actual, outcome))"
   ]
  },
  {
   "cell_type": "code",
   "execution_count": 20,
   "metadata": {
    "collapsed": false
   },
   "outputs": [
    {
     "data": {
      "image/png": "[encoded data removed]",
      "text/plain": [
       "<matplotlib.figure.Figure at 0x185bd048>"
      ]
     },
     "metadata": {},
     "output_type": "display_data"
    }
   ],
   "source": [
    "plt.plot(logloss)\n",
    "plt.plot()\n",
    "#plt.savefig('n_neighbors_vs_logloss.png')"
   ]
  },
  {
   "cell_type": "code",
   "execution_count": 21,
   "metadata": {
    "collapsed": true
   },
   "outputs": [],
   "source": [
    "# Submit for K=40\n",
    "z = zipfile.ZipFile('test.csv.zip')\n",
    "test = pd.read_csv(z.open('test.csv'), parse_dates=['Dates'])\n",
    "x_test = test[['X', 'Y']]\n",
    "knn = KNeighborsClassifier(n_neighbors=40)\n",
    "knn.fit(x, y)\n",
    "outcomes = knn.predict(x_test)"
   ]
  },
  {
   "cell_type": "code",
   "execution_count": 22,
   "metadata": {
    "collapsed": true
   },
   "outputs": [],
   "source": [
    "submit = pd.DataFrame({'Id': test.Id.tolist()})\n",
    "for category in y.cat.categories:\n",
    "    submit[category] = np.where(outcomes == category, 1, 0)\n",
    "    \n",
    "submit.to_csv('k_nearest_neigbour.csv', index = False)"
   ]
  }
 ],
 "metadata": {
  "kernelspec": {
   "display_name": "Python 3",
   "language": "python",
   "name": "python3"
  },
  "language_info": {
   "codemirror_mode": {
    "name": "ipython",
    "version": 3
   },
   "file_extension": ".py",
   "mimetype": "text/x-python",
   "name": "python",
   "nbconvert_exporter": "python",
   "pygments_lexer": "ipython3",
   "version": "3.5.1"
  }
 },
 "nbformat": 4,
 "nbformat_minor": 0
}
