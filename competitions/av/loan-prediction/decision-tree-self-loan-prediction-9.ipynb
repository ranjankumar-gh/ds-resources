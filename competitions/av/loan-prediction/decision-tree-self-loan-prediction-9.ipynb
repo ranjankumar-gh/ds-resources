{
 "cells": [
  {
   "cell_type": "markdown",
   "metadata": {},
   "source": [
    "#Loan prediction"
   ]
  },
  {
   "cell_type": "markdown",
   "metadata": {},
   "source": [
    "Load the libraries"
   ]
  },
  {
   "cell_type": "code",
   "execution_count": 323,
   "metadata": {
    "collapsed": false
   },
   "outputs": [],
   "source": [
    "import graphlab\n",
    "import math\n",
    "import numpy as np\n",
    "from sklearn.linear_model import LinearRegression\n",
    "import matplotlib.pyplot as plt\n",
    "%matplotlib inline"
   ]
  },
  {
   "cell_type": "markdown",
   "metadata": {},
   "source": [
    "Load the data"
   ]
  },
  {
   "cell_type": "code",
   "execution_count": 275,
   "metadata": {
    "collapsed": false,
    "scrolled": true
   },
   "outputs": [
    {
     "data": {
      "text/html": [
       "<pre>Finished parsing file C:\\Users\\ranjank\\data\\mywork\\github\\av\\competitions\\loan-prediction\\train_u6lujuX.csv</pre>"
      ],
      "text/plain": [
       "Finished parsing file C:\\Users\\ranjank\\data\\mywork\\github\\av\\competitions\\loan-prediction\\train_u6lujuX.csv"
      ]
     },
     "metadata": {},
     "output_type": "display_data"
    },
    {
     "data": {
      "text/html": [
       "<pre>Parsing completed. Parsed 100 lines in 0.068514 secs.</pre>"
      ],
      "text/plain": [
       "Parsing completed. Parsed 100 lines in 0.068514 secs."
      ]
     },
     "metadata": {},
     "output_type": "display_data"
    },
    {
     "data": {
      "text/html": [
       "<pre>Finished parsing file C:\\Users\\ranjank\\data\\mywork\\github\\av\\competitions\\loan-prediction\\train_u6lujuX.csv</pre>"
      ],
      "text/plain": [
       "Finished parsing file C:\\Users\\ranjank\\data\\mywork\\github\\av\\competitions\\loan-prediction\\train_u6lujuX.csv"
      ]
     },
     "metadata": {},
     "output_type": "display_data"
    },
    {
     "data": {
      "text/html": [
       "<pre>Parsing completed. Parsed 614 lines in 0.066013 secs.</pre>"
      ],
      "text/plain": [
       "Parsing completed. Parsed 614 lines in 0.066013 secs."
      ]
     },
     "metadata": {},
     "output_type": "display_data"
    },
    {
     "data": {
      "text/html": [
       "<pre>Finished parsing file C:\\Users\\ranjank\\data\\mywork\\github\\av\\competitions\\loan-prediction\\test_Y3wMUE5.csv</pre>"
      ],
      "text/plain": [
       "Finished parsing file C:\\Users\\ranjank\\data\\mywork\\github\\av\\competitions\\loan-prediction\\test_Y3wMUE5.csv"
      ]
     },
     "metadata": {},
     "output_type": "display_data"
    },
    {
     "data": {
      "text/html": [
       "<pre>Parsing completed. Parsed 100 lines in 0.064024 secs.</pre>"
      ],
      "text/plain": [
       "Parsing completed. Parsed 100 lines in 0.064024 secs."
      ]
     },
     "metadata": {},
     "output_type": "display_data"
    },
    {
     "name": "stdout",
     "output_type": "stream",
     "text": [
      "------------------------------------------------------\n",
      "Inferred types from first line of file as \n",
      "column_type_hints=[str,str,str,str,str,str,long,long,long,long,long,str,str]\n",
      "If parsing fails due to incorrect types, you can correct\n",
      "the inferred type list above and pass it to read_csv in\n",
      "the column_type_hints argument\n",
      "------------------------------------------------------\n",
      "------------------------------------------------------"
     ]
    },
    {
     "data": {
      "text/html": [
       "<pre>Finished parsing file C:\\Users\\ranjank\\data\\mywork\\github\\av\\competitions\\loan-prediction\\test_Y3wMUE5.csv</pre>"
      ],
      "text/plain": [
       "Finished parsing file C:\\Users\\ranjank\\data\\mywork\\github\\av\\competitions\\loan-prediction\\test_Y3wMUE5.csv"
      ]
     },
     "metadata": {},
     "output_type": "display_data"
    },
    {
     "data": {
      "text/html": [
       "<pre>Parsing completed. Parsed 367 lines in 0.055998 secs.</pre>"
      ],
      "text/plain": [
       "Parsing completed. Parsed 367 lines in 0.055998 secs."
      ]
     },
     "metadata": {},
     "output_type": "display_data"
    },
    {
     "name": "stdout",
     "output_type": "stream",
     "text": [
      "\n",
      "Inferred types from first line of file as \n",
      "column_type_hints=[str,str,str,str,str,str,long,long,long,long,long,str]\n",
      "If parsing fails due to incorrect types, you can correct\n",
      "the inferred type list above and pass it to read_csv in\n",
      "the column_type_hints argument\n",
      "------------------------------------------------------\n"
     ]
    }
   ],
   "source": [
    "loans = graphlab.SFrame.read_csv('train_u6lujuX.csv')\n",
    "test_data = graphlab.SFrame.read_csv('test_Y3wMUE5.csv')"
   ]
  },
  {
   "cell_type": "markdown",
   "metadata": {},
   "source": [
    "## Data Exploration\n",
    "### Variable Identification"
   ]
  },
  {
   "cell_type": "code",
   "execution_count": 276,
   "metadata": {
    "collapsed": false
   },
   "outputs": [
    {
     "name": "stdout",
     "output_type": "stream",
     "text": [
      "+----------+--------+---------+------------+--------------+---------------+\n",
      "| Loan_ID  | Gender | Married | Dependents |  Education   | Self_Employed |\n",
      "+----------+--------+---------+------------+--------------+---------------+\n",
      "| LP001002 |  Male  |    No   |     0      |   Graduate   |       No      |\n",
      "| LP001003 |  Male  |   Yes   |     1      |   Graduate   |       No      |\n",
      "| LP001005 |  Male  |   Yes   |     0      |   Graduate   |      Yes      |\n",
      "| LP001006 |  Male  |   Yes   |     0      | Not Graduate |       No      |\n",
      "| LP001008 |  Male  |    No   |     0      |   Graduate   |       No      |\n",
      "| LP001011 |  Male  |   Yes   |     2      |   Graduate   |      Yes      |\n",
      "| LP001013 |  Male  |   Yes   |     0      | Not Graduate |       No      |\n",
      "| LP001014 |  Male  |   Yes   |     3+     |   Graduate   |       No      |\n",
      "| LP001018 |  Male  |   Yes   |     2      |   Graduate   |       No      |\n",
      "| LP001020 |  Male  |   Yes   |     1      |   Graduate   |       No      |\n",
      "+----------+--------+---------+------------+--------------+---------------+\n",
      "+-----------------+-------------------+------------+------------------+----------------+\n",
      "| ApplicantIncome | CoapplicantIncome | LoanAmount | Loan_Amount_Term | Credit_History |\n",
      "+-----------------+-------------------+------------+------------------+----------------+\n",
      "|       5849      |         0         |    None    |       360        |       1        |\n",
      "|       4583      |        1508       |    128     |       360        |       1        |\n",
      "|       3000      |         0         |     66     |       360        |       1        |\n",
      "|       2583      |        2358       |    120     |       360        |       1        |\n",
      "|       6000      |         0         |    141     |       360        |       1        |\n",
      "|       5417      |        4196       |    267     |       360        |       1        |\n",
      "|       2333      |        1516       |     95     |       360        |       1        |\n",
      "|       3036      |        2504       |    158     |       360        |       0        |\n",
      "|       4006      |        1526       |    168     |       360        |       1        |\n",
      "|      12841      |       10968       |    349     |       360        |       1        |\n",
      "+-----------------+-------------------+------------+------------------+----------------+\n",
      "+---------------+-------------+\n",
      "| Property_Area | Loan_Status |\n",
      "+---------------+-------------+\n",
      "|     Urban     |      Y      |\n",
      "|     Rural     |      N      |\n",
      "|     Urban     |      Y      |\n",
      "|     Urban     |      Y      |\n",
      "|     Urban     |      Y      |\n",
      "|     Urban     |      Y      |\n",
      "|     Urban     |      Y      |\n",
      "|   Semiurban   |      N      |\n",
      "|     Urban     |      Y      |\n",
      "|   Semiurban   |      N      |\n",
      "+---------------+-------------+\n",
      "[10 rows x 13 columns]\n",
      "\n",
      "['Loan_ID', 'Gender', 'Married', 'Dependents', 'Education', 'Self_Employed', 'ApplicantIncome', 'CoapplicantIncome', 'LoanAmount', 'Loan_Amount_Term', 'Credit_History', 'Property_Area', 'Loan_Status']\n",
      "[<type 'str'>, <type 'str'>, <type 'str'>, <type 'str'>, <type 'str'>, <type 'str'>, <type 'int'>, <type 'int'>, <type 'int'>, <type 'int'>, <type 'int'>, <type 'str'>, <type 'str'>]\n"
     ]
    }
   ],
   "source": [
    "print loans.head()\n",
    "print loans.column_names()\n",
    "print loans.column_types()"
   ]
  },
  {
   "cell_type": "markdown",
   "metadata": {},
   "source": [
    "### Types of Variables\n",
    "#### Feature Variables:\n",
    "1. Gender\n",
    "2. Married\n",
    "3. Dependents\n",
    "4. Education\n",
    "5. Self_Employed\n",
    "6. ApplicantIncome\n",
    "7. CoapplicantIncome\n",
    "8. LoanAmount\n",
    "9. Loan_Amount_Term\n",
    "10. Credit_History\n",
    "11. Property_Area\n",
    "\n",
    "#### Target Variables\n",
    "1. Loan_Status"
   ]
  },
  {
   "cell_type": "markdown",
   "metadata": {},
   "source": [
    "### Data Types\n",
    "#### Character\n",
    "1. Gender\n",
    "2. Married\n",
    "3. Dependents\n",
    "4. Education\n",
    "5. Self_Employed\n",
    "6. Property_Area\n",
    "\n",
    "####Numeric\n",
    "1. ApplicantIncome\n",
    "2. CoapplicantIncome\n",
    "3. LoanAmount\n",
    "4. Loan_Amount_Term\n",
    "5. Credit_History"
   ]
  },
  {
   "cell_type": "markdown",
   "metadata": {},
   "source": [
    "### Variable Category\n",
    "#### Categorical\n",
    "1. Gender\n",
    "2. Married\n",
    "3. Dependents\n",
    "4. Education\n",
    "5. Self_Employed\n",
    "6. Property_Area\n",
    "7. Loan_Amount_Term\n",
    "8. Credit_History\n",
    "\n",
    "#### Continuous\n",
    "1. ApplicantIncome\n",
    "2. CoapplicantIncome\n",
    "3. LoanAmount"
   ]
  },
  {
   "cell_type": "markdown",
   "metadata": {},
   "source": [
    "## Univariate Analysis\n",
    "* Understand the central tendency and spread of the continuous variables.\n",
    "* Highlight missing and outlier values."
   ]
  },
  {
   "cell_type": "markdown",
   "metadata": {},
   "source": [
    "###Continuous Variables\n",
    "####'ApplicantIncome'"
   ]
  },
  {
   "cell_type": "code",
   "execution_count": 277,
   "metadata": {
    "collapsed": false
   },
   "outputs": [
    {
     "name": "stdout",
     "output_type": "stream",
     "text": [
      "0 no. of values are missing.\n"
     ]
    },
    {
     "data": {
      "image/png": "[encoded data removed]",
      "text/plain": [
       "<matplotlib.figure.Figure at 0x3682e8d0>"
      ]
     },
     "metadata": {},
     "output_type": "display_data"
    }
   ],
   "source": [
    "#if any value is missing\n",
    "number_missing_values = sum(loans['ApplicantIncome'] == None)\n",
    "print number_missing_values, \"no. of values are missing.\"\n",
    "\n",
    "#plot the diagram\n",
    "x = np.arange(0, len(loans['ApplicantIncome'])) \n",
    "y = loans['ApplicantIncome']\n",
    "\n",
    "plt.hist(y)\n",
    "plt.show()"
   ]
  },
  {
   "cell_type": "markdown",
   "metadata": {},
   "source": [
    "#### 'CoapplicantIncome'"
   ]
  },
  {
   "cell_type": "code",
   "execution_count": 278,
   "metadata": {
    "collapsed": false
   },
   "outputs": [
    {
     "name": "stdout",
     "output_type": "stream",
     "text": [
      "0 no. of values are missing.\n"
     ]
    },
    {
     "data": {
      "image/png": "[encoded data removed]",
      "text/plain": [
       "<matplotlib.figure.Figure at 0x3684a208>"
      ]
     },
     "metadata": {},
     "output_type": "display_data"
    }
   ],
   "source": [
    "#if any value is missing\n",
    "number_missing_values = sum(loans['CoapplicantIncome'] == None)\n",
    "print number_missing_values, \"no. of values are missing.\"\n",
    "\n",
    "#plot the diagram\n",
    "x = np.arange(0, len(loans['CoapplicantIncome'])) \n",
    "y = loans['CoapplicantIncome']\n",
    "\n",
    "plt.hist(y)\n",
    "plt.show()"
   ]
  },
  {
   "cell_type": "markdown",
   "metadata": {},
   "source": [
    "#### 'LoanAmount'"
   ]
  },
  {
   "cell_type": "code",
   "execution_count": 279,
   "metadata": {
    "collapsed": false
   },
   "outputs": [
    {
     "name": "stdout",
     "output_type": "stream",
     "text": [
      "22 no. of values are missing.\n"
     ]
    }
   ],
   "source": [
    "#if any value is missing\n",
    "number_missing_values = sum(loans['LoanAmount'] == None)\n",
    "print number_missing_values, \"no. of values are missing.\""
   ]
  },
  {
   "cell_type": "code",
   "execution_count": 280,
   "metadata": {
    "collapsed": false
   },
   "outputs": [
    {
     "data": {
      "image/png": "[encoded data removed]",
      "text/plain": [
       "<matplotlib.figure.Figure at 0x25aa4be0>"
      ]
     },
     "metadata": {},
     "output_type": "display_data"
    }
   ],
   "source": [
    "#mean_loan_amount = loans['LoanAmount'].mean()\n",
    "#loans['LoanAmount'] = [mean_loan_amount if v is None else v for v in loans['LoanAmount']]\n",
    "\n",
    "loans = loans[loans['LoanAmount'] != None]\n",
    "\n",
    "#plot the diagram\n",
    "x = np.arange(0, len(loans['LoanAmount'])) \n",
    "y = loans['LoanAmount']\n",
    "\n",
    "plt.hist(y)\n",
    "plt.show()"
   ]
  },
  {
   "cell_type": "markdown",
   "metadata": {},
   "source": [
    "### Categorical"
   ]
  },
  {
   "cell_type": "code",
   "execution_count": 281,
   "metadata": {
    "collapsed": false
   },
   "outputs": [
    {
     "name": "stdout",
     "output_type": "stream",
     "text": [
      "0 no. of values are missing in Gender.\n",
      "0 no. of values are missing in Married.\n",
      "0 no. of values are missing in Dependents.\n",
      "0 no. of values are missing in Education.\n",
      "0 no. of values are missing in Self_Employed.\n",
      "14 no. of values are missing in Loan_Amount_Term.\n",
      "49 no. of values are missing in Credit_History.\n",
      "0 no. of values are missing in Property_Area.\n"
     ]
    }
   ],
   "source": [
    "print sum(loans['Gender'] == None), \"no. of values are missing in Gender.\"\n",
    "print sum(loans['Married'] == None), \"no. of values are missing in Married.\"\n",
    "print sum(loans['Dependents'] == None), \"no. of values are missing in Dependents.\"\n",
    "print sum(loans['Education'] == None), \"no. of values are missing in Education.\"\n",
    "print sum(loans['Self_Employed'] == None), \"no. of values are missing in Self_Employed.\"\n",
    "print sum(loans['Loan_Amount_Term'] == None), \"no. of values are missing in Loan_Amount_Term.\"\n",
    "print sum(loans['Credit_History'] == None), \"no. of values are missing in Credit_History.\"\n",
    "print sum(loans['Property_Area'] == None), \"no. of values are missing in Property_Area.\""
   ]
  },
  {
   "cell_type": "code",
   "execution_count": 282,
   "metadata": {
    "collapsed": false
   },
   "outputs": [],
   "source": [
    "#mean_loan_amount_term = loans['Loan_Amount_Term'].mean()\n",
    "#loans['Loan_Amount_Term'] = [mean_loan_amount_term if v is None else v for v in loans['Loan_Amount_Term']]\n",
    "loans = loans[loans['Loan_Amount_Term'] != None]"
   ]
  },
  {
   "cell_type": "code",
   "execution_count": 283,
   "metadata": {
    "collapsed": false
   },
   "outputs": [
    {
     "name": "stdout",
     "output_type": "stream",
     "text": [
      "0 no. of values are missing in Gender.\n",
      "0 no. of values are missing in Married.\n",
      "0 no. of values are missing in Dependents.\n",
      "0 no. of values are missing in Education.\n",
      "0 no. of values are missing in Self_Employed.\n",
      "0 no. of values are missing in Loan_Amount_Term.\n",
      "49 no. of values are missing in Credit_History.\n",
      "0 no. of values are missing in Property_Area.\n"
     ]
    }
   ],
   "source": [
    "print sum(loans['Gender'] == None), \"no. of values are missing in Gender.\"\n",
    "print sum(loans['Married'] == None), \"no. of values are missing in Married.\"\n",
    "print sum(loans['Dependents'] == None), \"no. of values are missing in Dependents.\"\n",
    "print sum(loans['Education'] == None), \"no. of values are missing in Education.\"\n",
    "print sum(loans['Self_Employed'] == None), \"no. of values are missing in Self_Employed.\"\n",
    "print sum(loans['Loan_Amount_Term'] == None), \"no. of values are missing in Loan_Amount_Term.\"\n",
    "print sum(loans['Credit_History'] == None), \"no. of values are missing in Credit_History.\"\n",
    "print sum(loans['Property_Area'] == None), \"no. of values are missing in Property_Area.\""
   ]
  },
  {
   "cell_type": "code",
   "execution_count": 284,
   "metadata": {
    "collapsed": false
   },
   "outputs": [],
   "source": [
    "loans = loans[loans['Credit_History'] != None]"
   ]
  },
  {
   "cell_type": "code",
   "execution_count": 285,
   "metadata": {
    "collapsed": false
   },
   "outputs": [
    {
     "name": "stdout",
     "output_type": "stream",
     "text": [
      "0 no. of values are missing in Gender.\n",
      "0 no. of values are missing in Married.\n",
      "0 no. of values are missing in Dependents.\n",
      "0 no. of values are missing in Education.\n",
      "0 no. of values are missing in Self_Employed.\n",
      "0 no. of values are missing in Loan_Amount_Term.\n",
      "0 no. of values are missing in Credit_History.\n",
      "0 no. of values are missing in Property_Area.\n"
     ]
    }
   ],
   "source": [
    "print sum(loans['Gender'] == None), \"no. of values are missing in Gender.\"\n",
    "print sum(loans['Married'] == None), \"no. of values are missing in Married.\"\n",
    "print sum(loans['Dependents'] == None), \"no. of values are missing in Dependents.\"\n",
    "print sum(loans['Education'] == None), \"no. of values are missing in Education.\"\n",
    "print sum(loans['Self_Employed'] == None), \"no. of values are missing in Self_Employed.\"\n",
    "print sum(loans['Loan_Amount_Term'] == None), \"no. of values are missing in Loan_Amount_Term.\"\n",
    "print sum(loans['Credit_History'] == None), \"no. of values are missing in Credit_History.\"\n",
    "print sum(loans['Property_Area'] == None), \"no. of values are missing in Property_Area.\""
   ]
  },
  {
   "cell_type": "markdown",
   "metadata": {},
   "source": [
    "### Features and Target"
   ]
  },
  {
   "cell_type": "code",
   "execution_count": 286,
   "metadata": {
    "collapsed": false
   },
   "outputs": [],
   "source": [
    "features = ['Gender', \n",
    "            'Married', \n",
    "            'Dependents',\n",
    "            'Education',\n",
    "            'Self_Employed',\n",
    "            'ApplicantIncome', \n",
    "            'CoapplicantIncome',\n",
    "            'LoanAmount',\n",
    "            'Loan_Amount_Term',\n",
    "            'Credit_History',\n",
    "            'Property_Area']\n",
    "target = 'Loan_Status'\n",
    "\n",
    "loans = loans[features + [target]]"
   ]
  },
  {
   "cell_type": "markdown",
   "metadata": {},
   "source": [
    "## Preparing the data"
   ]
  },
  {
   "cell_type": "markdown",
   "metadata": {},
   "source": [
    "* **Is target column fully populated with proper data?**\n",
    "* **Replace the target values to 1 and -1**"
   ]
  },
  {
   "cell_type": "code",
   "execution_count": 287,
   "metadata": {
    "collapsed": false
   },
   "outputs": [
    {
     "name": "stdout",
     "output_type": "stream",
     "text": [
      "Is target column fully populated with proper data:  True\n"
     ]
    }
   ],
   "source": [
    "print \"Is target column fully populated with proper data: \", (len(loans[loans[target] == 'Y']) + \n",
    "                                                              len(loans[loans[target] == 'N'])) == len(loans)\n",
    "loans[target] = loans[target].apply(lambda x: 1 if x=='Y' else -1)"
   ]
  },
  {
   "cell_type": "markdown",
   "metadata": {},
   "source": [
    "## Subsample dataset to make sure classes are balanced"
   ]
  },
  {
   "cell_type": "code",
   "execution_count": 288,
   "metadata": {
    "collapsed": false
   },
   "outputs": [],
   "source": [
    "#safe_loans_raw = loans[loans[target] == 1]\n",
    "#risky_loans_raw = loans[loans[target] == -1]\n",
    "\n",
    "# Since there are less risky loans than safe loans, find the ratio of the sizes\n",
    "# and use that percentage to undersample the safe loans.\n",
    "#percentage = len(risky_loans_raw)/float(len(safe_loans_raw))\n",
    "#safe_loans = safe_loans_raw.sample(percentage, seed = 1)\n",
    "#risky_loans = risky_loans_raw\n",
    "#loans_data = risky_loans.append(safe_loans)\n",
    "\n",
    "#print \"Percentage of safe loans                 :\", len(safe_loans) / float(len(loans_data))\n",
    "#print \"Percentage of risky loans                :\", len(risky_loans) / float(len(loans_data))\n",
    "#print \"Total number of loans in our new dataset :\", len(loans_data)\n",
    "loans_data = loans\n",
    "#print loan_data"
   ]
  },
  {
   "cell_type": "markdown",
   "metadata": {},
   "source": [
    "## Transform categorical data into binary features"
   ]
  },
  {
   "cell_type": "markdown",
   "metadata": {},
   "source": [
    "### Training Data"
   ]
  },
  {
   "cell_type": "markdown",
   "metadata": {},
   "source": [
    "Categorize 'ApplicantIncome'"
   ]
  },
  {
   "cell_type": "code",
   "execution_count": 289,
   "metadata": {
    "collapsed": false
   },
   "outputs": [],
   "source": [
    "def fun_ApplicantIncome(x):\n",
    "    if x < 1000:\n",
    "        return 'range_0_1k'\n",
    "    elif x < 2000:\n",
    "        return 'range_1_2k'\n",
    "    elif x < 3000:\n",
    "        return 'range_2_3k'\n",
    "    elif x < 4000:\n",
    "        return 'range_3_4k'\n",
    "    elif x < 5000:\n",
    "        return 'range_4_5k'\n",
    "    elif x < 6000:\n",
    "        return 'range_5_6k'\n",
    "    elif x < 7000:\n",
    "        return 'range_6_7k'\n",
    "    elif x < 8000:\n",
    "        return 'range_7_8k'\n",
    "    elif x < 9000:\n",
    "        return 'range_8_9k'\n",
    "    elif x < 10000:\n",
    "        return 'range_9_10k'\n",
    "    elif x < 11000:\n",
    "        return 'range_10_11k'\n",
    "    elif x < 12000:\n",
    "        return 'range_11_12k'\n",
    "    elif x < 13000:\n",
    "        return 'range_12_13k'\n",
    "    elif x < 14000:\n",
    "        return 'range_13_14k'\n",
    "    elif x < 15000:\n",
    "        return 'range_14_15k'\n",
    "    elif x < 16000:\n",
    "        return 'range_15_16k'\n",
    "    elif x < 17000:\n",
    "        return 'range_16_17k'\n",
    "    elif x < 18000:\n",
    "        return 'range_17_18k'\n",
    "    elif x < 19000:\n",
    "        return 'range_18_19k'\n",
    "    elif x < 20000:\n",
    "        return 'range_19_20k'\n",
    "    elif x < 30000:\n",
    "        return 'range_20_21k'\n",
    "    elif x >= 30000:\n",
    "        return 'range_high'\n",
    "loans_data['ApplicantIncome'] = loans_data['ApplicantIncome'].apply(lambda x: fun_ApplicantIncome(x))\n",
    "test_data['ApplicantIncome'] = test_data['ApplicantIncome'].apply(lambda x: fun_ApplicantIncome(x))"
   ]
  },
  {
   "cell_type": "markdown",
   "metadata": {},
   "source": [
    "Categorize 'CoapplicantIncome'"
   ]
  },
  {
   "cell_type": "code",
   "execution_count": 290,
   "metadata": {
    "collapsed": false
   },
   "outputs": [],
   "source": [
    "def fun_CoapplicantIncome(x):\n",
    "    if x < 1000:\n",
    "        return 'range_0_1k'\n",
    "    elif x < 2000:\n",
    "        return 'range_1_2k'\n",
    "    elif x < 3000:\n",
    "        return 'range_2_3k'\n",
    "    elif x < 4000:\n",
    "        return 'range_3_4k'\n",
    "    elif x < 5000:\n",
    "        return 'range_4_5k'\n",
    "    elif x < 6000:\n",
    "        return 'range_5_6k'\n",
    "    elif x < 7000:\n",
    "        return 'range_6_7k'\n",
    "    elif x < 8000:\n",
    "        return 'range_7_8k'\n",
    "    elif x < 9000:\n",
    "        return 'range_8_9k'\n",
    "    elif x < 10000:\n",
    "        return 'range_9_10k'\n",
    "    elif x < 11000:\n",
    "        return 'range_10_11k'\n",
    "    elif x < 12000:\n",
    "        return 'range_11_12k'\n",
    "    elif x < 13000:\n",
    "        return 'range_12_13k'\n",
    "    elif x < 14000:\n",
    "        return 'range_13_14k'\n",
    "    elif x < 15000:\n",
    "        return 'range_14_15k'\n",
    "    elif x < 16000:\n",
    "        return 'range_15_16k'\n",
    "    elif x < 17000:\n",
    "        return 'range_16_17k'\n",
    "    elif x < 18000:\n",
    "        return 'range_17_18k'\n",
    "    elif x < 19000:\n",
    "        return 'range_18_19k'\n",
    "    elif x < 20000:\n",
    "        return 'range_19_20k'\n",
    "    elif x < 30000:\n",
    "        return 'range_20_21k'\n",
    "    elif x >= 30000:\n",
    "        return 'range_high'\n",
    "loans_data['CoapplicantIncome'] = loans_data['CoapplicantIncome'].apply(lambda x: fun_CoapplicantIncome(x))\n",
    "test_data['CoapplicantIncome'] = test_data['CoapplicantIncome'].apply(lambda x: fun_CoapplicantIncome(x))"
   ]
  },
  {
   "cell_type": "markdown",
   "metadata": {},
   "source": [
    "Categorize 'LoanAmountTerm'"
   ]
  },
  {
   "cell_type": "code",
   "execution_count": 291,
   "metadata": {
    "collapsed": false
   },
   "outputs": [],
   "source": [
    "#loan_amount_term = [12, 36, 60, 84, 120, 180, 240, 300, 360, 480]\n",
    "\n",
    "def fun_LoanAmountTerm(x):\n",
    "    if x in loans_data['Loan_Amount_Term']:\n",
    "        return x\n",
    "    else:\n",
    "        return 0\n",
    "    \n",
    "def fun_LoanAmountTerm_Test(x):\n",
    "    if x in test_data['Loan_Amount_Term']:\n",
    "        return x\n",
    "    else:\n",
    "        return 0\n",
    "    \n",
    "loans_data['Loan_Amount_Term'] = loans_data['Loan_Amount_Term'].apply(lambda x: fun_LoanAmountTerm(x))\n",
    "test_data['Loan_Amount_Term'] = test_data['Loan_Amount_Term'].apply(lambda x: fun_LoanAmountTerm_Test(x))"
   ]
  },
  {
   "cell_type": "markdown",
   "metadata": {},
   "source": [
    "Categorize 'LoanAmount'"
   ]
  },
  {
   "cell_type": "code",
   "execution_count": 292,
   "metadata": {
    "collapsed": true
   },
   "outputs": [],
   "source": [
    "def fun_LoanAmount(x):\n",
    "    if x < 100:\n",
    "        return 'range_0_1h'\n",
    "    elif x < 200:\n",
    "        return 'range_1_2h'\n",
    "    elif x < 300:\n",
    "        return 'range_2_3h'\n",
    "    elif x < 400:\n",
    "        return 'range_3_4'\n",
    "    elif x < 500:\n",
    "        return 'range_4_5'\n",
    "    elif x < 600:\n",
    "        return 'range_5_6'\n",
    "    else:\n",
    "        return 'range_high'\n",
    "    \n",
    "loans_data['LoanAmount'] = loans_data['LoanAmount'].apply(lambda x: fun_LoanAmount(x))\n",
    "test_data['LoanAmount'] = test_data['LoanAmount'].apply(lambda x: fun_LoanAmount(x))"
   ]
  },
  {
   "cell_type": "markdown",
   "metadata": {},
   "source": [
    "Converting features to 0 and 1 based features"
   ]
  },
  {
   "cell_type": "code",
   "execution_count": 293,
   "metadata": {
    "collapsed": true
   },
   "outputs": [],
   "source": [
    "#loans_data = risky_loans.append(safe_loans)\n",
    "for feature in features:\n",
    "    loans_data_one_hot_encoded = loans_data[feature].apply(lambda x: {x: 1})    \n",
    "    loans_data_unpacked = loans_data_one_hot_encoded.unpack(column_name_prefix=feature)\n",
    "    \n",
    "    # Change None's to 0's\n",
    "    for column in loans_data_unpacked.column_names():\n",
    "        loans_data_unpacked[column] = loans_data_unpacked[column].fillna(0)\n",
    "\n",
    "    loans_data.remove_column(feature)\n",
    "    loans_data.add_columns(loans_data_unpacked)"
   ]
  },
  {
   "cell_type": "markdown",
   "metadata": {},
   "source": [
    "### Test Data"
   ]
  },
  {
   "cell_type": "code",
   "execution_count": 294,
   "metadata": {
    "collapsed": false
   },
   "outputs": [],
   "source": [
    "for feature in features:\n",
    "    test_data_one_hot_encoded = test_data[feature].apply(lambda x: {x: 1})    \n",
    "    test_data_unpacked = test_data_one_hot_encoded.unpack(column_name_prefix=feature)\n",
    "    \n",
    "    # Change None's to 0's\n",
    "    for column in test_data_unpacked.column_names():\n",
    "        test_data_unpacked[column] = test_data_unpacked[column].fillna(0)\n",
    "\n",
    "    test_data.remove_column(feature)\n",
    "    test_data.add_columns(test_data_unpacked)"
   ]
  },
  {
   "cell_type": "code",
   "execution_count": 295,
   "metadata": {
    "collapsed": false
   },
   "outputs": [
    {
     "data": {
      "text/plain": [
       "['Gender.',\n",
       " 'Gender.Female',\n",
       " 'Gender.Male',\n",
       " 'Married.',\n",
       " 'Married.No',\n",
       " 'Married.Yes',\n",
       " 'Dependents.',\n",
       " 'Dependents.0',\n",
       " 'Dependents.1',\n",
       " 'Dependents.2',\n",
       " 'Dependents.3+',\n",
       " 'Education.Graduate',\n",
       " 'Education.Not Graduate',\n",
       " 'Self_Employed.',\n",
       " 'Self_Employed.No',\n",
       " 'Self_Employed.Yes',\n",
       " 'ApplicantIncome.range_0_1k',\n",
       " 'ApplicantIncome.range_10_11k',\n",
       " 'ApplicantIncome.range_11_12k',\n",
       " 'ApplicantIncome.range_12_13k',\n",
       " 'ApplicantIncome.range_13_14k',\n",
       " 'ApplicantIncome.range_14_15k',\n",
       " 'ApplicantIncome.range_15_16k',\n",
       " 'ApplicantIncome.range_16_17k',\n",
       " 'ApplicantIncome.range_17_18k',\n",
       " 'ApplicantIncome.range_18_19k',\n",
       " 'ApplicantIncome.range_19_20k',\n",
       " 'ApplicantIncome.range_1_2k',\n",
       " 'ApplicantIncome.range_20_21k',\n",
       " 'ApplicantIncome.range_2_3k',\n",
       " 'ApplicantIncome.range_3_4k',\n",
       " 'ApplicantIncome.range_4_5k',\n",
       " 'ApplicantIncome.range_5_6k',\n",
       " 'ApplicantIncome.range_6_7k',\n",
       " 'ApplicantIncome.range_7_8k',\n",
       " 'ApplicantIncome.range_8_9k',\n",
       " 'ApplicantIncome.range_9_10k',\n",
       " 'ApplicantIncome.range_high',\n",
       " 'CoapplicantIncome.range_0_1k',\n",
       " 'CoapplicantIncome.range_10_11k',\n",
       " 'CoapplicantIncome.range_11_12k',\n",
       " 'CoapplicantIncome.range_1_2k',\n",
       " 'CoapplicantIncome.range_20_21k',\n",
       " 'CoapplicantIncome.range_2_3k',\n",
       " 'CoapplicantIncome.range_3_4k',\n",
       " 'CoapplicantIncome.range_4_5k',\n",
       " 'CoapplicantIncome.range_5_6k',\n",
       " 'CoapplicantIncome.range_6_7k',\n",
       " 'CoapplicantIncome.range_7_8k',\n",
       " 'CoapplicantIncome.range_8_9k',\n",
       " 'CoapplicantIncome.range_high',\n",
       " 'LoanAmount.range_0_1h',\n",
       " 'LoanAmount.range_1_2h',\n",
       " 'LoanAmount.range_2_3h',\n",
       " 'LoanAmount.range_3_4',\n",
       " 'LoanAmount.range_4_5',\n",
       " 'LoanAmount.range_5_6',\n",
       " 'LoanAmount.range_high',\n",
       " 'Loan_Amount_Term.36',\n",
       " 'Loan_Amount_Term.60',\n",
       " 'Loan_Amount_Term.84',\n",
       " 'Loan_Amount_Term.120',\n",
       " 'Loan_Amount_Term.180',\n",
       " 'Loan_Amount_Term.240',\n",
       " 'Loan_Amount_Term.300',\n",
       " 'Loan_Amount_Term.360',\n",
       " 'Loan_Amount_Term.480',\n",
       " 'Credit_History.0',\n",
       " 'Credit_History.1',\n",
       " 'Property_Area.Rural',\n",
       " 'Property_Area.Semiurban',\n",
       " 'Property_Area.Urban']"
      ]
     },
     "execution_count": 295,
     "metadata": {},
     "output_type": "execute_result"
    }
   ],
   "source": [
    "features = loans_data.column_names()\n",
    "features.remove(target)  # Remove the response variable\n",
    "features"
   ]
  },
  {
   "cell_type": "markdown",
   "metadata": {},
   "source": [
    "Our test data does not have target values, so following not applicable."
   ]
  },
  {
   "cell_type": "code",
   "execution_count": 296,
   "metadata": {
    "collapsed": false
   },
   "outputs": [],
   "source": [
    "#features = loans_data.column_names()\n",
    "#features.remove('Loan_Status')  # Remove the response variable\n",
    "#features"
   ]
  },
  {
   "cell_type": "code",
   "execution_count": 297,
   "metadata": {
    "collapsed": false
   },
   "outputs": [
    {
     "name": "stdout",
     "output_type": "stream",
     "text": [
      "Number of features (after binarizing categorical variables) = 72\n"
     ]
    }
   ],
   "source": [
    "print \"Number of features (after binarizing categorical variables) = %s\" % len(features)"
   ]
  },
  {
   "cell_type": "markdown",
   "metadata": {},
   "source": [
    "Let's explore what one of these columns looks like:"
   ]
  },
  {
   "cell_type": "code",
   "execution_count": 298,
   "metadata": {
    "collapsed": false
   },
   "outputs": [
    {
     "data": {
      "text/html": [
       "<div style=\"max-height:1000px;max-width:1500px;overflow:auto;\"><table frame=\"box\" rules=\"cols\">\n",
       "    <tr>\n",
       "        <th style=\"padding-left: 1em; padding-right: 1em; text-align: center\">Loan_ID</th>\n",
       "        <th style=\"padding-left: 1em; padding-right: 1em; text-align: center\">Gender.</th>\n",
       "        <th style=\"padding-left: 1em; padding-right: 1em; text-align: center\">Gender.Female</th>\n",
       "        <th style=\"padding-left: 1em; padding-right: 1em; text-align: center\">Gender.Male</th>\n",
       "        <th style=\"padding-left: 1em; padding-right: 1em; text-align: center\">Married.No</th>\n",
       "        <th style=\"padding-left: 1em; padding-right: 1em; text-align: center\">Married.Yes</th>\n",
       "        <th style=\"padding-left: 1em; padding-right: 1em; text-align: center\">Dependents.</th>\n",
       "        <th style=\"padding-left: 1em; padding-right: 1em; text-align: center\">Dependents.0</th>\n",
       "        <th style=\"padding-left: 1em; padding-right: 1em; text-align: center\">Dependents.1</th>\n",
       "    </tr>\n",
       "    <tr>\n",
       "        <td style=\"padding-left: 1em; padding-right: 1em; text-align: center; vertical-align: top\">LP001015</td>\n",
       "        <td style=\"padding-left: 1em; padding-right: 1em; text-align: center; vertical-align: top\">0</td>\n",
       "        <td style=\"padding-left: 1em; padding-right: 1em; text-align: center; vertical-align: top\">0</td>\n",
       "        <td style=\"padding-left: 1em; padding-right: 1em; text-align: center; vertical-align: top\">1</td>\n",
       "        <td style=\"padding-left: 1em; padding-right: 1em; text-align: center; vertical-align: top\">0</td>\n",
       "        <td style=\"padding-left: 1em; padding-right: 1em; text-align: center; vertical-align: top\">1</td>\n",
       "        <td style=\"padding-left: 1em; padding-right: 1em; text-align: center; vertical-align: top\">0</td>\n",
       "        <td style=\"padding-left: 1em; padding-right: 1em; text-align: center; vertical-align: top\">1</td>\n",
       "        <td style=\"padding-left: 1em; padding-right: 1em; text-align: center; vertical-align: top\">0</td>\n",
       "    </tr>\n",
       "    <tr>\n",
       "        <td style=\"padding-left: 1em; padding-right: 1em; text-align: center; vertical-align: top\">LP001022</td>\n",
       "        <td style=\"padding-left: 1em; padding-right: 1em; text-align: center; vertical-align: top\">0</td>\n",
       "        <td style=\"padding-left: 1em; padding-right: 1em; text-align: center; vertical-align: top\">0</td>\n",
       "        <td style=\"padding-left: 1em; padding-right: 1em; text-align: center; vertical-align: top\">1</td>\n",
       "        <td style=\"padding-left: 1em; padding-right: 1em; text-align: center; vertical-align: top\">0</td>\n",
       "        <td style=\"padding-left: 1em; padding-right: 1em; text-align: center; vertical-align: top\">1</td>\n",
       "        <td style=\"padding-left: 1em; padding-right: 1em; text-align: center; vertical-align: top\">0</td>\n",
       "        <td style=\"padding-left: 1em; padding-right: 1em; text-align: center; vertical-align: top\">0</td>\n",
       "        <td style=\"padding-left: 1em; padding-right: 1em; text-align: center; vertical-align: top\">1</td>\n",
       "    </tr>\n",
       "    <tr>\n",
       "        <td style=\"padding-left: 1em; padding-right: 1em; text-align: center; vertical-align: top\">LP001031</td>\n",
       "        <td style=\"padding-left: 1em; padding-right: 1em; text-align: center; vertical-align: top\">0</td>\n",
       "        <td style=\"padding-left: 1em; padding-right: 1em; text-align: center; vertical-align: top\">0</td>\n",
       "        <td style=\"padding-left: 1em; padding-right: 1em; text-align: center; vertical-align: top\">1</td>\n",
       "        <td style=\"padding-left: 1em; padding-right: 1em; text-align: center; vertical-align: top\">0</td>\n",
       "        <td style=\"padding-left: 1em; padding-right: 1em; text-align: center; vertical-align: top\">1</td>\n",
       "        <td style=\"padding-left: 1em; padding-right: 1em; text-align: center; vertical-align: top\">0</td>\n",
       "        <td style=\"padding-left: 1em; padding-right: 1em; text-align: center; vertical-align: top\">0</td>\n",
       "        <td style=\"padding-left: 1em; padding-right: 1em; text-align: center; vertical-align: top\">0</td>\n",
       "    </tr>\n",
       "    <tr>\n",
       "        <td style=\"padding-left: 1em; padding-right: 1em; text-align: center; vertical-align: top\">LP001035</td>\n",
       "        <td style=\"padding-left: 1em; padding-right: 1em; text-align: center; vertical-align: top\">0</td>\n",
       "        <td style=\"padding-left: 1em; padding-right: 1em; text-align: center; vertical-align: top\">0</td>\n",
       "        <td style=\"padding-left: 1em; padding-right: 1em; text-align: center; vertical-align: top\">1</td>\n",
       "        <td style=\"padding-left: 1em; padding-right: 1em; text-align: center; vertical-align: top\">0</td>\n",
       "        <td style=\"padding-left: 1em; padding-right: 1em; text-align: center; vertical-align: top\">1</td>\n",
       "        <td style=\"padding-left: 1em; padding-right: 1em; text-align: center; vertical-align: top\">0</td>\n",
       "        <td style=\"padding-left: 1em; padding-right: 1em; text-align: center; vertical-align: top\">0</td>\n",
       "        <td style=\"padding-left: 1em; padding-right: 1em; text-align: center; vertical-align: top\">0</td>\n",
       "    </tr>\n",
       "    <tr>\n",
       "        <td style=\"padding-left: 1em; padding-right: 1em; text-align: center; vertical-align: top\">LP001051</td>\n",
       "        <td style=\"padding-left: 1em; padding-right: 1em; text-align: center; vertical-align: top\">0</td>\n",
       "        <td style=\"padding-left: 1em; padding-right: 1em; text-align: center; vertical-align: top\">0</td>\n",
       "        <td style=\"padding-left: 1em; padding-right: 1em; text-align: center; vertical-align: top\">1</td>\n",
       "        <td style=\"padding-left: 1em; padding-right: 1em; text-align: center; vertical-align: top\">1</td>\n",
       "        <td style=\"padding-left: 1em; padding-right: 1em; text-align: center; vertical-align: top\">0</td>\n",
       "        <td style=\"padding-left: 1em; padding-right: 1em; text-align: center; vertical-align: top\">0</td>\n",
       "        <td style=\"padding-left: 1em; padding-right: 1em; text-align: center; vertical-align: top\">1</td>\n",
       "        <td style=\"padding-left: 1em; padding-right: 1em; text-align: center; vertical-align: top\">0</td>\n",
       "    </tr>\n",
       "    <tr>\n",
       "        <td style=\"padding-left: 1em; padding-right: 1em; text-align: center; vertical-align: top\">LP001054</td>\n",
       "        <td style=\"padding-left: 1em; padding-right: 1em; text-align: center; vertical-align: top\">0</td>\n",
       "        <td style=\"padding-left: 1em; padding-right: 1em; text-align: center; vertical-align: top\">0</td>\n",
       "        <td style=\"padding-left: 1em; padding-right: 1em; text-align: center; vertical-align: top\">1</td>\n",
       "        <td style=\"padding-left: 1em; padding-right: 1em; text-align: center; vertical-align: top\">0</td>\n",
       "        <td style=\"padding-left: 1em; padding-right: 1em; text-align: center; vertical-align: top\">1</td>\n",
       "        <td style=\"padding-left: 1em; padding-right: 1em; text-align: center; vertical-align: top\">0</td>\n",
       "        <td style=\"padding-left: 1em; padding-right: 1em; text-align: center; vertical-align: top\">1</td>\n",
       "        <td style=\"padding-left: 1em; padding-right: 1em; text-align: center; vertical-align: top\">0</td>\n",
       "    </tr>\n",
       "    <tr>\n",
       "        <td style=\"padding-left: 1em; padding-right: 1em; text-align: center; vertical-align: top\">LP001055</td>\n",
       "        <td style=\"padding-left: 1em; padding-right: 1em; text-align: center; vertical-align: top\">0</td>\n",
       "        <td style=\"padding-left: 1em; padding-right: 1em; text-align: center; vertical-align: top\">1</td>\n",
       "        <td style=\"padding-left: 1em; padding-right: 1em; text-align: center; vertical-align: top\">0</td>\n",
       "        <td style=\"padding-left: 1em; padding-right: 1em; text-align: center; vertical-align: top\">1</td>\n",
       "        <td style=\"padding-left: 1em; padding-right: 1em; text-align: center; vertical-align: top\">0</td>\n",
       "        <td style=\"padding-left: 1em; padding-right: 1em; text-align: center; vertical-align: top\">0</td>\n",
       "        <td style=\"padding-left: 1em; padding-right: 1em; text-align: center; vertical-align: top\">0</td>\n",
       "        <td style=\"padding-left: 1em; padding-right: 1em; text-align: center; vertical-align: top\">1</td>\n",
       "    </tr>\n",
       "    <tr>\n",
       "        <td style=\"padding-left: 1em; padding-right: 1em; text-align: center; vertical-align: top\">LP001056</td>\n",
       "        <td style=\"padding-left: 1em; padding-right: 1em; text-align: center; vertical-align: top\">0</td>\n",
       "        <td style=\"padding-left: 1em; padding-right: 1em; text-align: center; vertical-align: top\">0</td>\n",
       "        <td style=\"padding-left: 1em; padding-right: 1em; text-align: center; vertical-align: top\">1</td>\n",
       "        <td style=\"padding-left: 1em; padding-right: 1em; text-align: center; vertical-align: top\">0</td>\n",
       "        <td style=\"padding-left: 1em; padding-right: 1em; text-align: center; vertical-align: top\">1</td>\n",
       "        <td style=\"padding-left: 1em; padding-right: 1em; text-align: center; vertical-align: top\">0</td>\n",
       "        <td style=\"padding-left: 1em; padding-right: 1em; text-align: center; vertical-align: top\">0</td>\n",
       "        <td style=\"padding-left: 1em; padding-right: 1em; text-align: center; vertical-align: top\">0</td>\n",
       "    </tr>\n",
       "    <tr>\n",
       "        <td style=\"padding-left: 1em; padding-right: 1em; text-align: center; vertical-align: top\">LP001059</td>\n",
       "        <td style=\"padding-left: 1em; padding-right: 1em; text-align: center; vertical-align: top\">0</td>\n",
       "        <td style=\"padding-left: 1em; padding-right: 1em; text-align: center; vertical-align: top\">0</td>\n",
       "        <td style=\"padding-left: 1em; padding-right: 1em; text-align: center; vertical-align: top\">1</td>\n",
       "        <td style=\"padding-left: 1em; padding-right: 1em; text-align: center; vertical-align: top\">0</td>\n",
       "        <td style=\"padding-left: 1em; padding-right: 1em; text-align: center; vertical-align: top\">1</td>\n",
       "        <td style=\"padding-left: 1em; padding-right: 1em; text-align: center; vertical-align: top\">0</td>\n",
       "        <td style=\"padding-left: 1em; padding-right: 1em; text-align: center; vertical-align: top\">0</td>\n",
       "        <td style=\"padding-left: 1em; padding-right: 1em; text-align: center; vertical-align: top\">0</td>\n",
       "    </tr>\n",
       "    <tr>\n",
       "        <td style=\"padding-left: 1em; padding-right: 1em; text-align: center; vertical-align: top\">LP001067</td>\n",
       "        <td style=\"padding-left: 1em; padding-right: 1em; text-align: center; vertical-align: top\">0</td>\n",
       "        <td style=\"padding-left: 1em; padding-right: 1em; text-align: center; vertical-align: top\">0</td>\n",
       "        <td style=\"padding-left: 1em; padding-right: 1em; text-align: center; vertical-align: top\">1</td>\n",
       "        <td style=\"padding-left: 1em; padding-right: 1em; text-align: center; vertical-align: top\">1</td>\n",
       "        <td style=\"padding-left: 1em; padding-right: 1em; text-align: center; vertical-align: top\">0</td>\n",
       "        <td style=\"padding-left: 1em; padding-right: 1em; text-align: center; vertical-align: top\">0</td>\n",
       "        <td style=\"padding-left: 1em; padding-right: 1em; text-align: center; vertical-align: top\">1</td>\n",
       "        <td style=\"padding-left: 1em; padding-right: 1em; text-align: center; vertical-align: top\">0</td>\n",
       "    </tr>\n",
       "</table>\n",
       "<table frame=\"box\" rules=\"cols\">\n",
       "    <tr>\n",
       "        <th style=\"padding-left: 1em; padding-right: 1em; text-align: center\">Dependents.2</th>\n",
       "        <th style=\"padding-left: 1em; padding-right: 1em; text-align: center\">Dependents.3+</th>\n",
       "        <th style=\"padding-left: 1em; padding-right: 1em; text-align: center\">Education.Graduate</th>\n",
       "        <th style=\"padding-left: 1em; padding-right: 1em; text-align: center\">Education.Not Graduate</th>\n",
       "        <th style=\"padding-left: 1em; padding-right: 1em; text-align: center\">Self_Employed.</th>\n",
       "        <th style=\"padding-left: 1em; padding-right: 1em; text-align: center\">Self_Employed.No</th>\n",
       "        <th style=\"padding-left: 1em; padding-right: 1em; text-align: center\">Self_Employed.Yes</th>\n",
       "    </tr>\n",
       "    <tr>\n",
       "        <td style=\"padding-left: 1em; padding-right: 1em; text-align: center; vertical-align: top\">0</td>\n",
       "        <td style=\"padding-left: 1em; padding-right: 1em; text-align: center; vertical-align: top\">0</td>\n",
       "        <td style=\"padding-left: 1em; padding-right: 1em; text-align: center; vertical-align: top\">1</td>\n",
       "        <td style=\"padding-left: 1em; padding-right: 1em; text-align: center; vertical-align: top\">0</td>\n",
       "        <td style=\"padding-left: 1em; padding-right: 1em; text-align: center; vertical-align: top\">0</td>\n",
       "        <td style=\"padding-left: 1em; padding-right: 1em; text-align: center; vertical-align: top\">1</td>\n",
       "        <td style=\"padding-left: 1em; padding-right: 1em; text-align: center; vertical-align: top\">0</td>\n",
       "    </tr>\n",
       "    <tr>\n",
       "        <td style=\"padding-left: 1em; padding-right: 1em; text-align: center; vertical-align: top\">0</td>\n",
       "        <td style=\"padding-left: 1em; padding-right: 1em; text-align: center; vertical-align: top\">0</td>\n",
       "        <td style=\"padding-left: 1em; padding-right: 1em; text-align: center; vertical-align: top\">1</td>\n",
       "        <td style=\"padding-left: 1em; padding-right: 1em; text-align: center; vertical-align: top\">0</td>\n",
       "        <td style=\"padding-left: 1em; padding-right: 1em; text-align: center; vertical-align: top\">0</td>\n",
       "        <td style=\"padding-left: 1em; padding-right: 1em; text-align: center; vertical-align: top\">1</td>\n",
       "        <td style=\"padding-left: 1em; padding-right: 1em; text-align: center; vertical-align: top\">0</td>\n",
       "    </tr>\n",
       "    <tr>\n",
       "        <td style=\"padding-left: 1em; padding-right: 1em; text-align: center; vertical-align: top\">1</td>\n",
       "        <td style=\"padding-left: 1em; padding-right: 1em; text-align: center; vertical-align: top\">0</td>\n",
       "        <td style=\"padding-left: 1em; padding-right: 1em; text-align: center; vertical-align: top\">1</td>\n",
       "        <td style=\"padding-left: 1em; padding-right: 1em; text-align: center; vertical-align: top\">0</td>\n",
       "        <td style=\"padding-left: 1em; padding-right: 1em; text-align: center; vertical-align: top\">0</td>\n",
       "        <td style=\"padding-left: 1em; padding-right: 1em; text-align: center; vertical-align: top\">1</td>\n",
       "        <td style=\"padding-left: 1em; padding-right: 1em; text-align: center; vertical-align: top\">0</td>\n",
       "    </tr>\n",
       "    <tr>\n",
       "        <td style=\"padding-left: 1em; padding-right: 1em; text-align: center; vertical-align: top\">1</td>\n",
       "        <td style=\"padding-left: 1em; padding-right: 1em; text-align: center; vertical-align: top\">0</td>\n",
       "        <td style=\"padding-left: 1em; padding-right: 1em; text-align: center; vertical-align: top\">1</td>\n",
       "        <td style=\"padding-left: 1em; padding-right: 1em; text-align: center; vertical-align: top\">0</td>\n",
       "        <td style=\"padding-left: 1em; padding-right: 1em; text-align: center; vertical-align: top\">0</td>\n",
       "        <td style=\"padding-left: 1em; padding-right: 1em; text-align: center; vertical-align: top\">1</td>\n",
       "        <td style=\"padding-left: 1em; padding-right: 1em; text-align: center; vertical-align: top\">0</td>\n",
       "    </tr>\n",
       "    <tr>\n",
       "        <td style=\"padding-left: 1em; padding-right: 1em; text-align: center; vertical-align: top\">0</td>\n",
       "        <td style=\"padding-left: 1em; padding-right: 1em; text-align: center; vertical-align: top\">0</td>\n",
       "        <td style=\"padding-left: 1em; padding-right: 1em; text-align: center; vertical-align: top\">0</td>\n",
       "        <td style=\"padding-left: 1em; padding-right: 1em; text-align: center; vertical-align: top\">1</td>\n",
       "        <td style=\"padding-left: 1em; padding-right: 1em; text-align: center; vertical-align: top\">0</td>\n",
       "        <td style=\"padding-left: 1em; padding-right: 1em; text-align: center; vertical-align: top\">1</td>\n",
       "        <td style=\"padding-left: 1em; padding-right: 1em; text-align: center; vertical-align: top\">0</td>\n",
       "    </tr>\n",
       "    <tr>\n",
       "        <td style=\"padding-left: 1em; padding-right: 1em; text-align: center; vertical-align: top\">0</td>\n",
       "        <td style=\"padding-left: 1em; padding-right: 1em; text-align: center; vertical-align: top\">0</td>\n",
       "        <td style=\"padding-left: 1em; padding-right: 1em; text-align: center; vertical-align: top\">0</td>\n",
       "        <td style=\"padding-left: 1em; padding-right: 1em; text-align: center; vertical-align: top\">1</td>\n",
       "        <td style=\"padding-left: 1em; padding-right: 1em; text-align: center; vertical-align: top\">0</td>\n",
       "        <td style=\"padding-left: 1em; padding-right: 1em; text-align: center; vertical-align: top\">0</td>\n",
       "        <td style=\"padding-left: 1em; padding-right: 1em; text-align: center; vertical-align: top\">1</td>\n",
       "    </tr>\n",
       "    <tr>\n",
       "        <td style=\"padding-left: 1em; padding-right: 1em; text-align: center; vertical-align: top\">0</td>\n",
       "        <td style=\"padding-left: 1em; padding-right: 1em; text-align: center; vertical-align: top\">0</td>\n",
       "        <td style=\"padding-left: 1em; padding-right: 1em; text-align: center; vertical-align: top\">0</td>\n",
       "        <td style=\"padding-left: 1em; padding-right: 1em; text-align: center; vertical-align: top\">1</td>\n",
       "        <td style=\"padding-left: 1em; padding-right: 1em; text-align: center; vertical-align: top\">0</td>\n",
       "        <td style=\"padding-left: 1em; padding-right: 1em; text-align: center; vertical-align: top\">1</td>\n",
       "        <td style=\"padding-left: 1em; padding-right: 1em; text-align: center; vertical-align: top\">0</td>\n",
       "    </tr>\n",
       "    <tr>\n",
       "        <td style=\"padding-left: 1em; padding-right: 1em; text-align: center; vertical-align: top\">1</td>\n",
       "        <td style=\"padding-left: 1em; padding-right: 1em; text-align: center; vertical-align: top\">0</td>\n",
       "        <td style=\"padding-left: 1em; padding-right: 1em; text-align: center; vertical-align: top\">0</td>\n",
       "        <td style=\"padding-left: 1em; padding-right: 1em; text-align: center; vertical-align: top\">1</td>\n",
       "        <td style=\"padding-left: 1em; padding-right: 1em; text-align: center; vertical-align: top\">0</td>\n",
       "        <td style=\"padding-left: 1em; padding-right: 1em; text-align: center; vertical-align: top\">1</td>\n",
       "        <td style=\"padding-left: 1em; padding-right: 1em; text-align: center; vertical-align: top\">0</td>\n",
       "    </tr>\n",
       "    <tr>\n",
       "        <td style=\"padding-left: 1em; padding-right: 1em; text-align: center; vertical-align: top\">1</td>\n",
       "        <td style=\"padding-left: 1em; padding-right: 1em; text-align: center; vertical-align: top\">0</td>\n",
       "        <td style=\"padding-left: 1em; padding-right: 1em; text-align: center; vertical-align: top\">1</td>\n",
       "        <td style=\"padding-left: 1em; padding-right: 1em; text-align: center; vertical-align: top\">0</td>\n",
       "        <td style=\"padding-left: 1em; padding-right: 1em; text-align: center; vertical-align: top\">1</td>\n",
       "        <td style=\"padding-left: 1em; padding-right: 1em; text-align: center; vertical-align: top\">0</td>\n",
       "        <td style=\"padding-left: 1em; padding-right: 1em; text-align: center; vertical-align: top\">0</td>\n",
       "    </tr>\n",
       "    <tr>\n",
       "        <td style=\"padding-left: 1em; padding-right: 1em; text-align: center; vertical-align: top\">0</td>\n",
       "        <td style=\"padding-left: 1em; padding-right: 1em; text-align: center; vertical-align: top\">0</td>\n",
       "        <td style=\"padding-left: 1em; padding-right: 1em; text-align: center; vertical-align: top\">0</td>\n",
       "        <td style=\"padding-left: 1em; padding-right: 1em; text-align: center; vertical-align: top\">1</td>\n",
       "        <td style=\"padding-left: 1em; padding-right: 1em; text-align: center; vertical-align: top\">0</td>\n",
       "        <td style=\"padding-left: 1em; padding-right: 1em; text-align: center; vertical-align: top\">1</td>\n",
       "        <td style=\"padding-left: 1em; padding-right: 1em; text-align: center; vertical-align: top\">0</td>\n",
       "    </tr>\n",
       "</table>\n",
       "<table frame=\"box\" rules=\"cols\">\n",
       "    <tr>\n",
       "        <th style=\"padding-left: 1em; padding-right: 1em; text-align: center\">ApplicantIncome.range_0_1<br>k ...</th>\n",
       "        <th style=\"padding-left: 1em; padding-right: 1em; text-align: center\">ApplicantIncome.range_10_<br>11k ...</th>\n",
       "        <th style=\"padding-left: 1em; padding-right: 1em; text-align: center\">ApplicantIncome.range_12_<br>13k ...</th>\n",
       "        <th style=\"padding-left: 1em; padding-right: 1em; text-align: center\">ApplicantIncome.range_13_<br>14k ...</th>\n",
       "        <th style=\"padding-left: 1em; padding-right: 1em; text-align: center\">ApplicantIncome.range_14_<br>15k ...</th>\n",
       "    </tr>\n",
       "    <tr>\n",
       "        <td style=\"padding-left: 1em; padding-right: 1em; text-align: center; vertical-align: top\">0</td>\n",
       "        <td style=\"padding-left: 1em; padding-right: 1em; text-align: center; vertical-align: top\">0</td>\n",
       "        <td style=\"padding-left: 1em; padding-right: 1em; text-align: center; vertical-align: top\">0</td>\n",
       "        <td style=\"padding-left: 1em; padding-right: 1em; text-align: center; vertical-align: top\">0</td>\n",
       "        <td style=\"padding-left: 1em; padding-right: 1em; text-align: center; vertical-align: top\">0</td>\n",
       "    </tr>\n",
       "    <tr>\n",
       "        <td style=\"padding-left: 1em; padding-right: 1em; text-align: center; vertical-align: top\">0</td>\n",
       "        <td style=\"padding-left: 1em; padding-right: 1em; text-align: center; vertical-align: top\">0</td>\n",
       "        <td style=\"padding-left: 1em; padding-right: 1em; text-align: center; vertical-align: top\">0</td>\n",
       "        <td style=\"padding-left: 1em; padding-right: 1em; text-align: center; vertical-align: top\">0</td>\n",
       "        <td style=\"padding-left: 1em; padding-right: 1em; text-align: center; vertical-align: top\">0</td>\n",
       "    </tr>\n",
       "    <tr>\n",
       "        <td style=\"padding-left: 1em; padding-right: 1em; text-align: center; vertical-align: top\">0</td>\n",
       "        <td style=\"padding-left: 1em; padding-right: 1em; text-align: center; vertical-align: top\">0</td>\n",
       "        <td style=\"padding-left: 1em; padding-right: 1em; text-align: center; vertical-align: top\">0</td>\n",
       "        <td style=\"padding-left: 1em; padding-right: 1em; text-align: center; vertical-align: top\">0</td>\n",
       "        <td style=\"padding-left: 1em; padding-right: 1em; text-align: center; vertical-align: top\">0</td>\n",
       "    </tr>\n",
       "    <tr>\n",
       "        <td style=\"padding-left: 1em; padding-right: 1em; text-align: center; vertical-align: top\">0</td>\n",
       "        <td style=\"padding-left: 1em; padding-right: 1em; text-align: center; vertical-align: top\">0</td>\n",
       "        <td style=\"padding-left: 1em; padding-right: 1em; text-align: center; vertical-align: top\">0</td>\n",
       "        <td style=\"padding-left: 1em; padding-right: 1em; text-align: center; vertical-align: top\">0</td>\n",
       "        <td style=\"padding-left: 1em; padding-right: 1em; text-align: center; vertical-align: top\">0</td>\n",
       "    </tr>\n",
       "    <tr>\n",
       "        <td style=\"padding-left: 1em; padding-right: 1em; text-align: center; vertical-align: top\">0</td>\n",
       "        <td style=\"padding-left: 1em; padding-right: 1em; text-align: center; vertical-align: top\">0</td>\n",
       "        <td style=\"padding-left: 1em; padding-right: 1em; text-align: center; vertical-align: top\">0</td>\n",
       "        <td style=\"padding-left: 1em; padding-right: 1em; text-align: center; vertical-align: top\">0</td>\n",
       "        <td style=\"padding-left: 1em; padding-right: 1em; text-align: center; vertical-align: top\">0</td>\n",
       "    </tr>\n",
       "    <tr>\n",
       "        <td style=\"padding-left: 1em; padding-right: 1em; text-align: center; vertical-align: top\">0</td>\n",
       "        <td style=\"padding-left: 1em; padding-right: 1em; text-align: center; vertical-align: top\">0</td>\n",
       "        <td style=\"padding-left: 1em; padding-right: 1em; text-align: center; vertical-align: top\">0</td>\n",
       "        <td style=\"padding-left: 1em; padding-right: 1em; text-align: center; vertical-align: top\">0</td>\n",
       "        <td style=\"padding-left: 1em; padding-right: 1em; text-align: center; vertical-align: top\">0</td>\n",
       "    </tr>\n",
       "    <tr>\n",
       "        <td style=\"padding-left: 1em; padding-right: 1em; text-align: center; vertical-align: top\">0</td>\n",
       "        <td style=\"padding-left: 1em; padding-right: 1em; text-align: center; vertical-align: top\">0</td>\n",
       "        <td style=\"padding-left: 1em; padding-right: 1em; text-align: center; vertical-align: top\">0</td>\n",
       "        <td style=\"padding-left: 1em; padding-right: 1em; text-align: center; vertical-align: top\">0</td>\n",
       "        <td style=\"padding-left: 1em; padding-right: 1em; text-align: center; vertical-align: top\">0</td>\n",
       "    </tr>\n",
       "    <tr>\n",
       "        <td style=\"padding-left: 1em; padding-right: 1em; text-align: center; vertical-align: top\">0</td>\n",
       "        <td style=\"padding-left: 1em; padding-right: 1em; text-align: center; vertical-align: top\">0</td>\n",
       "        <td style=\"padding-left: 1em; padding-right: 1em; text-align: center; vertical-align: top\">0</td>\n",
       "        <td style=\"padding-left: 1em; padding-right: 1em; text-align: center; vertical-align: top\">0</td>\n",
       "        <td style=\"padding-left: 1em; padding-right: 1em; text-align: center; vertical-align: top\">0</td>\n",
       "    </tr>\n",
       "    <tr>\n",
       "        <td style=\"padding-left: 1em; padding-right: 1em; text-align: center; vertical-align: top\">0</td>\n",
       "        <td style=\"padding-left: 1em; padding-right: 1em; text-align: center; vertical-align: top\">0</td>\n",
       "        <td style=\"padding-left: 1em; padding-right: 1em; text-align: center; vertical-align: top\">0</td>\n",
       "        <td style=\"padding-left: 1em; padding-right: 1em; text-align: center; vertical-align: top\">1</td>\n",
       "        <td style=\"padding-left: 1em; padding-right: 1em; text-align: center; vertical-align: top\">0</td>\n",
       "    </tr>\n",
       "    <tr>\n",
       "        <td style=\"padding-left: 1em; padding-right: 1em; text-align: center; vertical-align: top\">0</td>\n",
       "        <td style=\"padding-left: 1em; padding-right: 1em; text-align: center; vertical-align: top\">0</td>\n",
       "        <td style=\"padding-left: 1em; padding-right: 1em; text-align: center; vertical-align: top\">0</td>\n",
       "        <td style=\"padding-left: 1em; padding-right: 1em; text-align: center; vertical-align: top\">0</td>\n",
       "        <td style=\"padding-left: 1em; padding-right: 1em; text-align: center; vertical-align: top\">0</td>\n",
       "    </tr>\n",
       "</table>\n",
       "<table frame=\"box\" rules=\"cols\">\n",
       "    <tr>\n",
       "        <th style=\"padding-left: 1em; padding-right: 1em; text-align: center\">ApplicantIncome.range_15_<br>16k ...</th>\n",
       "        <th style=\"padding-left: 1em; padding-right: 1em; text-align: center\">ApplicantIncome.range_16_<br>17k ...</th>\n",
       "        <th style=\"padding-left: 1em; padding-right: 1em; text-align: center\">ApplicantIncome.range_18_<br>19k ...</th>\n",
       "        <th style=\"padding-left: 1em; padding-right: 1em; text-align: center\">ApplicantIncome.range_1_2<br>k ...</th>\n",
       "        <th style=\"padding-left: 1em; padding-right: 1em; text-align: center\">ApplicantIncome.range_20_<br>21k ...</th>\n",
       "    </tr>\n",
       "    <tr>\n",
       "        <td style=\"padding-left: 1em; padding-right: 1em; text-align: center; vertical-align: top\">0</td>\n",
       "        <td style=\"padding-left: 1em; padding-right: 1em; text-align: center; vertical-align: top\">0</td>\n",
       "        <td style=\"padding-left: 1em; padding-right: 1em; text-align: center; vertical-align: top\">0</td>\n",
       "        <td style=\"padding-left: 1em; padding-right: 1em; text-align: center; vertical-align: top\">0</td>\n",
       "        <td style=\"padding-left: 1em; padding-right: 1em; text-align: center; vertical-align: top\">0</td>\n",
       "    </tr>\n",
       "    <tr>\n",
       "        <td style=\"padding-left: 1em; padding-right: 1em; text-align: center; vertical-align: top\">0</td>\n",
       "        <td style=\"padding-left: 1em; padding-right: 1em; text-align: center; vertical-align: top\">0</td>\n",
       "        <td style=\"padding-left: 1em; padding-right: 1em; text-align: center; vertical-align: top\">0</td>\n",
       "        <td style=\"padding-left: 1em; padding-right: 1em; text-align: center; vertical-align: top\">0</td>\n",
       "        <td style=\"padding-left: 1em; padding-right: 1em; text-align: center; vertical-align: top\">0</td>\n",
       "    </tr>\n",
       "    <tr>\n",
       "        <td style=\"padding-left: 1em; padding-right: 1em; text-align: center; vertical-align: top\">0</td>\n",
       "        <td style=\"padding-left: 1em; padding-right: 1em; text-align: center; vertical-align: top\">0</td>\n",
       "        <td style=\"padding-left: 1em; padding-right: 1em; text-align: center; vertical-align: top\">0</td>\n",
       "        <td style=\"padding-left: 1em; padding-right: 1em; text-align: center; vertical-align: top\">0</td>\n",
       "        <td style=\"padding-left: 1em; padding-right: 1em; text-align: center; vertical-align: top\">0</td>\n",
       "    </tr>\n",
       "    <tr>\n",
       "        <td style=\"padding-left: 1em; padding-right: 1em; text-align: center; vertical-align: top\">0</td>\n",
       "        <td style=\"padding-left: 1em; padding-right: 1em; text-align: center; vertical-align: top\">0</td>\n",
       "        <td style=\"padding-left: 1em; padding-right: 1em; text-align: center; vertical-align: top\">0</td>\n",
       "        <td style=\"padding-left: 1em; padding-right: 1em; text-align: center; vertical-align: top\">0</td>\n",
       "        <td style=\"padding-left: 1em; padding-right: 1em; text-align: center; vertical-align: top\">0</td>\n",
       "    </tr>\n",
       "    <tr>\n",
       "        <td style=\"padding-left: 1em; padding-right: 1em; text-align: center; vertical-align: top\">0</td>\n",
       "        <td style=\"padding-left: 1em; padding-right: 1em; text-align: center; vertical-align: top\">0</td>\n",
       "        <td style=\"padding-left: 1em; padding-right: 1em; text-align: center; vertical-align: top\">0</td>\n",
       "        <td style=\"padding-left: 1em; padding-right: 1em; text-align: center; vertical-align: top\">0</td>\n",
       "        <td style=\"padding-left: 1em; padding-right: 1em; text-align: center; vertical-align: top\">0</td>\n",
       "    </tr>\n",
       "    <tr>\n",
       "        <td style=\"padding-left: 1em; padding-right: 1em; text-align: center; vertical-align: top\">0</td>\n",
       "        <td style=\"padding-left: 1em; padding-right: 1em; text-align: center; vertical-align: top\">0</td>\n",
       "        <td style=\"padding-left: 1em; padding-right: 1em; text-align: center; vertical-align: top\">0</td>\n",
       "        <td style=\"padding-left: 1em; padding-right: 1em; text-align: center; vertical-align: top\">0</td>\n",
       "        <td style=\"padding-left: 1em; padding-right: 1em; text-align: center; vertical-align: top\">0</td>\n",
       "    </tr>\n",
       "    <tr>\n",
       "        <td style=\"padding-left: 1em; padding-right: 1em; text-align: center; vertical-align: top\">0</td>\n",
       "        <td style=\"padding-left: 1em; padding-right: 1em; text-align: center; vertical-align: top\">0</td>\n",
       "        <td style=\"padding-left: 1em; padding-right: 1em; text-align: center; vertical-align: top\">0</td>\n",
       "        <td style=\"padding-left: 1em; padding-right: 1em; text-align: center; vertical-align: top\">0</td>\n",
       "        <td style=\"padding-left: 1em; padding-right: 1em; text-align: center; vertical-align: top\">0</td>\n",
       "    </tr>\n",
       "    <tr>\n",
       "        <td style=\"padding-left: 1em; padding-right: 1em; text-align: center; vertical-align: top\">0</td>\n",
       "        <td style=\"padding-left: 1em; padding-right: 1em; text-align: center; vertical-align: top\">0</td>\n",
       "        <td style=\"padding-left: 1em; padding-right: 1em; text-align: center; vertical-align: top\">0</td>\n",
       "        <td style=\"padding-left: 1em; padding-right: 1em; text-align: center; vertical-align: top\">0</td>\n",
       "        <td style=\"padding-left: 1em; padding-right: 1em; text-align: center; vertical-align: top\">0</td>\n",
       "    </tr>\n",
       "    <tr>\n",
       "        <td style=\"padding-left: 1em; padding-right: 1em; text-align: center; vertical-align: top\">0</td>\n",
       "        <td style=\"padding-left: 1em; padding-right: 1em; text-align: center; vertical-align: top\">0</td>\n",
       "        <td style=\"padding-left: 1em; padding-right: 1em; text-align: center; vertical-align: top\">0</td>\n",
       "        <td style=\"padding-left: 1em; padding-right: 1em; text-align: center; vertical-align: top\">0</td>\n",
       "        <td style=\"padding-left: 1em; padding-right: 1em; text-align: center; vertical-align: top\">0</td>\n",
       "    </tr>\n",
       "    <tr>\n",
       "        <td style=\"padding-left: 1em; padding-right: 1em; text-align: center; vertical-align: top\">0</td>\n",
       "        <td style=\"padding-left: 1em; padding-right: 1em; text-align: center; vertical-align: top\">0</td>\n",
       "        <td style=\"padding-left: 1em; padding-right: 1em; text-align: center; vertical-align: top\">0</td>\n",
       "        <td style=\"padding-left: 1em; padding-right: 1em; text-align: center; vertical-align: top\">0</td>\n",
       "        <td style=\"padding-left: 1em; padding-right: 1em; text-align: center; vertical-align: top\">0</td>\n",
       "    </tr>\n",
       "</table>\n",
       "<table frame=\"box\" rules=\"cols\">\n",
       "    <tr>\n",
       "        <th style=\"padding-left: 1em; padding-right: 1em; text-align: center\">ApplicantIncome.range_2_3<br>k ...</th>\n",
       "        <th style=\"padding-left: 1em; padding-right: 1em; text-align: center\">ApplicantIncome.range_3_4<br>k ...</th>\n",
       "        <th style=\"padding-left: 1em; padding-right: 1em; text-align: center\">ApplicantIncome.range_4_5<br>k ...</th>\n",
       "        <th style=\"padding-left: 1em; padding-right: 1em; text-align: center\">ApplicantIncome.range_5_6<br>k ...</th>\n",
       "        <th style=\"padding-left: 1em; padding-right: 1em; text-align: center\">ApplicantIncome.range_6_7<br>k ...</th>\n",
       "    </tr>\n",
       "    <tr>\n",
       "        <td style=\"padding-left: 1em; padding-right: 1em; text-align: center; vertical-align: top\">0</td>\n",
       "        <td style=\"padding-left: 1em; padding-right: 1em; text-align: center; vertical-align: top\">0</td>\n",
       "        <td style=\"padding-left: 1em; padding-right: 1em; text-align: center; vertical-align: top\">0</td>\n",
       "        <td style=\"padding-left: 1em; padding-right: 1em; text-align: center; vertical-align: top\">1</td>\n",
       "        <td style=\"padding-left: 1em; padding-right: 1em; text-align: center; vertical-align: top\">0</td>\n",
       "    </tr>\n",
       "    <tr>\n",
       "        <td style=\"padding-left: 1em; padding-right: 1em; text-align: center; vertical-align: top\">0</td>\n",
       "        <td style=\"padding-left: 1em; padding-right: 1em; text-align: center; vertical-align: top\">1</td>\n",
       "        <td style=\"padding-left: 1em; padding-right: 1em; text-align: center; vertical-align: top\">0</td>\n",
       "        <td style=\"padding-left: 1em; padding-right: 1em; text-align: center; vertical-align: top\">0</td>\n",
       "        <td style=\"padding-left: 1em; padding-right: 1em; text-align: center; vertical-align: top\">0</td>\n",
       "    </tr>\n",
       "    <tr>\n",
       "        <td style=\"padding-left: 1em; padding-right: 1em; text-align: center; vertical-align: top\">0</td>\n",
       "        <td style=\"padding-left: 1em; padding-right: 1em; text-align: center; vertical-align: top\">0</td>\n",
       "        <td style=\"padding-left: 1em; padding-right: 1em; text-align: center; vertical-align: top\">0</td>\n",
       "        <td style=\"padding-left: 1em; padding-right: 1em; text-align: center; vertical-align: top\">1</td>\n",
       "        <td style=\"padding-left: 1em; padding-right: 1em; text-align: center; vertical-align: top\">0</td>\n",
       "    </tr>\n",
       "    <tr>\n",
       "        <td style=\"padding-left: 1em; padding-right: 1em; text-align: center; vertical-align: top\">1</td>\n",
       "        <td style=\"padding-left: 1em; padding-right: 1em; text-align: center; vertical-align: top\">0</td>\n",
       "        <td style=\"padding-left: 1em; padding-right: 1em; text-align: center; vertical-align: top\">0</td>\n",
       "        <td style=\"padding-left: 1em; padding-right: 1em; text-align: center; vertical-align: top\">0</td>\n",
       "        <td style=\"padding-left: 1em; padding-right: 1em; text-align: center; vertical-align: top\">0</td>\n",
       "    </tr>\n",
       "    <tr>\n",
       "        <td style=\"padding-left: 1em; padding-right: 1em; text-align: center; vertical-align: top\">0</td>\n",
       "        <td style=\"padding-left: 1em; padding-right: 1em; text-align: center; vertical-align: top\">1</td>\n",
       "        <td style=\"padding-left: 1em; padding-right: 1em; text-align: center; vertical-align: top\">0</td>\n",
       "        <td style=\"padding-left: 1em; padding-right: 1em; text-align: center; vertical-align: top\">0</td>\n",
       "        <td style=\"padding-left: 1em; padding-right: 1em; text-align: center; vertical-align: top\">0</td>\n",
       "    </tr>\n",
       "    <tr>\n",
       "        <td style=\"padding-left: 1em; padding-right: 1em; text-align: center; vertical-align: top\">1</td>\n",
       "        <td style=\"padding-left: 1em; padding-right: 1em; text-align: center; vertical-align: top\">0</td>\n",
       "        <td style=\"padding-left: 1em; padding-right: 1em; text-align: center; vertical-align: top\">0</td>\n",
       "        <td style=\"padding-left: 1em; padding-right: 1em; text-align: center; vertical-align: top\">0</td>\n",
       "        <td style=\"padding-left: 1em; padding-right: 1em; text-align: center; vertical-align: top\">0</td>\n",
       "    </tr>\n",
       "    <tr>\n",
       "        <td style=\"padding-left: 1em; padding-right: 1em; text-align: center; vertical-align: top\">1</td>\n",
       "        <td style=\"padding-left: 1em; padding-right: 1em; text-align: center; vertical-align: top\">0</td>\n",
       "        <td style=\"padding-left: 1em; padding-right: 1em; text-align: center; vertical-align: top\">0</td>\n",
       "        <td style=\"padding-left: 1em; padding-right: 1em; text-align: center; vertical-align: top\">0</td>\n",
       "        <td style=\"padding-left: 1em; padding-right: 1em; text-align: center; vertical-align: top\">0</td>\n",
       "    </tr>\n",
       "    <tr>\n",
       "        <td style=\"padding-left: 1em; padding-right: 1em; text-align: center; vertical-align: top\">0</td>\n",
       "        <td style=\"padding-left: 1em; padding-right: 1em; text-align: center; vertical-align: top\">1</td>\n",
       "        <td style=\"padding-left: 1em; padding-right: 1em; text-align: center; vertical-align: top\">0</td>\n",
       "        <td style=\"padding-left: 1em; padding-right: 1em; text-align: center; vertical-align: top\">0</td>\n",
       "        <td style=\"padding-left: 1em; padding-right: 1em; text-align: center; vertical-align: top\">0</td>\n",
       "    </tr>\n",
       "    <tr>\n",
       "        <td style=\"padding-left: 1em; padding-right: 1em; text-align: center; vertical-align: top\">0</td>\n",
       "        <td style=\"padding-left: 1em; padding-right: 1em; text-align: center; vertical-align: top\">0</td>\n",
       "        <td style=\"padding-left: 1em; padding-right: 1em; text-align: center; vertical-align: top\">0</td>\n",
       "        <td style=\"padding-left: 1em; padding-right: 1em; text-align: center; vertical-align: top\">0</td>\n",
       "        <td style=\"padding-left: 1em; padding-right: 1em; text-align: center; vertical-align: top\">0</td>\n",
       "    </tr>\n",
       "    <tr>\n",
       "        <td style=\"padding-left: 1em; padding-right: 1em; text-align: center; vertical-align: top\">1</td>\n",
       "        <td style=\"padding-left: 1em; padding-right: 1em; text-align: center; vertical-align: top\">0</td>\n",
       "        <td style=\"padding-left: 1em; padding-right: 1em; text-align: center; vertical-align: top\">0</td>\n",
       "        <td style=\"padding-left: 1em; padding-right: 1em; text-align: center; vertical-align: top\">0</td>\n",
       "        <td style=\"padding-left: 1em; padding-right: 1em; text-align: center; vertical-align: top\">0</td>\n",
       "    </tr>\n",
       "</table>\n",
       "<table frame=\"box\" rules=\"cols\">\n",
       "    <tr>\n",
       "        <th style=\"padding-left: 1em; padding-right: 1em; text-align: center\">ApplicantIncome.range_7_8<br>k ...</th>\n",
       "        <th style=\"padding-left: 1em; padding-right: 1em; text-align: center\">ApplicantIncome.range_8_9<br>k ...</th>\n",
       "        <th style=\"padding-left: 1em; padding-right: 1em; text-align: center\">ApplicantIncome.range_9_1<br>0k ...</th>\n",
       "        <th style=\"padding-left: 1em; padding-right: 1em; text-align: center\">ApplicantIncome.range_hig<br>h ...</th>\n",
       "        <th style=\"padding-left: 1em; padding-right: 1em; text-align: center\">CoapplicantIncome.range_0<br>_1k ...</th>\n",
       "    </tr>\n",
       "    <tr>\n",
       "        <td style=\"padding-left: 1em; padding-right: 1em; text-align: center; vertical-align: top\">0</td>\n",
       "        <td style=\"padding-left: 1em; padding-right: 1em; text-align: center; vertical-align: top\">0</td>\n",
       "        <td style=\"padding-left: 1em; padding-right: 1em; text-align: center; vertical-align: top\">0</td>\n",
       "        <td style=\"padding-left: 1em; padding-right: 1em; text-align: center; vertical-align: top\">0</td>\n",
       "        <td style=\"padding-left: 1em; padding-right: 1em; text-align: center; vertical-align: top\">1</td>\n",
       "    </tr>\n",
       "    <tr>\n",
       "        <td style=\"padding-left: 1em; padding-right: 1em; text-align: center; vertical-align: top\">0</td>\n",
       "        <td style=\"padding-left: 1em; padding-right: 1em; text-align: center; vertical-align: top\">0</td>\n",
       "        <td style=\"padding-left: 1em; padding-right: 1em; text-align: center; vertical-align: top\">0</td>\n",
       "        <td style=\"padding-left: 1em; padding-right: 1em; text-align: center; vertical-align: top\">0</td>\n",
       "        <td style=\"padding-left: 1em; padding-right: 1em; text-align: center; vertical-align: top\">0</td>\n",
       "    </tr>\n",
       "    <tr>\n",
       "        <td style=\"padding-left: 1em; padding-right: 1em; text-align: center; vertical-align: top\">0</td>\n",
       "        <td style=\"padding-left: 1em; padding-right: 1em; text-align: center; vertical-align: top\">0</td>\n",
       "        <td style=\"padding-left: 1em; padding-right: 1em; text-align: center; vertical-align: top\">0</td>\n",
       "        <td style=\"padding-left: 1em; padding-right: 1em; text-align: center; vertical-align: top\">0</td>\n",
       "        <td style=\"padding-left: 1em; padding-right: 1em; text-align: center; vertical-align: top\">0</td>\n",
       "    </tr>\n",
       "    <tr>\n",
       "        <td style=\"padding-left: 1em; padding-right: 1em; text-align: center; vertical-align: top\">0</td>\n",
       "        <td style=\"padding-left: 1em; padding-right: 1em; text-align: center; vertical-align: top\">0</td>\n",
       "        <td style=\"padding-left: 1em; padding-right: 1em; text-align: center; vertical-align: top\">0</td>\n",
       "        <td style=\"padding-left: 1em; padding-right: 1em; text-align: center; vertical-align: top\">0</td>\n",
       "        <td style=\"padding-left: 1em; padding-right: 1em; text-align: center; vertical-align: top\">0</td>\n",
       "    </tr>\n",
       "    <tr>\n",
       "        <td style=\"padding-left: 1em; padding-right: 1em; text-align: center; vertical-align: top\">0</td>\n",
       "        <td style=\"padding-left: 1em; padding-right: 1em; text-align: center; vertical-align: top\">0</td>\n",
       "        <td style=\"padding-left: 1em; padding-right: 1em; text-align: center; vertical-align: top\">0</td>\n",
       "        <td style=\"padding-left: 1em; padding-right: 1em; text-align: center; vertical-align: top\">0</td>\n",
       "        <td style=\"padding-left: 1em; padding-right: 1em; text-align: center; vertical-align: top\">1</td>\n",
       "    </tr>\n",
       "    <tr>\n",
       "        <td style=\"padding-left: 1em; padding-right: 1em; text-align: center; vertical-align: top\">0</td>\n",
       "        <td style=\"padding-left: 1em; padding-right: 1em; text-align: center; vertical-align: top\">0</td>\n",
       "        <td style=\"padding-left: 1em; padding-right: 1em; text-align: center; vertical-align: top\">0</td>\n",
       "        <td style=\"padding-left: 1em; padding-right: 1em; text-align: center; vertical-align: top\">0</td>\n",
       "        <td style=\"padding-left: 1em; padding-right: 1em; text-align: center; vertical-align: top\">0</td>\n",
       "    </tr>\n",
       "    <tr>\n",
       "        <td style=\"padding-left: 1em; padding-right: 1em; text-align: center; vertical-align: top\">0</td>\n",
       "        <td style=\"padding-left: 1em; padding-right: 1em; text-align: center; vertical-align: top\">0</td>\n",
       "        <td style=\"padding-left: 1em; padding-right: 1em; text-align: center; vertical-align: top\">0</td>\n",
       "        <td style=\"padding-left: 1em; padding-right: 1em; text-align: center; vertical-align: top\">0</td>\n",
       "        <td style=\"padding-left: 1em; padding-right: 1em; text-align: center; vertical-align: top\">1</td>\n",
       "    </tr>\n",
       "    <tr>\n",
       "        <td style=\"padding-left: 1em; padding-right: 1em; text-align: center; vertical-align: top\">0</td>\n",
       "        <td style=\"padding-left: 1em; padding-right: 1em; text-align: center; vertical-align: top\">0</td>\n",
       "        <td style=\"padding-left: 1em; padding-right: 1em; text-align: center; vertical-align: top\">0</td>\n",
       "        <td style=\"padding-left: 1em; padding-right: 1em; text-align: center; vertical-align: top\">0</td>\n",
       "        <td style=\"padding-left: 1em; padding-right: 1em; text-align: center; vertical-align: top\">1</td>\n",
       "    </tr>\n",
       "    <tr>\n",
       "        <td style=\"padding-left: 1em; padding-right: 1em; text-align: center; vertical-align: top\">0</td>\n",
       "        <td style=\"padding-left: 1em; padding-right: 1em; text-align: center; vertical-align: top\">0</td>\n",
       "        <td style=\"padding-left: 1em; padding-right: 1em; text-align: center; vertical-align: top\">0</td>\n",
       "        <td style=\"padding-left: 1em; padding-right: 1em; text-align: center; vertical-align: top\">0</td>\n",
       "        <td style=\"padding-left: 1em; padding-right: 1em; text-align: center; vertical-align: top\">1</td>\n",
       "    </tr>\n",
       "    <tr>\n",
       "        <td style=\"padding-left: 1em; padding-right: 1em; text-align: center; vertical-align: top\">0</td>\n",
       "        <td style=\"padding-left: 1em; padding-right: 1em; text-align: center; vertical-align: top\">0</td>\n",
       "        <td style=\"padding-left: 1em; padding-right: 1em; text-align: center; vertical-align: top\">0</td>\n",
       "        <td style=\"padding-left: 1em; padding-right: 1em; text-align: center; vertical-align: top\">0</td>\n",
       "        <td style=\"padding-left: 1em; padding-right: 1em; text-align: center; vertical-align: top\">0</td>\n",
       "    </tr>\n",
       "</table>\n",
       "<table frame=\"box\" rules=\"cols\">\n",
       "    <tr>\n",
       "        <th style=\"padding-left: 1em; padding-right: 1em; text-align: center\">CoapplicantIncome.range_1<br>1_12k ...</th>\n",
       "        <th style=\"padding-left: 1em; padding-right: 1em; text-align: center\">CoapplicantIncome.range_1<br>3_14k ...</th>\n",
       "        <th style=\"padding-left: 1em; padding-right: 1em; text-align: center\">CoapplicantIncome.range_1<br>4_15k ...</th>\n",
       "        <th style=\"padding-left: 1em; padding-right: 1em; text-align: center\">CoapplicantIncome.range_1<br>5_16k ...</th>\n",
       "        <th style=\"padding-left: 1em; padding-right: 1em; text-align: center\">...</th>\n",
       "    </tr>\n",
       "    <tr>\n",
       "        <td style=\"padding-left: 1em; padding-right: 1em; text-align: center; vertical-align: top\">0</td>\n",
       "        <td style=\"padding-left: 1em; padding-right: 1em; text-align: center; vertical-align: top\">0</td>\n",
       "        <td style=\"padding-left: 1em; padding-right: 1em; text-align: center; vertical-align: top\">0</td>\n",
       "        <td style=\"padding-left: 1em; padding-right: 1em; text-align: center; vertical-align: top\">0</td>\n",
       "        <td style=\"padding-left: 1em; padding-right: 1em; text-align: center; vertical-align: top\">...</td>\n",
       "    </tr>\n",
       "    <tr>\n",
       "        <td style=\"padding-left: 1em; padding-right: 1em; text-align: center; vertical-align: top\">0</td>\n",
       "        <td style=\"padding-left: 1em; padding-right: 1em; text-align: center; vertical-align: top\">0</td>\n",
       "        <td style=\"padding-left: 1em; padding-right: 1em; text-align: center; vertical-align: top\">0</td>\n",
       "        <td style=\"padding-left: 1em; padding-right: 1em; text-align: center; vertical-align: top\">0</td>\n",
       "        <td style=\"padding-left: 1em; padding-right: 1em; text-align: center; vertical-align: top\">...</td>\n",
       "    </tr>\n",
       "    <tr>\n",
       "        <td style=\"padding-left: 1em; padding-right: 1em; text-align: center; vertical-align: top\">0</td>\n",
       "        <td style=\"padding-left: 1em; padding-right: 1em; text-align: center; vertical-align: top\">0</td>\n",
       "        <td style=\"padding-left: 1em; padding-right: 1em; text-align: center; vertical-align: top\">0</td>\n",
       "        <td style=\"padding-left: 1em; padding-right: 1em; text-align: center; vertical-align: top\">0</td>\n",
       "        <td style=\"padding-left: 1em; padding-right: 1em; text-align: center; vertical-align: top\">...</td>\n",
       "    </tr>\n",
       "    <tr>\n",
       "        <td style=\"padding-left: 1em; padding-right: 1em; text-align: center; vertical-align: top\">0</td>\n",
       "        <td style=\"padding-left: 1em; padding-right: 1em; text-align: center; vertical-align: top\">0</td>\n",
       "        <td style=\"padding-left: 1em; padding-right: 1em; text-align: center; vertical-align: top\">0</td>\n",
       "        <td style=\"padding-left: 1em; padding-right: 1em; text-align: center; vertical-align: top\">0</td>\n",
       "        <td style=\"padding-left: 1em; padding-right: 1em; text-align: center; vertical-align: top\">...</td>\n",
       "    </tr>\n",
       "    <tr>\n",
       "        <td style=\"padding-left: 1em; padding-right: 1em; text-align: center; vertical-align: top\">0</td>\n",
       "        <td style=\"padding-left: 1em; padding-right: 1em; text-align: center; vertical-align: top\">0</td>\n",
       "        <td style=\"padding-left: 1em; padding-right: 1em; text-align: center; vertical-align: top\">0</td>\n",
       "        <td style=\"padding-left: 1em; padding-right: 1em; text-align: center; vertical-align: top\">0</td>\n",
       "        <td style=\"padding-left: 1em; padding-right: 1em; text-align: center; vertical-align: top\">...</td>\n",
       "    </tr>\n",
       "    <tr>\n",
       "        <td style=\"padding-left: 1em; padding-right: 1em; text-align: center; vertical-align: top\">0</td>\n",
       "        <td style=\"padding-left: 1em; padding-right: 1em; text-align: center; vertical-align: top\">0</td>\n",
       "        <td style=\"padding-left: 1em; padding-right: 1em; text-align: center; vertical-align: top\">0</td>\n",
       "        <td style=\"padding-left: 1em; padding-right: 1em; text-align: center; vertical-align: top\">0</td>\n",
       "        <td style=\"padding-left: 1em; padding-right: 1em; text-align: center; vertical-align: top\">...</td>\n",
       "    </tr>\n",
       "    <tr>\n",
       "        <td style=\"padding-left: 1em; padding-right: 1em; text-align: center; vertical-align: top\">0</td>\n",
       "        <td style=\"padding-left: 1em; padding-right: 1em; text-align: center; vertical-align: top\">0</td>\n",
       "        <td style=\"padding-left: 1em; padding-right: 1em; text-align: center; vertical-align: top\">0</td>\n",
       "        <td style=\"padding-left: 1em; padding-right: 1em; text-align: center; vertical-align: top\">0</td>\n",
       "        <td style=\"padding-left: 1em; padding-right: 1em; text-align: center; vertical-align: top\">...</td>\n",
       "    </tr>\n",
       "    <tr>\n",
       "        <td style=\"padding-left: 1em; padding-right: 1em; text-align: center; vertical-align: top\">0</td>\n",
       "        <td style=\"padding-left: 1em; padding-right: 1em; text-align: center; vertical-align: top\">0</td>\n",
       "        <td style=\"padding-left: 1em; padding-right: 1em; text-align: center; vertical-align: top\">0</td>\n",
       "        <td style=\"padding-left: 1em; padding-right: 1em; text-align: center; vertical-align: top\">0</td>\n",
       "        <td style=\"padding-left: 1em; padding-right: 1em; text-align: center; vertical-align: top\">...</td>\n",
       "    </tr>\n",
       "    <tr>\n",
       "        <td style=\"padding-left: 1em; padding-right: 1em; text-align: center; vertical-align: top\">0</td>\n",
       "        <td style=\"padding-left: 1em; padding-right: 1em; text-align: center; vertical-align: top\">0</td>\n",
       "        <td style=\"padding-left: 1em; padding-right: 1em; text-align: center; vertical-align: top\">0</td>\n",
       "        <td style=\"padding-left: 1em; padding-right: 1em; text-align: center; vertical-align: top\">0</td>\n",
       "        <td style=\"padding-left: 1em; padding-right: 1em; text-align: center; vertical-align: top\">...</td>\n",
       "    </tr>\n",
       "    <tr>\n",
       "        <td style=\"padding-left: 1em; padding-right: 1em; text-align: center; vertical-align: top\">0</td>\n",
       "        <td style=\"padding-left: 1em; padding-right: 1em; text-align: center; vertical-align: top\">0</td>\n",
       "        <td style=\"padding-left: 1em; padding-right: 1em; text-align: center; vertical-align: top\">0</td>\n",
       "        <td style=\"padding-left: 1em; padding-right: 1em; text-align: center; vertical-align: top\">0</td>\n",
       "        <td style=\"padding-left: 1em; padding-right: 1em; text-align: center; vertical-align: top\">...</td>\n",
       "    </tr>\n",
       "</table>\n",
       "[367 rows x 73 columns]<br/>Note: Only the head of the SFrame is printed.<br/>You can use print_rows(num_rows=m, num_columns=n) to print more rows and columns.\n",
       "</div>"
      ],
      "text/plain": [
       "Columns:\n",
       "\tLoan_ID\tstr\n",
       "\tGender.\tint\n",
       "\tGender.Female\tint\n",
       "\tGender.Male\tint\n",
       "\tMarried.No\tint\n",
       "\tMarried.Yes\tint\n",
       "\tDependents.\tint\n",
       "\tDependents.0\tint\n",
       "\tDependents.1\tint\n",
       "\tDependents.2\tint\n",
       "\tDependents.3+\tint\n",
       "\tEducation.Graduate\tint\n",
       "\tEducation.Not Graduate\tint\n",
       "\tSelf_Employed.\tint\n",
       "\tSelf_Employed.No\tint\n",
       "\tSelf_Employed.Yes\tint\n",
       "\tApplicantIncome.range_0_1k\tint\n",
       "\tApplicantIncome.range_10_11k\tint\n",
       "\tApplicantIncome.range_12_13k\tint\n",
       "\tApplicantIncome.range_13_14k\tint\n",
       "\tApplicantIncome.range_14_15k\tint\n",
       "\tApplicantIncome.range_15_16k\tint\n",
       "\tApplicantIncome.range_16_17k\tint\n",
       "\tApplicantIncome.range_18_19k\tint\n",
       "\tApplicantIncome.range_1_2k\tint\n",
       "\tApplicantIncome.range_20_21k\tint\n",
       "\tApplicantIncome.range_2_3k\tint\n",
       "\tApplicantIncome.range_3_4k\tint\n",
       "\tApplicantIncome.range_4_5k\tint\n",
       "\tApplicantIncome.range_5_6k\tint\n",
       "\tApplicantIncome.range_6_7k\tint\n",
       "\tApplicantIncome.range_7_8k\tint\n",
       "\tApplicantIncome.range_8_9k\tint\n",
       "\tApplicantIncome.range_9_10k\tint\n",
       "\tApplicantIncome.range_high\tint\n",
       "\tCoapplicantIncome.range_0_1k\tint\n",
       "\tCoapplicantIncome.range_11_12k\tint\n",
       "\tCoapplicantIncome.range_13_14k\tint\n",
       "\tCoapplicantIncome.range_14_15k\tint\n",
       "\tCoapplicantIncome.range_15_16k\tint\n",
       "\tCoapplicantIncome.range_1_2k\tint\n",
       "\tCoapplicantIncome.range_20_21k\tint\n",
       "\tCoapplicantIncome.range_2_3k\tint\n",
       "\tCoapplicantIncome.range_3_4k\tint\n",
       "\tCoapplicantIncome.range_4_5k\tint\n",
       "\tCoapplicantIncome.range_5_6k\tint\n",
       "\tCoapplicantIncome.range_6_7k\tint\n",
       "\tCoapplicantIncome.range_7_8k\tint\n",
       "\tCoapplicantIncome.range_8_9k\tint\n",
       "\tLoanAmount.range_0_1h\tint\n",
       "\tLoanAmount.range_1_2h\tint\n",
       "\tLoanAmount.range_2_3h\tint\n",
       "\tLoanAmount.range_3_4\tint\n",
       "\tLoanAmount.range_4_5\tint\n",
       "\tLoanAmount.range_5_6\tint\n",
       "\tLoan_Amount_Term.6\tint\n",
       "\tLoan_Amount_Term.12\tint\n",
       "\tLoan_Amount_Term.36\tint\n",
       "\tLoan_Amount_Term.60\tint\n",
       "\tLoan_Amount_Term.84\tint\n",
       "\tLoan_Amount_Term.120\tint\n",
       "\tLoan_Amount_Term.180\tint\n",
       "\tLoan_Amount_Term.240\tint\n",
       "\tLoan_Amount_Term.300\tint\n",
       "\tLoan_Amount_Term.350\tint\n",
       "\tLoan_Amount_Term.360\tint\n",
       "\tLoan_Amount_Term.480\tint\n",
       "\tCredit_History.0\tint\n",
       "\tCredit_History.1\tint\n",
       "\tProperty_Area.Rural\tint\n",
       "\tProperty_Area.Semiurban\tint\n",
       "\tProperty_Area.Urban\tint\n",
       "\tMarried.\tint\n",
       "\n",
       "Rows: 367\n",
       "\n",
       "Data:\n",
       "+----------+---------+---------------+-------------+------------+-------------+\n",
       "| Loan_ID  | Gender. | Gender.Female | Gender.Male | Married.No | Married.Yes |\n",
       "+----------+---------+---------------+-------------+------------+-------------+\n",
       "| LP001015 |    0    |       0       |      1      |     0      |      1      |\n",
       "| LP001022 |    0    |       0       |      1      |     0      |      1      |\n",
       "| LP001031 |    0    |       0       |      1      |     0      |      1      |\n",
       "| LP001035 |    0    |       0       |      1      |     0      |      1      |\n",
       "| LP001051 |    0    |       0       |      1      |     1      |      0      |\n",
       "| LP001054 |    0    |       0       |      1      |     0      |      1      |\n",
       "| LP001055 |    0    |       1       |      0      |     1      |      0      |\n",
       "| LP001056 |    0    |       0       |      1      |     0      |      1      |\n",
       "| LP001059 |    0    |       0       |      1      |     0      |      1      |\n",
       "| LP001067 |    0    |       0       |      1      |     1      |      0      |\n",
       "+----------+---------+---------------+-------------+------------+-------------+\n",
       "+-------------+--------------+--------------+--------------+---------------+--------------------+\n",
       "| Dependents. | Dependents.0 | Dependents.1 | Dependents.2 | Dependents.3+ | Education.Graduate |\n",
       "+-------------+--------------+--------------+--------------+---------------+--------------------+\n",
       "|      0      |      1       |      0       |      0       |       0       |         1          |\n",
       "|      0      |      0       |      1       |      0       |       0       |         1          |\n",
       "|      0      |      0       |      0       |      1       |       0       |         1          |\n",
       "|      0      |      0       |      0       |      1       |       0       |         1          |\n",
       "|      0      |      1       |      0       |      0       |       0       |         0          |\n",
       "|      0      |      1       |      0       |      0       |       0       |         0          |\n",
       "|      0      |      0       |      1       |      0       |       0       |         0          |\n",
       "|      0      |      0       |      0       |      1       |       0       |         0          |\n",
       "|      0      |      0       |      0       |      1       |       0       |         1          |\n",
       "|      0      |      1       |      0       |      0       |       0       |         0          |\n",
       "+-------------+--------------+--------------+--------------+---------------+--------------------+\n",
       "+------------------------+----------------+------------------+-------------------+\n",
       "| Education.Not Graduate | Self_Employed. | Self_Employed.No | Self_Employed.Yes |\n",
       "+------------------------+----------------+------------------+-------------------+\n",
       "|           0            |       0        |        1         |         0         |\n",
       "|           0            |       0        |        1         |         0         |\n",
       "|           0            |       0        |        1         |         0         |\n",
       "|           0            |       0        |        1         |         0         |\n",
       "|           1            |       0        |        1         |         0         |\n",
       "|           1            |       0        |        0         |         1         |\n",
       "|           1            |       0        |        1         |         0         |\n",
       "|           1            |       0        |        1         |         0         |\n",
       "|           0            |       1        |        0         |         0         |\n",
       "|           1            |       0        |        1         |         0         |\n",
       "+------------------------+----------------+------------------+-------------------+\n",
       "+----------------------------+------------------------------+------------------------------+\n",
       "| ApplicantIncome.range_0_1k | ApplicantIncome.range_10_11k | ApplicantIncome.range_12_13k |\n",
       "+----------------------------+------------------------------+------------------------------+\n",
       "|             0              |              0               |              0               |\n",
       "|             0              |              0               |              0               |\n",
       "|             0              |              0               |              0               |\n",
       "|             0              |              0               |              0               |\n",
       "|             0              |              0               |              0               |\n",
       "|             0              |              0               |              0               |\n",
       "|             0              |              0               |              0               |\n",
       "|             0              |              0               |              0               |\n",
       "|             0              |              0               |              0               |\n",
       "|             0              |              0               |              0               |\n",
       "+----------------------------+------------------------------+------------------------------+\n",
       "+------------------------------+-----+\n",
       "| ApplicantIncome.range_13_14k | ... |\n",
       "+------------------------------+-----+\n",
       "|              0               | ... |\n",
       "|              0               | ... |\n",
       "|              0               | ... |\n",
       "|              0               | ... |\n",
       "|              0               | ... |\n",
       "|              0               | ... |\n",
       "|              0               | ... |\n",
       "|              0               | ... |\n",
       "|              1               | ... |\n",
       "|              0               | ... |\n",
       "+------------------------------+-----+\n",
       "[367 rows x 73 columns]\n",
       "Note: Only the head of the SFrame is printed.\n",
       "You can use print_rows(num_rows=m, num_columns=n) to print more rows and columns."
      ]
     },
     "execution_count": 298,
     "metadata": {},
     "output_type": "execute_result"
    }
   ],
   "source": [
    "married_list = []\n",
    "for i in xrange(len(test_data)):\n",
    "    married_list.append(0)\n",
    "married_array = graphlab.SArray(married_list)\n",
    "test_data.add_column(married_array, 'Married.')"
   ]
  },
  {
   "cell_type": "code",
   "execution_count": 299,
   "metadata": {
    "collapsed": false
   },
   "outputs": [
    {
     "data": {
      "text/plain": [
       "dtype: int\n",
       "Rows: 367\n",
       "[0L, 0L, 0L, 0L, 0L, 0L, 0L, 0L, 0L, 0L, 0L, 0L, 0L, 0L, 0L, 0L, 0L, 0L, 0L, 0L, 0L, 0L, 0L, 0L, 0L, 0L, 0L, 0L, 0L, 0L, 0L, 0L, 0L, 0L, 0L, 0L, 0L, 0L, 0L, 0L, 0L, 0L, 0L, 0L, 0L, 0L, 0L, 0L, 0L, 0L, 0L, 0L, 0L, 0L, 0L, 0L, 0L, 0L, 0L, 0L, 0L, 0L, 0L, 0L, 0L, 0L, 0L, 0L, 0L, 0L, 0L, 0L, 0L, 0L, 0L, 0L, 0L, 0L, 0L, 0L, 0L, 0L, 0L, 0L, 0L, 0L, 0L, 0L, 0L, 0L, 0L, 0L, 0L, 0L, 0L, 0L, 0L, 0L, 0L, 0L, ... ]"
      ]
     },
     "execution_count": 299,
     "metadata": {},
     "output_type": "execute_result"
    }
   ],
   "source": [
    "#test_data.remove_column('Married.')\n",
    "test_data['Married.']"
   ]
  },
  {
   "cell_type": "markdown",
   "metadata": {},
   "source": [
    "#Weighted decision trees implementation"
   ]
  },
  {
   "cell_type": "code",
   "execution_count": 300,
   "metadata": {
    "collapsed": true
   },
   "outputs": [],
   "source": [
    "def intermediate_node_weighted_mistakes(labels_in_node, data_weights):\n",
    "    # Sum the weights of all entries with label +1\n",
    "    total_weight_positive = sum(data_weights[labels_in_node == +1])\n",
    "    \n",
    "    # Weight of mistakes for predicting all -1's is equal to the sum above\n",
    "    ### YOUR CODE HERE\n",
    "    weighted_mistakes_all_negative = total_weight_positive\n",
    "    \n",
    "    # Sum the weights of all entries with label -1\n",
    "    ### YOUR CODE HERE\n",
    "    total_weight_negative = sum(data_weights[labels_in_node == -1])\n",
    "    \n",
    "    # Weight of mistakes for predicting all +1's is equal to the sum above\n",
    "    ### YOUR CODE HERE\n",
    "    weighted_mistakes_all_positive = total_weight_negative\n",
    "    \n",
    "    # Return the tuple (weight, class_label) representing the lower of the two weights\n",
    "    #    class_label should be an integer of value +1 or -1.\n",
    "    # If the two weights are identical, return (weighted_mistakes_all_positive,+1)\n",
    "    ### YOUR CODE HERE\n",
    "    if weighted_mistakes_all_negative < weighted_mistakes_all_positive:\n",
    "        return weighted_mistakes_all_negative, -1\n",
    "    else:\n",
    "        return weighted_mistakes_all_positive, 1"
   ]
  },
  {
   "cell_type": "markdown",
   "metadata": {},
   "source": [
    "**Checkpoint**"
   ]
  },
  {
   "cell_type": "code",
   "execution_count": 301,
   "metadata": {
    "collapsed": false
   },
   "outputs": [
    {
     "name": "stdout",
     "output_type": "stream",
     "text": [
      "Test passed!\n"
     ]
    }
   ],
   "source": [
    "example_labels = graphlab.SArray([-1, -1, 1, 1, 1])\n",
    "example_data_weights = graphlab.SArray([1., 2., .5, 1., 1.])\n",
    "\n",
    "if intermediate_node_weighted_mistakes(example_labels, example_data_weights) == (2.5, -1):\n",
    "    print 'Test passed!'\n",
    "else:\n",
    "    print 'Test failed... try again!'"
   ]
  },
  {
   "cell_type": "markdown",
   "metadata": {},
   "source": [
    "## Function to pick best feature to split on"
   ]
  },
  {
   "cell_type": "code",
   "execution_count": 302,
   "metadata": {
    "collapsed": true
   },
   "outputs": [],
   "source": [
    "# If the data is identical in each feature, this function should return None\n",
    "\n",
    "def best_splitting_feature(data, features, target, data_weights):\n",
    "    \n",
    "    # These variables will keep track of the best feature and the corresponding error\n",
    "    best_feature = None\n",
    "    best_error = float('+inf') \n",
    "    num_points = float(len(data))\n",
    "    \n",
    "    # Loop through each feature to consider splitting on that feature\n",
    "    for feature in features:\n",
    "        # The left split will have all data points where the feature value is 0\n",
    "        # The right split will have all data points where the feature value is 1\n",
    "        left_split = data[data[feature] == 0]\n",
    "        right_split = data[data[feature] == 1]\n",
    "        \n",
    "        # Apply the same filtering to data_weights to create left_data_weights, right_data_weights\n",
    "        ## YOUR CODE HERE\n",
    "        left_data_weights = data_weights[data[feature] == 0]\n",
    "        right_data_weights = data_weights[data[feature] == 1]\n",
    "          \n",
    "        # DIFFERENT HERE\n",
    "        # Calculate the weight of mistakes for left and right sides\n",
    "        ## YOUR CODE HERE\n",
    "        left_weighted_mistakes, left_class = intermediate_node_weighted_mistakes(left_split[target], left_data_weights)\n",
    "        right_weighted_mistakes, right_class = intermediate_node_weighted_mistakes(right_split[target], right_data_weights)\n",
    "        \n",
    "        # DIFFERENT HERE\n",
    "        # Compute weighted error by computing\n",
    "        #  ( [weight of mistakes (left)] + [weight of mistakes (right)] ) / [total weight of all data points]\n",
    "        ## YOUR CODE HERE\n",
    "        \n",
    "        error = (left_weighted_mistakes + right_weighted_mistakes) / sum(data_weights)\n",
    "        \n",
    "        # If this is the best error we have found so far, store the feature and the error\n",
    "        if error < best_error:\n",
    "            best_feature = feature\n",
    "            best_error = error\n",
    "        \n",
    "    # Return the best feature we found\n",
    "    return best_feature"
   ]
  },
  {
   "cell_type": "markdown",
   "metadata": {},
   "source": [
    "**Checkpoint**"
   ]
  },
  {
   "cell_type": "code",
   "execution_count": 303,
   "metadata": {
    "collapsed": false
   },
   "outputs": [
    {
     "name": "stdout",
     "output_type": "stream",
     "text": [
      "Test passed!\n"
     ]
    }
   ],
   "source": [
    "example_data_weights = graphlab.SArray(len(loans_data)* [1.5])\n",
    "if best_splitting_feature(loans_data, features, target, example_data_weights) == 'Credit_History.0':\n",
    "    print 'Test passed!'\n",
    "else:\n",
    "    print 'Test failed... try again!'"
   ]
  },
  {
   "cell_type": "markdown",
   "metadata": {},
   "source": [
    "## Building the tree"
   ]
  },
  {
   "cell_type": "code",
   "execution_count": 304,
   "metadata": {
    "collapsed": true
   },
   "outputs": [],
   "source": [
    "def create_leaf(target_values, data_weights):\n",
    "    \n",
    "    # Create a leaf node\n",
    "    leaf = {'splitting_feature' : None,\n",
    "            'is_leaf': True}\n",
    "    \n",
    "    # Computed weight of mistakes.\n",
    "    weighted_error, best_class = intermediate_node_weighted_mistakes(target_values, data_weights)\n",
    "    # Store the predicted class (1 or -1) in leaf['prediction']\n",
    "    leaf['prediction'] = best_class ## YOUR CODE HERE\n",
    "    \n",
    "    return leaf"
   ]
  },
  {
   "cell_type": "markdown",
   "metadata": {},
   "source": [
    "## Incorporating new early stopping conditions in binary decision tree implementation"
   ]
  },
  {
   "cell_type": "markdown",
   "metadata": {},
   "source": [
    "Function that learns a weighted decision tree recursively and implements 3 stopping conditions:\n",
    "1. All data points in a node are from the same class.\n",
    "2. No more features to split on.\n",
    "3. Stop growing the tree when the tree depth reaches **max_depth**. "
   ]
  },
  {
   "cell_type": "code",
   "execution_count": 305,
   "metadata": {
    "collapsed": true
   },
   "outputs": [],
   "source": [
    "def weighted_decision_tree_create(data, features, target, data_weights, current_depth = 1, max_depth = 10):\n",
    "    print \"current depth \", current_depth\n",
    "    print \"max depth \", max_depth\n",
    "    remaining_features = features[:] # Make a copy of the features.\n",
    "    target_values = data[target]\n",
    "    print \"--------------------------------------------------------------------\"\n",
    "    print \"Subtree, depth = %s (%s data points).\" % (current_depth, len(target_values))\n",
    "    \n",
    "    # Stopping condition 1. Error is 0.\n",
    "    if intermediate_node_weighted_mistakes(target_values, data_weights)[0] <= 1e-15:\n",
    "        print \"Stopping condition 1 reached.\"                \n",
    "        return create_leaf(target_values, data_weights)\n",
    "    \n",
    "    # Stopping condition 2. No more features.\n",
    "    if remaining_features == []:\n",
    "        print \"Stopping condition 2 reached.\"                \n",
    "        return create_leaf(target_values, data_weights)    \n",
    "    \n",
    "    # Additional stopping condition (limit tree depth)\n",
    "    if current_depth > max_depth:\n",
    "        print \"Reached maximum depth. Stopping for now.\"\n",
    "        return create_leaf(target_values, data_weights)\n",
    "    \n",
    "    # If all the datapoints are the same, splitting_feature will be None. Create a leaf\n",
    "    splitting_feature = best_splitting_feature(data, features, target, data_weights)\n",
    "    remaining_features.remove(splitting_feature)\n",
    "        \n",
    "    left_split = data[data[splitting_feature] == 0]\n",
    "    right_split = data[data[splitting_feature] == 1]\n",
    "    \n",
    "    left_data_weights = data_weights[data[splitting_feature] == 0]\n",
    "    right_data_weights = data_weights[data[splitting_feature] == 1]\n",
    "    \n",
    "    print \"Split on feature %s. (%s, %s)\" % (\\\n",
    "              splitting_feature, len(left_split), len(right_split))\n",
    "    \n",
    "    # Create a leaf node if the split is \"perfect\"\n",
    "    if len(left_split) == len(data):\n",
    "        print \"Creating leaf node.\"\n",
    "        return create_leaf(left_split[target], data_weights)\n",
    "    if len(right_split) == len(data):\n",
    "        print \"Creating leaf node.\"\n",
    "        return create_leaf(right_split[target], data_weights)\n",
    "    \n",
    "    # Repeat (recurse) on left and right subtrees\n",
    "    left_tree = weighted_decision_tree_create(\n",
    "        left_split, remaining_features, target, left_data_weights, current_depth + 1, max_depth)\n",
    "    right_tree = weighted_decision_tree_create(\n",
    "        right_split, remaining_features, target, right_data_weights, current_depth + 1, max_depth)\n",
    "    \n",
    "    return {'is_leaf'          : False, \n",
    "            'prediction'       : None,\n",
    "            'splitting_feature': splitting_feature,\n",
    "            'left'             : left_tree, \n",
    "            'right'            : right_tree}"
   ]
  },
  {
   "cell_type": "markdown",
   "metadata": {},
   "source": [
    "Here is a function to count the nodes in your tree:"
   ]
  },
  {
   "cell_type": "code",
   "execution_count": 306,
   "metadata": {
    "collapsed": true
   },
   "outputs": [],
   "source": [
    "def count_nodes(tree):\n",
    "    if tree['is_leaf']:\n",
    "        return 1\n",
    "    return 1 + count_nodes(tree['left']) + count_nodes(tree['right'])"
   ]
  },
  {
   "cell_type": "markdown",
   "metadata": {},
   "source": [
    "Run the following test code to check the implementation. Make sure you get '**Test passed**' before proceeding."
   ]
  },
  {
   "cell_type": "code",
   "execution_count": 307,
   "metadata": {
    "collapsed": false
   },
   "outputs": [
    {
     "name": "stdout",
     "output_type": "stream",
     "text": [
      "529\n",
      "current depth  1\n",
      "max depth  2\n",
      "--------------------------------------------------------------------\n",
      "Subtree, depth = 1 (529 data points).\n",
      "Split on feature Credit_History.0. (450, 79)\n",
      "current depth  2\n",
      "max depth  2\n",
      "--------------------------------------------------------------------\n",
      "Subtree, depth = 2 (450 data points).\n",
      "Split on feature LoanAmount.range_5_6. (448, 2)\n",
      "current depth  3\n",
      "max depth  2\n",
      "--------------------------------------------------------------------\n",
      "Subtree, depth = 3 (448 data points).\n",
      "Reached maximum depth. Stopping for now.\n",
      "current depth  3\n",
      "max depth  2\n",
      "--------------------------------------------------------------------\n",
      "Subtree, depth = 3 (2 data points).\n",
      "Stopping condition 1 reached.\n",
      "current depth  2\n",
      "max depth  2\n",
      "--------------------------------------------------------------------\n",
      "Subtree, depth = 2 (79 data points).\n",
      "Split on feature CoapplicantIncome.range_8_9k. (78, 1)\n",
      "current depth  3\n",
      "max depth  2\n",
      "--------------------------------------------------------------------\n",
      "Subtree, depth = 3 (78 data points).\n",
      "Reached maximum depth. Stopping for now.\n",
      "current depth  3\n",
      "max depth  2\n",
      "--------------------------------------------------------------------\n",
      "Subtree, depth = 3 (1 data points).\n",
      "Stopping condition 1 reached.\n",
      "Test passed!\n"
     ]
    }
   ],
   "source": [
    "print len(loans_data)\n",
    "example_data_weights = graphlab.SArray([1.0 for i in range(len(loans_data))])\n",
    "\n",
    "small_data_decision_tree = weighted_decision_tree_create(loans_data, features, target, example_data_weights, max_depth=2)\n",
    "if count_nodes(small_data_decision_tree) == 7:\n",
    "    print 'Test passed!'\n",
    "else:\n",
    "    print 'Test failed... try again!'\n",
    "    print 'Number of nodes found:', count_nodes(small_data_decision_tree)\n",
    "    print 'Number of nodes that should be there: 7' "
   ]
  },
  {
   "cell_type": "markdown",
   "metadata": {},
   "source": [
    "## Make Decision Tree"
   ]
  },
  {
   "cell_type": "code",
   "execution_count": 308,
   "metadata": {
    "collapsed": false
   },
   "outputs": [
    {
     "name": "stdout",
     "output_type": "stream",
     "text": [
      "[1.0, 1.0, 1.0, 1.0, 1.0, 1.0, 1.0, 1.0, 1.0, 1.0, 1.0, 1.0, 1.0, 1.0, 1.0, 1.0, 1.0, 1.0, 1.0, 1.0, 1.0, 1.0, 1.0, 1.0, 1.0, 1.0, 1.0, 1.0, 1.0, 1.0, 1.0, 1.0, 1.0, 1.0, 1.0, 1.0, 1.0, 1.0, 1.0, 1.0, 1.0, 1.0, 1.0, 1.0, 1.0, 1.0, 1.0, 1.0, 1.0, 1.0, 1.0, 1.0, 1.0, 1.0, 1.0, 1.0, 1.0, 1.0, 1.0, 1.0, 1.0, 1.0, 1.0, 1.0, 1.0, 1.0, 1.0, 1.0, 1.0, 1.0, 1.0, 1.0, 1.0, 1.0, 1.0, 1.0, 1.0, 1.0, 1.0, 1.0, 1.0, 1.0, 1.0, 1.0, 1.0, 1.0, 1.0, 1.0, 1.0, 1.0, 1.0, 1.0, 1.0, 1.0, 1.0, 1.0, 1.0, 1.0, 1.0, 1.0, ... ]\n"
     ]
    }
   ],
   "source": [
    "example_data_weights = graphlab.SArray([1.] * len(loans_data))\n",
    "print example_data_weights"
   ]
  },
  {
   "cell_type": "code",
   "execution_count": 309,
   "metadata": {
    "collapsed": false
   },
   "outputs": [
    {
     "name": "stdout",
     "output_type": "stream",
     "text": [
      "current depth  1\n",
      "max depth  1\n",
      "--------------------------------------------------------------------\n",
      "Subtree, depth = 1 (529 data points).\n",
      "Split on feature Credit_History.0. (450, 79)\n",
      "current depth  2\n",
      "max depth  1\n",
      "--------------------------------------------------------------------\n",
      "Subtree, depth = 2 (450 data points).\n",
      "Reached maximum depth. Stopping for now.\n",
      "current depth  2\n",
      "max depth  1\n",
      "--------------------------------------------------------------------\n",
      "Subtree, depth = 2 (79 data points).\n",
      "Reached maximum depth. Stopping for now.\n"
     ]
    }
   ],
   "source": [
    "my_decision_tree = weighted_decision_tree_create(loans_data, features, target,\n",
    "                         example_data_weights, max_depth=1)"
   ]
  },
  {
   "cell_type": "markdown",
   "metadata": {},
   "source": [
    "## Making predictions with a decision tree"
   ]
  },
  {
   "cell_type": "code",
   "execution_count": 310,
   "metadata": {
    "collapsed": true
   },
   "outputs": [],
   "source": [
    "def classify(tree, x, annotate = False):   \n",
    "    # If the node is a leaf node.\n",
    "    if tree['is_leaf']:\n",
    "        if annotate: \n",
    "            print \"At leaf, predicting %s\" % tree['prediction']\n",
    "        return tree['prediction'] \n",
    "    else:\n",
    "        # Split on feature.\n",
    "        split_feature_value = x[tree['splitting_feature']]\n",
    "        if annotate: \n",
    "            print \"Split on %s = %s\" % (tree['splitting_feature'], split_feature_value)\n",
    "        if split_feature_value == 0:\n",
    "            return classify(tree['left'], x, annotate)\n",
    "        else:\n",
    "            return classify(tree['right'], x, annotate)"
   ]
  },
  {
   "cell_type": "markdown",
   "metadata": {},
   "source": [
    "#Adaboost (on decision stumps)"
   ]
  },
  {
   "cell_type": "code",
   "execution_count": 311,
   "metadata": {
    "collapsed": true
   },
   "outputs": [],
   "source": [
    "from math import log\n",
    "from math import exp\n",
    "\n",
    "def adaboost_with_tree_stumps(data, features, target, num_tree_stumps):\n",
    "    # start with unweighted data\n",
    "    alpha = graphlab.SArray([1.]*len(data))\n",
    "    weights = []\n",
    "    tree_stumps = []\n",
    "    target_values = data[target]\n",
    "    \n",
    "    for t in xrange(num_tree_stumps):\n",
    "        print '====================================================='\n",
    "        print 'Adaboost Iteration %d' % t\n",
    "        print '====================================================='        \n",
    "        # Learn a weighted decision tree stump. Use max_depth=1\n",
    "        tree_stump = weighted_decision_tree_create(data, features, target, data_weights=alpha, max_depth=1)\n",
    "        tree_stumps.append(tree_stump)\n",
    "        \n",
    "        # Make predictions\n",
    "        predictions = data.apply(lambda x: classify(tree_stump, x))\n",
    "        \n",
    "        # Produce a Boolean array indicating whether\n",
    "        # each data point was correctly classified\n",
    "        is_correct = predictions == target_values\n",
    "        is_wrong   = predictions != target_values\n",
    "              \n",
    "        # Compute weighted error\n",
    "        # YOUR CODE HERE\n",
    "        feature = tree_stump['splitting_feature']\n",
    "\n",
    "        left_split = data[data[feature] == 0]\n",
    "        right_split = data[data[feature] == 1]\n",
    "        \n",
    "        left_data_weights = alpha[data[feature] == 0]\n",
    "        right_data_weights = alpha[data[feature] == 1]\n",
    "        \n",
    "        left_weighted_mistakes, left_class = intermediate_node_weighted_mistakes(left_split[target], left_data_weights)\n",
    "        right_weighted_mistakes, right_class = intermediate_node_weighted_mistakes(right_split[target], right_data_weights)\n",
    "        \n",
    "        weighted_error = (left_weighted_mistakes + right_weighted_mistakes)/sum(alpha)\n",
    "        \n",
    "        # Compute model coefficient using weighted error\n",
    "        # YOUR CODE HERE\n",
    "        weight = log((1-weighted_error)/weighted_error)/2 #...\n",
    "        weights.append(weight)\n",
    "        \n",
    "        # Adjust weights on data point\n",
    "        adjustment = is_correct.apply(lambda is_correct : exp(-weight) if is_correct else exp(weight))\n",
    "        \n",
    "        # Scale alpha by multiplying by adjustment \n",
    "        # Then normalize data points weights\n",
    "        ## YOUR CODE HERE \n",
    "        alpha *= adjustment\n",
    "            \n",
    "        #aplpha = alpha.apply(lambda x: x/float(sum(alpha)))\n",
    "        alpha /= float(sum(alpha))\n",
    "        #...\n",
    "    \n",
    "    return weights, tree_stumps"
   ]
  },
  {
   "cell_type": "code",
   "execution_count": 312,
   "metadata": {
    "collapsed": false
   },
   "outputs": [
    {
     "name": "stdout",
     "output_type": "stream",
     "text": [
      "=====================================================\n",
      "Adaboost Iteration 0\n",
      "=====================================================\n",
      "current depth  1\n",
      "max depth  1\n",
      "--------------------------------------------------------------------\n",
      "Subtree, depth = 1 (529 data points).\n",
      "Split on feature Credit_History.0. (450, 79)\n",
      "current depth  2\n",
      "max depth  1\n",
      "--------------------------------------------------------------------\n",
      "Subtree, depth = 2 (450 data points).\n",
      "Reached maximum depth. Stopping for now.\n",
      "current depth  2\n",
      "max depth  1\n",
      "--------------------------------------------------------------------\n",
      "Subtree, depth = 2 (79 data points).\n",
      "Reached maximum depth. Stopping for now.\n",
      "=====================================================\n",
      "Adaboost Iteration 1\n",
      "=====================================================\n",
      "current depth  1\n",
      "max depth  1\n",
      "--------------------------------------------------------------------\n",
      "Subtree, depth = 1 (529 data points).\n",
      "Split on feature Property_Area.Semiurban. (320, 209)\n",
      "current depth  2\n",
      "max depth  1\n",
      "--------------------------------------------------------------------\n",
      "Subtree, depth = 2 (320 data points).\n",
      "Reached maximum depth. Stopping for now.\n",
      "current depth  2\n",
      "max depth  1\n",
      "--------------------------------------------------------------------\n",
      "Subtree, depth = 2 (209 data points).\n",
      "Reached maximum depth. Stopping for now.\n",
      "=====================================================\n",
      "Adaboost Iteration 2\n",
      "=====================================================\n",
      "current depth  1\n",
      "max depth  1\n",
      "--------------------------------------------------------------------\n",
      "Subtree, depth = 1 (529 data points).\n",
      "Split on feature Married.No. (341, 188)\n",
      "current depth  2\n",
      "max depth  1\n",
      "--------------------------------------------------------------------\n",
      "Subtree, depth = 2 (341 data points).\n",
      "Reached maximum depth. Stopping for now.\n",
      "current depth  2\n",
      "max depth  1\n",
      "--------------------------------------------------------------------\n",
      "Subtree, depth = 2 (188 data points).\n",
      "Reached maximum depth. Stopping for now.\n",
      "=====================================================\n",
      "Adaboost Iteration 3\n",
      "=====================================================\n",
      "current depth  1\n",
      "max depth  1\n",
      "--------------------------------------------------------------------\n",
      "Subtree, depth = 1 (529 data points).\n",
      "Split on feature LoanAmount.range_1_2h. (197, 332)\n",
      "current depth  2\n",
      "max depth  1\n",
      "--------------------------------------------------------------------\n",
      "Subtree, depth = 2 (197 data points).\n",
      "Reached maximum depth. Stopping for now.\n",
      "current depth  2\n",
      "max depth  1\n",
      "--------------------------------------------------------------------\n",
      "Subtree, depth = 2 (332 data points).\n",
      "Reached maximum depth. Stopping for now.\n",
      "=====================================================\n",
      "Adaboost Iteration 4\n",
      "=====================================================\n",
      "current depth  1\n",
      "max depth  1\n",
      "--------------------------------------------------------------------\n",
      "Subtree, depth = 1 (529 data points).\n",
      "Split on feature ApplicantIncome.range_2_3k. (414, 115)\n",
      "current depth  2\n",
      "max depth  1\n",
      "--------------------------------------------------------------------\n",
      "Subtree, depth = 2 (414 data points).\n",
      "Reached maximum depth. Stopping for now.\n",
      "current depth  2\n",
      "max depth  1\n",
      "--------------------------------------------------------------------\n",
      "Subtree, depth = 2 (115 data points).\n",
      "Reached maximum depth. Stopping for now.\n"
     ]
    }
   ],
   "source": [
    "stump_weights, tree_stumps = adaboost_with_tree_stumps(loans_data, features, target, num_tree_stumps=5)"
   ]
  },
  {
   "cell_type": "code",
   "execution_count": 313,
   "metadata": {
    "collapsed": true
   },
   "outputs": [],
   "source": [
    "def print_stump(tree):\n",
    "    split_name = tree['splitting_feature'] # split_name is something like 'term. 36 months'\n",
    "    if split_name is None:\n",
    "        print \"(leaf, label: %s)\" % tree['prediction']\n",
    "        return None\n",
    "    split_feature, split_value = split_name.split('.')\n",
    "    print '                       root'\n",
    "    print '         |---------------|----------------|'\n",
    "    print '         |                                |'\n",
    "    print '         |                                |'\n",
    "    print '         |                                |'\n",
    "    print '  [{0} == 0]{1}[{0} == 1]    '.format(split_name, ' '*(27-len(split_name)))\n",
    "    print '         |                                |'\n",
    "    print '         |                                |'\n",
    "    print '         |                                |'\n",
    "    print '    (%s)                 (%s)' \\\n",
    "        % (('leaf, label: ' + str(tree['left']['prediction']) if tree['left']['is_leaf'] else 'subtree'),\n",
    "           ('leaf, label: ' + str(tree['right']['prediction']) if tree['right']['is_leaf'] else 'subtree'))"
   ]
  },
  {
   "cell_type": "code",
   "execution_count": 314,
   "metadata": {
    "collapsed": false,
    "scrolled": true
   },
   "outputs": [
    {
     "name": "stdout",
     "output_type": "stream",
     "text": [
      "                       root\n",
      "         |---------------|----------------|\n",
      "         |                                |\n",
      "         |                                |\n",
      "         |                                |\n",
      "  [Credit_History.0 == 0]           [Credit_History.0 == 1]    \n",
      "         |                                |\n",
      "         |                                |\n",
      "         |                                |\n",
      "    (leaf, label: 1)                 (leaf, label: -1)\n",
      "                       root\n",
      "         |---------------|----------------|\n",
      "         |                                |\n",
      "         |                                |\n",
      "         |                                |\n",
      "  [Property_Area.Semiurban == 0]    [Property_Area.Semiurban == 1]    \n",
      "         |                                |\n",
      "         |                                |\n",
      "         |                                |\n",
      "    (leaf, label: -1)                 (leaf, label: 1)\n",
      "                       root\n",
      "         |---------------|----------------|\n",
      "         |                                |\n",
      "         |                                |\n",
      "         |                                |\n",
      "  [Married.No == 0]                 [Married.No == 1]    \n",
      "         |                                |\n",
      "         |                                |\n",
      "         |                                |\n",
      "    (leaf, label: 1)                 (leaf, label: -1)\n",
      "                       root\n",
      "         |---------------|----------------|\n",
      "         |                                |\n",
      "         |                                |\n",
      "         |                                |\n",
      "  [LoanAmount.range_1_2h == 0]      [LoanAmount.range_1_2h == 1]    \n",
      "         |                                |\n",
      "         |                                |\n",
      "         |                                |\n",
      "    (leaf, label: -1)                 (leaf, label: 1)\n",
      "                       root\n",
      "         |---------------|----------------|\n",
      "         |                                |\n",
      "         |                                |\n",
      "         |                                |\n",
      "  [ApplicantIncome.range_2_3k == 0] [ApplicantIncome.range_2_3k == 1]    \n",
      "         |                                |\n",
      "         |                                |\n",
      "         |                                |\n",
      "    (leaf, label: -1)                 (leaf, label: 1)\n"
     ]
    }
   ],
   "source": [
    "for i in xrange(len(tree_stumps)):\n",
    "    print_stump(tree_stumps[i])"
   ]
  },
  {
   "cell_type": "code",
   "execution_count": 315,
   "metadata": {
    "collapsed": false
   },
   "outputs": [
    {
     "name": "stdout",
     "output_type": "stream",
     "text": [
      "[0.740570305716588, 0.22421945151349468, 0.12346714225717922, 0.09103648123417825, 0.10546784262849913]\n"
     ]
    }
   ],
   "source": [
    "print stump_weights"
   ]
  },
  {
   "cell_type": "code",
   "execution_count": 316,
   "metadata": {
    "collapsed": true
   },
   "outputs": [],
   "source": [
    "def predict_adaboost(stump_weights, tree_stumps, data):\n",
    "    scores = graphlab.SArray([0.]*len(data))\n",
    "    \n",
    "    for i, tree_stump in enumerate(tree_stumps):\n",
    "        predictions = data.apply(lambda x: classify(tree_stump, x))\n",
    "        \n",
    "        # Accumulate predictions on scaores array\n",
    "        # YOUR CODE HERE\n",
    "        scores = scores + float(stump_weights[i])*predictions #...\n",
    "        \n",
    "    return scores.apply(lambda score : +1 if score > 0 else -1)"
   ]
  },
  {
   "cell_type": "code",
   "execution_count": 317,
   "metadata": {
    "collapsed": false
   },
   "outputs": [],
   "source": [
    "#test_data.remove_column['range_high']"
   ]
  },
  {
   "cell_type": "code",
   "execution_count": 318,
   "metadata": {
    "collapsed": false
   },
   "outputs": [
    {
     "name": "stdout",
     "output_type": "stream",
     "text": [
      "[0L, 0L, 0L, 0L, 0L, 0L, 0L, 0L, 0L, 0L, 0L, 0L, 0L, 0L, 0L, 0L, 0L, 0L, 0L, 0L, 0L, 0L, 0L, 0L, 0L, 0L, 0L, 0L, 0L, 0L, 0L, 0L, 0L, 0L, 0L, 0L, 0L, 0L, 0L, 0L, 0L, 0L, 0L, 0L, 0L, 0L, 0L, 0L, 0L, 0L, 0L, 0L, 0L, 0L, 0L, 0L, 0L, 0L, 0L, 0L, 0L, 0L, 0L, 0L, 0L, 0L, 0L, 0L, 0L, 0L, 0L, 0L, 0L, 0L, 0L, 0L, 0L, 0L, 0L, 0L, 0L, 0L, 0L, 0L, 0L, 0L, 0L, 0L, 0L, 0L, 0L, 0L, 0L, 0L, 0L, 0L, 0L, 0L, 0L, 0L, ... ]\n"
     ]
    }
   ],
   "source": [
    "test_data['LoanAmount.range_high'] = [0 for x in range(len(test_data))]\n",
    "print test_data['LoanAmount.range_high']"
   ]
  },
  {
   "cell_type": "code",
   "execution_count": 319,
   "metadata": {
    "collapsed": false
   },
   "outputs": [],
   "source": [
    "prediction = predict_adaboost(stump_weights, tree_stumps, test_data)"
   ]
  },
  {
   "cell_type": "code",
   "execution_count": 320,
   "metadata": {
    "collapsed": false
   },
   "outputs": [
    {
     "name": "stdout",
     "output_type": "stream",
     "text": [
      "[1L, 1L, 1L, 1L, 1L, 1L, 1L, -1L, 1L, 1L, 1L, 1L, 1L, -1L, 1L, 1L, 1L, 1L, 1L, 1L, 1L, 1L, 1L, 1L, 1L, -1L, 1L, 1L, 1L, 1L, 1L, 1L, 1L, 1L, 1L, -1L, 1L, 1L, 1L, 1L, 1L, 1L, 1L, 1L, 1L, 1L, 1L, 1L, 1L, 1L, 1L, 1L, 1L, 1L, 1L, -1L, 1L, 1L, -1L, 1L, 1L, 1L, 1L, -1L, 1L, 1L, -1L, -1L, 1L, -1L, 1L, 1L, 1L, 1L, 1L, 1L, 1L, 1L, 1L, 1L, -1L, 1L, -1L, 1L, -1L, 1L, 1L, 1L, 1L, 1L, 1L, 1L, 1L, 1L, -1L, 1L, 1L, 1L, 1L, 1L, ... ]\n"
     ]
    }
   ],
   "source": [
    "print prediction"
   ]
  },
  {
   "cell_type": "markdown",
   "metadata": {},
   "source": [
    "## Writing the submission file"
   ]
  },
  {
   "cell_type": "code",
   "execution_count": 321,
   "metadata": {
    "collapsed": false
   },
   "outputs": [],
   "source": [
    "import pandas as pd\n",
    "loan_id = test_data['Loan_ID']\n",
    "predictionsS = pd.Series(prediction)\n",
    "loan_status_predictions = predictionsS.apply(lambda x: 'Y' if x == 1 else 'N')"
   ]
  },
  {
   "cell_type": "code",
   "execution_count": 322,
   "metadata": {
    "collapsed": false
   },
   "outputs": [],
   "source": [
    "import csv\n",
    "with open('submission.csv', 'wb') as csvfile:\n",
    "    spamwriter = csv.writer(csvfile, delimiter=',',\n",
    "                            quotechar='|', quoting=csv.QUOTE_MINIMAL)\n",
    "    spamwriter.writerow(['Loan_ID', 'Loan_Status'])\n",
    "    for i in xrange(len(loan_id)):\n",
    "        spamwriter.writerow([loan_id[i], loan_status_predictions[i]])"
   ]
  },
  {
   "cell_type": "code",
   "execution_count": null,
   "metadata": {
    "collapsed": true
   },
   "outputs": [],
   "source": []
  }
 ],
 "metadata": {
  "kernelspec": {
   "display_name": "Python 2",
   "language": "python",
   "name": "python2"
  },
  "language_info": {
   "codemirror_mode": {
    "name": "ipython",
    "version": 2
   },
   "file_extension": ".py",
   "mimetype": "text/x-python",
   "name": "python",
   "nbconvert_exporter": "python",
   "pygments_lexer": "ipython2",
   "version": "2.7.10"
  }
 },
 "nbformat": 4,
 "nbformat_minor": 0
}
