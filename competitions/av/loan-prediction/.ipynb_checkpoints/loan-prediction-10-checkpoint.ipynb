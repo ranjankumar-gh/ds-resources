{
 "cells": [
  {
   "cell_type": "markdown",
   "metadata": {},
   "source": [
    "# Loan prediction"
   ]
  },
  {
   "cell_type": "markdown",
   "metadata": {},
   "source": [
    "Load the libraries"
   ]
  },
  {
   "cell_type": "code",
   "execution_count": 689,
   "metadata": {
    "collapsed": false
   },
   "outputs": [],
   "source": [
    "import pandas as pd\n",
    "import math\n",
    "import numpy as np\n",
    "import csv\n",
    "from sklearn import preprocessing\n",
    "from sklearn.ensemble import AdaBoostClassifier\n",
    "from sklearn.tree import DecisionTreeClassifier, export_graphviz\n",
    "\n",
    "import matplotlib.pyplot as plt\n",
    "%matplotlib inline"
   ]
  },
  {
   "cell_type": "markdown",
   "metadata": {},
   "source": [
    "Load the data"
   ]
  },
  {
   "cell_type": "code",
   "execution_count": 690,
   "metadata": {
    "collapsed": false,
    "scrolled": true
   },
   "outputs": [],
   "source": [
    "loans = pd.read_csv('train_u6lujuX.csv')\n",
    "test_data = pd.read_csv('test_Y3wMUE5.csv')"
   ]
  },
  {
   "cell_type": "markdown",
   "metadata": {},
   "source": [
    "## Data Exploration"
   ]
  },
  {
   "cell_type": "code",
   "execution_count": 691,
   "metadata": {
    "collapsed": false
   },
   "outputs": [
    {
     "name": "stdout",
     "output_type": "stream",
     "text": [
      "614\n",
      "367\n"
     ]
    }
   ],
   "source": [
    "print len(loans)\n",
    "print len(test_data)"
   ]
  },
  {
   "cell_type": "markdown",
   "metadata": {},
   "source": [
    "**Gender**"
   ]
  },
  {
   "cell_type": "code",
   "execution_count": 692,
   "metadata": {
    "collapsed": false
   },
   "outputs": [
    {
     "name": "stdout",
     "output_type": "stream",
     "text": [
      "---Train Data---\n",
      "Male      489\n",
      "Female    112\n",
      "dtype: int64\n",
      "Number of NaN:  13\n",
      "---Test Data---\n",
      "Male      286\n",
      "Female     70\n",
      "dtype: int64\n",
      "Number of NaN:  11\n",
      "---Train Data---\n",
      "1    489\n",
      "2    112\n",
      "dtype: int64\n",
      "Number of NaN:  13\n",
      "---Test Data---\n",
      "1    286\n",
      "2     70\n",
      "dtype: int64\n",
      "Number of NaN:  11\n"
     ]
    }
   ],
   "source": [
    "print \"---Train Data---\"\n",
    "print loans['Gender'].value_counts()\n",
    "print \"Number of NaN: \", loans['Gender'].isnull().sum()\n",
    "\n",
    "print \"---Test Data---\"\n",
    "print test_data['Gender'].value_counts()\n",
    "print \"Number of NaN: \", test_data['Gender'].isnull().sum()\n",
    "\n",
    "def fun_gender(x):\n",
    "    if x == 'Male':\n",
    "        return 1\n",
    "    elif x == 'Female':\n",
    "        return 2\n",
    "    else:\n",
    "        return x\n",
    "            \n",
    "loans['Gender'] = loans['Gender'].apply(lambda x: fun_gender(x))\n",
    "test_data['Gender'] = test_data['Gender'].apply(lambda x: fun_gender(x))\n",
    "\n",
    "print \"---Train Data---\"\n",
    "print loans['Gender'].value_counts()\n",
    "print \"Number of NaN: \", loans['Gender'].isnull().sum()\n",
    "\n",
    "print \"---Test Data---\"\n",
    "print test_data['Gender'].value_counts()\n",
    "print \"Number of NaN: \", test_data['Gender'].isnull().sum()"
   ]
  },
  {
   "cell_type": "markdown",
   "metadata": {},
   "source": [
    "**Married**"
   ]
  },
  {
   "cell_type": "code",
   "execution_count": 693,
   "metadata": {
    "collapsed": false
   },
   "outputs": [
    {
     "name": "stdout",
     "output_type": "stream",
     "text": [
      "---Train Data---\n",
      "<type 'str'>\n",
      "Yes    398\n",
      "No     213\n",
      "dtype: int64\n",
      "Number of NaN:  3\n",
      "---Test Data---\n",
      "<type 'str'>\n",
      "Yes    233\n",
      "No     134\n",
      "dtype: int64\n",
      "Number of NaN:  0\n",
      "---Train Data---\n",
      "<type 'numpy.float64'>\n",
      "2    398\n",
      "1    213\n",
      "dtype: int64\n",
      "Number of NaN:  3\n",
      "---Test Data---\n",
      "<type 'numpy.int64'>\n",
      "2    233\n",
      "1    134\n",
      "dtype: int64\n",
      "Number of NaN:  0\n"
     ]
    }
   ],
   "source": [
    "print \"---Train Data---\"\n",
    "print type(loans['Married'][0])\n",
    "print loans['Married'].value_counts()\n",
    "print \"Number of NaN: \", loans['Married'].isnull().sum()\n",
    "\n",
    "print \"---Test Data---\"\n",
    "print type(test_data['Married'][0])\n",
    "print test_data['Married'].value_counts()\n",
    "print \"Number of NaN: \", test_data['Married'].isnull().sum()\n",
    "\n",
    "def fun_married(x):\n",
    "    if x == 'No':\n",
    "        return 1\n",
    "    elif x == 'Yes':\n",
    "        return 2\n",
    "    else:\n",
    "        return x\n",
    "            \n",
    "loans['Married'] = loans['Married'].apply(lambda x: fun_married(x))\n",
    "test_data['Married'] = test_data['Married'].apply(lambda x: fun_married(x))\n",
    "\n",
    "print \"---Train Data---\"\n",
    "print type(loans['Married'][0])\n",
    "print loans['Married'].value_counts()\n",
    "print \"Number of NaN: \", loans['Married'].isnull().sum()\n",
    "\n",
    "print \"---Test Data---\"\n",
    "print type(test_data['Married'][0])\n",
    "print test_data['Married'].value_counts()\n",
    "print \"Number of NaN: \", test_data['Married'].isnull().sum()"
   ]
  },
  {
   "cell_type": "markdown",
   "metadata": {},
   "source": [
    "**Dependents**"
   ]
  },
  {
   "cell_type": "code",
   "execution_count": 694,
   "metadata": {
    "collapsed": false
   },
   "outputs": [
    {
     "name": "stdout",
     "output_type": "stream",
     "text": [
      "---Train Data---\n",
      "<type 'str'>\n",
      "0     345\n",
      "1     102\n",
      "2     101\n",
      "3+     51\n",
      "dtype: int64\n",
      "Number of NaN:  15\n",
      "---Test Data---\n",
      "<type 'str'>\n",
      "0     200\n",
      "2      59\n",
      "1      58\n",
      "3+     40\n",
      "dtype: int64\n",
      "Number of NaN:  10\n",
      "---Train Data---\n",
      "<type 'numpy.float64'>\n",
      "1    345\n",
      "2    102\n",
      "3    101\n",
      "4     51\n",
      "dtype: int64\n",
      "Number of NaN:  15\n",
      "---Test Data---\n",
      "<type 'numpy.float64'>\n",
      "1    200\n",
      "3     59\n",
      "2     58\n",
      "4     40\n",
      "dtype: int64\n",
      "Number of NaN:  10\n"
     ]
    }
   ],
   "source": [
    "print \"---Train Data---\"\n",
    "print type(loans['Dependents'][0])\n",
    "print loans['Dependents'].value_counts()\n",
    "print \"Number of NaN: \", loans['Dependents'].isnull().sum()\n",
    "\n",
    "print \"---Test Data---\"\n",
    "print type(test_data['Dependents'][0])\n",
    "print test_data['Dependents'].value_counts()\n",
    "print \"Number of NaN: \", test_data['Dependents'].isnull().sum()\n",
    "\n",
    "def fun_dependents(x):\n",
    "    if x == '0':\n",
    "        return 1\n",
    "    elif x == '1':\n",
    "        return 2\n",
    "    elif x == '2':\n",
    "        return 3\n",
    "    elif x == '3+':\n",
    "        return 4\n",
    "    else:\n",
    "        return x\n",
    "            \n",
    "loans['Dependents'] = loans['Dependents'].apply(lambda x: fun_dependents(x))\n",
    "test_data['Dependents'] = test_data['Dependents'].apply(lambda x: fun_dependents(x))\n",
    "\n",
    "print \"---Train Data---\"\n",
    "print type(loans['Dependents'][0])\n",
    "print loans['Dependents'].value_counts()\n",
    "print \"Number of NaN: \", loans['Dependents'].isnull().sum()\n",
    "\n",
    "print \"---Test Data---\"\n",
    "print type(test_data['Dependents'][0])\n",
    "print test_data['Dependents'].value_counts()\n",
    "print \"Number of NaN: \", test_data['Dependents'].isnull().sum()"
   ]
  },
  {
   "cell_type": "markdown",
   "metadata": {},
   "source": [
    "**Education**"
   ]
  },
  {
   "cell_type": "code",
   "execution_count": 695,
   "metadata": {
    "collapsed": false
   },
   "outputs": [
    {
     "name": "stdout",
     "output_type": "stream",
     "text": [
      "---Train Data---\n",
      "<type 'str'>\n",
      "Graduate        480\n",
      "Not Graduate    134\n",
      "dtype: int64\n",
      "Number of NaN:  0\n",
      "---Test Data---\n",
      "<type 'str'>\n",
      "Graduate        283\n",
      "Not Graduate     84\n",
      "dtype: int64\n",
      "Number of NaN:  0\n",
      "---Train Data---\n",
      "<type 'numpy.int64'>\n",
      "1    480\n",
      "2    134\n",
      "dtype: int64\n",
      "Number of NaN:  0\n",
      "---Test Data---\n",
      "<type 'numpy.int64'>\n",
      "1    283\n",
      "2     84\n",
      "dtype: int64\n",
      "Number of NaN:  0\n"
     ]
    }
   ],
   "source": [
    "print \"---Train Data---\"\n",
    "print type(loans['Education'][0])\n",
    "print loans['Education'].value_counts()\n",
    "print \"Number of NaN: \", loans['Education'].isnull().sum()\n",
    "\n",
    "print \"---Test Data---\"\n",
    "print type(test_data['Education'][0])\n",
    "print test_data['Education'].value_counts()\n",
    "print \"Number of NaN: \", test_data['Education'].isnull().sum()\n",
    "\n",
    "loans['Education'] = loans['Education'].apply(lambda x: 1 if x == 'Graduate' else 2)\n",
    "test_data['Education'] = test_data['Education'].apply(lambda x: 1 if x == 'Graduate' else 2)\n",
    "\n",
    "print \"---Train Data---\"\n",
    "print type(loans['Education'][0])\n",
    "print loans['Education'].value_counts()\n",
    "print \"Number of NaN: \", loans['Education'].isnull().sum()\n",
    "\n",
    "print \"---Test Data---\"\n",
    "print type(test_data['Education'][0])\n",
    "print test_data['Education'].value_counts()\n",
    "print \"Number of NaN: \", test_data['Education'].isnull().sum()"
   ]
  },
  {
   "cell_type": "markdown",
   "metadata": {},
   "source": [
    "**Self_Employed**"
   ]
  },
  {
   "cell_type": "code",
   "execution_count": 696,
   "metadata": {
    "collapsed": false
   },
   "outputs": [
    {
     "name": "stdout",
     "output_type": "stream",
     "text": [
      "---Train Data---\n",
      "<type 'str'>\n",
      "No     500\n",
      "Yes     82\n",
      "dtype: int64\n",
      "Number of NaN:  32\n",
      "---Test Data---\n",
      "<type 'str'>\n",
      "No     307\n",
      "Yes     37\n",
      "dtype: int64\n",
      "Number of NaN:  23\n",
      "---Train Data---\n",
      "<type 'numpy.float64'>\n",
      "1    500\n",
      "2     82\n",
      "dtype: int64\n",
      "Number of NaN:  32\n",
      "---Test Data---\n",
      "<type 'numpy.float64'>\n",
      "1    307\n",
      "2     37\n",
      "dtype: int64\n",
      "Number of NaN:  23\n"
     ]
    }
   ],
   "source": [
    "print \"---Train Data---\"\n",
    "print type(loans['Self_Employed'][0])\n",
    "print loans['Self_Employed'].value_counts()\n",
    "print \"Number of NaN: \", loans['Self_Employed'].isnull().sum()\n",
    "\n",
    "print \"---Test Data---\"\n",
    "print type(test_data['Self_Employed'][0])\n",
    "print test_data['Self_Employed'].value_counts()\n",
    "print \"Number of NaN: \", test_data['Self_Employed'].isnull().sum()\n",
    "\n",
    "def fun_Self_Employed(x):\n",
    "    if x == 'No':\n",
    "        return 1\n",
    "    elif x == 'Yes':\n",
    "        return 2\n",
    "    else:\n",
    "        return x\n",
    "        \n",
    "loans['Self_Employed'] = loans['Self_Employed'].apply(lambda x: fun_Self_Employed(x))\n",
    "test_data['Self_Employed'] = test_data['Self_Employed'].apply(lambda x: fun_Self_Employed(x))\n",
    "\n",
    "print \"---Train Data---\"\n",
    "print type(loans['Self_Employed'][0])\n",
    "print loans['Self_Employed'].value_counts()\n",
    "print \"Number of NaN: \", loans['Self_Employed'].isnull().sum()\n",
    "\n",
    "print \"---Test Data---\"\n",
    "print type(test_data['Self_Employed'][0])\n",
    "print test_data['Self_Employed'].value_counts()\n",
    "print \"Number of NaN: \", test_data['Self_Employed'].isnull().sum()"
   ]
  },
  {
   "cell_type": "markdown",
   "metadata": {},
   "source": [
    "**ApplicantIncome**"
   ]
  },
  {
   "cell_type": "code",
   "execution_count": 697,
   "metadata": {
    "collapsed": false
   },
   "outputs": [
    {
     "name": "stdout",
     "output_type": "stream",
     "text": [
      "---Train Data---\n",
      "<type 'numpy.int64'>\n",
      "2500     9\n",
      "4583     6\n",
      "2600     6\n",
      "6000     6\n",
      "5000     5\n",
      "4166     5\n",
      "3333     5\n",
      "3750     5\n",
      "2400     4\n",
      "8333     4\n",
      "2583     4\n",
      "6250     4\n",
      "3500     3\n",
      "5417     3\n",
      "3000     3\n",
      "2333     3\n",
      "10000    3\n",
      "3166     3\n",
      "3167     3\n",
      "4000     3\n",
      "4333     3\n",
      "3400     3\n",
      "4750     2\n",
      "3173     2\n",
      "4300     2\n",
      "5500     2\n",
      "3510     2\n",
      "3717     2\n",
      "2917     2\n",
      "3466     2\n",
      "        ..\n",
      "2755     1\n",
      "4735     1\n",
      "2720     1\n",
      "3716     1\n",
      "9357     1\n",
      "2698     1\n",
      "2699     1\n",
      "3727     1\n",
      "4755     1\n",
      "2708     1\n",
      "4758     1\n",
      "14999    1\n",
      "15000    1\n",
      "2717     1\n",
      "2718     1\n",
      "674      1\n",
      "3775     1\n",
      "3748     1\n",
      "5124     1\n",
      "5829     1\n",
      "5800     1\n",
      "2149     1\n",
      "3762     1\n",
      "4931     1\n",
      "5815     1\n",
      "5818     1\n",
      "5819     1\n",
      "5821     1\n",
      "2750     1\n",
      "3691     1\n",
      "dtype: int64\n",
      "Number of NaN:  0\n",
      "---Test Data---\n",
      "<type 'numpy.int64'>\n",
      "3500     6\n",
      "5000     6\n",
      "3333     5\n",
      "7500     4\n",
      "4333     4\n",
      "2500     4\n",
      "4083     3\n",
      "5833     3\n",
      "4000     3\n",
      "6500     3\n",
      "3417     3\n",
      "10000    3\n",
      "4483     2\n",
      "2157     2\n",
      "3276     2\n",
      "2400     2\n",
      "3391     2\n",
      "4500     2\n",
      "4700     2\n",
      "5333     2\n",
      "2166     2\n",
      "3250     2\n",
      "3958     2\n",
      "2600     2\n",
      "0        2\n",
      "4742     2\n",
      "2783     2\n",
      "1516     2\n",
      "1750     2\n",
      "5667     2\n",
      "        ..\n",
      "2779     1\n",
      "2914     1\n",
      "1596     1\n",
      "2917     1\n",
      "2918     1\n",
      "2964     1\n",
      "7016     1\n",
      "2922     1\n",
      "3522     1\n",
      "1900     1\n",
      "2925     1\n",
      "6478     1\n",
      "1888     1\n",
      "5314     1\n",
      "2360     1\n",
      "6958     1\n",
      "3887     1\n",
      "4912     1\n",
      "4402     1\n",
      "2356     1\n",
      "8334     1\n",
      "2362     1\n",
      "3400     1\n",
      "3900     1\n",
      "3901     1\n",
      "2366     1\n",
      "2083     1\n",
      "13633    1\n",
      "3909     1\n",
      "2875     1\n",
      "dtype: int64\n",
      "Number of NaN:  0\n"
     ]
    }
   ],
   "source": [
    "print \"---Train Data---\"\n",
    "print type(loans['ApplicantIncome'][0])\n",
    "print loans['ApplicantIncome'].value_counts()\n",
    "print \"Number of NaN: \", loans['ApplicantIncome'].isnull().sum()\n",
    "\n",
    "print \"---Test Data---\"\n",
    "print type(test_data['ApplicantIncome'][0])\n",
    "print test_data['ApplicantIncome'].value_counts()\n",
    "print \"Number of NaN: \", test_data['ApplicantIncome'].isnull().sum()"
   ]
  },
  {
   "cell_type": "markdown",
   "metadata": {},
   "source": [
    "**CoapplicantIncome**"
   ]
  },
  {
   "cell_type": "code",
   "execution_count": 698,
   "metadata": {
    "collapsed": false
   },
   "outputs": [
    {
     "name": "stdout",
     "output_type": "stream",
     "text": [
      "---Train Data---\n",
      "<type 'numpy.float64'>\n",
      "0       273\n",
      "2500      5\n",
      "1666      5\n",
      "2083      5\n",
      "1750      3\n",
      "2250      3\n",
      "2333      3\n",
      "1800      3\n",
      "1459      3\n",
      "1625      3\n",
      "5625      3\n",
      "1950      2\n",
      "3000      2\n",
      "1451      2\n",
      "1717      2\n",
      "1843      2\n",
      "1430      2\n",
      "3167      2\n",
      "2054      2\n",
      "2451      2\n",
      "3750      2\n",
      "4416      2\n",
      "1640      2\n",
      "2167      2\n",
      "1917      2\n",
      "3500      2\n",
      "1667      2\n",
      "2925      2\n",
      "1300      2\n",
      "4167      2\n",
      "       ... \n",
      "1400      1\n",
      "1911      1\n",
      "1398      1\n",
      "2417      1\n",
      "2416      1\n",
      "1387      1\n",
      "2375      1\n",
      "2405      1\n",
      "3428      1\n",
      "4417      1\n",
      "2400      1\n",
      "2035      1\n",
      "1881      1\n",
      "3416      1\n",
      "2857      1\n",
      "2900      1\n",
      "1875      1\n",
      "1872      1\n",
      "2383      1\n",
      "4983      1\n",
      "1868      1\n",
      "1863      1\n",
      "3906      1\n",
      "1857      1\n",
      "830       1\n",
      "2365      1\n",
      "1302      1\n",
      "1851      1\n",
      "2358      1\n",
      "2816      1\n",
      "dtype: int64\n",
      "Number of NaN:  0\n",
      "---Test Data---\n",
      "<type 'numpy.int64'>\n",
      "0        156\n",
      "2000       3\n",
      "700        3\n",
      "2600       2\n",
      "1083       2\n",
      "2166       2\n",
      "1760       2\n",
      "1250       2\n",
      "2333       2\n",
      "833        2\n",
      "750        2\n",
      "2900       2\n",
      "2400       2\n",
      "910        2\n",
      "3583       2\n",
      "1517       2\n",
      "1500       2\n",
      "1497       1\n",
      "2233       1\n",
      "3077       1\n",
      "1707       1\n",
      "2730       1\n",
      "1704       1\n",
      "3750       1\n",
      "4256       1\n",
      "13983      1\n",
      "2717       1\n",
      "4246       1\n",
      "2183       1\n",
      "2708       1\n",
      "        ... \n",
      "1788       1\n",
      "14507      1\n",
      "250        1\n",
      "1542       1\n",
      "1270       1\n",
      "2291       1\n",
      "1380       1\n",
      "292        1\n",
      "296        1\n",
      "2916       1\n",
      "1350       1\n",
      "2015       1\n",
      "3422       1\n",
      "2393       1\n",
      "2529       1\n",
      "2382       1\n",
      "333        1\n",
      "3916       1\n",
      "4583       1\n",
      "3396       1\n",
      "818        1\n",
      "2370       1\n",
      "2024       1\n",
      "8000       1\n",
      "2367       1\n",
      "3900       1\n",
      "2360       1\n",
      "820        1\n",
      "1966       1\n",
      "4347       1\n",
      "dtype: int64\n",
      "Number of NaN:  0\n"
     ]
    }
   ],
   "source": [
    "print \"---Train Data---\"\n",
    "print type(loans['CoapplicantIncome'][0])\n",
    "print loans['CoapplicantIncome'].value_counts()\n",
    "print \"Number of NaN: \", loans['CoapplicantIncome'].isnull().sum()\n",
    "\n",
    "print \"---Test Data---\"\n",
    "print type(test_data['CoapplicantIncome'][0])\n",
    "print test_data['CoapplicantIncome'].value_counts()\n",
    "print \"Number of NaN: \", test_data['CoapplicantIncome'].isnull().sum()"
   ]
  },
  {
   "cell_type": "markdown",
   "metadata": {},
   "source": [
    "**LoanAmount**"
   ]
  },
  {
   "cell_type": "code",
   "execution_count": 699,
   "metadata": {
    "collapsed": false,
    "scrolled": true
   },
   "outputs": [
    {
     "name": "stdout",
     "output_type": "stream",
     "text": [
      "---Train Data---\n",
      "<type 'numpy.float64'>\n",
      "120    20\n",
      "110    17\n",
      "100    15\n",
      "160    12\n",
      "187    12\n",
      "113    11\n",
      "128    11\n",
      "130    10\n",
      "95      9\n",
      "96      9\n",
      "115     8\n",
      "112     8\n",
      "70      8\n",
      "135     7\n",
      "132     7\n",
      "150     7\n",
      "136     7\n",
      "125     7\n",
      "104     7\n",
      "138     6\n",
      "90      6\n",
      "158     6\n",
      "144     6\n",
      "81      6\n",
      "180     6\n",
      "175     6\n",
      "155     6\n",
      "80      6\n",
      "116     6\n",
      "124     5\n",
      "       ..\n",
      "142     1\n",
      "145     1\n",
      "146     1\n",
      "496     1\n",
      "153     1\n",
      "156     1\n",
      "159     1\n",
      "164     1\n",
      "166     1\n",
      "167     1\n",
      "178     1\n",
      "181     1\n",
      "190     1\n",
      "196     1\n",
      "244     1\n",
      "207     1\n",
      "208     1\n",
      "209     1\n",
      "211     1\n",
      "214     1\n",
      "218     1\n",
      "228     1\n",
      "230     1\n",
      "234     1\n",
      "236     1\n",
      "239     1\n",
      "240     1\n",
      "242     1\n",
      "243     1\n",
      "9       1\n",
      "dtype: int64\n",
      "Number of NaN:  22\n",
      "---Test Data---\n",
      "<type 'numpy.float64'>\n",
      "150    12\n",
      "125    11\n",
      "110    10\n",
      "187     9\n",
      "120     9\n",
      "90      9\n",
      "100     9\n",
      "130     8\n",
      "108     8\n",
      "135     7\n",
      "80      6\n",
      "176     5\n",
      "185     5\n",
      "131     5\n",
      "104     5\n",
      "200     5\n",
      "122     5\n",
      "160     5\n",
      "162     4\n",
      "126     4\n",
      "123     4\n",
      "117     4\n",
      "116     4\n",
      "138     4\n",
      "140     4\n",
      "102     4\n",
      "70      4\n",
      "152     4\n",
      "105     4\n",
      "65      4\n",
      "       ..\n",
      "208     1\n",
      "209     1\n",
      "213     1\n",
      "214     1\n",
      "225     1\n",
      "232     1\n",
      "234     1\n",
      "235     1\n",
      "177     1\n",
      "166     1\n",
      "66      1\n",
      "163     1\n",
      "93      1\n",
      "98      1\n",
      "103     1\n",
      "109     1\n",
      "112     1\n",
      "240     1\n",
      "121     1\n",
      "390     1\n",
      "137     1\n",
      "141     1\n",
      "142     1\n",
      "151     1\n",
      "153     1\n",
      "155     1\n",
      "412     1\n",
      "157     1\n",
      "159     1\n",
      "256     1\n",
      "dtype: int64\n",
      "Number of NaN:  5\n"
     ]
    }
   ],
   "source": [
    "print \"---Train Data---\"\n",
    "print type(loans['LoanAmount'][0])\n",
    "print loans['LoanAmount'].value_counts()\n",
    "print \"Number of NaN: \", loans['LoanAmount'].isnull().sum()\n",
    "\n",
    "print \"---Test Data---\"\n",
    "print type(test_data['LoanAmount'][0])\n",
    "print test_data['LoanAmount'].value_counts()\n",
    "print \"Number of NaN: \", test_data['LoanAmount'].isnull().sum()"
   ]
  },
  {
   "cell_type": "markdown",
   "metadata": {},
   "source": [
    "**Loan_Amount_Term**"
   ]
  },
  {
   "cell_type": "code",
   "execution_count": 700,
   "metadata": {
    "collapsed": false,
    "scrolled": true
   },
   "outputs": [
    {
     "name": "stdout",
     "output_type": "stream",
     "text": [
      "---Train Data---\n",
      "<type 'numpy.float64'>\n",
      "360    512\n",
      "180     44\n",
      "480     15\n",
      "300     13\n",
      "240      4\n",
      "84       4\n",
      "120      3\n",
      "60       2\n",
      "36       2\n",
      "12       1\n",
      "dtype: int64\n",
      "Number of NaN:  14\n",
      "---Test Data---\n",
      "<type 'numpy.float64'>\n",
      "360    311\n",
      "180     22\n",
      "480      8\n",
      "300      7\n",
      "240      4\n",
      "84       3\n",
      "60       1\n",
      "120      1\n",
      "36       1\n",
      "350      1\n",
      "12       1\n",
      "6        1\n",
      "dtype: int64\n",
      "Number of NaN:  6\n"
     ]
    }
   ],
   "source": [
    "print \"---Train Data---\"\n",
    "print type(loans['Loan_Amount_Term'][0])\n",
    "print loans['Loan_Amount_Term'].value_counts()\n",
    "print \"Number of NaN: \", loans['Loan_Amount_Term'].isnull().sum()\n",
    "\n",
    "print \"---Test Data---\"\n",
    "print type(test_data['Loan_Amount_Term'][0])\n",
    "print test_data['Loan_Amount_Term'].value_counts()\n",
    "print \"Number of NaN: \", test_data['Loan_Amount_Term'].isnull().sum()"
   ]
  },
  {
   "cell_type": "markdown",
   "metadata": {},
   "source": [
    "**Credit_History**"
   ]
  },
  {
   "cell_type": "code",
   "execution_count": 701,
   "metadata": {
    "collapsed": false,
    "scrolled": true
   },
   "outputs": [
    {
     "name": "stdout",
     "output_type": "stream",
     "text": [
      "---Train Data---\n",
      "<type 'numpy.float64'>\n",
      "1    475\n",
      "0     89\n",
      "dtype: int64\n",
      "Number of NaN:  50\n",
      "---Test Data---\n",
      "<type 'numpy.int64'>\n",
      "2    308\n",
      "1     59\n",
      "dtype: int64\n",
      "Number of NaN:  0\n"
     ]
    }
   ],
   "source": [
    "print \"---Train Data---\"\n",
    "print type(loans['Credit_History'][0])\n",
    "print loans['Credit_History'].value_counts()\n",
    "print \"Number of NaN: \", loans['Credit_History'].isnull().sum()\n",
    "\n",
    "loans['Credit_History'] = loans['Credit_History'].apply(lambda x: 1 if x == 0 else 2)\n",
    "test_data['Credit_History'] = test_data['Credit_History'].apply(lambda x: 1 if x == 0 else 2)\n",
    "\n",
    "print \"---Test Data---\"\n",
    "print type(test_data['Credit_History'][0])\n",
    "print test_data['Credit_History'].value_counts()\n",
    "print \"Number of NaN: \", test_data['Credit_History'].isnull().sum()"
   ]
  },
  {
   "cell_type": "markdown",
   "metadata": {},
   "source": [
    "**Property_Area**"
   ]
  },
  {
   "cell_type": "code",
   "execution_count": 702,
   "metadata": {
    "collapsed": false
   },
   "outputs": [
    {
     "name": "stdout",
     "output_type": "stream",
     "text": [
      "---Train Data---\n",
      "<type 'str'>\n",
      "Semiurban    233\n",
      "Urban        202\n",
      "Rural        179\n",
      "dtype: int64\n",
      "Number of NaN:  0\n",
      "---Test Data---\n",
      "<type 'str'>\n",
      "Urban        140\n",
      "Semiurban    116\n",
      "Rural        111\n",
      "dtype: int64\n",
      "Number of NaN:  0\n",
      "---Train Data---\n",
      "<type 'numpy.int64'>\n",
      "1    233\n",
      "2    202\n",
      "3    179\n",
      "dtype: int64\n",
      "Number of NaN:  0\n",
      "---Test Data---\n",
      "<type 'numpy.int64'>\n",
      "2    140\n",
      "1    116\n",
      "3    111\n",
      "dtype: int64\n",
      "Number of NaN:  0\n"
     ]
    }
   ],
   "source": [
    "print \"---Train Data---\"\n",
    "print type(loans['Property_Area'][0])\n",
    "print loans['Property_Area'].value_counts()\n",
    "print \"Number of NaN: \", loans['Property_Area'].isnull().sum()\n",
    "\n",
    "print \"---Test Data---\"\n",
    "print type(test_data['Property_Area'][0])\n",
    "print test_data['Property_Area'].value_counts()\n",
    "print \"Number of NaN: \", test_data['Property_Area'].isnull().sum()\n",
    "\n",
    "def fun_Property_Area(x):\n",
    "    if x == 'Semiurban':\n",
    "        return 1\n",
    "    elif x == 'Urban':\n",
    "        return 2\n",
    "    elif x == 'Rural':\n",
    "        return 3\n",
    "    else:\n",
    "        return x\n",
    "        \n",
    "loans['Property_Area'] = loans['Property_Area'].apply(lambda x: fun_Property_Area(x))\n",
    "test_data['Property_Area'] = test_data['Property_Area'].apply(lambda x: fun_Property_Area(x))\n",
    "\n",
    "print \"---Train Data---\"\n",
    "print type(loans['Property_Area'][0])\n",
    "print loans['Property_Area'].value_counts()\n",
    "print \"Number of NaN: \", loans['Property_Area'].isnull().sum()\n",
    "\n",
    "print \"---Test Data---\"\n",
    "print type(test_data['Property_Area'][0])\n",
    "print test_data['Property_Area'].value_counts()\n",
    "print \"Number of NaN: \", test_data['Property_Area'].isnull().sum()"
   ]
  },
  {
   "cell_type": "markdown",
   "metadata": {},
   "source": [
    "**Loan_Status**"
   ]
  },
  {
   "cell_type": "code",
   "execution_count": 703,
   "metadata": {
    "collapsed": false
   },
   "outputs": [
    {
     "name": "stdout",
     "output_type": "stream",
     "text": [
      "---Train Data---\n",
      "<type 'str'>\n",
      "Y    422\n",
      "N    192\n",
      "dtype: int64\n",
      "Number of NaN:  0\n",
      "---Train Data---\n",
      "<type 'numpy.int64'>\n",
      " 1    422\n",
      "-1    192\n",
      "dtype: int64\n",
      "Number of NaN:  0\n",
      "---No Loan_Status in Test Data---\n"
     ]
    }
   ],
   "source": [
    "print \"---Train Data---\"\n",
    "print type(loans['Loan_Status'][0])\n",
    "print loans['Loan_Status'].value_counts()\n",
    "print \"Number of NaN: \", loans['Loan_Status'].isnull().sum()\n",
    "\n",
    "loans['Loan_Status'] = loans['Loan_Status'].apply(lambda x: -1 if x == 'N' else 1)\n",
    "\n",
    "print \"---Train Data---\"\n",
    "print type(loans['Loan_Status'][0])\n",
    "print loans['Loan_Status'].value_counts()\n",
    "print \"Number of NaN: \", loans['Loan_Status'].isnull().sum()\n",
    "\n",
    "print \"---No Loan_Status in Test Data---\""
   ]
  },
  {
   "cell_type": "code",
   "execution_count": 669,
   "metadata": {
    "collapsed": false
   },
   "outputs": [
    {
     "name": "stdout",
     "output_type": "stream",
     "text": [
      "    Loan_ID  Gender  Married  Dependents  Education  Self_Employed  \\\n",
      "0  LP001002       0        0           0          0              0   \n",
      "1  LP001003       0        1           1          0              0   \n",
      "2  LP001005       0        1           0          0              1   \n",
      "3  LP001006       0        1           0          1              0   \n",
      "4  LP001008       0        0           0          0              0   \n",
      "\n",
      "   ApplicantIncome  CoapplicantIncome  LoanAmount  Loan_Amount_Term  \\\n",
      "0             5849                  0         NaN               360   \n",
      "1             4583               1508         128               360   \n",
      "2             3000                  0          66               360   \n",
      "3             2583               2358         120               360   \n",
      "4             6000                  0         141               360   \n",
      "\n",
      "   Credit_History  Property_Area  Loan_Status  \n",
      "0               1              1            1  \n",
      "1               1              2           -1  \n",
      "2               1              1            1  \n",
      "3               1              1            1  \n",
      "4               1              1            1  \n",
      "    Loan_ID  Gender  Married  Dependents  Education  Self_Employed  \\\n",
      "0  LP001015       0        1           0          0              0   \n",
      "1  LP001022       0        1           1          0              0   \n",
      "2  LP001031       0        1           2          0              0   \n",
      "3  LP001035       0        1           2          0              0   \n",
      "4  LP001051       0        0           0          1              0   \n",
      "\n",
      "   ApplicantIncome  CoapplicantIncome  LoanAmount  Loan_Amount_Term  \\\n",
      "0             5720                  0         110               360   \n",
      "1             3076               1500         126               360   \n",
      "2             5000               1800         208               360   \n",
      "3             2340               2546         100               360   \n",
      "4             3276                  0          78               360   \n",
      "\n",
      "   Credit_History  Property_Area  \n",
      "0               1              1  \n",
      "1               1              1  \n",
      "2               1              1  \n",
      "3             NaN              1  \n",
      "4               1              1  \n"
     ]
    }
   ],
   "source": [
    "print loans.head()\n",
    "print test_data.head()"
   ]
  },
  {
   "cell_type": "markdown",
   "metadata": {},
   "source": [
    "### Features and Target"
   ]
  },
  {
   "cell_type": "code",
   "execution_count": 704,
   "metadata": {
    "collapsed": false
   },
   "outputs": [],
   "source": [
    "features = ['Gender', \n",
    "            'Married', \n",
    "            'Dependents',\n",
    "            'Education',\n",
    "            'Self_Employed',\n",
    "            'ApplicantIncome', \n",
    "            'CoapplicantIncome',\n",
    "            'LoanAmount',\n",
    "            'Loan_Amount_Term',\n",
    "            'Credit_History',\n",
    "            'Property_Area']\n",
    "target = 'Loan_Status'\n",
    "\n",
    "loans = loans[features + [target]]\n",
    "test_data_features = test_data[features]"
   ]
  },
  {
   "cell_type": "markdown",
   "metadata": {},
   "source": [
    "### Imputation on Train Data"
   ]
  },
  {
   "cell_type": "code",
   "execution_count": 671,
   "metadata": {
    "collapsed": false
   },
   "outputs": [],
   "source": [
    "imp = Imputer(missing_values='NaN', strategy='mean', axis=0)\n",
    "imp.fit(loans)\n",
    "loans_data_np = imp.transform(loans)\n",
    "\n",
    "loans_data = pd.DataFrame(loans_data_np, columns=loans.columns)"
   ]
  },
  {
   "cell_type": "markdown",
   "metadata": {},
   "source": [
    "### Imputation on Test Data"
   ]
  },
  {
   "cell_type": "code",
   "execution_count": 672,
   "metadata": {
    "collapsed": false
   },
   "outputs": [],
   "source": [
    "imp = Imputer(missing_values='NaN', strategy='mean', axis=0)\n",
    "imp.fit(test_data_features)\n",
    "test_data_features_np = imp.transform(test_data_features)\n",
    "\n",
    "test_data_features = pd.DataFrame(test_data_features_np, columns=features)"
   ]
  },
  {
   "cell_type": "markdown",
   "metadata": {},
   "source": [
    "**TotalIncome**"
   ]
  },
  {
   "cell_type": "code",
   "execution_count": 673,
   "metadata": {
    "collapsed": false
   },
   "outputs": [
    {
     "name": "stdout",
     "output_type": "stream",
     "text": [
      "---Train Data---\n",
      "0    5849\n",
      "1    6091\n",
      "2    3000\n",
      "3    4941\n",
      "4    6000\n",
      "Name: TotalIncome, dtype: float64\n",
      "---Test Data---\n",
      "0    5720\n",
      "1    4576\n",
      "2    6800\n",
      "3    4886\n",
      "4    3276\n",
      "Name: TotalIncome, dtype: float64\n"
     ]
    }
   ],
   "source": [
    "print \"---Train Data---\"\n",
    "loans_data['TotalIncome'] = loans_data['ApplicantIncome'] + loans_data['CoapplicantIncome']\n",
    "print loans_data['TotalIncome'].head()\n",
    "\n",
    "print \"---Test Data---\"\n",
    "test_data_features['TotalIncome'] = test_data_features['ApplicantIncome'] + test_data_features['CoapplicantIncome']\n",
    "print test_data_features['TotalIncome'].head()"
   ]
  },
  {
   "cell_type": "markdown",
   "metadata": {},
   "source": [
    "**EMI**"
   ]
  },
  {
   "cell_type": "code",
   "execution_count": 674,
   "metadata": {
    "collapsed": false
   },
   "outputs": [
    {
     "name": "stdout",
     "output_type": "stream",
     "text": [
      "---Train Data---\n",
      "0    0.406700\n",
      "1    0.355556\n",
      "2    0.183333\n",
      "3    0.333333\n",
      "4    0.391667\n",
      "Name: EMI, dtype: float64\n",
      "---Test Data---\n",
      "0    0.305556\n",
      "1    0.350000\n",
      "2    0.577778\n",
      "3    0.277778\n",
      "4    0.216667\n",
      "Name: EMI, dtype: float64\n"
     ]
    }
   ],
   "source": [
    "print \"---Train Data---\"\n",
    "loans_data['EMI'] = loans_data['LoanAmount'] / loans_data['Loan_Amount_Term']\n",
    "print loans_data['EMI'].head()\n",
    "\n",
    "print \"---Test Data---\"\n",
    "test_data_features['EMI'] = test_data_features['LoanAmount'] / test_data_features['Loan_Amount_Term']\n",
    "print test_data_features['EMI'].head()"
   ]
  },
  {
   "cell_type": "code",
   "execution_count": 1,
   "metadata": {
    "collapsed": true
   },
   "outputs": [],
   "source": [
    "features_m = ['Credit_History',\n",
    "            'Property_Area']"
   ]
  },
  {
   "cell_type": "markdown",
   "metadata": {},
   "source": [
    "## Training"
   ]
  },
  {
   "cell_type": "code",
   "execution_count": 685,
   "metadata": {
    "collapsed": false
   },
   "outputs": [
    {
     "data": {
      "text/plain": [
       "AdaBoostClassifier(algorithm='SAMME',\n",
       "          base_estimator=DecisionTreeClassifier(class_weight=None, criterion='gini', max_depth=1,\n",
       "            max_features=None, max_leaf_nodes=None, min_samples_leaf=1,\n",
       "            min_samples_split=2, min_weight_fraction_leaf=0.0,\n",
       "            random_state=None, splitter='best'),\n",
       "          learning_rate=1.0, n_estimators=5, random_state=None)"
      ]
     },
     "execution_count": 685,
     "metadata": {},
     "output_type": "execute_result"
    }
   ],
   "source": [
    "X = loans_data[features_m]\n",
    "y = loans_data[target]\n",
    "\n",
    "dt = AdaBoostClassifier(DecisionTreeClassifier(max_depth=1),\n",
    "                         algorithm=\"SAMME\",\n",
    "                         n_estimators=5)\n",
    "\n",
    "#dt = DecisionTreeClassifier(max_depth=7, min_samples_split=600, random_state=99)\n",
    "dt.fit(X, y)"
   ]
  },
  {
   "cell_type": "markdown",
   "metadata": {},
   "source": [
    "## Making predictions using the model"
   ]
  },
  {
   "cell_type": "code",
   "execution_count": 686,
   "metadata": {
    "collapsed": false,
    "scrolled": false
   },
   "outputs": [
    {
     "name": "stdout",
     "output_type": "stream",
     "text": [
      "[ 1.  1.  1.  1.  1.  1.  1. -1.  1.  1.  1.  1.  1. -1.  1.  1.  1.  1.\n",
      "  1.  1.  1.  1.  1.  1.  1. -1.  1.  1.  1.  1.  1.  1.  1.  1.  1. -1.\n",
      "  1.  1.  1.  1.  1.  1.  1.  1.  1.  1.  1.  1.  1.  1.  1.  1.  1.  1.\n",
      "  1. -1.  1.  1. -1.  1.  1.  1.  1. -1.  1.  1. -1. -1.  1. -1.  1.  1.\n",
      "  1.  1.  1.  1.  1.  1.  1.  1. -1.  1. -1.  1. -1.  1.  1.  1.  1.  1.\n",
      "  1.  1.  1.  1. -1.  1.  1.  1.  1.  1.  1. -1.  1.  1.  1.  1. -1.  1.\n",
      "  1.  1.  1.  1.  1.  1.  1.  1.  1. -1. -1. -1.  1.  1.  1. -1. -1.  1.\n",
      " -1.  1.  1.  1.  1.  1.  1.  1.  1.  1.  1.  1.  1.  1. -1.  1. -1.  1.\n",
      "  1.  1.  1. -1.  1.  1.  1.  1.  1. -1.  1.  1.  1.  1.  1.  1.  1. -1.\n",
      "  1.  1.  1. -1. -1.  1. -1.  1.  1.  1.  1. -1. -1.  1.  1.  1.  1.  1.\n",
      "  1.  1.  1.  1.  1.  1.  1.  1.  1.  1.  1.  1. -1. -1.  1.  1. -1.  1.\n",
      " -1.  1.  1.  1.  1.  1.  1.  1.  1.  1.  1.  1.  1. -1.  1.  1.  1.  1.\n",
      "  1.  1.  1.  1.  1.  1.  1.  1. -1.  1.  1.  1.  1. -1.  1.  1.  1.  1.\n",
      "  1. -1. -1.  1.  1.  1.  1. -1.  1. -1.  1. -1.  1.  1.  1.  1. -1.  1.\n",
      "  1.  1.  1. -1.  1.  1.  1.  1.  1.  1.  1.  1.  1.  1. -1.  1. -1.  1.\n",
      "  1.  1.  1. -1. -1.  1.  1.  1. -1.  1.  1.  1.  1.  1.  1.  1.  1.  1.\n",
      "  1.  1.  1.  1.  1. -1.  1.  1.  1.  1.  1.  1.  1. -1.  1.  1.  1.  1.\n",
      "  1.  1.  1.  1.  1. -1.  1.  1.  1.  1.  1. -1.  1.  1.  1.  1.  1.  1.\n",
      "  1. -1.  1.  1.  1.  1.  1.  1.  1.  1.  1.  1.  1.  1.  1. -1.  1.  1.\n",
      "  1.  1.  1.  1. -1.  1.  1.  1.  1.  1.  1.  1. -1.  1.  1.  1.  1.  1.\n",
      "  1.  1.  1.  1.  1.  1.  1.]\n"
     ]
    }
   ],
   "source": [
    "predictions = dt.predict(test_data_features[features_m])\n",
    "print predictions"
   ]
  },
  {
   "cell_type": "markdown",
   "metadata": {},
   "source": [
    "## Writing the submission file"
   ]
  },
  {
   "cell_type": "code",
   "execution_count": 687,
   "metadata": {
    "collapsed": true
   },
   "outputs": [],
   "source": [
    "loan_id = test_data['Loan_ID']\n",
    "predictionsS = pd.Series(predictions)\n",
    "loan_status_predictions = predictionsS.apply(lambda x: 'Y' if x == 1 else 'N')"
   ]
  },
  {
   "cell_type": "code",
   "execution_count": 688,
   "metadata": {
    "collapsed": false
   },
   "outputs": [],
   "source": [
    "with open('submission.csv', 'wb') as csvfile:\n",
    "    spamwriter = csv.writer(csvfile, delimiter=',',\n",
    "                            quotechar='|', quoting=csv.QUOTE_MINIMAL)\n",
    "    spamwriter.writerow(['Loan_ID', 'Loan_Status'])\n",
    "    for i in xrange(len(loan_id)):\n",
    "        spamwriter.writerow([loan_id[i], loan_status_predictions[i]])"
   ]
  },
  {
   "cell_type": "code",
   "execution_count": null,
   "metadata": {
    "collapsed": true
   },
   "outputs": [],
   "source": []
  }
 ],
 "metadata": {
  "kernelspec": {
   "display_name": "Python 2",
   "language": "python",
   "name": "python2"
  },
  "language_info": {
   "codemirror_mode": {
    "name": "ipython",
    "version": 2
   },
   "file_extension": ".py",
   "mimetype": "text/x-python",
   "name": "python",
   "nbconvert_exporter": "python",
   "pygments_lexer": "ipython2",
   "version": "2.7.10"
  }
 },
 "nbformat": 4,
 "nbformat_minor": 0
}
