{
 "cells": [
  {
   "cell_type": "markdown",
   "metadata": {},
   "source": [
    "# Applying K-Nearest Mode for Loan prediction"
   ]
  },
  {
   "cell_type": "code",
   "execution_count": 61,
   "metadata": {
    "collapsed": false
   },
   "outputs": [],
   "source": [
    "import pandas as pd\n",
    "import numpy as np\n",
    "import csv\n",
    "import matplotlib.pyplot as plt\n",
    "%matplotlib inline\n",
    "\n",
    "from sklearn.neighbors import KNeighborsClassifier\n",
    "from sklearn.linear_model import LogisticRegression"
   ]
  },
  {
   "cell_type": "code",
   "execution_count": 62,
   "metadata": {
    "collapsed": false
   },
   "outputs": [
    {
     "data": {
      "text/html": [
       "<div>\n",
       "<table border=\"1\" class=\"dataframe\">\n",
       "  <thead>\n",
       "    <tr style=\"text-align: right;\">\n",
       "      <th></th>\n",
       "      <th>Loan_ID</th>\n",
       "      <th>Gender</th>\n",
       "      <th>Married</th>\n",
       "      <th>Dependents</th>\n",
       "      <th>Education</th>\n",
       "      <th>Self_Employed</th>\n",
       "      <th>ApplicantIncome</th>\n",
       "      <th>CoapplicantIncome</th>\n",
       "      <th>LoanAmount</th>\n",
       "      <th>Loan_Amount_Term</th>\n",
       "      <th>Credit_History</th>\n",
       "      <th>Property_Area</th>\n",
       "      <th>Loan_Status</th>\n",
       "    </tr>\n",
       "  </thead>\n",
       "  <tbody>\n",
       "    <tr>\n",
       "      <th>0</th>\n",
       "      <td>LP001002</td>\n",
       "      <td>Male</td>\n",
       "      <td>No</td>\n",
       "      <td>0</td>\n",
       "      <td>Graduate</td>\n",
       "      <td>No</td>\n",
       "      <td>5849</td>\n",
       "      <td>0</td>\n",
       "      <td>NaN</td>\n",
       "      <td>360</td>\n",
       "      <td>1</td>\n",
       "      <td>Urban</td>\n",
       "      <td>Y</td>\n",
       "    </tr>\n",
       "    <tr>\n",
       "      <th>1</th>\n",
       "      <td>LP001003</td>\n",
       "      <td>Male</td>\n",
       "      <td>Yes</td>\n",
       "      <td>1</td>\n",
       "      <td>Graduate</td>\n",
       "      <td>No</td>\n",
       "      <td>4583</td>\n",
       "      <td>1508</td>\n",
       "      <td>128</td>\n",
       "      <td>360</td>\n",
       "      <td>1</td>\n",
       "      <td>Rural</td>\n",
       "      <td>N</td>\n",
       "    </tr>\n",
       "    <tr>\n",
       "      <th>2</th>\n",
       "      <td>LP001005</td>\n",
       "      <td>Male</td>\n",
       "      <td>Yes</td>\n",
       "      <td>0</td>\n",
       "      <td>Graduate</td>\n",
       "      <td>Yes</td>\n",
       "      <td>3000</td>\n",
       "      <td>0</td>\n",
       "      <td>66</td>\n",
       "      <td>360</td>\n",
       "      <td>1</td>\n",
       "      <td>Urban</td>\n",
       "      <td>Y</td>\n",
       "    </tr>\n",
       "    <tr>\n",
       "      <th>3</th>\n",
       "      <td>LP001006</td>\n",
       "      <td>Male</td>\n",
       "      <td>Yes</td>\n",
       "      <td>0</td>\n",
       "      <td>Not Graduate</td>\n",
       "      <td>No</td>\n",
       "      <td>2583</td>\n",
       "      <td>2358</td>\n",
       "      <td>120</td>\n",
       "      <td>360</td>\n",
       "      <td>1</td>\n",
       "      <td>Urban</td>\n",
       "      <td>Y</td>\n",
       "    </tr>\n",
       "    <tr>\n",
       "      <th>4</th>\n",
       "      <td>LP001008</td>\n",
       "      <td>Male</td>\n",
       "      <td>No</td>\n",
       "      <td>0</td>\n",
       "      <td>Graduate</td>\n",
       "      <td>No</td>\n",
       "      <td>6000</td>\n",
       "      <td>0</td>\n",
       "      <td>141</td>\n",
       "      <td>360</td>\n",
       "      <td>1</td>\n",
       "      <td>Urban</td>\n",
       "      <td>Y</td>\n",
       "    </tr>\n",
       "  </tbody>\n",
       "</table>\n",
       "</div>"
      ],
      "text/plain": [
       "    Loan_ID Gender Married Dependents     Education Self_Employed  \\\n",
       "0  LP001002   Male      No          0      Graduate            No   \n",
       "1  LP001003   Male     Yes          1      Graduate            No   \n",
       "2  LP001005   Male     Yes          0      Graduate           Yes   \n",
       "3  LP001006   Male     Yes          0  Not Graduate            No   \n",
       "4  LP001008   Male      No          0      Graduate            No   \n",
       "\n",
       "   ApplicantIncome  CoapplicantIncome  LoanAmount  Loan_Amount_Term  \\\n",
       "0             5849                  0         NaN               360   \n",
       "1             4583               1508         128               360   \n",
       "2             3000                  0          66               360   \n",
       "3             2583               2358         120               360   \n",
       "4             6000                  0         141               360   \n",
       "\n",
       "   Credit_History Property_Area Loan_Status  \n",
       "0               1         Urban           Y  \n",
       "1               1         Rural           N  \n",
       "2               1         Urban           Y  \n",
       "3               1         Urban           Y  \n",
       "4               1         Urban           Y  "
      ]
     },
     "execution_count": 62,
     "metadata": {},
     "output_type": "execute_result"
    }
   ],
   "source": [
    "loans = pd.read_csv('train_u6lujuX.csv')\n",
    "test_data = pd.read_csv('test_Y3wMUE5.csv')\n",
    "loans.head()"
   ]
  },
  {
   "cell_type": "markdown",
   "metadata": {},
   "source": [
    "### Features and Target\n",
    "**Note:** Feature 'Dependents' has a value '3+' which is causing problem. Thats why it has been left for now."
   ]
  },
  {
   "cell_type": "code",
   "execution_count": 63,
   "metadata": {
    "collapsed": true
   },
   "outputs": [],
   "source": [
    "features = ['Gender', \n",
    "            'Married', \n",
    "            'Education',\n",
    "            'Self_Employed',\n",
    "            'ApplicantIncome', \n",
    "            'CoapplicantIncome',\n",
    "            'LoanAmount',\n",
    "            'Loan_Amount_Term',\n",
    "            'Credit_History',\n",
    "            'Property_Area']\n",
    "target = 'Loan_Status'"
   ]
  },
  {
   "cell_type": "markdown",
   "metadata": {},
   "source": [
    "## Preparing the data"
   ]
  },
  {
   "cell_type": "markdown",
   "metadata": {},
   "source": [
    "* **Is target column fully populated with proper data?**\n",
    "* **Replace the target values to 1 and -1**"
   ]
  },
  {
   "cell_type": "code",
   "execution_count": 64,
   "metadata": {
    "collapsed": false
   },
   "outputs": [
    {
     "name": "stdout",
     "output_type": "stream",
     "text": [
      "Is target column fully populated with proper data:  True\n"
     ]
    }
   ],
   "source": [
    "print \"Is target column fully populated with proper data: \", (len(loans[loans[target] == 'Y']) + \n",
    "                                                              len(loans[loans[target] == 'N'])) == len(loans)\n",
    "loans[target] = loans[target].apply(lambda x: 1 if x=='Y' else -1)"
   ]
  },
  {
   "cell_type": "markdown",
   "metadata": {},
   "source": [
    "* **Subsample dataset to make sure classes are balanced**\n",
    "* **Remove all the rows from the bigger set where null values are there**"
   ]
  },
  {
   "cell_type": "code",
   "execution_count": 65,
   "metadata": {
    "collapsed": false
   },
   "outputs": [
    {
     "name": "stdout",
     "output_type": "stream",
     "text": [
      "414\n",
      "411\n",
      "411\n",
      "388\n",
      "388\n",
      "388\n",
      "378\n",
      "371\n",
      "336\n",
      "336\n"
     ]
    }
   ],
   "source": [
    "safe_loans_raw = loans[loans[target] == 1]\n",
    "risky_loans_raw = loans[loans[target] == -1]\n",
    "\n",
    "safe_loans_raw1 = safe_loans_raw[pd.isnull(safe_loans_raw['Gender']) != True]\n",
    "print len(safe_loans_raw1)\n",
    "\n",
    "safe_loans_raw2 = safe_loans_raw1[pd.isnull(safe_loans_raw1['Married']) != True]\n",
    "print len(safe_loans_raw2)\n",
    "\n",
    "safe_loans_raw3 = safe_loans_raw2[pd.isnull(safe_loans_raw2['Education']) != True]\n",
    "print len(safe_loans_raw3)\n",
    "\n",
    "safe_loans_raw4 = safe_loans_raw3[pd.isnull(safe_loans_raw3['Self_Employed']) != True]\n",
    "print len(safe_loans_raw4)\n",
    "\n",
    "safe_loans_raw5 = safe_loans_raw4[pd.isnull(safe_loans_raw4['ApplicantIncome']) != True]\n",
    "print len(safe_loans_raw5)\n",
    "\n",
    "safe_loans_raw6 = safe_loans_raw5[pd.isnull(safe_loans_raw5['CoapplicantIncome']) != True]\n",
    "print len(safe_loans_raw6)\n",
    "\n",
    "safe_loans_raw7 = safe_loans_raw6[pd.isnull(safe_loans_raw6['LoanAmount']) != True]\n",
    "print len(safe_loans_raw7)\n",
    "\n",
    "safe_loans_raw8 = safe_loans_raw7[pd.isnull(safe_loans_raw7['Loan_Amount_Term']) != True]\n",
    "print len(safe_loans_raw8)\n",
    "\n",
    "safe_loans_raw9 = safe_loans_raw8[pd.isnull(safe_loans_raw8['Credit_History']) != True]\n",
    "print len(safe_loans_raw9)\n",
    "\n",
    "safe_loans_raw10 = safe_loans_raw9[pd.isnull(safe_loans_raw9['Property_Area']) != True]\n",
    "print len(safe_loans_raw10)\n"
   ]
  },
  {
   "cell_type": "code",
   "execution_count": 67,
   "metadata": {
    "collapsed": false
   },
   "outputs": [
    {
     "name": "stdout",
     "output_type": "stream",
     "text": [
      "Percentage of safe loans                 : 0.5\n",
      "Percentage of risky loans                : 0.5\n",
      "Total number of loans in our new dataset : 384\n"
     ]
    }
   ],
   "source": [
    "# Since there are less risky loans than safe loans, find the ratio of the sizes\n",
    "# and use that percentage to undersample the safe loans.\n",
    "percentage = len(risky_loans_raw)/float(len(safe_loans_raw10))\n",
    "#safe_loans = safe_loans_raw.sample(percentage, seed = 1)\n",
    "safe_loans = safe_loans_raw10.sample(frac=percentage)\n",
    "risky_loans = risky_loans_raw\n",
    "loans_data = risky_loans.append(safe_loans)\n",
    "\n",
    "print \"Percentage of safe loans                 :\", len(safe_loans) / float(len(loans_data))\n",
    "print \"Percentage of risky loans                :\", len(risky_loans) / float(len(loans_data))\n",
    "print \"Total number of loans in our new dataset :\", len(loans_data)"
   ]
  },
  {
   "cell_type": "markdown",
   "metadata": {},
   "source": [
    "### Changing categorical values to numerical values"
   ]
  },
  {
   "cell_type": "markdown",
   "metadata": {},
   "source": [
    "**Gender**"
   ]
  },
  {
   "cell_type": "code",
   "execution_count": 68,
   "metadata": {
    "collapsed": false
   },
   "outputs": [
    {
     "name": "stdout",
     "output_type": "stream",
     "text": [
      "1     1\n",
      "7     1\n",
      "9     1\n",
      "13    1\n",
      "17    2\n",
      "Name: Gender, dtype: int64\n"
     ]
    }
   ],
   "source": [
    "def fun_Gender(x):\n",
    "    if x == 'Male':\n",
    "        return 1\n",
    "    elif x == 'Female':\n",
    "        return 2\n",
    "    else:\n",
    "        return 0   \n",
    "loans_data['Gender'] = loans_data['Gender'].apply(lambda x: fun_Gender(x))\n",
    "test_data['Gender'] = test_data['Gender'].apply(lambda x: fun_Gender(x))\n",
    "print loans_data['Gender'].head()"
   ]
  },
  {
   "cell_type": "markdown",
   "metadata": {},
   "source": [
    "**Married**"
   ]
  },
  {
   "cell_type": "code",
   "execution_count": 69,
   "metadata": {
    "collapsed": false
   },
   "outputs": [
    {
     "name": "stdout",
     "output_type": "stream",
     "text": [
      "1     1\n",
      "7     1\n",
      "9     1\n",
      "13    2\n",
      "17    2\n",
      "Name: Married, dtype: int64\n"
     ]
    }
   ],
   "source": [
    "def fun_Married(x):\n",
    "    if x == 'Yes':\n",
    "        return 1\n",
    "    elif x == 'No':\n",
    "        return 2\n",
    "    else:\n",
    "        return 0\n",
    "loans_data['Married'] = loans_data['Married'].apply(lambda x: fun_Married(x))\n",
    "test_data['Married'] = test_data['Married'].apply(lambda x: fun_Married(x))\n",
    "print loans_data['Married'].head()"
   ]
  },
  {
   "cell_type": "markdown",
   "metadata": {},
   "source": [
    "**Dependents**"
   ]
  },
  {
   "cell_type": "code",
   "execution_count": 220,
   "metadata": {
    "collapsed": false
   },
   "outputs": [],
   "source": [
    "#loans_data['Dependents'] = loans_data['Dependents'].apply(lambda x: x if x >= 0 else 3 if str(x) == '3+' else 0)\n",
    "#print loans_data['Dependents'].head()"
   ]
  },
  {
   "cell_type": "markdown",
   "metadata": {},
   "source": [
    "**Education**"
   ]
  },
  {
   "cell_type": "code",
   "execution_count": 70,
   "metadata": {
    "collapsed": false
   },
   "outputs": [
    {
     "name": "stdout",
     "output_type": "stream",
     "text": [
      "1     1\n",
      "7     1\n",
      "9     1\n",
      "13    1\n",
      "17    1\n",
      "Name: Education, dtype: int64\n"
     ]
    }
   ],
   "source": [
    "def fun_Education(x):\n",
    "    if x == 'Graduate':\n",
    "        return 1\n",
    "    elif x == 'Not Graduate':\n",
    "        return 2\n",
    "    else:\n",
    "        return 0\n",
    "loans_data['Education'] = loans_data['Education'].apply(lambda x: fun_Education(x))\n",
    "test_data['Education'] = test_data['Education'].apply(lambda x: fun_Education(x))\n",
    "print loans_data['Education'].head()"
   ]
  },
  {
   "cell_type": "markdown",
   "metadata": {},
   "source": [
    "**Self_Employed**"
   ]
  },
  {
   "cell_type": "code",
   "execution_count": 71,
   "metadata": {
    "collapsed": false
   },
   "outputs": [
    {
     "name": "stdout",
     "output_type": "stream",
     "text": [
      "1     2\n",
      "7     2\n",
      "9     2\n",
      "13    2\n",
      "17    2\n",
      "Name: Self_Employed, dtype: int64\n"
     ]
    }
   ],
   "source": [
    "def fun_Self_Employed(x):\n",
    "    if x == 'Yes':\n",
    "        return 1\n",
    "    elif x == 'No':\n",
    "        return 2\n",
    "    else:\n",
    "        return 0\n",
    "loans_data['Self_Employed'] = loans_data['Self_Employed'].apply(lambda x: fun_Self_Employed(x))\n",
    "test_data['Self_Employed'] = test_data['Self_Employed'].apply(lambda x: fun_Self_Employed(x))\n",
    "print loans_data['Self_Employed'].head()"
   ]
  },
  {
   "cell_type": "markdown",
   "metadata": {},
   "source": [
    "**ApplicantIncome, CoapplicantIncome, LoanAmount, Loan_Amount_Term & Credit_History**"
   ]
  },
  {
   "cell_type": "code",
   "execution_count": 72,
   "metadata": {
    "collapsed": false
   },
   "outputs": [
    {
     "name": "stdout",
     "output_type": "stream",
     "text": [
      "1      4583\n",
      "7      3036\n",
      "9     12841\n",
      "13     1853\n",
      "17     3510\n",
      "Name: ApplicantIncome, dtype: int64\n",
      "1      1508\n",
      "7      2504\n",
      "9     10968\n",
      "13     2840\n",
      "17        0\n",
      "Name: CoapplicantIncome, dtype: float64\n",
      "1     128\n",
      "7     158\n",
      "9     349\n",
      "13    114\n",
      "17     76\n",
      "Name: LoanAmount, dtype: float64\n",
      "1     360\n",
      "7     360\n",
      "9     360\n",
      "13    360\n",
      "17    360\n",
      "Name: Loan_Amount_Term, dtype: float64\n",
      "1     1\n",
      "7     0\n",
      "9     1\n",
      "13    1\n",
      "17    0\n",
      "Name: Credit_History, dtype: float64\n"
     ]
    }
   ],
   "source": [
    "loans_data['ApplicantIncome'] = loans_data['ApplicantIncome'].apply(lambda x: x if x >= 0 else 0)\n",
    "test_data['ApplicantIncome'] = test_data['ApplicantIncome'].apply(lambda x: x if x >= 0 else 0)\n",
    "\n",
    "loans_data['CoapplicantIncome'] = loans_data['CoapplicantIncome'].apply(lambda x: x if x >= 0 else 0)\n",
    "test_data['CoapplicantIncome'] = test_data['CoapplicantIncome'].apply(lambda x: x if x >= 0 else 0)\n",
    "\n",
    "loans_data['LoanAmount'] = loans_data['LoanAmount'].apply(lambda x: x if x >= 0 else 0)\n",
    "test_data['LoanAmount'] = test_data['LoanAmount'].apply(lambda x: x if x >= 0 else 0)\n",
    "\n",
    "loans_data['Loan_Amount_Term'] = loans_data['Loan_Amount_Term'].apply(lambda x: x if x >= 0 else 0)\n",
    "test_data['Loan_Amount_Term'] = test_data['Loan_Amount_Term'].apply(lambda x: x if x >= 0 else 0)\n",
    "\n",
    "loans_data['Credit_History'] = loans_data['Credit_History'].apply(lambda x: x if x >= 0 else 0)\n",
    "test_data['Credit_History'] = test_data['Credit_History'].apply(lambda x: x if x >= 0 else 0)\n",
    "\n",
    "print loans_data['ApplicantIncome'].head()\n",
    "print loans_data['CoapplicantIncome'].head()\n",
    "print loans_data['LoanAmount'].head()\n",
    "print loans_data['Loan_Amount_Term'].head()\n",
    "print loans_data['Credit_History'].head()"
   ]
  },
  {
   "cell_type": "markdown",
   "metadata": {},
   "source": [
    "**Property_Area**"
   ]
  },
  {
   "cell_type": "code",
   "execution_count": 73,
   "metadata": {
    "collapsed": false
   },
   "outputs": [
    {
     "name": "stdout",
     "output_type": "stream",
     "text": [
      "1     2\n",
      "7     3\n",
      "9     3\n",
      "13    2\n",
      "17    1\n",
      "Name: Property_Area, dtype: int64\n"
     ]
    }
   ],
   "source": [
    "def fun_Property_Area(x):\n",
    "    if x == 'Urban':\n",
    "        return 1\n",
    "    elif x == 'Rural':\n",
    "        return 2\n",
    "    elif x == 'Semiurban':\n",
    "        return 3\n",
    "    else:\n",
    "        return 0\n",
    "loans_data['Property_Area'] = loans_data['Property_Area'].apply(lambda x: fun_Property_Area(x))\n",
    "test_data['Property_Area'] = test_data['Property_Area'].apply(lambda x: fun_Property_Area(x))\n",
    "\n",
    "print loans_data['Property_Area'].head()"
   ]
  },
  {
   "cell_type": "markdown",
   "metadata": {},
   "source": [
    "## Training the model"
   ]
  },
  {
   "cell_type": "code",
   "execution_count": 74,
   "metadata": {
    "collapsed": false
   },
   "outputs": [],
   "source": [
    "X = loans_data[features]\n",
    "y = loans_data[target]"
   ]
  },
  {
   "cell_type": "code",
   "execution_count": 75,
   "metadata": {
    "collapsed": false
   },
   "outputs": [
    {
     "data": {
      "text/plain": [
       "LogisticRegression(C=1.0, class_weight=None, dual=False, fit_intercept=True,\n",
       "          intercept_scaling=1, max_iter=100, multi_class='ovr',\n",
       "          penalty='l2', random_state=None, solver='liblinear', tol=0.0001,\n",
       "          verbose=0)"
      ]
     },
     "execution_count": 75,
     "metadata": {},
     "output_type": "execute_result"
    }
   ],
   "source": [
    "model = LogisticRegression()\n",
    "model.fit(X, y)"
   ]
  },
  {
   "cell_type": "markdown",
   "metadata": {},
   "source": [
    "Test Data"
   ]
  },
  {
   "cell_type": "markdown",
   "metadata": {},
   "source": [
    "## Making predictions using the model"
   ]
  },
  {
   "cell_type": "code",
   "execution_count": 76,
   "metadata": {
    "collapsed": false
   },
   "outputs": [
    {
     "name": "stdout",
     "output_type": "stream",
     "text": [
      "[ 1  1  1 -1 -1 -1  1 -1 -1  1 -1  1 -1 -1  1  1  1  1 -1  1  1 -1  1 -1  1\n",
      " -1 -1  1 -1  1  1  1  1  1  1 -1  1  1 -1  1  1  1  1  1  1 -1  1  1  1  1\n",
      "  1  1  1  1 -1 -1 -1  1 -1  1  1  1  1 -1  1  1 -1 -1  1 -1  1  1  1  1  1\n",
      " -1  1  1  1  1 -1 -1 -1  1 -1  1  1  1  1  1 -1  1  1  1 -1  1  1  1  1 -1\n",
      "  1 -1  1  1 -1  1 -1  1  1 -1  1  1  1  1  1 -1  1 -1 -1 -1  1  1  1 -1 -1\n",
      "  1 -1  1  1  1  1  1  1  1  1  1  1  1  1 -1 -1  1 -1 -1  1 -1  1 -1  1  1\n",
      " -1  1  1 -1  1  1  1  1  1  1  1 -1  1  1 -1 -1 -1  1 -1  1  1  1  1 -1 -1\n",
      "  1  1 -1  1 -1  1  1  1  1  1 -1  1  1  1  1  1  1 -1 -1  1 -1 -1  1 -1  1\n",
      "  1  1 -1  1  1  1  1  1  1 -1  1 -1  1  1  1  1  1  1  1  1 -1  1  1  1 -1\n",
      "  1  1  1  1 -1 -1 -1  1  1  1 -1 -1 -1  1  1 -1 -1  1 -1  1 -1  1  1  1  1\n",
      " -1  1  1  1  1 -1  1  1  1 -1  1  1 -1  1  1 -1 -1 -1 -1  1  1  1 -1 -1 -1\n",
      "  1  1  1 -1 -1  1  1 -1 -1 -1  1 -1  1  1  1  1  1 -1 -1 -1  1  1 -1  1  1\n",
      "  1 -1 -1  1  1 -1  1  1  1  1  1 -1  1  1  1  1  1 -1 -1  1  1  1  1 -1  1\n",
      " -1  1  1  1 -1  1  1 -1  1  1  1 -1  1  1 -1  1 -1  1  1  1  1 -1 -1  1  1\n",
      "  1 -1  1  1 -1  1  1  1 -1  1 -1  1 -1  1 -1  1  1]\n"
     ]
    }
   ],
   "source": [
    "X_test = test_data[features]\n",
    "predictions = model.predict(X_test)\n",
    "#predictions_proba = model.predict_proba(X_test)\n",
    "print predictions\n",
    "#print predictions_proba"
   ]
  },
  {
   "cell_type": "markdown",
   "metadata": {},
   "source": [
    "## Writing the submission file"
   ]
  },
  {
   "cell_type": "code",
   "execution_count": 77,
   "metadata": {
    "collapsed": false
   },
   "outputs": [],
   "source": [
    "loan_id = test_data['Loan_ID']\n",
    "predictionsS = pd.Series(predictions)\n",
    "loan_status_predictions = predictionsS.apply(lambda x: 'Y' if x == 1 else 'N')"
   ]
  },
  {
   "cell_type": "code",
   "execution_count": 78,
   "metadata": {
    "collapsed": false
   },
   "outputs": [],
   "source": [
    "with open('submission.csv', 'wb') as csvfile:\n",
    "    spamwriter = csv.writer(csvfile, delimiter=',',\n",
    "                            quotechar='|', quoting=csv.QUOTE_MINIMAL)\n",
    "    spamwriter.writerow(['Loan_ID', 'Loan_Status'])\n",
    "    for i in xrange(len(loan_id)):\n",
    "        spamwriter.writerow([loan_id[i], loan_status_predictions[i]])"
   ]
  },
  {
   "cell_type": "code",
   "execution_count": null,
   "metadata": {
    "collapsed": true
   },
   "outputs": [],
   "source": [
    "#print len(loans)\n",
    "\n",
    "#x = np.arange(0, len(loans['ApplicantIncome'])) \n",
    "#x = loans['CoapplicantIncome']\n",
    "#y = loans['ApplicantIncome']\n",
    "\n",
    "#ll = plt.plot(x,y)\n",
    "#plt.show()"
   ]
  }
 ],
 "metadata": {
  "kernelspec": {
   "display_name": "Python 2",
   "language": "python",
   "name": "python2"
  },
  "language_info": {
   "codemirror_mode": {
    "name": "ipython",
    "version": 2
   },
   "file_extension": ".py",
   "mimetype": "text/x-python",
   "name": "python",
   "nbconvert_exporter": "python",
   "pygments_lexer": "ipython2",
   "version": "2.7.10"
  }
 },
 "nbformat": 4,
 "nbformat_minor": 0
}
