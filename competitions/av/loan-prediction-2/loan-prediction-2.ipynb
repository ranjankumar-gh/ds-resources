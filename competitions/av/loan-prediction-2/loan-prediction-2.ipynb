{
 "cells": [
  {
   "cell_type": "markdown",
   "metadata": {},
   "source": [
    "# Loan Prediction 2"
   ]
  },
  {
   "cell_type": "code",
   "execution_count": 212,
   "metadata": {
    "collapsed": false
   },
   "outputs": [],
   "source": [
    "import pandas as pd\n",
    "import numpy as np\n",
    "import xgboost as xgb\n",
    "\n",
    "from sklearn.preprocessing import LabelEncoder, OneHotEncoder, StandardScaler\n",
    "from sklearn.grid_search import GridSearchCV\n",
    "from sklearn.metrics import f1_score\n",
    "from sklearn.svm import LinearSVC, SVC\n",
    "from sklearn.ensemble import AdaBoostClassifier\n",
    "from sklearn.lda import LDA"
   ]
  },
  {
   "cell_type": "code",
   "execution_count": 213,
   "metadata": {
    "collapsed": true
   },
   "outputs": [],
   "source": [
    "#Read files:\n",
    "train = pd.read_csv(\"train.csv\")\n",
    "test = pd.read_csv(\"test.csv\")"
   ]
  },
  {
   "cell_type": "markdown",
   "metadata": {},
   "source": [
    "## Data Exploration and Cleaning"
   ]
  },
  {
   "cell_type": "code",
   "execution_count": 214,
   "metadata": {
    "collapsed": false
   },
   "outputs": [
    {
     "data": {
      "text/html": [
       "<div>\n",
       "<table border=\"1\" class=\"dataframe\">\n",
       "  <thead>\n",
       "    <tr style=\"text-align: right;\">\n",
       "      <th></th>\n",
       "      <th>Loan_ID</th>\n",
       "      <th>Gender</th>\n",
       "      <th>Married</th>\n",
       "      <th>Dependents</th>\n",
       "      <th>Education</th>\n",
       "      <th>Self_Employed</th>\n",
       "      <th>ApplicantIncome</th>\n",
       "      <th>CoapplicantIncome</th>\n",
       "      <th>LoanAmount</th>\n",
       "      <th>Loan_Amount_Term</th>\n",
       "      <th>Credit_History</th>\n",
       "      <th>Property_Area</th>\n",
       "      <th>Loan_Status</th>\n",
       "    </tr>\n",
       "  </thead>\n",
       "  <tbody>\n",
       "    <tr>\n",
       "      <th>0</th>\n",
       "      <td>LP001002</td>\n",
       "      <td>Male</td>\n",
       "      <td>No</td>\n",
       "      <td>0</td>\n",
       "      <td>Graduate</td>\n",
       "      <td>No</td>\n",
       "      <td>5849</td>\n",
       "      <td>0.0</td>\n",
       "      <td>NaN</td>\n",
       "      <td>360.0</td>\n",
       "      <td>1.0</td>\n",
       "      <td>Urban</td>\n",
       "      <td>Y</td>\n",
       "    </tr>\n",
       "    <tr>\n",
       "      <th>1</th>\n",
       "      <td>LP001003</td>\n",
       "      <td>Male</td>\n",
       "      <td>Yes</td>\n",
       "      <td>1</td>\n",
       "      <td>Graduate</td>\n",
       "      <td>No</td>\n",
       "      <td>4583</td>\n",
       "      <td>1508.0</td>\n",
       "      <td>128.0</td>\n",
       "      <td>360.0</td>\n",
       "      <td>1.0</td>\n",
       "      <td>Rural</td>\n",
       "      <td>N</td>\n",
       "    </tr>\n",
       "    <tr>\n",
       "      <th>2</th>\n",
       "      <td>LP001005</td>\n",
       "      <td>Male</td>\n",
       "      <td>Yes</td>\n",
       "      <td>0</td>\n",
       "      <td>Graduate</td>\n",
       "      <td>Yes</td>\n",
       "      <td>3000</td>\n",
       "      <td>0.0</td>\n",
       "      <td>66.0</td>\n",
       "      <td>360.0</td>\n",
       "      <td>1.0</td>\n",
       "      <td>Urban</td>\n",
       "      <td>Y</td>\n",
       "    </tr>\n",
       "    <tr>\n",
       "      <th>3</th>\n",
       "      <td>LP001006</td>\n",
       "      <td>Male</td>\n",
       "      <td>Yes</td>\n",
       "      <td>0</td>\n",
       "      <td>Not Graduate</td>\n",
       "      <td>No</td>\n",
       "      <td>2583</td>\n",
       "      <td>2358.0</td>\n",
       "      <td>120.0</td>\n",
       "      <td>360.0</td>\n",
       "      <td>1.0</td>\n",
       "      <td>Urban</td>\n",
       "      <td>Y</td>\n",
       "    </tr>\n",
       "    <tr>\n",
       "      <th>4</th>\n",
       "      <td>LP001008</td>\n",
       "      <td>Male</td>\n",
       "      <td>No</td>\n",
       "      <td>0</td>\n",
       "      <td>Graduate</td>\n",
       "      <td>No</td>\n",
       "      <td>6000</td>\n",
       "      <td>0.0</td>\n",
       "      <td>141.0</td>\n",
       "      <td>360.0</td>\n",
       "      <td>1.0</td>\n",
       "      <td>Urban</td>\n",
       "      <td>Y</td>\n",
       "    </tr>\n",
       "  </tbody>\n",
       "</table>\n",
       "</div>"
      ],
      "text/plain": [
       "    Loan_ID Gender Married Dependents     Education Self_Employed  \\\n",
       "0  LP001002   Male      No          0      Graduate            No   \n",
       "1  LP001003   Male     Yes          1      Graduate            No   \n",
       "2  LP001005   Male     Yes          0      Graduate           Yes   \n",
       "3  LP001006   Male     Yes          0  Not Graduate            No   \n",
       "4  LP001008   Male      No          0      Graduate            No   \n",
       "\n",
       "   ApplicantIncome  CoapplicantIncome  LoanAmount  Loan_Amount_Term  \\\n",
       "0             5849                0.0         NaN             360.0   \n",
       "1             4583             1508.0       128.0             360.0   \n",
       "2             3000                0.0        66.0             360.0   \n",
       "3             2583             2358.0       120.0             360.0   \n",
       "4             6000                0.0       141.0             360.0   \n",
       "\n",
       "   Credit_History Property_Area Loan_Status  \n",
       "0             1.0         Urban           Y  \n",
       "1             1.0         Rural           N  \n",
       "2             1.0         Urban           Y  \n",
       "3             1.0         Urban           Y  \n",
       "4             1.0         Urban           Y  "
      ]
     },
     "execution_count": 214,
     "metadata": {},
     "output_type": "execute_result"
    }
   ],
   "source": [
    "train.head()"
   ]
  },
  {
   "cell_type": "code",
   "execution_count": 215,
   "metadata": {
    "collapsed": false
   },
   "outputs": [
    {
     "name": "stdout",
     "output_type": "stream",
     "text": [
      "Index(['Loan_ID', 'Gender', 'Married', 'Dependents', 'Education',\n",
      "       'Self_Employed', 'ApplicantIncome', 'CoapplicantIncome', 'LoanAmount',\n",
      "       'Loan_Amount_Term', 'Credit_History', 'Property_Area', 'Loan_Status'],\n",
      "      dtype='object')\n"
     ]
    },
    {
     "data": {
      "text/plain": [
       "Loan_ID               object\n",
       "Gender                object\n",
       "Married               object\n",
       "Dependents            object\n",
       "Education             object\n",
       "Self_Employed         object\n",
       "ApplicantIncome        int64\n",
       "CoapplicantIncome    float64\n",
       "LoanAmount           float64\n",
       "Loan_Amount_Term     float64\n",
       "Credit_History       float64\n",
       "Property_Area         object\n",
       "Loan_Status           object\n",
       "dtype: object"
      ]
     },
     "execution_count": 215,
     "metadata": {},
     "output_type": "execute_result"
    }
   ],
   "source": [
    "print(train.columns)\n",
    "train.dtypes"
   ]
  },
  {
   "cell_type": "code",
   "execution_count": 216,
   "metadata": {
    "collapsed": true
   },
   "outputs": [],
   "source": [
    "feature_columns_to_use = ['ApplicantIncome','CoapplicantIncome','Credit_History',\n",
    "                          'Dependents','Education', 'Gender', 'LoanAmount', \n",
    "                          'Loan_Amount_Term', 'Married', 'Property_Area', \n",
    "                          'Self_Employed']\n",
    "nonnumeric_columns = ['Dependents', 'Education', 'Gender', 'Married', 'Property_Area', 'Self_Employed']"
   ]
  },
  {
   "cell_type": "markdown",
   "metadata": {},
   "source": [
    "### Impute missing values using the median for numeric columns and the most common value for string columns [Ref](http://stackoverflow.com/a/25562948)"
   ]
  },
  {
   "cell_type": "code",
   "execution_count": 217,
   "metadata": {
    "collapsed": true
   },
   "outputs": [],
   "source": [
    "from sklearn.base import TransformerMixin\n",
    "class DataFrameImputer(TransformerMixin):\n",
    "    def fit(self, X, y=None):\n",
    "        self.fill = pd.Series([X[c].value_counts().index[0]\n",
    "            if X[c].dtype == np.dtype('O') else X[c].median() for c in X],\n",
    "            index=X.columns)\n",
    "        return self\n",
    "    def transform(self, X, y=None):\n",
    "        return X.fillna(self.fill)"
   ]
  },
  {
   "cell_type": "markdown",
   "metadata": {},
   "source": [
    "### Join the features from train and test together before imputing missing values"
   ]
  },
  {
   "cell_type": "code",
   "execution_count": 218,
   "metadata": {
    "collapsed": false
   },
   "outputs": [],
   "source": [
    "big_X = train[feature_columns_to_use].append(test[feature_columns_to_use])\n",
    "big_X_imputed = DataFrameImputer().fit_transform(big_X)"
   ]
  },
  {
   "cell_type": "code",
   "execution_count": 219,
   "metadata": {
    "collapsed": false
   },
   "outputs": [],
   "source": [
    "big_X_imputed['emi'] = big_X_imputed['LoanAmount'] / big_X_imputed['Loan_Amount_Term']\n",
    "big_X_imputed['total_income'] = big_X_imputed['ApplicantIncome'] + big_X_imputed['CoapplicantIncome']"
   ]
  },
  {
   "cell_type": "markdown",
   "metadata": {},
   "source": [
    "### Transform categorical features and target"
   ]
  },
  {
   "cell_type": "code",
   "execution_count": 220,
   "metadata": {
    "collapsed": false
   },
   "outputs": [
    {
     "data": {
      "text/html": [
       "<div>\n",
       "<table border=\"1\" class=\"dataframe\">\n",
       "  <thead>\n",
       "    <tr style=\"text-align: right;\">\n",
       "      <th></th>\n",
       "      <th>Credit_History</th>\n",
       "      <th>emi</th>\n",
       "      <th>total_income</th>\n",
       "      <th>Dependents_0</th>\n",
       "      <th>Dependents_1</th>\n",
       "      <th>Dependents_2</th>\n",
       "      <th>Dependents_3+</th>\n",
       "      <th>Education_Graduate</th>\n",
       "      <th>Education_Not Graduate</th>\n",
       "      <th>Gender_Female</th>\n",
       "      <th>Gender_Male</th>\n",
       "      <th>Married_No</th>\n",
       "      <th>Married_Yes</th>\n",
       "      <th>Property_Area_Rural</th>\n",
       "      <th>Property_Area_Semiurban</th>\n",
       "      <th>Property_Area_Urban</th>\n",
       "      <th>Self_Employed_No</th>\n",
       "      <th>Self_Employed_Yes</th>\n",
       "    </tr>\n",
       "  </thead>\n",
       "  <tbody>\n",
       "    <tr>\n",
       "      <th>0</th>\n",
       "      <td>1.0</td>\n",
       "      <td>0.350000</td>\n",
       "      <td>5849.0</td>\n",
       "      <td>1.0</td>\n",
       "      <td>0.0</td>\n",
       "      <td>0.0</td>\n",
       "      <td>0.0</td>\n",
       "      <td>1.0</td>\n",
       "      <td>0.0</td>\n",
       "      <td>0.0</td>\n",
       "      <td>1.0</td>\n",
       "      <td>1.0</td>\n",
       "      <td>0.0</td>\n",
       "      <td>0.0</td>\n",
       "      <td>0.0</td>\n",
       "      <td>1.0</td>\n",
       "      <td>1.0</td>\n",
       "      <td>0.0</td>\n",
       "    </tr>\n",
       "    <tr>\n",
       "      <th>1</th>\n",
       "      <td>1.0</td>\n",
       "      <td>0.355556</td>\n",
       "      <td>6091.0</td>\n",
       "      <td>0.0</td>\n",
       "      <td>1.0</td>\n",
       "      <td>0.0</td>\n",
       "      <td>0.0</td>\n",
       "      <td>1.0</td>\n",
       "      <td>0.0</td>\n",
       "      <td>0.0</td>\n",
       "      <td>1.0</td>\n",
       "      <td>0.0</td>\n",
       "      <td>1.0</td>\n",
       "      <td>1.0</td>\n",
       "      <td>0.0</td>\n",
       "      <td>0.0</td>\n",
       "      <td>1.0</td>\n",
       "      <td>0.0</td>\n",
       "    </tr>\n",
       "    <tr>\n",
       "      <th>2</th>\n",
       "      <td>1.0</td>\n",
       "      <td>0.183333</td>\n",
       "      <td>3000.0</td>\n",
       "      <td>1.0</td>\n",
       "      <td>0.0</td>\n",
       "      <td>0.0</td>\n",
       "      <td>0.0</td>\n",
       "      <td>1.0</td>\n",
       "      <td>0.0</td>\n",
       "      <td>0.0</td>\n",
       "      <td>1.0</td>\n",
       "      <td>0.0</td>\n",
       "      <td>1.0</td>\n",
       "      <td>0.0</td>\n",
       "      <td>0.0</td>\n",
       "      <td>1.0</td>\n",
       "      <td>0.0</td>\n",
       "      <td>1.0</td>\n",
       "    </tr>\n",
       "    <tr>\n",
       "      <th>3</th>\n",
       "      <td>1.0</td>\n",
       "      <td>0.333333</td>\n",
       "      <td>4941.0</td>\n",
       "      <td>1.0</td>\n",
       "      <td>0.0</td>\n",
       "      <td>0.0</td>\n",
       "      <td>0.0</td>\n",
       "      <td>0.0</td>\n",
       "      <td>1.0</td>\n",
       "      <td>0.0</td>\n",
       "      <td>1.0</td>\n",
       "      <td>0.0</td>\n",
       "      <td>1.0</td>\n",
       "      <td>0.0</td>\n",
       "      <td>0.0</td>\n",
       "      <td>1.0</td>\n",
       "      <td>1.0</td>\n",
       "      <td>0.0</td>\n",
       "    </tr>\n",
       "    <tr>\n",
       "      <th>4</th>\n",
       "      <td>1.0</td>\n",
       "      <td>0.391667</td>\n",
       "      <td>6000.0</td>\n",
       "      <td>1.0</td>\n",
       "      <td>0.0</td>\n",
       "      <td>0.0</td>\n",
       "      <td>0.0</td>\n",
       "      <td>1.0</td>\n",
       "      <td>0.0</td>\n",
       "      <td>0.0</td>\n",
       "      <td>1.0</td>\n",
       "      <td>1.0</td>\n",
       "      <td>0.0</td>\n",
       "      <td>0.0</td>\n",
       "      <td>0.0</td>\n",
       "      <td>1.0</td>\n",
       "      <td>1.0</td>\n",
       "      <td>0.0</td>\n",
       "    </tr>\n",
       "  </tbody>\n",
       "</table>\n",
       "</div>"
      ],
      "text/plain": [
       "   Credit_History       emi  total_income  Dependents_0  Dependents_1  \\\n",
       "0             1.0  0.350000        5849.0           1.0           0.0   \n",
       "1             1.0  0.355556        6091.0           0.0           1.0   \n",
       "2             1.0  0.183333        3000.0           1.0           0.0   \n",
       "3             1.0  0.333333        4941.0           1.0           0.0   \n",
       "4             1.0  0.391667        6000.0           1.0           0.0   \n",
       "\n",
       "   Dependents_2  Dependents_3+  Education_Graduate  Education_Not Graduate  \\\n",
       "0           0.0            0.0                 1.0                     0.0   \n",
       "1           0.0            0.0                 1.0                     0.0   \n",
       "2           0.0            0.0                 1.0                     0.0   \n",
       "3           0.0            0.0                 0.0                     1.0   \n",
       "4           0.0            0.0                 1.0                     0.0   \n",
       "\n",
       "   Gender_Female  Gender_Male  Married_No  Married_Yes  Property_Area_Rural  \\\n",
       "0            0.0          1.0         1.0          0.0                  0.0   \n",
       "1            0.0          1.0         0.0          1.0                  1.0   \n",
       "2            0.0          1.0         0.0          1.0                  0.0   \n",
       "3            0.0          1.0         0.0          1.0                  0.0   \n",
       "4            0.0          1.0         1.0          0.0                  0.0   \n",
       "\n",
       "   Property_Area_Semiurban  Property_Area_Urban  Self_Employed_No  \\\n",
       "0                      0.0                  1.0               1.0   \n",
       "1                      0.0                  0.0               1.0   \n",
       "2                      0.0                  1.0               0.0   \n",
       "3                      0.0                  1.0               1.0   \n",
       "4                      0.0                  1.0               1.0   \n",
       "\n",
       "   Self_Employed_Yes  \n",
       "0                0.0  \n",
       "1                0.0  \n",
       "2                1.0  \n",
       "3                0.0  \n",
       "4                0.0  "
      ]
     },
     "execution_count": 220,
     "metadata": {},
     "output_type": "execute_result"
    }
   ],
   "source": [
    "dummies_data = pd.get_dummies(big_X_imputed[nonnumeric_columns], columns=nonnumeric_columns)\n",
    "big_X_imputed = pd.concat([big_X_imputed, dummies_data], axis=1)\n",
    "big_X_imputed = big_X_imputed.drop(nonnumeric_columns, axis=1)\n",
    "big_X_imputed = big_X_imputed.drop(['LoanAmount', 'Loan_Amount_Term', 'ApplicantIncome', 'CoapplicantIncome'], axis=1)\n",
    "big_X_imputed.head()"
   ]
  },
  {
   "cell_type": "code",
   "execution_count": 221,
   "metadata": {
    "collapsed": false
   },
   "outputs": [],
   "source": [
    "ss = StandardScaler()\n",
    "big_X_imputed_ss = ss.fit_transform(big_X_imputed)\n",
    "big_X_imputed = pd.DataFrame(big_X_imputed_ss, columns=big_X_imputed.columns)"
   ]
  },
  {
   "cell_type": "code",
   "execution_count": 222,
   "metadata": {
    "collapsed": false
   },
   "outputs": [
    {
     "data": {
      "text/html": [
       "<div>\n",
       "<table border=\"1\" class=\"dataframe\">\n",
       "  <thead>\n",
       "    <tr style=\"text-align: right;\">\n",
       "      <th></th>\n",
       "      <th>Credit_History</th>\n",
       "      <th>emi</th>\n",
       "      <th>total_income</th>\n",
       "      <th>Dependents_0</th>\n",
       "      <th>Dependents_1</th>\n",
       "      <th>Dependents_2</th>\n",
       "      <th>Dependents_3+</th>\n",
       "      <th>Education_Graduate</th>\n",
       "      <th>Education_Not Graduate</th>\n",
       "      <th>Gender_Female</th>\n",
       "      <th>Gender_Male</th>\n",
       "      <th>Married_No</th>\n",
       "      <th>Married_Yes</th>\n",
       "      <th>Property_Area_Rural</th>\n",
       "      <th>Property_Area_Semiurban</th>\n",
       "      <th>Property_Area_Urban</th>\n",
       "      <th>Self_Employed_No</th>\n",
       "      <th>Self_Employed_Yes</th>\n",
       "    </tr>\n",
       "  </thead>\n",
       "  <tbody>\n",
       "    <tr>\n",
       "      <th>0</th>\n",
       "      <td>0.42151</td>\n",
       "      <td>-0.148626</td>\n",
       "      <td>-0.154913</td>\n",
       "      <td>0.849148</td>\n",
       "      <td>-0.441457</td>\n",
       "      <td>-0.441457</td>\n",
       "      <td>-0.319761</td>\n",
       "      <td>0.534522</td>\n",
       "      <td>-0.534522</td>\n",
       "      <td>-0.477268</td>\n",
       "      <td>0.477268</td>\n",
       "      <td>1.351699</td>\n",
       "      <td>-1.351699</td>\n",
       "      <td>-0.647828</td>\n",
       "      <td>-0.743112</td>\n",
       "      <td>1.366902</td>\n",
       "      <td>0.371552</td>\n",
       "      <td>-0.371552</td>\n",
       "    </tr>\n",
       "    <tr>\n",
       "      <th>1</th>\n",
       "      <td>0.42151</td>\n",
       "      <td>-0.142736</td>\n",
       "      <td>-0.114719</td>\n",
       "      <td>-1.177651</td>\n",
       "      <td>2.265226</td>\n",
       "      <td>-0.441457</td>\n",
       "      <td>-0.319761</td>\n",
       "      <td>0.534522</td>\n",
       "      <td>-0.534522</td>\n",
       "      <td>-0.477268</td>\n",
       "      <td>0.477268</td>\n",
       "      <td>-0.739810</td>\n",
       "      <td>0.739810</td>\n",
       "      <td>1.543619</td>\n",
       "      <td>-0.743112</td>\n",
       "      <td>-0.731581</td>\n",
       "      <td>0.371552</td>\n",
       "      <td>-0.371552</td>\n",
       "    </tr>\n",
       "    <tr>\n",
       "      <th>2</th>\n",
       "      <td>0.42151</td>\n",
       "      <td>-0.325324</td>\n",
       "      <td>-0.628099</td>\n",
       "      <td>0.849148</td>\n",
       "      <td>-0.441457</td>\n",
       "      <td>-0.441457</td>\n",
       "      <td>-0.319761</td>\n",
       "      <td>0.534522</td>\n",
       "      <td>-0.534522</td>\n",
       "      <td>-0.477268</td>\n",
       "      <td>0.477268</td>\n",
       "      <td>-0.739810</td>\n",
       "      <td>0.739810</td>\n",
       "      <td>-0.647828</td>\n",
       "      <td>-0.743112</td>\n",
       "      <td>1.366902</td>\n",
       "      <td>-2.691412</td>\n",
       "      <td>2.691412</td>\n",
       "    </tr>\n",
       "    <tr>\n",
       "      <th>3</th>\n",
       "      <td>0.42151</td>\n",
       "      <td>-0.166296</td>\n",
       "      <td>-0.305721</td>\n",
       "      <td>0.849148</td>\n",
       "      <td>-0.441457</td>\n",
       "      <td>-0.441457</td>\n",
       "      <td>-0.319761</td>\n",
       "      <td>-1.870829</td>\n",
       "      <td>1.870829</td>\n",
       "      <td>-0.477268</td>\n",
       "      <td>0.477268</td>\n",
       "      <td>-0.739810</td>\n",
       "      <td>0.739810</td>\n",
       "      <td>-0.647828</td>\n",
       "      <td>-0.743112</td>\n",
       "      <td>1.366902</td>\n",
       "      <td>0.371552</td>\n",
       "      <td>-0.371552</td>\n",
       "    </tr>\n",
       "    <tr>\n",
       "      <th>4</th>\n",
       "      <td>0.42151</td>\n",
       "      <td>-0.104452</td>\n",
       "      <td>-0.129833</td>\n",
       "      <td>0.849148</td>\n",
       "      <td>-0.441457</td>\n",
       "      <td>-0.441457</td>\n",
       "      <td>-0.319761</td>\n",
       "      <td>0.534522</td>\n",
       "      <td>-0.534522</td>\n",
       "      <td>-0.477268</td>\n",
       "      <td>0.477268</td>\n",
       "      <td>1.351699</td>\n",
       "      <td>-1.351699</td>\n",
       "      <td>-0.647828</td>\n",
       "      <td>-0.743112</td>\n",
       "      <td>1.366902</td>\n",
       "      <td>0.371552</td>\n",
       "      <td>-0.371552</td>\n",
       "    </tr>\n",
       "  </tbody>\n",
       "</table>\n",
       "</div>"
      ],
      "text/plain": [
       "   Credit_History       emi  total_income  Dependents_0  Dependents_1  \\\n",
       "0         0.42151 -0.148626     -0.154913      0.849148     -0.441457   \n",
       "1         0.42151 -0.142736     -0.114719     -1.177651      2.265226   \n",
       "2         0.42151 -0.325324     -0.628099      0.849148     -0.441457   \n",
       "3         0.42151 -0.166296     -0.305721      0.849148     -0.441457   \n",
       "4         0.42151 -0.104452     -0.129833      0.849148     -0.441457   \n",
       "\n",
       "   Dependents_2  Dependents_3+  Education_Graduate  Education_Not Graduate  \\\n",
       "0     -0.441457      -0.319761            0.534522               -0.534522   \n",
       "1     -0.441457      -0.319761            0.534522               -0.534522   \n",
       "2     -0.441457      -0.319761            0.534522               -0.534522   \n",
       "3     -0.441457      -0.319761           -1.870829                1.870829   \n",
       "4     -0.441457      -0.319761            0.534522               -0.534522   \n",
       "\n",
       "   Gender_Female  Gender_Male  Married_No  Married_Yes  Property_Area_Rural  \\\n",
       "0      -0.477268     0.477268    1.351699    -1.351699            -0.647828   \n",
       "1      -0.477268     0.477268   -0.739810     0.739810             1.543619   \n",
       "2      -0.477268     0.477268   -0.739810     0.739810            -0.647828   \n",
       "3      -0.477268     0.477268   -0.739810     0.739810            -0.647828   \n",
       "4      -0.477268     0.477268    1.351699    -1.351699            -0.647828   \n",
       "\n",
       "   Property_Area_Semiurban  Property_Area_Urban  Self_Employed_No  \\\n",
       "0                -0.743112             1.366902          0.371552   \n",
       "1                -0.743112            -0.731581          0.371552   \n",
       "2                -0.743112             1.366902         -2.691412   \n",
       "3                -0.743112             1.366902          0.371552   \n",
       "4                -0.743112             1.366902          0.371552   \n",
       "\n",
       "   Self_Employed_Yes  \n",
       "0          -0.371552  \n",
       "1          -0.371552  \n",
       "2           2.691412  \n",
       "3          -0.371552  \n",
       "4          -0.371552  "
      ]
     },
     "execution_count": 222,
     "metadata": {},
     "output_type": "execute_result"
    }
   ],
   "source": [
    "big_X_imputed.head()"
   ]
  },
  {
   "cell_type": "markdown",
   "metadata": {},
   "source": [
    "### Prepare the inputs for the model"
   ]
  },
  {
   "cell_type": "code",
   "execution_count": 223,
   "metadata": {
    "collapsed": false
   },
   "outputs": [],
   "source": [
    "IDcol = pd.Series(test['Loan_ID'])"
   ]
  },
  {
   "cell_type": "code",
   "execution_count": 224,
   "metadata": {
    "collapsed": true
   },
   "outputs": [],
   "source": [
    "train_X = big_X_imputed[0:train.shape[0]].as_matrix()\n",
    "test_X = big_X_imputed[train.shape[0]:].as_matrix()"
   ]
  },
  {
   "cell_type": "markdown",
   "metadata": {},
   "source": [
    "### Label encoding for target is required"
   ]
  },
  {
   "cell_type": "code",
   "execution_count": 225,
   "metadata": {
    "collapsed": false
   },
   "outputs": [],
   "source": [
    "le = LabelEncoder()\n",
    "train_y = train['Loan_Status']\n",
    "train_y = le.fit_transform(train_y)"
   ]
  },
  {
   "cell_type": "markdown",
   "metadata": {},
   "source": [
    "## AdaBoost"
   ]
  },
  {
   "cell_type": "code",
   "execution_count": 226,
   "metadata": {
    "collapsed": false
   },
   "outputs": [
    {
     "name": "stdout",
     "output_type": "stream",
     "text": [
      "Best Score:  0.809446254072\n",
      "{'learning_rate': 1e-07, 'n_estimators': 1}\n"
     ]
    }
   ],
   "source": [
    "adb = AdaBoostClassifier()\n",
    "\n",
    "n_estimators_range=[1, 2]\n",
    "learning_rate_range = [0.0000001]\n",
    "\n",
    "param_grid = [{'n_estimators': n_estimators_range, \n",
    "               'learning_rate': learning_rate_range}]\n",
    "\n",
    "gs_adb = GridSearchCV(estimator=adb,\n",
    "                       param_grid=param_grid,\n",
    "                       scoring='accuracy',\n",
    "                       cv=10,\n",
    "                       n_jobs=2)\n",
    "\n",
    "gs_adb = gs_adb.fit(train_X, train_y)\n",
    "\n",
    "print(\"Best Score: \", gs_adb.best_score_)\n",
    "print(gs_adb.best_params_)"
   ]
  },
  {
   "cell_type": "markdown",
   "metadata": {},
   "source": [
    "## XGBoost"
   ]
  },
  {
   "cell_type": "code",
   "execution_count": 227,
   "metadata": {
    "collapsed": false
   },
   "outputs": [
    {
     "name": "stdout",
     "output_type": "stream",
     "text": [
      "Best Score:  0.809446254072\n",
      "{'learning_rate': 1e-07, 'n_estimators': 1, 'max_depth': 1}\n"
     ]
    }
   ],
   "source": [
    "#XGBoost Classifier\n",
    "xgb_clf = xgb.XGBClassifier()\n",
    "\n",
    "n_estimators_range=[1, 2]\n",
    "max_depth_range = [1, 2]\n",
    "learning_rate_range = [0.0000001, 0.00002, 0.00003]\n",
    "\n",
    "param_grid = [{'n_estimators': n_estimators_range, \n",
    "               'max_depth': max_depth_range, \n",
    "               'learning_rate': learning_rate_range}]\n",
    "\n",
    "gs_xgb = GridSearchCV(estimator=xgb_clf, \n",
    "                  param_grid=param_grid, \n",
    "                  scoring='accuracy', \n",
    "                  cv=10,\n",
    "                  n_jobs=3)\n",
    "\n",
    "gs_xgb = gs_xgb.fit(train_X, train_y)\n",
    "\n",
    "print(\"Best Score: \", gs_xgb.best_score_)\n",
    "print(gs_xgb.best_params_)"
   ]
  },
  {
   "cell_type": "markdown",
   "metadata": {},
   "source": [
    "### Submission"
   ]
  },
  {
   "cell_type": "code",
   "execution_count": 228,
   "metadata": {
    "collapsed": false,
    "scrolled": true
   },
   "outputs": [
    {
     "name": "stdout",
     "output_type": "stream",
     "text": [
      "[ 1.  0.  0.  0.  0.  0.  0.  0.  0.  0.  0.  0.  0.  0.  0.  0.  0.  0.]\n"
     ]
    }
   ],
   "source": [
    "clf = gs_xgb.best_estimator_\n",
    "print(clf.feature_importances_)\n",
    "clf = clf.fit(train_X, train_y)\n",
    "\n",
    "#prediction on test data\n",
    "predictions = clf.predict(test_X)\n",
    "predictions = le.inverse_transform(predictions)\n",
    "\n",
    "predictions = pd.Series(predictions, name='Loan_Status')\n",
    "\n",
    "submission = pd.concat([IDcol, predictions], axis=1)\n",
    "submission.to_csv(\"model_xgb_01.csv\", index=False)"
   ]
  }
 ],
 "metadata": {
  "kernelspec": {
   "display_name": "Python 3",
   "language": "python",
   "name": "python3"
  },
  "language_info": {
   "codemirror_mode": {
    "name": "ipython",
    "version": 3
   },
   "file_extension": ".py",
   "mimetype": "text/x-python",
   "name": "python",
   "nbconvert_exporter": "python",
   "pygments_lexer": "ipython3",
   "version": "3.5.1"
  }
 },
 "nbformat": 4,
 "nbformat_minor": 0
}
