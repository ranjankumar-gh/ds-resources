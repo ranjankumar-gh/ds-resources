{
 "cells": [
  {
   "cell_type": "markdown",
   "metadata": {},
   "source": [
    "## Load the Library"
   ]
  },
  {
   "cell_type": "code",
   "execution_count": 134,
   "metadata": {
    "collapsed": true
   },
   "outputs": [],
   "source": [
    "import math\n",
    "import pandas as pd\n",
    "import numpy as np\n",
    "from scipy.stats import mode\n",
    "from sklearn.neighbors import KNeighborsClassifier\n",
    "from sklearn.tree import DecisionTreeClassifier\n",
    "from sklearn.grid_search import GridSearchCV\n",
    "from sklearn.ensemble import AdaBoostClassifier\n",
    "from sklearn.pipeline import Pipeline\n",
    "from sklearn.cross_validation import train_test_split\n",
    "from sklearn.metrics import log_loss, scorer\n",
    "from sklearn.preprocessing import LabelEncoder, Imputer, StandardScaler\n",
    "import matplotlib.pyplot as plt\n",
    "%matplotlib inline"
   ]
  },
  {
   "cell_type": "code",
   "execution_count": 135,
   "metadata": {
    "collapsed": true
   },
   "outputs": [],
   "source": [
    "def llfun(act, pred):\n",
    "    \"\"\" Logloss function for 1/0 probability\n",
    "    \"\"\"\n",
    "    return (-(~(act == pred)).astype(int) * math.log(1e-15)).sum() / len(act)"
   ]
  },
  {
   "cell_type": "markdown",
   "metadata": {},
   "source": [
    "## Load the Data"
   ]
  },
  {
   "cell_type": "code",
   "execution_count": 136,
   "metadata": {
    "collapsed": false
   },
   "outputs": [],
   "source": [
    "train = pd.read_csv(\"train.csv\")\n",
    "test = pd.read_csv(\"test.csv\")"
   ]
  },
  {
   "cell_type": "markdown",
   "metadata": {},
   "source": [
    "## Data Exploration"
   ]
  },
  {
   "cell_type": "code",
   "execution_count": 137,
   "metadata": {
    "collapsed": false
   },
   "outputs": [
    {
     "name": "stdout",
     "output_type": "stream",
     "text": [
      "(68353, 13) (45978, 12) (114331, 13)\n"
     ]
    }
   ],
   "source": [
    "train['source'] = 'train'\n",
    "test['source'] = 'test'\n",
    "data = pd.concat([train, test],ignore_index=True)\n",
    "print(train.shape, test.shape, data.shape)"
   ]
  },
  {
   "cell_type": "code",
   "execution_count": 138,
   "metadata": {
    "collapsed": false
   },
   "outputs": [
    {
     "data": {
      "text/html": [
       "<div>\n",
       "<table border=\"1\" class=\"dataframe\">\n",
       "  <thead>\n",
       "    <tr style=\"text-align: right;\">\n",
       "      <th></th>\n",
       "      <th>Customer_Location</th>\n",
       "      <th>Email_Campaign_Type</th>\n",
       "      <th>Email_ID</th>\n",
       "      <th>Email_Source_Type</th>\n",
       "      <th>Email_Status</th>\n",
       "      <th>Email_Type</th>\n",
       "      <th>Subject_Hotness_Score</th>\n",
       "      <th>Time_Email_sent_Category</th>\n",
       "      <th>Total_Images</th>\n",
       "      <th>Total_Links</th>\n",
       "      <th>Total_Past_Communications</th>\n",
       "      <th>Word_Count</th>\n",
       "      <th>source</th>\n",
       "    </tr>\n",
       "  </thead>\n",
       "  <tbody>\n",
       "    <tr>\n",
       "      <th>0</th>\n",
       "      <td>E</td>\n",
       "      <td>2</td>\n",
       "      <td>EMA00081000034500</td>\n",
       "      <td>2</td>\n",
       "      <td>0.0</td>\n",
       "      <td>1</td>\n",
       "      <td>2.2</td>\n",
       "      <td>1</td>\n",
       "      <td>0.0</td>\n",
       "      <td>8.0</td>\n",
       "      <td>33.0</td>\n",
       "      <td>440</td>\n",
       "      <td>train</td>\n",
       "    </tr>\n",
       "    <tr>\n",
       "      <th>1</th>\n",
       "      <td>NaN</td>\n",
       "      <td>2</td>\n",
       "      <td>EMA00081000045360</td>\n",
       "      <td>1</td>\n",
       "      <td>0.0</td>\n",
       "      <td>2</td>\n",
       "      <td>2.1</td>\n",
       "      <td>2</td>\n",
       "      <td>0.0</td>\n",
       "      <td>5.0</td>\n",
       "      <td>15.0</td>\n",
       "      <td>504</td>\n",
       "      <td>train</td>\n",
       "    </tr>\n",
       "    <tr>\n",
       "      <th>2</th>\n",
       "      <td>B</td>\n",
       "      <td>3</td>\n",
       "      <td>EMA00081000066290</td>\n",
       "      <td>1</td>\n",
       "      <td>1.0</td>\n",
       "      <td>2</td>\n",
       "      <td>0.1</td>\n",
       "      <td>2</td>\n",
       "      <td>0.0</td>\n",
       "      <td>5.0</td>\n",
       "      <td>36.0</td>\n",
       "      <td>962</td>\n",
       "      <td>train</td>\n",
       "    </tr>\n",
       "    <tr>\n",
       "      <th>3</th>\n",
       "      <td>E</td>\n",
       "      <td>2</td>\n",
       "      <td>EMA00081000076560</td>\n",
       "      <td>2</td>\n",
       "      <td>0.0</td>\n",
       "      <td>1</td>\n",
       "      <td>3.0</td>\n",
       "      <td>2</td>\n",
       "      <td>0.0</td>\n",
       "      <td>16.0</td>\n",
       "      <td>25.0</td>\n",
       "      <td>610</td>\n",
       "      <td>train</td>\n",
       "    </tr>\n",
       "    <tr>\n",
       "      <th>4</th>\n",
       "      <td>C</td>\n",
       "      <td>3</td>\n",
       "      <td>EMA00081000109720</td>\n",
       "      <td>2</td>\n",
       "      <td>0.0</td>\n",
       "      <td>1</td>\n",
       "      <td>0.0</td>\n",
       "      <td>2</td>\n",
       "      <td>0.0</td>\n",
       "      <td>4.0</td>\n",
       "      <td>18.0</td>\n",
       "      <td>947</td>\n",
       "      <td>train</td>\n",
       "    </tr>\n",
       "  </tbody>\n",
       "</table>\n",
       "</div>"
      ],
      "text/plain": [
       "  Customer_Location  Email_Campaign_Type           Email_ID  \\\n",
       "0                 E                    2  EMA00081000034500   \n",
       "1               NaN                    2  EMA00081000045360   \n",
       "2                 B                    3  EMA00081000066290   \n",
       "3                 E                    2  EMA00081000076560   \n",
       "4                 C                    3  EMA00081000109720   \n",
       "\n",
       "   Email_Source_Type  Email_Status  Email_Type  Subject_Hotness_Score  \\\n",
       "0                  2           0.0           1                    2.2   \n",
       "1                  1           0.0           2                    2.1   \n",
       "2                  1           1.0           2                    0.1   \n",
       "3                  2           0.0           1                    3.0   \n",
       "4                  2           0.0           1                    0.0   \n",
       "\n",
       "   Time_Email_sent_Category  Total_Images  Total_Links  \\\n",
       "0                         1           0.0          8.0   \n",
       "1                         2           0.0          5.0   \n",
       "2                         2           0.0          5.0   \n",
       "3                         2           0.0         16.0   \n",
       "4                         2           0.0          4.0   \n",
       "\n",
       "   Total_Past_Communications  Word_Count source  \n",
       "0                       33.0         440  train  \n",
       "1                       15.0         504  train  \n",
       "2                       36.0         962  train  \n",
       "3                       25.0         610  train  \n",
       "4                       18.0         947  train  "
      ]
     },
     "execution_count": 138,
     "metadata": {},
     "output_type": "execute_result"
    }
   ],
   "source": [
    "data.head()"
   ]
  },
  {
   "cell_type": "markdown",
   "metadata": {},
   "source": [
    "### Missing Data"
   ]
  },
  {
   "cell_type": "code",
   "execution_count": 139,
   "metadata": {
    "collapsed": false
   },
   "outputs": [
    {
     "data": {
      "text/plain": [
       "Customer_Location            19438\n",
       "Email_Campaign_Type              0\n",
       "Email_ID                         0\n",
       "Email_Source_Type                0\n",
       "Email_Status                 45978\n",
       "Email_Type                       0\n",
       "Subject_Hotness_Score            0\n",
       "Time_Email_sent_Category         0\n",
       "Total_Images                  2770\n",
       "Total_Links                   3624\n",
       "Total_Past_Communications    11515\n",
       "Word_Count                       0\n",
       "source                           0\n",
       "dtype: int64"
      ]
     },
     "execution_count": 139,
     "metadata": {},
     "output_type": "execute_result"
    }
   ],
   "source": [
    "data.apply(lambda x: sum(x.isnull()))"
   ]
  },
  {
   "cell_type": "code",
   "execution_count": 140,
   "metadata": {
    "collapsed": false
   },
   "outputs": [
    {
     "data": {
      "text/html": [
       "<div>\n",
       "<table border=\"1\" class=\"dataframe\">\n",
       "  <thead>\n",
       "    <tr style=\"text-align: right;\">\n",
       "      <th></th>\n",
       "      <th>Email_Campaign_Type</th>\n",
       "      <th>Email_Source_Type</th>\n",
       "      <th>Email_Status</th>\n",
       "      <th>Email_Type</th>\n",
       "      <th>Subject_Hotness_Score</th>\n",
       "      <th>Time_Email_sent_Category</th>\n",
       "      <th>Total_Images</th>\n",
       "      <th>Total_Links</th>\n",
       "      <th>Total_Past_Communications</th>\n",
       "      <th>Word_Count</th>\n",
       "    </tr>\n",
       "  </thead>\n",
       "  <tbody>\n",
       "    <tr>\n",
       "      <th>count</th>\n",
       "      <td>114331.000000</td>\n",
       "      <td>114331.000000</td>\n",
       "      <td>68353.000000</td>\n",
       "      <td>114331.000000</td>\n",
       "      <td>114331.000000</td>\n",
       "      <td>114331.000000</td>\n",
       "      <td>111561.000000</td>\n",
       "      <td>110707.00000</td>\n",
       "      <td>102816.000000</td>\n",
       "      <td>114331.000000</td>\n",
       "    </tr>\n",
       "    <tr>\n",
       "      <th>mean</th>\n",
       "      <td>2.270539</td>\n",
       "      <td>1.456928</td>\n",
       "      <td>0.230934</td>\n",
       "      <td>1.284096</td>\n",
       "      <td>1.095876</td>\n",
       "      <td>1.997945</td>\n",
       "      <td>3.535178</td>\n",
       "      <td>10.41291</td>\n",
       "      <td>28.892225</td>\n",
       "      <td>701.350885</td>\n",
       "    </tr>\n",
       "    <tr>\n",
       "      <th>std</th>\n",
       "      <td>0.468056</td>\n",
       "      <td>0.498144</td>\n",
       "      <td>0.497032</td>\n",
       "      <td>0.450985</td>\n",
       "      <td>0.996247</td>\n",
       "      <td>0.631809</td>\n",
       "      <td>5.592399</td>\n",
       "      <td>6.39044</td>\n",
       "      <td>12.528849</td>\n",
       "      <td>271.875965</td>\n",
       "    </tr>\n",
       "    <tr>\n",
       "      <th>min</th>\n",
       "      <td>1.000000</td>\n",
       "      <td>1.000000</td>\n",
       "      <td>0.000000</td>\n",
       "      <td>1.000000</td>\n",
       "      <td>0.000000</td>\n",
       "      <td>1.000000</td>\n",
       "      <td>0.000000</td>\n",
       "      <td>1.00000</td>\n",
       "      <td>0.000000</td>\n",
       "      <td>40.000000</td>\n",
       "    </tr>\n",
       "    <tr>\n",
       "      <th>25%</th>\n",
       "      <td>2.000000</td>\n",
       "      <td>1.000000</td>\n",
       "      <td>0.000000</td>\n",
       "      <td>1.000000</td>\n",
       "      <td>0.200000</td>\n",
       "      <td>2.000000</td>\n",
       "      <td>0.000000</td>\n",
       "      <td>6.00000</td>\n",
       "      <td>20.000000</td>\n",
       "      <td>521.000000</td>\n",
       "    </tr>\n",
       "    <tr>\n",
       "      <th>50%</th>\n",
       "      <td>2.000000</td>\n",
       "      <td>1.000000</td>\n",
       "      <td>0.000000</td>\n",
       "      <td>1.000000</td>\n",
       "      <td>0.800000</td>\n",
       "      <td>2.000000</td>\n",
       "      <td>0.000000</td>\n",
       "      <td>9.00000</td>\n",
       "      <td>28.000000</td>\n",
       "      <td>694.000000</td>\n",
       "    </tr>\n",
       "    <tr>\n",
       "      <th>75%</th>\n",
       "      <td>3.000000</td>\n",
       "      <td>2.000000</td>\n",
       "      <td>0.000000</td>\n",
       "      <td>2.000000</td>\n",
       "      <td>1.800000</td>\n",
       "      <td>2.000000</td>\n",
       "      <td>5.000000</td>\n",
       "      <td>14.00000</td>\n",
       "      <td>38.000000</td>\n",
       "      <td>880.000000</td>\n",
       "    </tr>\n",
       "    <tr>\n",
       "      <th>max</th>\n",
       "      <td>3.000000</td>\n",
       "      <td>2.000000</td>\n",
       "      <td>2.000000</td>\n",
       "      <td>2.000000</td>\n",
       "      <td>5.000000</td>\n",
       "      <td>3.000000</td>\n",
       "      <td>47.000000</td>\n",
       "      <td>49.00000</td>\n",
       "      <td>67.000000</td>\n",
       "      <td>1316.000000</td>\n",
       "    </tr>\n",
       "  </tbody>\n",
       "</table>\n",
       "</div>"
      ],
      "text/plain": [
       "       Email_Campaign_Type  Email_Source_Type  Email_Status     Email_Type  \\\n",
       "count        114331.000000      114331.000000  68353.000000  114331.000000   \n",
       "mean              2.270539           1.456928      0.230934       1.284096   \n",
       "std               0.468056           0.498144      0.497032       0.450985   \n",
       "min               1.000000           1.000000      0.000000       1.000000   \n",
       "25%               2.000000           1.000000      0.000000       1.000000   \n",
       "50%               2.000000           1.000000      0.000000       1.000000   \n",
       "75%               3.000000           2.000000      0.000000       2.000000   \n",
       "max               3.000000           2.000000      2.000000       2.000000   \n",
       "\n",
       "       Subject_Hotness_Score  Time_Email_sent_Category   Total_Images  \\\n",
       "count          114331.000000             114331.000000  111561.000000   \n",
       "mean                1.095876                  1.997945       3.535178   \n",
       "std                 0.996247                  0.631809       5.592399   \n",
       "min                 0.000000                  1.000000       0.000000   \n",
       "25%                 0.200000                  2.000000       0.000000   \n",
       "50%                 0.800000                  2.000000       0.000000   \n",
       "75%                 1.800000                  2.000000       5.000000   \n",
       "max                 5.000000                  3.000000      47.000000   \n",
       "\n",
       "        Total_Links  Total_Past_Communications     Word_Count  \n",
       "count  110707.00000              102816.000000  114331.000000  \n",
       "mean       10.41291                  28.892225     701.350885  \n",
       "std         6.39044                  12.528849     271.875965  \n",
       "min         1.00000                   0.000000      40.000000  \n",
       "25%         6.00000                  20.000000     521.000000  \n",
       "50%         9.00000                  28.000000     694.000000  \n",
       "75%        14.00000                  38.000000     880.000000  \n",
       "max        49.00000                  67.000000    1316.000000  "
      ]
     },
     "execution_count": 140,
     "metadata": {},
     "output_type": "execute_result"
    }
   ],
   "source": [
    "data.describe()"
   ]
  },
  {
   "cell_type": "code",
   "execution_count": 141,
   "metadata": {
    "collapsed": false
   },
   "outputs": [
    {
     "data": {
      "text/plain": [
       "Customer_Location                 9\n",
       "Email_Campaign_Type               3\n",
       "Email_ID                     114331\n",
       "Email_Source_Type                 2\n",
       "Email_Status                      4\n",
       "Email_Type                        2\n",
       "Subject_Hotness_Score            51\n",
       "Time_Email_sent_Category          3\n",
       "Total_Images                     47\n",
       "Total_Links                      38\n",
       "Total_Past_Communications        65\n",
       "Word_Count                      151\n",
       "source                            2\n",
       "dtype: int64"
      ]
     },
     "execution_count": 141,
     "metadata": {},
     "output_type": "execute_result"
    }
   ],
   "source": [
    "data.apply(lambda x: len(x.unique()))"
   ]
  },
  {
   "cell_type": "markdown",
   "metadata": {},
   "source": [
    "## Data Cleaning"
   ]
  },
  {
   "cell_type": "markdown",
   "metadata": {},
   "source": [
    "### One-Hot Encoding for\n",
    "- 'Email_Campaign_Type', \n",
    "- 'Email_ID', \n",
    "- 'Email_Source_Type', \n",
    "- 'Email_Type', \n",
    "- 'Time_Email_sent_Category'"
   ]
  },
  {
   "cell_type": "code",
   "execution_count": 142,
   "metadata": {
    "collapsed": false
   },
   "outputs": [
    {
     "data": {
      "text/plain": [
       "Customer_Location             object\n",
       "Email_Campaign_Type           object\n",
       "Email_ID                      object\n",
       "Email_Source_Type             object\n",
       "Email_Status                 float64\n",
       "Email_Type                    object\n",
       "Subject_Hotness_Score        float64\n",
       "Time_Email_sent_Category      object\n",
       "Total_Images                 float64\n",
       "Total_Links                  float64\n",
       "Total_Past_Communications    float64\n",
       "Word_Count                     int64\n",
       "source                        object\n",
       "dtype: object"
      ]
     },
     "execution_count": 142,
     "metadata": {},
     "output_type": "execute_result"
    }
   ],
   "source": [
    "features_col_to_str = ['Email_Campaign_Type', 'Email_ID', 'Email_Source_Type', 'Email_Type', 'Time_Email_sent_Category']\n",
    "for features in features_col_to_str:\n",
    "    data[features] = data[features].astype(str)\n",
    "data.dtypes"
   ]
  },
  {
   "cell_type": "code",
   "execution_count": 143,
   "metadata": {
    "collapsed": false
   },
   "outputs": [
    {
     "data": {
      "text/plain": [
       "Index(['Email_Campaign_Type_1', 'Email_Campaign_Type_2',\n",
       "       'Email_Campaign_Type_3', 'Email_Source_Type_1', 'Email_Source_Type_2',\n",
       "       'Email_Type_1', 'Email_Type_2', 'Time_Email_sent_Category_1',\n",
       "       'Time_Email_sent_Category_2', 'Time_Email_sent_Category_3'],\n",
       "      dtype='object')"
      ]
     },
     "execution_count": 143,
     "metadata": {},
     "output_type": "execute_result"
    }
   ],
   "source": [
    "features_categ = ['Email_Campaign_Type', 'Email_Source_Type', 'Email_Type', 'Time_Email_sent_Category', ]\n",
    "data_categ = data[features_categ]\n",
    "data_categ = pd.get_dummies(data_categ)\n",
    "data_categ.apply(lambda x: sum(x.isnull()))\n",
    "data_categ.columns"
   ]
  },
  {
   "cell_type": "code",
   "execution_count": 144,
   "metadata": {
    "collapsed": false
   },
   "outputs": [],
   "source": [
    "data[data_categ.columns] = data_categ\n",
    "data.drop(features_categ,axis=1,inplace=True)"
   ]
  },
  {
   "cell_type": "code",
   "execution_count": 145,
   "metadata": {
    "collapsed": false
   },
   "outputs": [
    {
     "data": {
      "text/plain": [
       "Index(['Customer_Location', 'Email_ID', 'Email_Status',\n",
       "       'Subject_Hotness_Score', 'Total_Images', 'Total_Links',\n",
       "       'Total_Past_Communications', 'Word_Count', 'source',\n",
       "       'Email_Campaign_Type_1', 'Email_Campaign_Type_2',\n",
       "       'Email_Campaign_Type_3', 'Email_Source_Type_1', 'Email_Source_Type_2',\n",
       "       'Email_Type_1', 'Email_Type_2', 'Time_Email_sent_Category_1',\n",
       "       'Time_Email_sent_Category_2', 'Time_Email_sent_Category_3'],\n",
       "      dtype='object')"
      ]
     },
     "execution_count": 145,
     "metadata": {},
     "output_type": "execute_result"
    }
   ],
   "source": [
    "data.columns"
   ]
  },
  {
   "cell_type": "markdown",
   "metadata": {},
   "source": [
    "### Imputing 'Customer_Location'"
   ]
  },
  {
   "cell_type": "code",
   "execution_count": 146,
   "metadata": {
    "collapsed": false
   },
   "outputs": [
    {
     "name": "stderr",
     "output_type": "stream",
     "text": [
      "C:\\Users\\ranjank\\Anaconda3\\lib\\site-packages\\sklearn\\preprocessing\\label.py:125: DataConversionWarning: A column-vector y was passed when a 1d array was expected. Please change the shape of y to (n_samples, ), for example using ravel().\n",
      "  y = column_or_1d(y, warn=True)\n"
     ]
    }
   ],
   "source": [
    "#[x for x in data.values if x not in data[data['Customer_Location'].isnull()]]\n",
    "#data[data['Customer_Location'].isnull()]\n",
    "features_cl = ['Email_Campaign_Type_1', 'Email_Campaign_Type_2',\n",
    "       'Email_Campaign_Type_3', 'Email_Source_Type_1', 'Email_Source_Type_2', \n",
    "        'Email_Type_1', 'Email_Type_2', 'Time_Email_sent_Category_1',\n",
    "       'Time_Email_sent_Category_2', 'Time_Email_sent_Category_3', \n",
    "        'Subject_Hotness_Score', 'Word_Count']\n",
    "target_cl = ['Customer_Location']\n",
    "\n",
    "le = LabelEncoder()\n",
    "data_cl = data[features_cl + target_cl].loc[data['Customer_Location'].isnull() == False]\n",
    "X = data_cl[features_cl]\n",
    "y = data_cl[target_cl]\n",
    "y = le.fit_transform(y)"
   ]
  },
  {
   "cell_type": "code",
   "execution_count": 147,
   "metadata": {
    "collapsed": false
   },
   "outputs": [],
   "source": [
    "X_train, X_test, y_train, y_test = train_test_split(X, y, train_size=0.8, random_state=1)"
   ]
  },
  {
   "cell_type": "code",
   "execution_count": 148,
   "metadata": {
    "collapsed": false
   },
   "outputs": [
    {
     "data": {
      "text/plain": [
       "[]"
      ]
     },
     "execution_count": 148,
     "metadata": {},
     "output_type": "execute_result"
    },
    {
     "data": {
      "image/png": "[encoded data removed]",
      "text/plain": [
       "<matplotlib.figure.Figure at 0x2b518b96748>"
      ]
     },
     "metadata": {},
     "output_type": "display_data"
    }
   ],
   "source": [
    "# Fit\n",
    "logloss = []\n",
    "for i in range(1, 50, 1):\n",
    "    knn = KNeighborsClassifier(n_neighbors=i)\n",
    "    knn.fit(X_train, y_train)\n",
    "    \n",
    "    # Predict on test set\n",
    "    outcome = knn.predict(X_test)\n",
    "    \n",
    "    # Logloss\n",
    "    logloss.append(llfun(y_test, outcome))\n",
    "\n",
    "plt.plot(logloss)\n",
    "plt.plot()\n",
    "#plt.savefig('n_neighbors_vs_logloss.png')"
   ]
  },
  {
   "cell_type": "code",
   "execution_count": 149,
   "metadata": {
    "collapsed": false
   },
   "outputs": [],
   "source": [
    "data_cl_predict = data[features_cl].loc[data['Customer_Location'].isnull() == True]"
   ]
  },
  {
   "cell_type": "code",
   "execution_count": 150,
   "metadata": {
    "collapsed": false
   },
   "outputs": [],
   "source": [
    "knn = KNeighborsClassifier(n_neighbors=47)\n",
    "knn.fit(X, y)\n",
    "data_cl_predicted = knn.predict(data_cl_predict)\n",
    "data_cl_predicted = le.inverse_transform(data_cl_predicted)"
   ]
  },
  {
   "cell_type": "code",
   "execution_count": 151,
   "metadata": {
    "collapsed": false
   },
   "outputs": [
    {
     "data": {
      "text/html": [
       "<div>\n",
       "<table border=\"1\" class=\"dataframe\">\n",
       "  <thead>\n",
       "    <tr style=\"text-align: right;\">\n",
       "      <th></th>\n",
       "      <th>Email_Campaign_Type_1</th>\n",
       "      <th>Email_Campaign_Type_2</th>\n",
       "      <th>Email_Campaign_Type_3</th>\n",
       "      <th>Email_Source_Type_1</th>\n",
       "      <th>Email_Source_Type_2</th>\n",
       "      <th>Email_Type_1</th>\n",
       "      <th>Email_Type_2</th>\n",
       "      <th>Time_Email_sent_Category_1</th>\n",
       "      <th>Time_Email_sent_Category_2</th>\n",
       "      <th>Time_Email_sent_Category_3</th>\n",
       "      <th>Subject_Hotness_Score</th>\n",
       "      <th>Word_Count</th>\n",
       "    </tr>\n",
       "  </thead>\n",
       "  <tbody>\n",
       "    <tr>\n",
       "      <th>1</th>\n",
       "      <td>0.0</td>\n",
       "      <td>1.0</td>\n",
       "      <td>0.0</td>\n",
       "      <td>1.0</td>\n",
       "      <td>0.0</td>\n",
       "      <td>0.0</td>\n",
       "      <td>1.0</td>\n",
       "      <td>0.0</td>\n",
       "      <td>1.0</td>\n",
       "      <td>0.0</td>\n",
       "      <td>2.1</td>\n",
       "      <td>504</td>\n",
       "    </tr>\n",
       "    <tr>\n",
       "      <th>15</th>\n",
       "      <td>0.0</td>\n",
       "      <td>1.0</td>\n",
       "      <td>0.0</td>\n",
       "      <td>1.0</td>\n",
       "      <td>0.0</td>\n",
       "      <td>0.0</td>\n",
       "      <td>1.0</td>\n",
       "      <td>0.0</td>\n",
       "      <td>1.0</td>\n",
       "      <td>0.0</td>\n",
       "      <td>1.9</td>\n",
       "      <td>694</td>\n",
       "    </tr>\n",
       "    <tr>\n",
       "      <th>21</th>\n",
       "      <td>0.0</td>\n",
       "      <td>1.0</td>\n",
       "      <td>0.0</td>\n",
       "      <td>1.0</td>\n",
       "      <td>0.0</td>\n",
       "      <td>1.0</td>\n",
       "      <td>0.0</td>\n",
       "      <td>1.0</td>\n",
       "      <td>0.0</td>\n",
       "      <td>0.0</td>\n",
       "      <td>1.1</td>\n",
       "      <td>684</td>\n",
       "    </tr>\n",
       "    <tr>\n",
       "      <th>28</th>\n",
       "      <td>0.0</td>\n",
       "      <td>1.0</td>\n",
       "      <td>0.0</td>\n",
       "      <td>1.0</td>\n",
       "      <td>0.0</td>\n",
       "      <td>1.0</td>\n",
       "      <td>0.0</td>\n",
       "      <td>1.0</td>\n",
       "      <td>0.0</td>\n",
       "      <td>0.0</td>\n",
       "      <td>2.8</td>\n",
       "      <td>339</td>\n",
       "    </tr>\n",
       "    <tr>\n",
       "      <th>35</th>\n",
       "      <td>0.0</td>\n",
       "      <td>1.0</td>\n",
       "      <td>0.0</td>\n",
       "      <td>0.0</td>\n",
       "      <td>1.0</td>\n",
       "      <td>1.0</td>\n",
       "      <td>0.0</td>\n",
       "      <td>1.0</td>\n",
       "      <td>0.0</td>\n",
       "      <td>0.0</td>\n",
       "      <td>4.2</td>\n",
       "      <td>254</td>\n",
       "    </tr>\n",
       "  </tbody>\n",
       "</table>\n",
       "</div>"
      ],
      "text/plain": [
       "    Email_Campaign_Type_1  Email_Campaign_Type_2  Email_Campaign_Type_3  \\\n",
       "1                     0.0                    1.0                    0.0   \n",
       "15                    0.0                    1.0                    0.0   \n",
       "21                    0.0                    1.0                    0.0   \n",
       "28                    0.0                    1.0                    0.0   \n",
       "35                    0.0                    1.0                    0.0   \n",
       "\n",
       "    Email_Source_Type_1  Email_Source_Type_2  Email_Type_1  Email_Type_2  \\\n",
       "1                   1.0                  0.0           0.0           1.0   \n",
       "15                  1.0                  0.0           0.0           1.0   \n",
       "21                  1.0                  0.0           1.0           0.0   \n",
       "28                  1.0                  0.0           1.0           0.0   \n",
       "35                  0.0                  1.0           1.0           0.0   \n",
       "\n",
       "    Time_Email_sent_Category_1  Time_Email_sent_Category_2  \\\n",
       "1                          0.0                         1.0   \n",
       "15                         0.0                         1.0   \n",
       "21                         1.0                         0.0   \n",
       "28                         1.0                         0.0   \n",
       "35                         1.0                         0.0   \n",
       "\n",
       "    Time_Email_sent_Category_3  Subject_Hotness_Score  Word_Count  \n",
       "1                          0.0                    2.1         504  \n",
       "15                         0.0                    1.9         694  \n",
       "21                         0.0                    1.1         684  \n",
       "28                         0.0                    2.8         339  \n",
       "35                         0.0                    4.2         254  "
      ]
     },
     "execution_count": 151,
     "metadata": {},
     "output_type": "execute_result"
    }
   ],
   "source": [
    "data_cl_predict.head()"
   ]
  },
  {
   "cell_type": "code",
   "execution_count": 152,
   "metadata": {
    "collapsed": false
   },
   "outputs": [],
   "source": [
    "data_cl_predict.loc[:,'Customer_Location'] = pd.Series(data_cl_predicted, index=data_cl_predict.index)"
   ]
  },
  {
   "cell_type": "code",
   "execution_count": 153,
   "metadata": {
    "collapsed": false
   },
   "outputs": [
    {
     "data": {
      "text/html": [
       "<div>\n",
       "<table border=\"1\" class=\"dataframe\">\n",
       "  <thead>\n",
       "    <tr style=\"text-align: right;\">\n",
       "      <th></th>\n",
       "      <th>Email_Campaign_Type_1</th>\n",
       "      <th>Email_Campaign_Type_2</th>\n",
       "      <th>Email_Campaign_Type_3</th>\n",
       "      <th>Email_Source_Type_1</th>\n",
       "      <th>Email_Source_Type_2</th>\n",
       "      <th>Email_Type_1</th>\n",
       "      <th>Email_Type_2</th>\n",
       "      <th>Time_Email_sent_Category_1</th>\n",
       "      <th>Time_Email_sent_Category_2</th>\n",
       "      <th>Time_Email_sent_Category_3</th>\n",
       "      <th>Subject_Hotness_Score</th>\n",
       "      <th>Word_Count</th>\n",
       "      <th>Customer_Location</th>\n",
       "    </tr>\n",
       "  </thead>\n",
       "  <tbody>\n",
       "    <tr>\n",
       "      <th>1</th>\n",
       "      <td>0.0</td>\n",
       "      <td>1.0</td>\n",
       "      <td>0.0</td>\n",
       "      <td>1.0</td>\n",
       "      <td>0.0</td>\n",
       "      <td>0.0</td>\n",
       "      <td>1.0</td>\n",
       "      <td>0.0</td>\n",
       "      <td>1.0</td>\n",
       "      <td>0.0</td>\n",
       "      <td>2.1</td>\n",
       "      <td>504</td>\n",
       "      <td>G</td>\n",
       "    </tr>\n",
       "    <tr>\n",
       "      <th>15</th>\n",
       "      <td>0.0</td>\n",
       "      <td>1.0</td>\n",
       "      <td>0.0</td>\n",
       "      <td>1.0</td>\n",
       "      <td>0.0</td>\n",
       "      <td>0.0</td>\n",
       "      <td>1.0</td>\n",
       "      <td>0.0</td>\n",
       "      <td>1.0</td>\n",
       "      <td>0.0</td>\n",
       "      <td>1.9</td>\n",
       "      <td>694</td>\n",
       "      <td>G</td>\n",
       "    </tr>\n",
       "    <tr>\n",
       "      <th>21</th>\n",
       "      <td>0.0</td>\n",
       "      <td>1.0</td>\n",
       "      <td>0.0</td>\n",
       "      <td>1.0</td>\n",
       "      <td>0.0</td>\n",
       "      <td>1.0</td>\n",
       "      <td>0.0</td>\n",
       "      <td>1.0</td>\n",
       "      <td>0.0</td>\n",
       "      <td>0.0</td>\n",
       "      <td>1.1</td>\n",
       "      <td>684</td>\n",
       "      <td>G</td>\n",
       "    </tr>\n",
       "    <tr>\n",
       "      <th>28</th>\n",
       "      <td>0.0</td>\n",
       "      <td>1.0</td>\n",
       "      <td>0.0</td>\n",
       "      <td>1.0</td>\n",
       "      <td>0.0</td>\n",
       "      <td>1.0</td>\n",
       "      <td>0.0</td>\n",
       "      <td>1.0</td>\n",
       "      <td>0.0</td>\n",
       "      <td>0.0</td>\n",
       "      <td>2.8</td>\n",
       "      <td>339</td>\n",
       "      <td>G</td>\n",
       "    </tr>\n",
       "    <tr>\n",
       "      <th>35</th>\n",
       "      <td>0.0</td>\n",
       "      <td>1.0</td>\n",
       "      <td>0.0</td>\n",
       "      <td>0.0</td>\n",
       "      <td>1.0</td>\n",
       "      <td>1.0</td>\n",
       "      <td>0.0</td>\n",
       "      <td>1.0</td>\n",
       "      <td>0.0</td>\n",
       "      <td>0.0</td>\n",
       "      <td>4.2</td>\n",
       "      <td>254</td>\n",
       "      <td>G</td>\n",
       "    </tr>\n",
       "  </tbody>\n",
       "</table>\n",
       "</div>"
      ],
      "text/plain": [
       "    Email_Campaign_Type_1  Email_Campaign_Type_2  Email_Campaign_Type_3  \\\n",
       "1                     0.0                    1.0                    0.0   \n",
       "15                    0.0                    1.0                    0.0   \n",
       "21                    0.0                    1.0                    0.0   \n",
       "28                    0.0                    1.0                    0.0   \n",
       "35                    0.0                    1.0                    0.0   \n",
       "\n",
       "    Email_Source_Type_1  Email_Source_Type_2  Email_Type_1  Email_Type_2  \\\n",
       "1                   1.0                  0.0           0.0           1.0   \n",
       "15                  1.0                  0.0           0.0           1.0   \n",
       "21                  1.0                  0.0           1.0           0.0   \n",
       "28                  1.0                  0.0           1.0           0.0   \n",
       "35                  0.0                  1.0           1.0           0.0   \n",
       "\n",
       "    Time_Email_sent_Category_1  Time_Email_sent_Category_2  \\\n",
       "1                          0.0                         1.0   \n",
       "15                         0.0                         1.0   \n",
       "21                         1.0                         0.0   \n",
       "28                         1.0                         0.0   \n",
       "35                         1.0                         0.0   \n",
       "\n",
       "    Time_Email_sent_Category_3  Subject_Hotness_Score  Word_Count  \\\n",
       "1                          0.0                    2.1         504   \n",
       "15                         0.0                    1.9         694   \n",
       "21                         0.0                    1.1         684   \n",
       "28                         0.0                    2.8         339   \n",
       "35                         0.0                    4.2         254   \n",
       "\n",
       "   Customer_Location  \n",
       "1                  G  \n",
       "15                 G  \n",
       "21                 G  \n",
       "28                 G  \n",
       "35                 G  "
      ]
     },
     "execution_count": 153,
     "metadata": {},
     "output_type": "execute_result"
    }
   ],
   "source": [
    "data_cl_predict.apply(lambda x: sum(x.isnull()))\n",
    "data_cl_predict.head()"
   ]
  },
  {
   "cell_type": "code",
   "execution_count": 154,
   "metadata": {
    "collapsed": false
   },
   "outputs": [
    {
     "data": {
      "text/plain": [
       "Index(['Customer_Location', 'Email_ID', 'Email_Status',\n",
       "       'Subject_Hotness_Score', 'Total_Images', 'Total_Links',\n",
       "       'Total_Past_Communications', 'Word_Count', 'source',\n",
       "       'Email_Campaign_Type_1', 'Email_Campaign_Type_2',\n",
       "       'Email_Campaign_Type_3', 'Email_Source_Type_1', 'Email_Source_Type_2',\n",
       "       'Email_Type_1', 'Email_Type_2', 'Time_Email_sent_Category_1',\n",
       "       'Time_Email_sent_Category_2', 'Time_Email_sent_Category_3'],\n",
       "      dtype='object')"
      ]
     },
     "execution_count": 154,
     "metadata": {},
     "output_type": "execute_result"
    }
   ],
   "source": [
    "data.columns"
   ]
  },
  {
   "cell_type": "code",
   "execution_count": 155,
   "metadata": {
    "collapsed": false
   },
   "outputs": [],
   "source": [
    "data3 = data_cl.append(data_cl_predict)"
   ]
  },
  {
   "cell_type": "markdown",
   "metadata": {},
   "source": [
    "### One-Hot Encoding for \n",
    "- 'Customer_Location'"
   ]
  },
  {
   "cell_type": "code",
   "execution_count": 156,
   "metadata": {
    "collapsed": false
   },
   "outputs": [],
   "source": [
    "data3 = pd.get_dummies(data3)"
   ]
  },
  {
   "cell_type": "code",
   "execution_count": 157,
   "metadata": {
    "collapsed": false
   },
   "outputs": [
    {
     "data": {
      "text/plain": [
       "Index(['Customer_Location', 'Email_ID', 'Email_Status',\n",
       "       'Subject_Hotness_Score', 'Total_Images', 'Total_Links',\n",
       "       'Total_Past_Communications', 'Word_Count', 'source',\n",
       "       'Email_Campaign_Type_1', 'Email_Campaign_Type_2',\n",
       "       'Email_Campaign_Type_3', 'Email_Source_Type_1', 'Email_Source_Type_2',\n",
       "       'Email_Type_1', 'Email_Type_2', 'Time_Email_sent_Category_1',\n",
       "       'Time_Email_sent_Category_2', 'Time_Email_sent_Category_3'],\n",
       "      dtype='object')"
      ]
     },
     "execution_count": 157,
     "metadata": {},
     "output_type": "execute_result"
    }
   ],
   "source": [
    "data.columns"
   ]
  },
  {
   "cell_type": "code",
   "execution_count": 158,
   "metadata": {
    "collapsed": false
   },
   "outputs": [
    {
     "data": {
      "text/plain": [
       "Index(['Email_Campaign_Type_1', 'Email_Campaign_Type_2',\n",
       "       'Email_Campaign_Type_3', 'Email_Source_Type_1', 'Email_Source_Type_2',\n",
       "       'Email_Type_1', 'Email_Type_2', 'Time_Email_sent_Category_1',\n",
       "       'Time_Email_sent_Category_2', 'Time_Email_sent_Category_3',\n",
       "       'Subject_Hotness_Score', 'Word_Count', 'Customer_Location_A',\n",
       "       'Customer_Location_B', 'Customer_Location_C', 'Customer_Location_D',\n",
       "       'Customer_Location_E', 'Customer_Location_F', 'Customer_Location_G',\n",
       "       'Customer_Location_H'],\n",
       "      dtype='object')"
      ]
     },
     "execution_count": 158,
     "metadata": {},
     "output_type": "execute_result"
    }
   ],
   "source": [
    "data3.columns"
   ]
  },
  {
   "cell_type": "code",
   "execution_count": 159,
   "metadata": {
    "collapsed": false
   },
   "outputs": [
    {
     "data": {
      "text/plain": [
       "['Email_ID',\n",
       " 'Email_Status',\n",
       " 'Total_Images',\n",
       " 'Total_Links',\n",
       " 'Total_Past_Communications',\n",
       " 'source']"
      ]
     },
     "execution_count": 159,
     "metadata": {},
     "output_type": "execute_result"
    }
   ],
   "source": [
    "remaining_columns = ['Email_ID', 'Email_Status', 'Total_Images', 'Total_Links', 'Total_Past_Communications', 'source']\n",
    "remaining_columns"
   ]
  },
  {
   "cell_type": "code",
   "execution_count": 160,
   "metadata": {
    "collapsed": false
   },
   "outputs": [],
   "source": [
    "data3[remaining_columns] = data[remaining_columns]"
   ]
  },
  {
   "cell_type": "code",
   "execution_count": 161,
   "metadata": {
    "collapsed": false
   },
   "outputs": [
    {
     "data": {
      "text/html": [
       "<div>\n",
       "<table border=\"1\" class=\"dataframe\">\n",
       "  <thead>\n",
       "    <tr style=\"text-align: right;\">\n",
       "      <th></th>\n",
       "      <th>Email_Campaign_Type_1</th>\n",
       "      <th>Email_Campaign_Type_2</th>\n",
       "      <th>Email_Campaign_Type_3</th>\n",
       "      <th>Email_Source_Type_1</th>\n",
       "      <th>Email_Source_Type_2</th>\n",
       "      <th>Email_Type_1</th>\n",
       "      <th>Email_Type_2</th>\n",
       "      <th>Time_Email_sent_Category_1</th>\n",
       "      <th>Time_Email_sent_Category_2</th>\n",
       "      <th>Time_Email_sent_Category_3</th>\n",
       "      <th>...</th>\n",
       "      <th>Customer_Location_E</th>\n",
       "      <th>Customer_Location_F</th>\n",
       "      <th>Customer_Location_G</th>\n",
       "      <th>Customer_Location_H</th>\n",
       "      <th>Email_ID</th>\n",
       "      <th>Email_Status</th>\n",
       "      <th>Total_Images</th>\n",
       "      <th>Total_Links</th>\n",
       "      <th>Total_Past_Communications</th>\n",
       "      <th>source</th>\n",
       "    </tr>\n",
       "  </thead>\n",
       "  <tbody>\n",
       "    <tr>\n",
       "      <th>0</th>\n",
       "      <td>0.0</td>\n",
       "      <td>1.0</td>\n",
       "      <td>0.0</td>\n",
       "      <td>0.0</td>\n",
       "      <td>1.0</td>\n",
       "      <td>1.0</td>\n",
       "      <td>0.0</td>\n",
       "      <td>1.0</td>\n",
       "      <td>0.0</td>\n",
       "      <td>0.0</td>\n",
       "      <td>...</td>\n",
       "      <td>1.0</td>\n",
       "      <td>0.0</td>\n",
       "      <td>0.0</td>\n",
       "      <td>0.0</td>\n",
       "      <td>EMA00081000034500</td>\n",
       "      <td>0.0</td>\n",
       "      <td>0.0</td>\n",
       "      <td>8.0</td>\n",
       "      <td>33.0</td>\n",
       "      <td>train</td>\n",
       "    </tr>\n",
       "    <tr>\n",
       "      <th>2</th>\n",
       "      <td>0.0</td>\n",
       "      <td>0.0</td>\n",
       "      <td>1.0</td>\n",
       "      <td>1.0</td>\n",
       "      <td>0.0</td>\n",
       "      <td>0.0</td>\n",
       "      <td>1.0</td>\n",
       "      <td>0.0</td>\n",
       "      <td>1.0</td>\n",
       "      <td>0.0</td>\n",
       "      <td>...</td>\n",
       "      <td>0.0</td>\n",
       "      <td>0.0</td>\n",
       "      <td>0.0</td>\n",
       "      <td>0.0</td>\n",
       "      <td>EMA00081000066290</td>\n",
       "      <td>1.0</td>\n",
       "      <td>0.0</td>\n",
       "      <td>5.0</td>\n",
       "      <td>36.0</td>\n",
       "      <td>train</td>\n",
       "    </tr>\n",
       "    <tr>\n",
       "      <th>3</th>\n",
       "      <td>0.0</td>\n",
       "      <td>1.0</td>\n",
       "      <td>0.0</td>\n",
       "      <td>0.0</td>\n",
       "      <td>1.0</td>\n",
       "      <td>1.0</td>\n",
       "      <td>0.0</td>\n",
       "      <td>0.0</td>\n",
       "      <td>1.0</td>\n",
       "      <td>0.0</td>\n",
       "      <td>...</td>\n",
       "      <td>1.0</td>\n",
       "      <td>0.0</td>\n",
       "      <td>0.0</td>\n",
       "      <td>0.0</td>\n",
       "      <td>EMA00081000076560</td>\n",
       "      <td>0.0</td>\n",
       "      <td>0.0</td>\n",
       "      <td>16.0</td>\n",
       "      <td>25.0</td>\n",
       "      <td>train</td>\n",
       "    </tr>\n",
       "    <tr>\n",
       "      <th>4</th>\n",
       "      <td>0.0</td>\n",
       "      <td>0.0</td>\n",
       "      <td>1.0</td>\n",
       "      <td>0.0</td>\n",
       "      <td>1.0</td>\n",
       "      <td>1.0</td>\n",
       "      <td>0.0</td>\n",
       "      <td>0.0</td>\n",
       "      <td>1.0</td>\n",
       "      <td>0.0</td>\n",
       "      <td>...</td>\n",
       "      <td>0.0</td>\n",
       "      <td>0.0</td>\n",
       "      <td>0.0</td>\n",
       "      <td>0.0</td>\n",
       "      <td>EMA00081000109720</td>\n",
       "      <td>0.0</td>\n",
       "      <td>0.0</td>\n",
       "      <td>4.0</td>\n",
       "      <td>18.0</td>\n",
       "      <td>train</td>\n",
       "    </tr>\n",
       "    <tr>\n",
       "      <th>5</th>\n",
       "      <td>0.0</td>\n",
       "      <td>1.0</td>\n",
       "      <td>0.0</td>\n",
       "      <td>1.0</td>\n",
       "      <td>0.0</td>\n",
       "      <td>1.0</td>\n",
       "      <td>0.0</td>\n",
       "      <td>0.0</td>\n",
       "      <td>1.0</td>\n",
       "      <td>0.0</td>\n",
       "      <td>...</td>\n",
       "      <td>0.0</td>\n",
       "      <td>0.0</td>\n",
       "      <td>1.0</td>\n",
       "      <td>0.0</td>\n",
       "      <td>EMA00081000131660</td>\n",
       "      <td>0.0</td>\n",
       "      <td>0.0</td>\n",
       "      <td>11.0</td>\n",
       "      <td>NaN</td>\n",
       "      <td>train</td>\n",
       "    </tr>\n",
       "  </tbody>\n",
       "</table>\n",
       "<p>5 rows × 26 columns</p>\n",
       "</div>"
      ],
      "text/plain": [
       "   Email_Campaign_Type_1  Email_Campaign_Type_2  Email_Campaign_Type_3  \\\n",
       "0                    0.0                    1.0                    0.0   \n",
       "2                    0.0                    0.0                    1.0   \n",
       "3                    0.0                    1.0                    0.0   \n",
       "4                    0.0                    0.0                    1.0   \n",
       "5                    0.0                    1.0                    0.0   \n",
       "\n",
       "   Email_Source_Type_1  Email_Source_Type_2  Email_Type_1  Email_Type_2  \\\n",
       "0                  0.0                  1.0           1.0           0.0   \n",
       "2                  1.0                  0.0           0.0           1.0   \n",
       "3                  0.0                  1.0           1.0           0.0   \n",
       "4                  0.0                  1.0           1.0           0.0   \n",
       "5                  1.0                  0.0           1.0           0.0   \n",
       "\n",
       "   Time_Email_sent_Category_1  Time_Email_sent_Category_2  \\\n",
       "0                         1.0                         0.0   \n",
       "2                         0.0                         1.0   \n",
       "3                         0.0                         1.0   \n",
       "4                         0.0                         1.0   \n",
       "5                         0.0                         1.0   \n",
       "\n",
       "   Time_Email_sent_Category_3   ...    Customer_Location_E  \\\n",
       "0                         0.0   ...                    1.0   \n",
       "2                         0.0   ...                    0.0   \n",
       "3                         0.0   ...                    1.0   \n",
       "4                         0.0   ...                    0.0   \n",
       "5                         0.0   ...                    0.0   \n",
       "\n",
       "   Customer_Location_F  Customer_Location_G  Customer_Location_H  \\\n",
       "0                  0.0                  0.0                  0.0   \n",
       "2                  0.0                  0.0                  0.0   \n",
       "3                  0.0                  0.0                  0.0   \n",
       "4                  0.0                  0.0                  0.0   \n",
       "5                  0.0                  1.0                  0.0   \n",
       "\n",
       "            Email_ID  Email_Status  Total_Images  Total_Links  \\\n",
       "0  EMA00081000034500           0.0           0.0          8.0   \n",
       "2  EMA00081000066290           1.0           0.0          5.0   \n",
       "3  EMA00081000076560           0.0           0.0         16.0   \n",
       "4  EMA00081000109720           0.0           0.0          4.0   \n",
       "5  EMA00081000131660           0.0           0.0         11.0   \n",
       "\n",
       "   Total_Past_Communications  source  \n",
       "0                       33.0   train  \n",
       "2                       36.0   train  \n",
       "3                       25.0   train  \n",
       "4                       18.0   train  \n",
       "5                        NaN   train  \n",
       "\n",
       "[5 rows x 26 columns]"
      ]
     },
     "execution_count": 161,
     "metadata": {},
     "output_type": "execute_result"
    }
   ],
   "source": [
    "data3.head()"
   ]
  },
  {
   "cell_type": "code",
   "execution_count": 129,
   "metadata": {
    "collapsed": false
   },
   "outputs": [
    {
     "data": {
      "text/plain": [
       "Email_Campaign_Type_1             0\n",
       "Email_Campaign_Type_2             0\n",
       "Email_Campaign_Type_3             0\n",
       "Email_Source_Type_1               0\n",
       "Email_Source_Type_2               0\n",
       "Email_Type_1                      0\n",
       "Email_Type_2                      0\n",
       "Time_Email_sent_Category_1        0\n",
       "Time_Email_sent_Category_2        0\n",
       "Time_Email_sent_Category_3        0\n",
       "Subject_Hotness_Score             0\n",
       "Word_Count                        0\n",
       "Customer_Location                 0\n",
       "Email_ID                          0\n",
       "Email_Status                  45978\n",
       "Total_Images                   2770\n",
       "Total_Links                    3624\n",
       "Total_Past_Communications     11515\n",
       "source                            0\n",
       "dtype: int64"
      ]
     },
     "execution_count": 129,
     "metadata": {},
     "output_type": "execute_result"
    }
   ],
   "source": [
    "data3.apply(lambda x: sum(x.isnull()))"
   ]
  },
  {
   "cell_type": "markdown",
   "metadata": {},
   "source": [
    "### Imputing 'Total_Past_Communications' - TODO"
   ]
  },
  {
   "cell_type": "code",
   "execution_count": 130,
   "metadata": {
    "collapsed": false
   },
   "outputs": [],
   "source": [
    "#[x for x in data.values if x not in data[data['Customer_Location'].isnull()]]\n",
    "#data[data['Customer_Location'].isnull()]\n",
    "##features_tpc = ['Email_Campaign_Type', 'Email_Source_Type', 'Email_Type',\n",
    "#       'Subject_Hotness_Score', 'Time_Email_sent_Category', 'Word_Count', 'Customer_Location']\n",
    "#target_tpc = ['Total_Past_Communications']\n",
    "\n",
    "#data_tpc = data3[features_tpc + target_tpc].loc[data3['Total_Past_Communications'].isnull() == False]\n",
    "#data_tpc = pd.get_dummies(data_tpc)\n",
    "#data_tpc\n",
    "#X_tpc = data_tpc[features_tpc]\n",
    "#y_tpc = data_tpc[features_tpc]\n",
    "#y = le.fit_transform(y)\n",
    "#print(len(X), y)"
   ]
  },
  {
   "cell_type": "markdown",
   "metadata": {},
   "source": [
    "### Imputing\n",
    "- 'Total_Images'\n",
    "- 'Total_Links'\n",
    "- 'Total_Past_Communications'"
   ]
  },
  {
   "cell_type": "code",
   "execution_count": 163,
   "metadata": {
    "collapsed": false
   },
   "outputs": [
    {
     "data": {
      "text/html": [
       "<div>\n",
       "<table border=\"1\" class=\"dataframe\">\n",
       "  <thead>\n",
       "    <tr style=\"text-align: right;\">\n",
       "      <th></th>\n",
       "      <th>Total_Images</th>\n",
       "      <th>Total_Links</th>\n",
       "      <th>Total_Past_Communications</th>\n",
       "    </tr>\n",
       "  </thead>\n",
       "  <tbody>\n",
       "    <tr>\n",
       "      <th>0</th>\n",
       "      <td>0.0</td>\n",
       "      <td>8.00000</td>\n",
       "      <td>33.000000</td>\n",
       "    </tr>\n",
       "    <tr>\n",
       "      <th>2</th>\n",
       "      <td>0.0</td>\n",
       "      <td>5.00000</td>\n",
       "      <td>36.000000</td>\n",
       "    </tr>\n",
       "    <tr>\n",
       "      <th>3</th>\n",
       "      <td>0.0</td>\n",
       "      <td>16.00000</td>\n",
       "      <td>25.000000</td>\n",
       "    </tr>\n",
       "    <tr>\n",
       "      <th>4</th>\n",
       "      <td>0.0</td>\n",
       "      <td>4.00000</td>\n",
       "      <td>18.000000</td>\n",
       "    </tr>\n",
       "    <tr>\n",
       "      <th>5</th>\n",
       "      <td>0.0</td>\n",
       "      <td>11.00000</td>\n",
       "      <td>28.892225</td>\n",
       "    </tr>\n",
       "    <tr>\n",
       "      <th>6</th>\n",
       "      <td>0.0</td>\n",
       "      <td>4.00000</td>\n",
       "      <td>34.000000</td>\n",
       "    </tr>\n",
       "    <tr>\n",
       "      <th>7</th>\n",
       "      <td>2.0</td>\n",
       "      <td>6.00000</td>\n",
       "      <td>21.000000</td>\n",
       "    </tr>\n",
       "    <tr>\n",
       "      <th>8</th>\n",
       "      <td>4.0</td>\n",
       "      <td>11.00000</td>\n",
       "      <td>28.892225</td>\n",
       "    </tr>\n",
       "    <tr>\n",
       "      <th>9</th>\n",
       "      <td>0.0</td>\n",
       "      <td>11.00000</td>\n",
       "      <td>40.000000</td>\n",
       "    </tr>\n",
       "    <tr>\n",
       "      <th>10</th>\n",
       "      <td>0.0</td>\n",
       "      <td>6.00000</td>\n",
       "      <td>27.000000</td>\n",
       "    </tr>\n",
       "    <tr>\n",
       "      <th>11</th>\n",
       "      <td>16.0</td>\n",
       "      <td>21.00000</td>\n",
       "      <td>24.000000</td>\n",
       "    </tr>\n",
       "    <tr>\n",
       "      <th>12</th>\n",
       "      <td>0.0</td>\n",
       "      <td>6.00000</td>\n",
       "      <td>42.000000</td>\n",
       "    </tr>\n",
       "    <tr>\n",
       "      <th>13</th>\n",
       "      <td>0.0</td>\n",
       "      <td>10.41291</td>\n",
       "      <td>11.000000</td>\n",
       "    </tr>\n",
       "    <tr>\n",
       "      <th>14</th>\n",
       "      <td>13.0</td>\n",
       "      <td>10.41291</td>\n",
       "      <td>15.000000</td>\n",
       "    </tr>\n",
       "    <tr>\n",
       "      <th>16</th>\n",
       "      <td>4.0</td>\n",
       "      <td>21.00000</td>\n",
       "      <td>34.000000</td>\n",
       "    </tr>\n",
       "    <tr>\n",
       "      <th>17</th>\n",
       "      <td>15.0</td>\n",
       "      <td>21.00000</td>\n",
       "      <td>28.892225</td>\n",
       "    </tr>\n",
       "    <tr>\n",
       "      <th>18</th>\n",
       "      <td>0.0</td>\n",
       "      <td>16.00000</td>\n",
       "      <td>33.000000</td>\n",
       "    </tr>\n",
       "    <tr>\n",
       "      <th>19</th>\n",
       "      <td>0.0</td>\n",
       "      <td>6.00000</td>\n",
       "      <td>37.000000</td>\n",
       "    </tr>\n",
       "    <tr>\n",
       "      <th>20</th>\n",
       "      <td>4.0</td>\n",
       "      <td>16.00000</td>\n",
       "      <td>35.000000</td>\n",
       "    </tr>\n",
       "    <tr>\n",
       "      <th>22</th>\n",
       "      <td>5.0</td>\n",
       "      <td>6.00000</td>\n",
       "      <td>51.000000</td>\n",
       "    </tr>\n",
       "    <tr>\n",
       "      <th>23</th>\n",
       "      <td>0.0</td>\n",
       "      <td>4.00000</td>\n",
       "      <td>9.000000</td>\n",
       "    </tr>\n",
       "    <tr>\n",
       "      <th>24</th>\n",
       "      <td>28.0</td>\n",
       "      <td>31.00000</td>\n",
       "      <td>18.000000</td>\n",
       "    </tr>\n",
       "    <tr>\n",
       "      <th>25</th>\n",
       "      <td>0.0</td>\n",
       "      <td>3.00000</td>\n",
       "      <td>25.000000</td>\n",
       "    </tr>\n",
       "    <tr>\n",
       "      <th>26</th>\n",
       "      <td>4.0</td>\n",
       "      <td>21.00000</td>\n",
       "      <td>39.000000</td>\n",
       "    </tr>\n",
       "    <tr>\n",
       "      <th>27</th>\n",
       "      <td>0.0</td>\n",
       "      <td>11.00000</td>\n",
       "      <td>28.892225</td>\n",
       "    </tr>\n",
       "    <tr>\n",
       "      <th>29</th>\n",
       "      <td>0.0</td>\n",
       "      <td>9.00000</td>\n",
       "      <td>28.892225</td>\n",
       "    </tr>\n",
       "    <tr>\n",
       "      <th>30</th>\n",
       "      <td>3.0</td>\n",
       "      <td>6.00000</td>\n",
       "      <td>31.000000</td>\n",
       "    </tr>\n",
       "    <tr>\n",
       "      <th>31</th>\n",
       "      <td>0.0</td>\n",
       "      <td>4.00000</td>\n",
       "      <td>50.000000</td>\n",
       "    </tr>\n",
       "    <tr>\n",
       "      <th>32</th>\n",
       "      <td>8.0</td>\n",
       "      <td>16.00000</td>\n",
       "      <td>30.000000</td>\n",
       "    </tr>\n",
       "    <tr>\n",
       "      <th>33</th>\n",
       "      <td>8.0</td>\n",
       "      <td>26.00000</td>\n",
       "      <td>39.000000</td>\n",
       "    </tr>\n",
       "    <tr>\n",
       "      <th>...</th>\n",
       "      <td>...</td>\n",
       "      <td>...</td>\n",
       "      <td>...</td>\n",
       "    </tr>\n",
       "    <tr>\n",
       "      <th>114128</th>\n",
       "      <td>0.0</td>\n",
       "      <td>9.00000</td>\n",
       "      <td>45.000000</td>\n",
       "    </tr>\n",
       "    <tr>\n",
       "      <th>114149</th>\n",
       "      <td>0.0</td>\n",
       "      <td>10.41291</td>\n",
       "      <td>21.000000</td>\n",
       "    </tr>\n",
       "    <tr>\n",
       "      <th>114155</th>\n",
       "      <td>0.0</td>\n",
       "      <td>9.00000</td>\n",
       "      <td>38.000000</td>\n",
       "    </tr>\n",
       "    <tr>\n",
       "      <th>114157</th>\n",
       "      <td>0.0</td>\n",
       "      <td>9.00000</td>\n",
       "      <td>26.000000</td>\n",
       "    </tr>\n",
       "    <tr>\n",
       "      <th>114165</th>\n",
       "      <td>0.0</td>\n",
       "      <td>11.00000</td>\n",
       "      <td>11.000000</td>\n",
       "    </tr>\n",
       "    <tr>\n",
       "      <th>114169</th>\n",
       "      <td>12.0</td>\n",
       "      <td>16.00000</td>\n",
       "      <td>31.000000</td>\n",
       "    </tr>\n",
       "    <tr>\n",
       "      <th>114192</th>\n",
       "      <td>7.0</td>\n",
       "      <td>21.00000</td>\n",
       "      <td>25.000000</td>\n",
       "    </tr>\n",
       "    <tr>\n",
       "      <th>114195</th>\n",
       "      <td>6.0</td>\n",
       "      <td>14.00000</td>\n",
       "      <td>22.000000</td>\n",
       "    </tr>\n",
       "    <tr>\n",
       "      <th>114196</th>\n",
       "      <td>0.0</td>\n",
       "      <td>6.00000</td>\n",
       "      <td>30.000000</td>\n",
       "    </tr>\n",
       "    <tr>\n",
       "      <th>114197</th>\n",
       "      <td>1.0</td>\n",
       "      <td>4.00000</td>\n",
       "      <td>16.000000</td>\n",
       "    </tr>\n",
       "    <tr>\n",
       "      <th>114219</th>\n",
       "      <td>6.0</td>\n",
       "      <td>11.00000</td>\n",
       "      <td>16.000000</td>\n",
       "    </tr>\n",
       "    <tr>\n",
       "      <th>114224</th>\n",
       "      <td>8.0</td>\n",
       "      <td>9.00000</td>\n",
       "      <td>23.000000</td>\n",
       "    </tr>\n",
       "    <tr>\n",
       "      <th>114233</th>\n",
       "      <td>0.0</td>\n",
       "      <td>6.00000</td>\n",
       "      <td>34.000000</td>\n",
       "    </tr>\n",
       "    <tr>\n",
       "      <th>114244</th>\n",
       "      <td>2.0</td>\n",
       "      <td>6.00000</td>\n",
       "      <td>30.000000</td>\n",
       "    </tr>\n",
       "    <tr>\n",
       "      <th>114245</th>\n",
       "      <td>11.0</td>\n",
       "      <td>14.00000</td>\n",
       "      <td>29.000000</td>\n",
       "    </tr>\n",
       "    <tr>\n",
       "      <th>114254</th>\n",
       "      <td>11.0</td>\n",
       "      <td>14.00000</td>\n",
       "      <td>31.000000</td>\n",
       "    </tr>\n",
       "    <tr>\n",
       "      <th>114261</th>\n",
       "      <td>1.0</td>\n",
       "      <td>11.00000</td>\n",
       "      <td>29.000000</td>\n",
       "    </tr>\n",
       "    <tr>\n",
       "      <th>114263</th>\n",
       "      <td>1.0</td>\n",
       "      <td>5.00000</td>\n",
       "      <td>25.000000</td>\n",
       "    </tr>\n",
       "    <tr>\n",
       "      <th>114265</th>\n",
       "      <td>0.0</td>\n",
       "      <td>4.00000</td>\n",
       "      <td>37.000000</td>\n",
       "    </tr>\n",
       "    <tr>\n",
       "      <th>114278</th>\n",
       "      <td>4.0</td>\n",
       "      <td>5.00000</td>\n",
       "      <td>15.000000</td>\n",
       "    </tr>\n",
       "    <tr>\n",
       "      <th>114286</th>\n",
       "      <td>0.0</td>\n",
       "      <td>6.00000</td>\n",
       "      <td>10.000000</td>\n",
       "    </tr>\n",
       "    <tr>\n",
       "      <th>114288</th>\n",
       "      <td>5.0</td>\n",
       "      <td>11.00000</td>\n",
       "      <td>21.000000</td>\n",
       "    </tr>\n",
       "    <tr>\n",
       "      <th>114294</th>\n",
       "      <td>0.0</td>\n",
       "      <td>6.00000</td>\n",
       "      <td>18.000000</td>\n",
       "    </tr>\n",
       "    <tr>\n",
       "      <th>114295</th>\n",
       "      <td>6.0</td>\n",
       "      <td>16.00000</td>\n",
       "      <td>23.000000</td>\n",
       "    </tr>\n",
       "    <tr>\n",
       "      <th>114308</th>\n",
       "      <td>0.0</td>\n",
       "      <td>11.00000</td>\n",
       "      <td>35.000000</td>\n",
       "    </tr>\n",
       "    <tr>\n",
       "      <th>114311</th>\n",
       "      <td>0.0</td>\n",
       "      <td>6.00000</td>\n",
       "      <td>30.000000</td>\n",
       "    </tr>\n",
       "    <tr>\n",
       "      <th>114314</th>\n",
       "      <td>11.0</td>\n",
       "      <td>26.00000</td>\n",
       "      <td>33.000000</td>\n",
       "    </tr>\n",
       "    <tr>\n",
       "      <th>114315</th>\n",
       "      <td>0.0</td>\n",
       "      <td>12.00000</td>\n",
       "      <td>32.000000</td>\n",
       "    </tr>\n",
       "    <tr>\n",
       "      <th>114319</th>\n",
       "      <td>4.0</td>\n",
       "      <td>6.00000</td>\n",
       "      <td>43.000000</td>\n",
       "    </tr>\n",
       "    <tr>\n",
       "      <th>114329</th>\n",
       "      <td>0.0</td>\n",
       "      <td>9.00000</td>\n",
       "      <td>22.000000</td>\n",
       "    </tr>\n",
       "  </tbody>\n",
       "</table>\n",
       "<p>114331 rows × 3 columns</p>\n",
       "</div>"
      ],
      "text/plain": [
       "        Total_Images  Total_Links  Total_Past_Communications\n",
       "0                0.0      8.00000                  33.000000\n",
       "2                0.0      5.00000                  36.000000\n",
       "3                0.0     16.00000                  25.000000\n",
       "4                0.0      4.00000                  18.000000\n",
       "5                0.0     11.00000                  28.892225\n",
       "6                0.0      4.00000                  34.000000\n",
       "7                2.0      6.00000                  21.000000\n",
       "8                4.0     11.00000                  28.892225\n",
       "9                0.0     11.00000                  40.000000\n",
       "10               0.0      6.00000                  27.000000\n",
       "11              16.0     21.00000                  24.000000\n",
       "12               0.0      6.00000                  42.000000\n",
       "13               0.0     10.41291                  11.000000\n",
       "14              13.0     10.41291                  15.000000\n",
       "16               4.0     21.00000                  34.000000\n",
       "17              15.0     21.00000                  28.892225\n",
       "18               0.0     16.00000                  33.000000\n",
       "19               0.0      6.00000                  37.000000\n",
       "20               4.0     16.00000                  35.000000\n",
       "22               5.0      6.00000                  51.000000\n",
       "23               0.0      4.00000                   9.000000\n",
       "24              28.0     31.00000                  18.000000\n",
       "25               0.0      3.00000                  25.000000\n",
       "26               4.0     21.00000                  39.000000\n",
       "27               0.0     11.00000                  28.892225\n",
       "29               0.0      9.00000                  28.892225\n",
       "30               3.0      6.00000                  31.000000\n",
       "31               0.0      4.00000                  50.000000\n",
       "32               8.0     16.00000                  30.000000\n",
       "33               8.0     26.00000                  39.000000\n",
       "...              ...          ...                        ...\n",
       "114128           0.0      9.00000                  45.000000\n",
       "114149           0.0     10.41291                  21.000000\n",
       "114155           0.0      9.00000                  38.000000\n",
       "114157           0.0      9.00000                  26.000000\n",
       "114165           0.0     11.00000                  11.000000\n",
       "114169          12.0     16.00000                  31.000000\n",
       "114192           7.0     21.00000                  25.000000\n",
       "114195           6.0     14.00000                  22.000000\n",
       "114196           0.0      6.00000                  30.000000\n",
       "114197           1.0      4.00000                  16.000000\n",
       "114219           6.0     11.00000                  16.000000\n",
       "114224           8.0      9.00000                  23.000000\n",
       "114233           0.0      6.00000                  34.000000\n",
       "114244           2.0      6.00000                  30.000000\n",
       "114245          11.0     14.00000                  29.000000\n",
       "114254          11.0     14.00000                  31.000000\n",
       "114261           1.0     11.00000                  29.000000\n",
       "114263           1.0      5.00000                  25.000000\n",
       "114265           0.0      4.00000                  37.000000\n",
       "114278           4.0      5.00000                  15.000000\n",
       "114286           0.0      6.00000                  10.000000\n",
       "114288           5.0     11.00000                  21.000000\n",
       "114294           0.0      6.00000                  18.000000\n",
       "114295           6.0     16.00000                  23.000000\n",
       "114308           0.0     11.00000                  35.000000\n",
       "114311           0.0      6.00000                  30.000000\n",
       "114314          11.0     26.00000                  33.000000\n",
       "114315           0.0     12.00000                  32.000000\n",
       "114319           4.0      6.00000                  43.000000\n",
       "114329           0.0      9.00000                  22.000000\n",
       "\n",
       "[114331 rows x 3 columns]"
      ]
     },
     "execution_count": 163,
     "metadata": {},
     "output_type": "execute_result"
    }
   ],
   "source": [
    "features_missing_values = ['Total_Images','Total_Links', 'Total_Past_Communications']\n",
    "data_missing_values = data3[features_missing_values]\n",
    "imputer = Imputer(missing_values='NaN', strategy='mean', axis=0)\n",
    "data_missing_values_array = imputer.fit_transform(data_missing_values)\n",
    "data_missing_values = pd.DataFrame(data_missing_values_array, index=data_missing_values.index, columns=data_missing_values.columns)\n",
    "data_missing_values"
   ]
  },
  {
   "cell_type": "code",
   "execution_count": 165,
   "metadata": {
    "collapsed": false
   },
   "outputs": [
    {
     "data": {
      "text/html": [
       "<div>\n",
       "<table border=\"1\" class=\"dataframe\">\n",
       "  <thead>\n",
       "    <tr style=\"text-align: right;\">\n",
       "      <th></th>\n",
       "      <th>Email_Campaign_Type_1</th>\n",
       "      <th>Email_Campaign_Type_2</th>\n",
       "      <th>Email_Campaign_Type_3</th>\n",
       "      <th>Email_Source_Type_1</th>\n",
       "      <th>Email_Source_Type_2</th>\n",
       "      <th>Email_Type_1</th>\n",
       "      <th>Email_Type_2</th>\n",
       "      <th>Time_Email_sent_Category_1</th>\n",
       "      <th>Time_Email_sent_Category_2</th>\n",
       "      <th>Time_Email_sent_Category_3</th>\n",
       "      <th>...</th>\n",
       "      <th>Customer_Location_E</th>\n",
       "      <th>Customer_Location_F</th>\n",
       "      <th>Customer_Location_G</th>\n",
       "      <th>Customer_Location_H</th>\n",
       "      <th>Email_ID</th>\n",
       "      <th>Email_Status</th>\n",
       "      <th>Total_Images</th>\n",
       "      <th>Total_Links</th>\n",
       "      <th>Total_Past_Communications</th>\n",
       "      <th>source</th>\n",
       "    </tr>\n",
       "  </thead>\n",
       "  <tbody>\n",
       "    <tr>\n",
       "      <th>0</th>\n",
       "      <td>0.0</td>\n",
       "      <td>1.0</td>\n",
       "      <td>0.0</td>\n",
       "      <td>0.0</td>\n",
       "      <td>1.0</td>\n",
       "      <td>1.0</td>\n",
       "      <td>0.0</td>\n",
       "      <td>1.0</td>\n",
       "      <td>0.0</td>\n",
       "      <td>0.0</td>\n",
       "      <td>...</td>\n",
       "      <td>1.0</td>\n",
       "      <td>0.0</td>\n",
       "      <td>0.0</td>\n",
       "      <td>0.0</td>\n",
       "      <td>EMA00081000034500</td>\n",
       "      <td>0.0</td>\n",
       "      <td>0.0</td>\n",
       "      <td>8.0</td>\n",
       "      <td>33.000000</td>\n",
       "      <td>train</td>\n",
       "    </tr>\n",
       "    <tr>\n",
       "      <th>2</th>\n",
       "      <td>0.0</td>\n",
       "      <td>0.0</td>\n",
       "      <td>1.0</td>\n",
       "      <td>1.0</td>\n",
       "      <td>0.0</td>\n",
       "      <td>0.0</td>\n",
       "      <td>1.0</td>\n",
       "      <td>0.0</td>\n",
       "      <td>1.0</td>\n",
       "      <td>0.0</td>\n",
       "      <td>...</td>\n",
       "      <td>0.0</td>\n",
       "      <td>0.0</td>\n",
       "      <td>0.0</td>\n",
       "      <td>0.0</td>\n",
       "      <td>EMA00081000066290</td>\n",
       "      <td>1.0</td>\n",
       "      <td>0.0</td>\n",
       "      <td>5.0</td>\n",
       "      <td>36.000000</td>\n",
       "      <td>train</td>\n",
       "    </tr>\n",
       "    <tr>\n",
       "      <th>3</th>\n",
       "      <td>0.0</td>\n",
       "      <td>1.0</td>\n",
       "      <td>0.0</td>\n",
       "      <td>0.0</td>\n",
       "      <td>1.0</td>\n",
       "      <td>1.0</td>\n",
       "      <td>0.0</td>\n",
       "      <td>0.0</td>\n",
       "      <td>1.0</td>\n",
       "      <td>0.0</td>\n",
       "      <td>...</td>\n",
       "      <td>1.0</td>\n",
       "      <td>0.0</td>\n",
       "      <td>0.0</td>\n",
       "      <td>0.0</td>\n",
       "      <td>EMA00081000076560</td>\n",
       "      <td>0.0</td>\n",
       "      <td>0.0</td>\n",
       "      <td>16.0</td>\n",
       "      <td>25.000000</td>\n",
       "      <td>train</td>\n",
       "    </tr>\n",
       "    <tr>\n",
       "      <th>4</th>\n",
       "      <td>0.0</td>\n",
       "      <td>0.0</td>\n",
       "      <td>1.0</td>\n",
       "      <td>0.0</td>\n",
       "      <td>1.0</td>\n",
       "      <td>1.0</td>\n",
       "      <td>0.0</td>\n",
       "      <td>0.0</td>\n",
       "      <td>1.0</td>\n",
       "      <td>0.0</td>\n",
       "      <td>...</td>\n",
       "      <td>0.0</td>\n",
       "      <td>0.0</td>\n",
       "      <td>0.0</td>\n",
       "      <td>0.0</td>\n",
       "      <td>EMA00081000109720</td>\n",
       "      <td>0.0</td>\n",
       "      <td>0.0</td>\n",
       "      <td>4.0</td>\n",
       "      <td>18.000000</td>\n",
       "      <td>train</td>\n",
       "    </tr>\n",
       "    <tr>\n",
       "      <th>5</th>\n",
       "      <td>0.0</td>\n",
       "      <td>1.0</td>\n",
       "      <td>0.0</td>\n",
       "      <td>1.0</td>\n",
       "      <td>0.0</td>\n",
       "      <td>1.0</td>\n",
       "      <td>0.0</td>\n",
       "      <td>0.0</td>\n",
       "      <td>1.0</td>\n",
       "      <td>0.0</td>\n",
       "      <td>...</td>\n",
       "      <td>0.0</td>\n",
       "      <td>0.0</td>\n",
       "      <td>1.0</td>\n",
       "      <td>0.0</td>\n",
       "      <td>EMA00081000131660</td>\n",
       "      <td>0.0</td>\n",
       "      <td>0.0</td>\n",
       "      <td>11.0</td>\n",
       "      <td>28.892225</td>\n",
       "      <td>train</td>\n",
       "    </tr>\n",
       "  </tbody>\n",
       "</table>\n",
       "<p>5 rows × 26 columns</p>\n",
       "</div>"
      ],
      "text/plain": [
       "   Email_Campaign_Type_1  Email_Campaign_Type_2  Email_Campaign_Type_3  \\\n",
       "0                    0.0                    1.0                    0.0   \n",
       "2                    0.0                    0.0                    1.0   \n",
       "3                    0.0                    1.0                    0.0   \n",
       "4                    0.0                    0.0                    1.0   \n",
       "5                    0.0                    1.0                    0.0   \n",
       "\n",
       "   Email_Source_Type_1  Email_Source_Type_2  Email_Type_1  Email_Type_2  \\\n",
       "0                  0.0                  1.0           1.0           0.0   \n",
       "2                  1.0                  0.0           0.0           1.0   \n",
       "3                  0.0                  1.0           1.0           0.0   \n",
       "4                  0.0                  1.0           1.0           0.0   \n",
       "5                  1.0                  0.0           1.0           0.0   \n",
       "\n",
       "   Time_Email_sent_Category_1  Time_Email_sent_Category_2  \\\n",
       "0                         1.0                         0.0   \n",
       "2                         0.0                         1.0   \n",
       "3                         0.0                         1.0   \n",
       "4                         0.0                         1.0   \n",
       "5                         0.0                         1.0   \n",
       "\n",
       "   Time_Email_sent_Category_3   ...    Customer_Location_E  \\\n",
       "0                         0.0   ...                    1.0   \n",
       "2                         0.0   ...                    0.0   \n",
       "3                         0.0   ...                    1.0   \n",
       "4                         0.0   ...                    0.0   \n",
       "5                         0.0   ...                    0.0   \n",
       "\n",
       "   Customer_Location_F  Customer_Location_G  Customer_Location_H  \\\n",
       "0                  0.0                  0.0                  0.0   \n",
       "2                  0.0                  0.0                  0.0   \n",
       "3                  0.0                  0.0                  0.0   \n",
       "4                  0.0                  0.0                  0.0   \n",
       "5                  0.0                  1.0                  0.0   \n",
       "\n",
       "            Email_ID  Email_Status  Total_Images  Total_Links  \\\n",
       "0  EMA00081000034500           0.0           0.0          8.0   \n",
       "2  EMA00081000066290           1.0           0.0          5.0   \n",
       "3  EMA00081000076560           0.0           0.0         16.0   \n",
       "4  EMA00081000109720           0.0           0.0          4.0   \n",
       "5  EMA00081000131660           0.0           0.0         11.0   \n",
       "\n",
       "   Total_Past_Communications  source  \n",
       "0                  33.000000   train  \n",
       "2                  36.000000   train  \n",
       "3                  25.000000   train  \n",
       "4                  18.000000   train  \n",
       "5                  28.892225   train  \n",
       "\n",
       "[5 rows x 26 columns]"
      ]
     },
     "execution_count": 165,
     "metadata": {},
     "output_type": "execute_result"
    }
   ],
   "source": [
    "data3[features_missing_values] = data_missing_values[features_missing_values]\n",
    "data3.head()"
   ]
  },
  {
   "cell_type": "code",
   "execution_count": 166,
   "metadata": {
    "collapsed": false
   },
   "outputs": [
    {
     "data": {
      "text/plain": [
       "Email_Campaign_Type_1             0\n",
       "Email_Campaign_Type_2             0\n",
       "Email_Campaign_Type_3             0\n",
       "Email_Source_Type_1               0\n",
       "Email_Source_Type_2               0\n",
       "Email_Type_1                      0\n",
       "Email_Type_2                      0\n",
       "Time_Email_sent_Category_1        0\n",
       "Time_Email_sent_Category_2        0\n",
       "Time_Email_sent_Category_3        0\n",
       "Subject_Hotness_Score             0\n",
       "Word_Count                        0\n",
       "Customer_Location_A               0\n",
       "Customer_Location_B               0\n",
       "Customer_Location_C               0\n",
       "Customer_Location_D               0\n",
       "Customer_Location_E               0\n",
       "Customer_Location_F               0\n",
       "Customer_Location_G               0\n",
       "Customer_Location_H               0\n",
       "Email_ID                          0\n",
       "Email_Status                  45978\n",
       "Total_Images                      0\n",
       "Total_Links                       0\n",
       "Total_Past_Communications         0\n",
       "source                            0\n",
       "dtype: int64"
      ]
     },
     "execution_count": 166,
     "metadata": {},
     "output_type": "execute_result"
    }
   ],
   "source": [
    "data3.apply(lambda x: sum(x.isnull()))"
   ]
  },
  {
   "cell_type": "markdown",
   "metadata": {},
   "source": [
    "### Note: Scale the data while building model"
   ]
  },
  {
   "cell_type": "code",
   "execution_count": 167,
   "metadata": {
    "collapsed": false
   },
   "outputs": [],
   "source": [
    "#data_ss = data5[['Subject_Hotness_Score', 'Total_Images', 'Total_Links', 'Total_Past_Communications', 'Word_Count']]\n",
    "#ss = StandardScaler()\n",
    "#data_ss_array = ss.fit_transform(data_ss)\n",
    "#data6 = pd.DataFrame(data_ss_array, index=data_ss.index, columns=data_ss.columns)\n",
    "#data5[['Subject_Hotness_Score', 'Total_Images', 'Total_Links', 'Total_Past_Communications', 'Word_Count']] = data6\n",
    "#data5"
   ]
  },
  {
   "cell_type": "code",
   "execution_count": 169,
   "metadata": {
    "collapsed": false
   },
   "outputs": [
    {
     "data": {
      "text/plain": [
       "Email_Campaign_Type_1         float64\n",
       "Email_Campaign_Type_2         float64\n",
       "Email_Campaign_Type_3         float64\n",
       "Email_Source_Type_1           float64\n",
       "Email_Source_Type_2           float64\n",
       "Email_Type_1                  float64\n",
       "Email_Type_2                  float64\n",
       "Time_Email_sent_Category_1    float64\n",
       "Time_Email_sent_Category_2    float64\n",
       "Time_Email_sent_Category_3    float64\n",
       "Subject_Hotness_Score         float64\n",
       "Word_Count                      int64\n",
       "Customer_Location_A           float64\n",
       "Customer_Location_B           float64\n",
       "Customer_Location_C           float64\n",
       "Customer_Location_D           float64\n",
       "Customer_Location_E           float64\n",
       "Customer_Location_F           float64\n",
       "Customer_Location_G           float64\n",
       "Customer_Location_H           float64\n",
       "Email_ID                       object\n",
       "Email_Status                  float64\n",
       "Total_Images                  float64\n",
       "Total_Links                   float64\n",
       "Total_Past_Communications     float64\n",
       "source                         object\n",
       "dtype: object"
      ]
     },
     "execution_count": 169,
     "metadata": {},
     "output_type": "execute_result"
    }
   ],
   "source": [
    "data3.dtypes"
   ]
  },
  {
   "cell_type": "code",
   "execution_count": 171,
   "metadata": {
    "collapsed": false
   },
   "outputs": [],
   "source": [
    "#Divide into test and train:\n",
    "train = data3.loc[data['source']==\"train\"]\n",
    "test = data3.loc[data['source']==\"test\"]"
   ]
  },
  {
   "cell_type": "code",
   "execution_count": 172,
   "metadata": {
    "collapsed": false
   },
   "outputs": [
    {
     "data": {
      "text/plain": [
       "Email_Campaign_Type_1             0\n",
       "Email_Campaign_Type_2             0\n",
       "Email_Campaign_Type_3             0\n",
       "Email_Source_Type_1               0\n",
       "Email_Source_Type_2               0\n",
       "Email_Type_1                      0\n",
       "Email_Type_2                      0\n",
       "Time_Email_sent_Category_1        0\n",
       "Time_Email_sent_Category_2        0\n",
       "Time_Email_sent_Category_3        0\n",
       "Subject_Hotness_Score             0\n",
       "Word_Count                        0\n",
       "Customer_Location_A               0\n",
       "Customer_Location_B               0\n",
       "Customer_Location_C               0\n",
       "Customer_Location_D               0\n",
       "Customer_Location_E               0\n",
       "Customer_Location_F               0\n",
       "Customer_Location_G               0\n",
       "Customer_Location_H               0\n",
       "Email_ID                          0\n",
       "Email_Status                  45978\n",
       "Total_Images                      0\n",
       "Total_Links                       0\n",
       "Total_Past_Communications         0\n",
       "source                            0\n",
       "dtype: int64"
      ]
     },
     "execution_count": 172,
     "metadata": {},
     "output_type": "execute_result"
    }
   ],
   "source": [
    "test.apply(lambda x: sum(x.isnull()))"
   ]
  },
  {
   "cell_type": "code",
   "execution_count": 173,
   "metadata": {
    "collapsed": false
   },
   "outputs": [
    {
     "name": "stderr",
     "output_type": "stream",
     "text": [
      "C:\\Users\\ranjank\\Anaconda3\\lib\\site-packages\\ipykernel\\__main__.py:2: SettingWithCopyWarning: \n",
      "A value is trying to be set on a copy of a slice from a DataFrame\n",
      "\n",
      "See the caveats in the documentation: http://pandas.pydata.org/pandas-docs/stable/indexing.html#indexing-view-versus-copy\n",
      "  from ipykernel import kernelapp as app\n",
      "C:\\Users\\ranjank\\Anaconda3\\lib\\site-packages\\ipykernel\\__main__.py:3: SettingWithCopyWarning: \n",
      "A value is trying to be set on a copy of a slice from a DataFrame\n",
      "\n",
      "See the caveats in the documentation: http://pandas.pydata.org/pandas-docs/stable/indexing.html#indexing-view-versus-copy\n",
      "  app.launch_new_instance()\n"
     ]
    }
   ],
   "source": [
    "#Drop unnecessary columns:\n",
    "test.drop(['Email_Status','source'],axis=1,inplace=True)\n",
    "train.drop(['source'],axis=1,inplace=True)"
   ]
  },
  {
   "cell_type": "code",
   "execution_count": 174,
   "metadata": {
    "collapsed": false
   },
   "outputs": [],
   "source": [
    "#Export files as modified versions:\n",
    "train.to_csv(\"train_modified2.csv\",index=False)\n",
    "test.to_csv(\"test_modified2.csv\",index=False)"
   ]
  }
 ],
 "metadata": {
  "kernelspec": {
   "display_name": "Python 3",
   "language": "python",
   "name": "python3"
  },
  "language_info": {
   "codemirror_mode": {
    "name": "ipython",
    "version": 3
   },
   "file_extension": ".py",
   "mimetype": "text/x-python",
   "name": "python",
   "nbconvert_exporter": "python",
   "pygments_lexer": "ipython3",
   "version": "3.5.1"
  }
 },
 "nbformat": 4,
 "nbformat_minor": 0
}
