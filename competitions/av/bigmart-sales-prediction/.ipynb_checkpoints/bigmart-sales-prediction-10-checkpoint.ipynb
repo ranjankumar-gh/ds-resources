{
 "cells": [
  {
   "cell_type": "markdown",
   "metadata": {},
   "source": [
    "# Bigmart Sales Prediction"
   ]
  },
  {
   "cell_type": "markdown",
   "metadata": {},
   "source": [
    "## Load required libraries and data"
   ]
  },
  {
   "cell_type": "code",
   "execution_count": 59,
   "metadata": {
    "collapsed": false
   },
   "outputs": [],
   "source": [
    "import pandas as pd\n",
    "import numpy as np\n",
    "\n",
    "from sklearn.linear_model import LinearRegression, Ridge\n",
    "from sklearn.tree import DecisionTreeRegressor\n",
    "from sklearn.ensemble import RandomForestRegressor\n",
    "from sklearn.cross_validation import cross_val_score\n",
    "from sklearn.metrics import mean_squared_error\n",
    "from sklearn.grid_search import GridSearchCV\n",
    "from sklearn.pipeline import Pipeline\n",
    "import matplotlib.pyplot as plt\n",
    "%matplotlib inline"
   ]
  },
  {
   "cell_type": "code",
   "execution_count": 25,
   "metadata": {
    "collapsed": true
   },
   "outputs": [],
   "source": [
    "#Read files:\n",
    "train = pd.read_csv(\"train.csv\")\n",
    "test = pd.read_csv(\"test.csv\")"
   ]
  },
  {
   "cell_type": "markdown",
   "metadata": {},
   "source": [
    "## Data Exploration\n",
    "### Combine the train and test data for feature engineering."
   ]
  },
  {
   "cell_type": "code",
   "execution_count": 26,
   "metadata": {
    "collapsed": false
   },
   "outputs": [
    {
     "name": "stdout",
     "output_type": "stream",
     "text": [
      "(8523, 13) (5681, 12) (14204, 13)\n"
     ]
    }
   ],
   "source": [
    "train['source'] = 'train'\n",
    "test['source'] = 'test'\n",
    "data = pd.concat([train, test],ignore_index=True)\n",
    "print(train.shape, test.shape, data.shape)"
   ]
  },
  {
   "cell_type": "code",
   "execution_count": 27,
   "metadata": {
    "collapsed": false
   },
   "outputs": [
    {
     "data": {
      "text/html": [
       "<div>\n",
       "<table border=\"1\" class=\"dataframe\">\n",
       "  <thead>\n",
       "    <tr style=\"text-align: right;\">\n",
       "      <th></th>\n",
       "      <th>Item_Fat_Content</th>\n",
       "      <th>Item_Identifier</th>\n",
       "      <th>Item_MRP</th>\n",
       "      <th>Item_Outlet_Sales</th>\n",
       "      <th>Item_Type</th>\n",
       "      <th>Item_Visibility</th>\n",
       "      <th>Item_Weight</th>\n",
       "      <th>Outlet_Establishment_Year</th>\n",
       "      <th>Outlet_Identifier</th>\n",
       "      <th>Outlet_Location_Type</th>\n",
       "      <th>Outlet_Size</th>\n",
       "      <th>Outlet_Type</th>\n",
       "      <th>source</th>\n",
       "    </tr>\n",
       "  </thead>\n",
       "  <tbody>\n",
       "    <tr>\n",
       "      <th>0</th>\n",
       "      <td>Low Fat</td>\n",
       "      <td>FDA15</td>\n",
       "      <td>249.8092</td>\n",
       "      <td>3735.1380</td>\n",
       "      <td>Dairy</td>\n",
       "      <td>0.016047</td>\n",
       "      <td>9.30</td>\n",
       "      <td>1999</td>\n",
       "      <td>OUT049</td>\n",
       "      <td>Tier 1</td>\n",
       "      <td>Medium</td>\n",
       "      <td>Supermarket Type1</td>\n",
       "      <td>train</td>\n",
       "    </tr>\n",
       "    <tr>\n",
       "      <th>1</th>\n",
       "      <td>Regular</td>\n",
       "      <td>DRC01</td>\n",
       "      <td>48.2692</td>\n",
       "      <td>443.4228</td>\n",
       "      <td>Soft Drinks</td>\n",
       "      <td>0.019278</td>\n",
       "      <td>5.92</td>\n",
       "      <td>2009</td>\n",
       "      <td>OUT018</td>\n",
       "      <td>Tier 3</td>\n",
       "      <td>Medium</td>\n",
       "      <td>Supermarket Type2</td>\n",
       "      <td>train</td>\n",
       "    </tr>\n",
       "    <tr>\n",
       "      <th>2</th>\n",
       "      <td>Low Fat</td>\n",
       "      <td>FDN15</td>\n",
       "      <td>141.6180</td>\n",
       "      <td>2097.2700</td>\n",
       "      <td>Meat</td>\n",
       "      <td>0.016760</td>\n",
       "      <td>17.50</td>\n",
       "      <td>1999</td>\n",
       "      <td>OUT049</td>\n",
       "      <td>Tier 1</td>\n",
       "      <td>Medium</td>\n",
       "      <td>Supermarket Type1</td>\n",
       "      <td>train</td>\n",
       "    </tr>\n",
       "    <tr>\n",
       "      <th>3</th>\n",
       "      <td>Regular</td>\n",
       "      <td>FDX07</td>\n",
       "      <td>182.0950</td>\n",
       "      <td>732.3800</td>\n",
       "      <td>Fruits and Vegetables</td>\n",
       "      <td>0.000000</td>\n",
       "      <td>19.20</td>\n",
       "      <td>1998</td>\n",
       "      <td>OUT010</td>\n",
       "      <td>Tier 3</td>\n",
       "      <td>NaN</td>\n",
       "      <td>Grocery Store</td>\n",
       "      <td>train</td>\n",
       "    </tr>\n",
       "    <tr>\n",
       "      <th>4</th>\n",
       "      <td>Low Fat</td>\n",
       "      <td>NCD19</td>\n",
       "      <td>53.8614</td>\n",
       "      <td>994.7052</td>\n",
       "      <td>Household</td>\n",
       "      <td>0.000000</td>\n",
       "      <td>8.93</td>\n",
       "      <td>1987</td>\n",
       "      <td>OUT013</td>\n",
       "      <td>Tier 3</td>\n",
       "      <td>High</td>\n",
       "      <td>Supermarket Type1</td>\n",
       "      <td>train</td>\n",
       "    </tr>\n",
       "  </tbody>\n",
       "</table>\n",
       "</div>"
      ],
      "text/plain": [
       "  Item_Fat_Content Item_Identifier  Item_MRP  Item_Outlet_Sales  \\\n",
       "0          Low Fat           FDA15  249.8092          3735.1380   \n",
       "1          Regular           DRC01   48.2692           443.4228   \n",
       "2          Low Fat           FDN15  141.6180          2097.2700   \n",
       "3          Regular           FDX07  182.0950           732.3800   \n",
       "4          Low Fat           NCD19   53.8614           994.7052   \n",
       "\n",
       "               Item_Type  Item_Visibility  Item_Weight  \\\n",
       "0                  Dairy         0.016047         9.30   \n",
       "1            Soft Drinks         0.019278         5.92   \n",
       "2                   Meat         0.016760        17.50   \n",
       "3  Fruits and Vegetables         0.000000        19.20   \n",
       "4              Household         0.000000         8.93   \n",
       "\n",
       "   Outlet_Establishment_Year Outlet_Identifier Outlet_Location_Type  \\\n",
       "0                       1999            OUT049               Tier 1   \n",
       "1                       2009            OUT018               Tier 3   \n",
       "2                       1999            OUT049               Tier 1   \n",
       "3                       1998            OUT010               Tier 3   \n",
       "4                       1987            OUT013               Tier 3   \n",
       "\n",
       "  Outlet_Size        Outlet_Type source  \n",
       "0      Medium  Supermarket Type1  train  \n",
       "1      Medium  Supermarket Type2  train  \n",
       "2      Medium  Supermarket Type1  train  \n",
       "3         NaN      Grocery Store  train  \n",
       "4        High  Supermarket Type1  train  "
      ]
     },
     "execution_count": 27,
     "metadata": {},
     "output_type": "execute_result"
    }
   ],
   "source": [
    "data.head()"
   ]
  },
  {
   "cell_type": "markdown",
   "metadata": {},
   "source": [
    "### How many values are missing feature wise?"
   ]
  },
  {
   "cell_type": "code",
   "execution_count": 28,
   "metadata": {
    "collapsed": false
   },
   "outputs": [
    {
     "data": {
      "text/plain": [
       "Item_Fat_Content                0\n",
       "Item_Identifier                 0\n",
       "Item_MRP                        0\n",
       "Item_Outlet_Sales            5681\n",
       "Item_Type                       0\n",
       "Item_Visibility                 0\n",
       "Item_Weight                  2439\n",
       "Outlet_Establishment_Year       0\n",
       "Outlet_Identifier               0\n",
       "Outlet_Location_Type            0\n",
       "Outlet_Size                  4016\n",
       "Outlet_Type                     0\n",
       "source                          0\n",
       "dtype: int64"
      ]
     },
     "execution_count": 28,
     "metadata": {},
     "output_type": "execute_result"
    }
   ],
   "source": [
    "data.apply(lambda x: sum(x.isnull()))"
   ]
  },
  {
   "cell_type": "markdown",
   "metadata": {},
   "source": [
    "### Statistical overview of data"
   ]
  },
  {
   "cell_type": "code",
   "execution_count": 29,
   "metadata": {
    "collapsed": false
   },
   "outputs": [
    {
     "data": {
      "text/html": [
       "<div>\n",
       "<table border=\"1\" class=\"dataframe\">\n",
       "  <thead>\n",
       "    <tr style=\"text-align: right;\">\n",
       "      <th></th>\n",
       "      <th>Item_MRP</th>\n",
       "      <th>Item_Outlet_Sales</th>\n",
       "      <th>Item_Visibility</th>\n",
       "      <th>Item_Weight</th>\n",
       "      <th>Outlet_Establishment_Year</th>\n",
       "    </tr>\n",
       "  </thead>\n",
       "  <tbody>\n",
       "    <tr>\n",
       "      <th>count</th>\n",
       "      <td>14204.000000</td>\n",
       "      <td>8523.000000</td>\n",
       "      <td>14204.000000</td>\n",
       "      <td>11765.000000</td>\n",
       "      <td>14204.000000</td>\n",
       "    </tr>\n",
       "    <tr>\n",
       "      <th>mean</th>\n",
       "      <td>141.004977</td>\n",
       "      <td>2181.288914</td>\n",
       "      <td>0.065953</td>\n",
       "      <td>12.792854</td>\n",
       "      <td>1997.830681</td>\n",
       "    </tr>\n",
       "    <tr>\n",
       "      <th>std</th>\n",
       "      <td>62.086938</td>\n",
       "      <td>1706.499616</td>\n",
       "      <td>0.051459</td>\n",
       "      <td>4.652502</td>\n",
       "      <td>8.371664</td>\n",
       "    </tr>\n",
       "    <tr>\n",
       "      <th>min</th>\n",
       "      <td>31.290000</td>\n",
       "      <td>33.290000</td>\n",
       "      <td>0.000000</td>\n",
       "      <td>4.555000</td>\n",
       "      <td>1985.000000</td>\n",
       "    </tr>\n",
       "    <tr>\n",
       "      <th>25%</th>\n",
       "      <td>94.012000</td>\n",
       "      <td>834.247400</td>\n",
       "      <td>0.027036</td>\n",
       "      <td>8.710000</td>\n",
       "      <td>1987.000000</td>\n",
       "    </tr>\n",
       "    <tr>\n",
       "      <th>50%</th>\n",
       "      <td>142.247000</td>\n",
       "      <td>1794.331000</td>\n",
       "      <td>0.054021</td>\n",
       "      <td>12.600000</td>\n",
       "      <td>1999.000000</td>\n",
       "    </tr>\n",
       "    <tr>\n",
       "      <th>75%</th>\n",
       "      <td>185.855600</td>\n",
       "      <td>3101.296400</td>\n",
       "      <td>0.094037</td>\n",
       "      <td>16.750000</td>\n",
       "      <td>2004.000000</td>\n",
       "    </tr>\n",
       "    <tr>\n",
       "      <th>max</th>\n",
       "      <td>266.888400</td>\n",
       "      <td>13086.964800</td>\n",
       "      <td>0.328391</td>\n",
       "      <td>21.350000</td>\n",
       "      <td>2009.000000</td>\n",
       "    </tr>\n",
       "  </tbody>\n",
       "</table>\n",
       "</div>"
      ],
      "text/plain": [
       "           Item_MRP  Item_Outlet_Sales  Item_Visibility   Item_Weight  \\\n",
       "count  14204.000000        8523.000000     14204.000000  11765.000000   \n",
       "mean     141.004977        2181.288914         0.065953     12.792854   \n",
       "std       62.086938        1706.499616         0.051459      4.652502   \n",
       "min       31.290000          33.290000         0.000000      4.555000   \n",
       "25%       94.012000         834.247400         0.027036      8.710000   \n",
       "50%      142.247000        1794.331000         0.054021     12.600000   \n",
       "75%      185.855600        3101.296400         0.094037     16.750000   \n",
       "max      266.888400       13086.964800         0.328391     21.350000   \n",
       "\n",
       "       Outlet_Establishment_Year  \n",
       "count               14204.000000  \n",
       "mean                 1997.830681  \n",
       "std                     8.371664  \n",
       "min                  1985.000000  \n",
       "25%                  1987.000000  \n",
       "50%                  1999.000000  \n",
       "75%                  2004.000000  \n",
       "max                  2009.000000  "
      ]
     },
     "execution_count": 29,
     "metadata": {},
     "output_type": "execute_result"
    }
   ],
   "source": [
    "data.describe()"
   ]
  },
  {
   "cell_type": "code",
   "execution_count": 30,
   "metadata": {
    "collapsed": false
   },
   "outputs": [
    {
     "data": {
      "text/plain": [
       "Item_Fat_Content                 5\n",
       "Item_Identifier               1559\n",
       "Item_MRP                      8052\n",
       "Item_Outlet_Sales             3494\n",
       "Item_Type                       16\n",
       "Item_Visibility              13006\n",
       "Item_Weight                    416\n",
       "Outlet_Establishment_Year        9\n",
       "Outlet_Identifier               10\n",
       "Outlet_Location_Type             3\n",
       "Outlet_Size                      4\n",
       "Outlet_Type                      4\n",
       "source                           2\n",
       "dtype: int64"
      ]
     },
     "execution_count": 30,
     "metadata": {},
     "output_type": "execute_result"
    }
   ],
   "source": [
    "data.apply(lambda x: len(x.unique()))"
   ]
  },
  {
   "cell_type": "code",
   "execution_count": 31,
   "metadata": {
    "collapsed": false
   },
   "outputs": [
    {
     "name": "stdout",
     "output_type": "stream",
     "text": [
      "\n",
      "Frequency of Categories for varible Item_Fat_Content\n",
      "Low Fat    8485\n",
      "Regular    4824\n",
      "LF          522\n",
      "reg         195\n",
      "low fat     178\n",
      "Name: Item_Fat_Content, dtype: int64\n",
      "\n",
      "Frequency of Categories for varible Item_Type\n",
      "Fruits and Vegetables    2013\n",
      "Snack Foods              1989\n",
      "Household                1548\n",
      "Frozen Foods             1426\n",
      "Dairy                    1136\n",
      "Baking Goods             1086\n",
      "Canned                   1084\n",
      "Health and Hygiene        858\n",
      "Meat                      736\n",
      "Soft Drinks               726\n",
      "Breads                    416\n",
      "Hard Drinks               362\n",
      "Others                    280\n",
      "Starchy Foods             269\n",
      "Breakfast                 186\n",
      "Seafood                    89\n",
      "Name: Item_Type, dtype: int64\n",
      "\n",
      "Frequency of Categories for varible Outlet_Location_Type\n",
      "Tier 3    5583\n",
      "Tier 2    4641\n",
      "Tier 1    3980\n",
      "Name: Outlet_Location_Type, dtype: int64\n",
      "\n",
      "Frequency of Categories for varible Outlet_Size\n",
      "Medium    4655\n",
      "Small     3980\n",
      "High      1553\n",
      "Name: Outlet_Size, dtype: int64\n",
      "\n",
      "Frequency of Categories for varible Outlet_Type\n",
      "Supermarket Type1    9294\n",
      "Grocery Store        1805\n",
      "Supermarket Type3    1559\n",
      "Supermarket Type2    1546\n",
      "Name: Outlet_Type, dtype: int64\n"
     ]
    }
   ],
   "source": [
    "#Filter categorical variables\n",
    "categorical_columns = [x for x in data.dtypes.index if data.dtypes[x]=='object']\n",
    "\n",
    "#Exclude ID cols and source:\n",
    "categorical_columns = [x for x in categorical_columns if x not in ['Item_Identifier','Outlet_Identifier','source']]\n",
    "\n",
    "#Print frequency of categories\n",
    "for col in categorical_columns:\n",
    "    print('\\nFrequency of Categories for varible %s'%col)\n",
    "    print(data[col].value_counts())"
   ]
  },
  {
   "cell_type": "markdown",
   "metadata": {},
   "source": [
    "## Data Cleaning"
   ]
  },
  {
   "cell_type": "markdown",
   "metadata": {},
   "source": [
    "### Imputing Missing Values"
   ]
  },
  {
   "cell_type": "code",
   "execution_count": 32,
   "metadata": {
    "collapsed": false
   },
   "outputs": [
    {
     "name": "stdout",
     "output_type": "stream",
     "text": [
      "Orignal #missing: 2439\n",
      "Final #missing: 0\n"
     ]
    }
   ],
   "source": [
    "#Determine the average weight per item:\n",
    "item_avg_weight = data.pivot_table(values='Item_Weight', index='Item_Identifier')\n",
    "\n",
    "#Get a boolean variable specifying missing Item_Weight values\n",
    "miss_bool = data['Item_Weight'].isnull() \n",
    "\n",
    "#Impute data and check #missing values before and after imputation to confirm\n",
    "print('Orignal #missing: %d'% sum(miss_bool))\n",
    "data.loc[miss_bool,'Item_Weight'] = data.loc[miss_bool,'Item_Identifier'].apply(lambda x: item_avg_weight[x])\n",
    "print('Final #missing: %d'% sum(data['Item_Weight'].isnull()))"
   ]
  },
  {
   "cell_type": "code",
   "execution_count": 33,
   "metadata": {
    "collapsed": false
   },
   "outputs": [
    {
     "name": "stdout",
     "output_type": "stream",
     "text": [
      "['Medium' nan 'High' 'Small']\n"
     ]
    }
   ],
   "source": [
    "print(data['Outlet_Size'].unique())\n",
    "outlet_size_mapping = {'Small': 1, 'Medium': 2, 'High': 3}\n",
    "data['Outlet_Size'] = data['Outlet_Size'].map(outlet_size_mapping)\n",
    "outlet_size_inverse_mapping = {1: 'Small', 2: 'Medium', 3: 'High'}"
   ]
  },
  {
   "cell_type": "code",
   "execution_count": 34,
   "metadata": {
    "collapsed": false
   },
   "outputs": [
    {
     "name": "stdout",
     "output_type": "stream",
     "text": [
      "Mode for each Outlet_Type:\n",
      "Outlet_Type\n",
      "Grocery Store        1.0\n",
      "Supermarket Type1    1.0\n",
      "Supermarket Type2    2.0\n",
      "Supermarket Type3    2.0\n",
      "Name: Outlet_Size, dtype: float64\n",
      "\n",
      "Orignal #missing: 4016\n",
      "0\n",
      "0    Medium\n",
      "1    Medium\n",
      "2    Medium\n",
      "3     Small\n",
      "4      High\n",
      "Name: Outlet_Size, dtype: object\n"
     ]
    }
   ],
   "source": [
    "#Import mode function:\n",
    "from scipy.stats import mode\n",
    "\n",
    "#Determing the mode for each\n",
    "outlet_size_mode = data.pivot_table(values='Outlet_Size', columns='Outlet_Type', aggfunc=(lambda x:mode(x).mode[0]) )\n",
    "\n",
    "print('Mode for each Outlet_Type:')\n",
    "print(outlet_size_mode)\n",
    "\n",
    "#Get a boolean variable specifying missing Item_Weight values\n",
    "miss_bool = data['Outlet_Size'].isnull() \n",
    "\n",
    "#Impute data and check #missing values before and after imputation to confirm\n",
    "print('\\nOrignal #missing: %d'% sum(miss_bool))\n",
    "data.loc[miss_bool,'Outlet_Size'] = data.loc[miss_bool,'Outlet_Type'].apply(lambda x: outlet_size_mode[x])\n",
    "print(sum(data['Outlet_Size'].isnull()))\n",
    "\n",
    "data['Outlet_Size'] = data['Outlet_Size'].map(outlet_size_inverse_mapping)\n",
    "print(data['Outlet_Size'].head())"
   ]
  },
  {
   "cell_type": "markdown",
   "metadata": {},
   "source": [
    "## Feature Engineering"
   ]
  },
  {
   "cell_type": "code",
   "execution_count": 35,
   "metadata": {
    "collapsed": false
   },
   "outputs": [
    {
     "name": "stdout",
     "output_type": "stream",
     "text": [
      "Number of 0 values initially: 879\n",
      "Number of 0 values after modification: 0\n"
     ]
    }
   ],
   "source": [
    "#Determine average visibility of a product\n",
    "visibility_avg = data.pivot_table(values='Item_Visibility', index='Item_Identifier')\n",
    "\n",
    "#Impute 0 values with mean visibility of that product:\n",
    "miss_bool = (data['Item_Visibility'] == 0)\n",
    "\n",
    "print('Number of 0 values initially: %d'%sum(miss_bool))\n",
    "data.loc[miss_bool,'Item_Visibility'] = data.loc[miss_bool,'Item_Identifier'].apply(lambda x: visibility_avg[x])\n",
    "print('Number of 0 values after modification: %d'%sum(data['Item_Visibility'] == 0))"
   ]
  },
  {
   "cell_type": "code",
   "execution_count": 36,
   "metadata": {
    "collapsed": false,
    "scrolled": true
   },
   "outputs": [
    {
     "name": "stdout",
     "output_type": "stream",
     "text": [
      "count    14204.000000\n",
      "mean         1.061884\n",
      "std          0.235907\n",
      "min          0.844563\n",
      "25%          0.925131\n",
      "50%          0.999070\n",
      "75%          1.042007\n",
      "max          3.010094\n",
      "Name: Item_Visibility_MeanRatio, dtype: float64\n"
     ]
    }
   ],
   "source": [
    "#Determine another variable with means ratio\n",
    "data['Item_Visibility_MeanRatio'] = data.apply(lambda x: x['Item_Visibility']/visibility_avg[x['Item_Identifier']], axis=1)\n",
    "print(data['Item_Visibility_MeanRatio'].describe())"
   ]
  },
  {
   "cell_type": "code",
   "execution_count": 37,
   "metadata": {
    "collapsed": false
   },
   "outputs": [
    {
     "data": {
      "text/plain": [
       "Food              10201\n",
       "Non-Consumable     2686\n",
       "Drinks             1317\n",
       "Name: Item_Type_Combined, dtype: int64"
      ]
     },
     "execution_count": 37,
     "metadata": {},
     "output_type": "execute_result"
    }
   ],
   "source": [
    "#Get the first two characters of ID:\n",
    "data['Item_Type_Combined'] = data['Item_Identifier'].apply(lambda x: x[0:2])\n",
    "#Rename them to more intuitive categories:\n",
    "data['Item_Type_Combined'] = data['Item_Type_Combined'].map({'FD':'Food',\n",
    "                                                             'NC':'Non-Consumable',\n",
    "                                                             'DR':'Drinks'})\n",
    "data['Item_Type_Combined'].value_counts()"
   ]
  },
  {
   "cell_type": "code",
   "execution_count": 38,
   "metadata": {
    "collapsed": false
   },
   "outputs": [
    {
     "data": {
      "text/plain": [
       "count    14204.000000\n",
       "mean        15.169319\n",
       "std          8.371664\n",
       "min          4.000000\n",
       "25%          9.000000\n",
       "50%         14.000000\n",
       "75%         26.000000\n",
       "max         28.000000\n",
       "Name: Outlet_Years, dtype: float64"
      ]
     },
     "execution_count": 38,
     "metadata": {},
     "output_type": "execute_result"
    }
   ],
   "source": [
    "#Years:\n",
    "data['Outlet_Years'] = 2013 - data['Outlet_Establishment_Year']\n",
    "data['Outlet_Years'].describe()"
   ]
  },
  {
   "cell_type": "code",
   "execution_count": 39,
   "metadata": {
    "collapsed": false
   },
   "outputs": [
    {
     "name": "stdout",
     "output_type": "stream",
     "text": [
      "Original Categories:\n",
      "Low Fat    8485\n",
      "Regular    4824\n",
      "LF          522\n",
      "reg         195\n",
      "low fat     178\n",
      "Name: Item_Fat_Content, dtype: int64\n",
      "\n",
      "Modified Categories:\n",
      "Low Fat    9185\n",
      "Regular    5019\n",
      "Name: Item_Fat_Content, dtype: int64\n"
     ]
    }
   ],
   "source": [
    "#Change categories of low fat:\n",
    "print('Original Categories:')\n",
    "print(data['Item_Fat_Content'].value_counts())\n",
    "\n",
    "print('\\nModified Categories:')\n",
    "data['Item_Fat_Content'] = data['Item_Fat_Content'].replace({'LF':'Low Fat',\n",
    "                                                             'reg':'Regular',\n",
    "                                                             'low fat':'Low Fat'})\n",
    "print(data['Item_Fat_Content'].value_counts())"
   ]
  },
  {
   "cell_type": "code",
   "execution_count": 40,
   "metadata": {
    "collapsed": false
   },
   "outputs": [
    {
     "data": {
      "text/plain": [
       "Low Fat       6499\n",
       "Regular       5019\n",
       "Non-Edible    2686\n",
       "Name: Item_Fat_Content, dtype: int64"
      ]
     },
     "execution_count": 40,
     "metadata": {},
     "output_type": "execute_result"
    }
   ],
   "source": [
    "#Mark non-consumables as separate category in low_fat:\n",
    "data.loc[data['Item_Type_Combined']==\"Non-Consumable\",'Item_Fat_Content'] = \"Non-Edible\"\n",
    "data['Item_Fat_Content'].value_counts()"
   ]
  },
  {
   "cell_type": "code",
   "execution_count": 41,
   "metadata": {
    "collapsed": true
   },
   "outputs": [],
   "source": [
    "#Import library:\n",
    "from sklearn.preprocessing import LabelEncoder\n",
    "le = LabelEncoder()\n",
    "#New variable for outlet\n",
    "data['Outlet'] = le.fit_transform(data['Outlet_Identifier'])\n",
    "var_mod = ['Item_Fat_Content','Outlet_Location_Type','Outlet_Size','Item_Type_Combined','Outlet_Type','Outlet']\n",
    "le = LabelEncoder()\n",
    "for i in var_mod:\n",
    "    data[i] = le.fit_transform(data[i])"
   ]
  },
  {
   "cell_type": "code",
   "execution_count": 42,
   "metadata": {
    "collapsed": true
   },
   "outputs": [],
   "source": [
    "#One Hot Coding:\n",
    "data = pd.get_dummies(data, columns=['Item_Fat_Content','Outlet_Location_Type','Outlet_Size','Outlet_Type',\n",
    "                              'Item_Type_Combined','Outlet'])"
   ]
  },
  {
   "cell_type": "code",
   "execution_count": 43,
   "metadata": {
    "collapsed": false
   },
   "outputs": [
    {
     "data": {
      "text/plain": [
       "Item_Identifier               object\n",
       "Item_MRP                     float64\n",
       "Item_Outlet_Sales            float64\n",
       "Item_Type                     object\n",
       "Item_Visibility              float64\n",
       "Item_Weight                  float64\n",
       "Outlet_Establishment_Year      int64\n",
       "Outlet_Identifier             object\n",
       "source                        object\n",
       "Item_Visibility_MeanRatio    float64\n",
       "Outlet_Years                   int64\n",
       "Item_Fat_Content_0           float64\n",
       "Item_Fat_Content_1           float64\n",
       "Item_Fat_Content_2           float64\n",
       "Outlet_Location_Type_0       float64\n",
       "Outlet_Location_Type_1       float64\n",
       "Outlet_Location_Type_2       float64\n",
       "Outlet_Size_0                float64\n",
       "Outlet_Size_1                float64\n",
       "Outlet_Size_2                float64\n",
       "Outlet_Type_0                float64\n",
       "Outlet_Type_1                float64\n",
       "Outlet_Type_2                float64\n",
       "Outlet_Type_3                float64\n",
       "Item_Type_Combined_0         float64\n",
       "Item_Type_Combined_1         float64\n",
       "Item_Type_Combined_2         float64\n",
       "Outlet_0                     float64\n",
       "Outlet_1                     float64\n",
       "Outlet_2                     float64\n",
       "Outlet_3                     float64\n",
       "Outlet_4                     float64\n",
       "Outlet_5                     float64\n",
       "Outlet_6                     float64\n",
       "Outlet_7                     float64\n",
       "Outlet_8                     float64\n",
       "Outlet_9                     float64\n",
       "dtype: object"
      ]
     },
     "execution_count": 43,
     "metadata": {},
     "output_type": "execute_result"
    }
   ],
   "source": [
    "data.dtypes"
   ]
  },
  {
   "cell_type": "code",
   "execution_count": 44,
   "metadata": {
    "collapsed": false
   },
   "outputs": [
    {
     "name": "stderr",
     "output_type": "stream",
     "text": [
      "C:\\Users\\ranjank\\Anaconda3\\lib\\site-packages\\ipykernel\\__main__.py:9: SettingWithCopyWarning: \n",
      "A value is trying to be set on a copy of a slice from a DataFrame\n",
      "\n",
      "See the caveats in the documentation: http://pandas.pydata.org/pandas-docs/stable/indexing.html#indexing-view-versus-copy\n",
      "C:\\Users\\ranjank\\Anaconda3\\lib\\site-packages\\ipykernel\\__main__.py:10: SettingWithCopyWarning: \n",
      "A value is trying to be set on a copy of a slice from a DataFrame\n",
      "\n",
      "See the caveats in the documentation: http://pandas.pydata.org/pandas-docs/stable/indexing.html#indexing-view-versus-copy\n"
     ]
    }
   ],
   "source": [
    "#Drop the columns which have been converted to different types:\n",
    "data.drop(['Item_Type','Outlet_Establishment_Year'],axis=1,inplace=True)\n",
    "\n",
    "#Divide into test and train:\n",
    "train = data.loc[data['source']==\"train\"]\n",
    "test = data.loc[data['source']==\"test\"]\n",
    "\n",
    "#Drop unnecessary columns:\n",
    "test.drop(['Item_Outlet_Sales','source'],axis=1,inplace=True)\n",
    "train.drop(['source'],axis=1,inplace=True)\n",
    "\n",
    "#Export files as modified versions:\n",
    "train.to_csv(\"train_modified.csv\",index=False)\n",
    "test.to_csv(\"test_modified.csv\",index=False)"
   ]
  },
  {
   "cell_type": "markdown",
   "metadata": {},
   "source": [
    "## Model building"
   ]
  },
  {
   "cell_type": "code",
   "execution_count": 45,
   "metadata": {
    "collapsed": false
   },
   "outputs": [
    {
     "name": "stdout",
     "output_type": "stream",
     "text": [
      "['Item_MRP', 'Item_Visibility', 'Item_Weight', 'Item_Visibility_MeanRatio', 'Outlet_Years', 'Item_Fat_Content_0', 'Item_Fat_Content_1', 'Item_Fat_Content_2', 'Outlet_Location_Type_0', 'Outlet_Location_Type_1', 'Outlet_Location_Type_2', 'Outlet_Size_0', 'Outlet_Size_1', 'Outlet_Size_2', 'Outlet_Type_0', 'Outlet_Type_1', 'Outlet_Type_2', 'Outlet_Type_3', 'Item_Type_Combined_0', 'Item_Type_Combined_1', 'Item_Type_Combined_2', 'Outlet_0', 'Outlet_1', 'Outlet_2', 'Outlet_3', 'Outlet_4', 'Outlet_5', 'Outlet_6', 'Outlet_7', 'Outlet_8', 'Outlet_9']\n"
     ]
    }
   ],
   "source": [
    "target = 'Item_Outlet_Sales'\n",
    "IDcol = ['Item_Identifier','Outlet_Identifier']\n",
    "features = [x for x in train.columns if x not in [target]+IDcol]\n",
    "print(features)"
   ]
  },
  {
   "cell_type": "markdown",
   "metadata": {},
   "source": [
    "### Baseline Model"
   ]
  },
  {
   "cell_type": "code",
   "execution_count": 46,
   "metadata": {
    "collapsed": false
   },
   "outputs": [
    {
     "name": "stderr",
     "output_type": "stream",
     "text": [
      "C:\\Users\\ranjank\\Anaconda3\\lib\\site-packages\\ipykernel\\__main__.py:6: SettingWithCopyWarning: \n",
      "A value is trying to be set on a copy of a slice from a DataFrame.\n",
      "Try using .loc[row_indexer,col_indexer] = value instead\n",
      "\n",
      "See the caveats in the documentation: http://pandas.pydata.org/pandas-docs/stable/indexing.html#indexing-view-versus-copy\n"
     ]
    }
   ],
   "source": [
    "#Mean based:\n",
    "mean_sales = train['Item_Outlet_Sales'].mean()\n",
    "\n",
    "#Define a dataframe with IDs for submission:\n",
    "base1 = test[['Item_Identifier','Outlet_Identifier']]\n",
    "base1['Item_Outlet_Sales'] = mean_sales\n",
    "\n",
    "#Export submission file\n",
    "base1.to_csv(\"alg0.csv\",index=False)"
   ]
  },
  {
   "cell_type": "code",
   "execution_count": 47,
   "metadata": {
    "collapsed": false
   },
   "outputs": [
    {
     "data": {
      "text/plain": [
       "Index(['Item_Identifier', 'Item_MRP', 'Item_Outlet_Sales', 'Item_Visibility',\n",
       "       'Item_Weight', 'Outlet_Identifier', 'Item_Visibility_MeanRatio',\n",
       "       'Outlet_Years', 'Item_Fat_Content_0', 'Item_Fat_Content_1',\n",
       "       'Item_Fat_Content_2', 'Outlet_Location_Type_0',\n",
       "       'Outlet_Location_Type_1', 'Outlet_Location_Type_2', 'Outlet_Size_0',\n",
       "       'Outlet_Size_1', 'Outlet_Size_2', 'Outlet_Type_0', 'Outlet_Type_1',\n",
       "       'Outlet_Type_2', 'Outlet_Type_3', 'Item_Type_Combined_0',\n",
       "       'Item_Type_Combined_1', 'Item_Type_Combined_2', 'Outlet_0', 'Outlet_1',\n",
       "       'Outlet_2', 'Outlet_3', 'Outlet_4', 'Outlet_5', 'Outlet_6', 'Outlet_7',\n",
       "       'Outlet_8', 'Outlet_9'],\n",
       "      dtype='object')"
      ]
     },
     "execution_count": 47,
     "metadata": {},
     "output_type": "execute_result"
    }
   ],
   "source": [
    "train.columns"
   ]
  },
  {
   "cell_type": "markdown",
   "metadata": {},
   "source": [
    "### Linear Regression Model"
   ]
  },
  {
   "cell_type": "code",
   "execution_count": 48,
   "metadata": {
    "collapsed": false
   },
   "outputs": [
    {
     "data": {
      "text/plain": [
       "LinearRegression(copy_X=True, fit_intercept=True, n_jobs=1, normalize=True)"
      ]
     },
     "execution_count": 48,
     "metadata": {},
     "output_type": "execute_result"
    }
   ],
   "source": [
    "model_lr = LinearRegression(normalize=True)\n",
    "model_lr.fit(train[features], train[target])"
   ]
  },
  {
   "cell_type": "code",
   "execution_count": 49,
   "metadata": {
    "collapsed": false
   },
   "outputs": [],
   "source": [
    "#prediction on training data\n",
    "model_lr_train_prediction = model_lr.predict(train[features])\n",
    "\n",
    "#Perform cross-validation:\n",
    "cv_score = cross_val_score(model_lr, train[features], train[target], cv=20, scoring='mean_squared_error')\n",
    "cv_score = np.sqrt(np.abs(cv_score))"
   ]
  },
  {
   "cell_type": "code",
   "execution_count": 50,
   "metadata": {
    "collapsed": false
   },
   "outputs": [
    {
     "name": "stdout",
     "output_type": "stream",
     "text": [
      "\n",
      "Model Report\n",
      "RMSE : 1128\n",
      "CV Score : Mean - 1129 | Std - 43.06 | Min - 1075 | Max - 1209\n"
     ]
    }
   ],
   "source": [
    "#Print model report:\n",
    "print(\"\\nModel Report\")\n",
    "print(\"RMSE : %.4g\" % np.sqrt(mean_squared_error(train[target].values, model_lr_train_prediction)))\n",
    "print(\"CV Score : Mean - %.4g | Std - %.4g | Min - %.4g | Max - %.4g\" % (np.mean(cv_score),np.std(cv_score),np.min(cv_score),\n",
    "                                                                  np.max(cv_score)))"
   ]
  },
  {
   "cell_type": "code",
   "execution_count": 51,
   "metadata": {
    "collapsed": false
   },
   "outputs": [
    {
     "name": "stderr",
     "output_type": "stream",
     "text": [
      "C:\\Users\\ranjank\\Anaconda3\\lib\\site-packages\\ipykernel\\__main__.py:2: SettingWithCopyWarning: \n",
      "A value is trying to be set on a copy of a slice from a DataFrame.\n",
      "Try using .loc[row_indexer,col_indexer] = value instead\n",
      "\n",
      "See the caveats in the documentation: http://pandas.pydata.org/pandas-docs/stable/indexing.html#indexing-view-versus-copy\n",
      "  from ipykernel import kernelapp as app\n"
     ]
    }
   ],
   "source": [
    "#prediction on test data\n",
    "test[target] = model_lr.predict(test[features])\n",
    "\n",
    "#Export submission file:\n",
    "IDcol.append(target)\n",
    "submission = pd.DataFrame({ x: test[x] for x in IDcol})\n",
    "submission.to_csv(\"model_lr_01.csv\", index=False)"
   ]
  },
  {
   "cell_type": "code",
   "execution_count": 52,
   "metadata": {
    "collapsed": false
   },
   "outputs": [
    {
     "data": {
      "image/png": "[encoded data removed]",
      "text/plain": [
       "<matplotlib.figure.Figure at 0x1add72a9b70>"
      ]
     },
     "metadata": {},
     "output_type": "display_data"
    }
   ],
   "source": [
    "coef1 = pd.Series(model_lr.coef_, features).sort_values()\n",
    "coef1.plot(kind='bar', title='Model Coefficients')\n",
    "plt.show()"
   ]
  },
  {
   "cell_type": "markdown",
   "metadata": {},
   "source": [
    "### Ridge Regression Model"
   ]
  },
  {
   "cell_type": "code",
   "execution_count": 53,
   "metadata": {
    "collapsed": false
   },
   "outputs": [
    {
     "name": "stdout",
     "output_type": "stream",
     "text": [
      "\n",
      "Model Report\n",
      "RMSE : 1129\n",
      "CV Score : Mean - 1130 | Std - 44.6 | Min - 1076 | Max - 1217\n"
     ]
    },
    {
     "name": "stderr",
     "output_type": "stream",
     "text": [
      "C:\\Users\\ranjank\\Anaconda3\\lib\\site-packages\\ipykernel\\__main__.py:18: SettingWithCopyWarning: \n",
      "A value is trying to be set on a copy of a slice from a DataFrame.\n",
      "Try using .loc[row_indexer,col_indexer] = value instead\n",
      "\n",
      "See the caveats in the documentation: http://pandas.pydata.org/pandas-docs/stable/indexing.html#indexing-view-versus-copy\n"
     ]
    },
    {
     "data": {
      "text/plain": [
       "<matplotlib.axes._subplots.AxesSubplot at 0x1add912b6a0>"
      ]
     },
     "execution_count": 53,
     "metadata": {},
     "output_type": "execute_result"
    },
    {
     "data": {
      "image/png": "[encoded data removed]",
      "text/plain": [
       "<matplotlib.figure.Figure at 0x1add912bf60>"
      ]
     },
     "metadata": {},
     "output_type": "display_data"
    }
   ],
   "source": [
    "model_ridge = Ridge(alpha=0.05,normalize=True)\n",
    "model_ridge.fit(train[features], train[target])\n",
    "\n",
    "#prediction on training data\n",
    "model_ridge_train_prediction = model_ridge.predict(train[features])\n",
    "\n",
    "#Perform cross-validation:\n",
    "cv_score = cross_val_score(model_ridge, train[features], train[target], cv=20, scoring='mean_squared_error')\n",
    "cv_score = np.sqrt(np.abs(cv_score))\n",
    "\n",
    "#Print model report:\n",
    "print(\"\\nModel Report\")\n",
    "print(\"RMSE : %.4g\" % np.sqrt(mean_squared_error(train[target].values, model_ridge_train_prediction)))\n",
    "print(\"CV Score : Mean - %.4g | Std - %.4g | Min - %.4g | Max - %.4g\" % (np.mean(cv_score),np.std(cv_score),np.min(cv_score),\n",
    "                                                                  np.max(cv_score)))\n",
    "\n",
    "#prediction on test data\n",
    "test[target] = model_lr.predict(test[features])\n",
    "\n",
    "#Export submission file:\n",
    "IDcol.append(target)\n",
    "submission = pd.DataFrame({ x: test[x] for x in IDcol})\n",
    "submission.to_csv(\"model_ridge_01.csv\", index=False)\n",
    "\n",
    "coef2 = pd.Series(model_ridge.coef_, features).sort_values()\n",
    "coef2.plot(kind='bar', title='Model Coefficients')"
   ]
  },
  {
   "cell_type": "markdown",
   "metadata": {},
   "source": [
    "### Decision Tree Model"
   ]
  },
  {
   "cell_type": "code",
   "execution_count": 54,
   "metadata": {
    "collapsed": false
   },
   "outputs": [
    {
     "name": "stdout",
     "output_type": "stream",
     "text": [
      "\n",
      "Model Report\n",
      "RMSE : 1058\n",
      "CV Score : Mean - 1091 | Std - 45.42 | Min - 1003 | Max - 1186\n"
     ]
    },
    {
     "name": "stderr",
     "output_type": "stream",
     "text": [
      "C:\\Users\\ranjank\\Anaconda3\\lib\\site-packages\\ipykernel\\__main__.py:18: SettingWithCopyWarning: \n",
      "A value is trying to be set on a copy of a slice from a DataFrame.\n",
      "Try using .loc[row_indexer,col_indexer] = value instead\n",
      "\n",
      "See the caveats in the documentation: http://pandas.pydata.org/pandas-docs/stable/indexing.html#indexing-view-versus-copy\n"
     ]
    },
    {
     "data": {
      "text/plain": [
       "<matplotlib.axes._subplots.AxesSubplot at 0x1add72eb1d0>"
      ]
     },
     "execution_count": 54,
     "metadata": {},
     "output_type": "execute_result"
    },
    {
     "data": {
      "image/png": "[encoded data removed]",
      "text/plain": [
       "<matplotlib.figure.Figure at 0x1add70abda0>"
      ]
     },
     "metadata": {},
     "output_type": "display_data"
    }
   ],
   "source": [
    "model_dt = DecisionTreeRegressor(max_depth=15, min_samples_leaf=100)\n",
    "model_dt.fit(train[features], train[target])\n",
    "\n",
    "#prediction on training data\n",
    "model_dt_train_prediction = model_dt.predict(train[features])\n",
    "\n",
    "#Perform cross-validation:\n",
    "cv_score = cross_val_score(model_dt, train[features], train[target], cv=20, scoring='mean_squared_error')\n",
    "cv_score = np.sqrt(np.abs(cv_score))\n",
    "\n",
    "#Print model report:\n",
    "print(\"\\nModel Report\")\n",
    "print(\"RMSE : %.4g\" % np.sqrt(mean_squared_error(train[target].values, model_dt_train_prediction)))\n",
    "print(\"CV Score : Mean - %.4g | Std - %.4g | Min - %.4g | Max - %.4g\" % (np.mean(cv_score),np.std(cv_score),np.min(cv_score),\n",
    "                                                                  np.max(cv_score)))\n",
    "\n",
    "#prediction on test data\n",
    "test[target] = model_dt.predict(test[features])\n",
    "\n",
    "#Export submission file:\n",
    "IDcol.append(target)\n",
    "submission = pd.DataFrame({ x: test[x] for x in IDcol})\n",
    "submission.to_csv(\"model_dt_01.csv\", index=False)\n",
    "\n",
    "coef2 = pd.Series(model_dt.feature_importances_, features).sort_values()\n",
    "coef2.plot(kind='bar', title='Feature Importances')"
   ]
  },
  {
   "cell_type": "code",
   "execution_count": 55,
   "metadata": {
    "collapsed": false
   },
   "outputs": [
    {
     "name": "stdout",
     "output_type": "stream",
     "text": [
      "\n",
      "Model Report\n",
      "RMSE : 1070\n",
      "CV Score : Mean - 1095 | Std - 42.52 | Min - 1021 | Max - 1172\n"
     ]
    },
    {
     "name": "stderr",
     "output_type": "stream",
     "text": [
      "C:\\Users\\ranjank\\Anaconda3\\lib\\site-packages\\ipykernel\\__main__.py:19: SettingWithCopyWarning: \n",
      "A value is trying to be set on a copy of a slice from a DataFrame.\n",
      "Try using .loc[row_indexer,col_indexer] = value instead\n",
      "\n",
      "See the caveats in the documentation: http://pandas.pydata.org/pandas-docs/stable/indexing.html#indexing-view-versus-copy\n"
     ]
    },
    {
     "data": {
      "text/plain": [
       "<matplotlib.axes._subplots.AxesSubplot at 0x1add7913860>"
      ]
     },
     "execution_count": 55,
     "metadata": {},
     "output_type": "execute_result"
    },
    {
     "data": {
      "image/png": "[encoded data removed]",
      "text/plain": [
       "<matplotlib.figure.Figure at 0x1add7175e48>"
      ]
     },
     "metadata": {},
     "output_type": "display_data"
    }
   ],
   "source": [
    "features = ['Item_MRP','Outlet_Type_0','Item_Visibility','Outlet_Years']\n",
    "model_dt2 = DecisionTreeRegressor(max_depth=8, min_samples_leaf=150)\n",
    "model_dt2.fit(train[features], train[target])\n",
    "\n",
    "#prediction on training data\n",
    "model_dt_train_prediction2 = model_dt2.predict(train[features])\n",
    "\n",
    "#Perform cross-validation:\n",
    "cv_score = cross_val_score(model_dt2, train[features], train[target], cv=20, scoring='mean_squared_error')\n",
    "cv_score = np.sqrt(np.abs(cv_score))\n",
    "\n",
    "#Print model report:\n",
    "print(\"\\nModel Report\")\n",
    "print(\"RMSE : %.4g\" % np.sqrt(mean_squared_error(train[target].values, model_dt_train_prediction2)))\n",
    "print(\"CV Score : Mean - %.4g | Std - %.4g | Min - %.4g | Max - %.4g\" % (np.mean(cv_score),np.std(cv_score),np.min(cv_score),\n",
    "                                                                  np.max(cv_score)))\n",
    "\n",
    "#prediction on test data\n",
    "test[target] = model_dt2.predict(test[features])\n",
    "\n",
    "#Export submission file:\n",
    "IDcol.append(target)\n",
    "submission = pd.DataFrame({ x: test[x] for x in IDcol})\n",
    "submission.to_csv(\"model_dt_02.csv\", index=False)\n",
    "\n",
    "coef2 = pd.Series(model_dt2.feature_importances_, features).sort_values()\n",
    "coef2.plot(kind='bar', title='Feature Importances')"
   ]
  },
  {
   "cell_type": "markdown",
   "metadata": {},
   "source": [
    "### Random Forest"
   ]
  },
  {
   "cell_type": "code",
   "execution_count": 56,
   "metadata": {
    "collapsed": false
   },
   "outputs": [
    {
     "name": "stdout",
     "output_type": "stream",
     "text": [
      "\n",
      "Model Report\n",
      "RMSE : 1074\n",
      "CV Score : Mean - 1084 | Std - 43.68 | Min - 1020 | Max - 1162\n"
     ]
    },
    {
     "name": "stderr",
     "output_type": "stream",
     "text": [
      "C:\\Users\\ranjank\\Anaconda3\\lib\\site-packages\\ipykernel\\__main__.py:20: SettingWithCopyWarning: \n",
      "A value is trying to be set on a copy of a slice from a DataFrame.\n",
      "Try using .loc[row_indexer,col_indexer] = value instead\n",
      "\n",
      "See the caveats in the documentation: http://pandas.pydata.org/pandas-docs/stable/indexing.html#indexing-view-versus-copy\n"
     ]
    },
    {
     "data": {
      "text/plain": [
       "<matplotlib.axes._subplots.AxesSubplot at 0x1add732dc50>"
      ]
     },
     "execution_count": 56,
     "metadata": {},
     "output_type": "execute_result"
    },
    {
     "data": {
      "image/png": "[encoded data removed]",
      "text/plain": [
       "<matplotlib.figure.Figure at 0x1add73acc88>"
      ]
     },
     "metadata": {},
     "output_type": "display_data"
    }
   ],
   "source": [
    "features = [x for x in train.columns if x not in [target]+IDcol]\n",
    "\n",
    "model_rf = RandomForestRegressor(n_estimators=200,max_depth=5, min_samples_leaf=100,n_jobs=4)\n",
    "model_rf.fit(train[features], train[target])\n",
    "\n",
    "#prediction on training data\n",
    "model_rf_train_prediction = model_rf.predict(train[features])\n",
    "\n",
    "#Perform cross-validation:\n",
    "cv_score = cross_val_score(model_rf, train[features], train[target], cv=20, scoring='mean_squared_error')\n",
    "cv_score = np.sqrt(np.abs(cv_score))\n",
    "\n",
    "#Print model report:\n",
    "print(\"\\nModel Report\")\n",
    "print(\"RMSE : %.4g\" % np.sqrt(mean_squared_error(train[target].values, model_rf_train_prediction)))\n",
    "print(\"CV Score : Mean - %.4g | Std - %.4g | Min - %.4g | Max - %.4g\" % (np.mean(cv_score),np.std(cv_score),np.min(cv_score),\n",
    "                                                                  np.max(cv_score)))\n",
    "\n",
    "#prediction on test data\n",
    "test[target] = model_rf.predict(test[features])\n",
    "\n",
    "#Export submission file:\n",
    "IDcol.append(target)\n",
    "submission = pd.DataFrame({ x: test[x] for x in IDcol})\n",
    "submission.to_csv(\"model_rf_01.csv\", index=False)\n",
    "\n",
    "coef2 = pd.Series(model_rf.feature_importances_, features).sort_values(ascending=False)\n",
    "coef2.plot(kind='bar', title='Feature Importances')"
   ]
  },
  {
   "cell_type": "markdown",
   "metadata": {},
   "source": [
    "## Fine tuning Random Forest with grid search"
   ]
  },
  {
   "cell_type": "code",
   "execution_count": 67,
   "metadata": {
    "collapsed": false
   },
   "outputs": [
    {
     "name": "stdout",
     "output_type": "stream",
     "text": [
      "0.594626834478\n",
      "{'clf__max_depth': 6}\n",
      "\n",
      "Model Report\n",
      "RMSE : 1068\n",
      "CV Score : Mean - 1084 | Std - 43.68 | Min - 1020 | Max - 1162\n"
     ]
    }
   ],
   "source": [
    "pipe_rf = Pipeline([('clf', RandomForestRegressor(n_estimators=200, min_samples_leaf=100, random_state=1))])\n",
    "\n",
    "#rf_gs = RandomForestRegressor(n_estimators=200,max_depth=5, min_samples_leaf=100,n_jobs=4)\n",
    "\n",
    "max_depth_range = [1, 2, 3, 4, 5, 6, 7, 8, 9, 10]\n",
    "\n",
    "param_grid = [{'clf__max_depth': max_depth_range}]\n",
    "\n",
    "gs = GridSearchCV(estimator=pipe_rf, \n",
    "                  param_grid=param_grid, \n",
    "                  scoring='r2', \n",
    "                  cv=10,\n",
    "                  n_jobs=4)\n",
    "gs = gs.fit(train[features], train[target])\n",
    "print( gs.best_score_)\n",
    "print(gs.best_params_)\n",
    "\n",
    "gs_train_prediction = gs.predict(train[features])\n",
    "\n",
    "#Print model report:\n",
    "print(\"\\nModel Report\")\n",
    "print(\"RMSE : %.4g\" % np.sqrt(mean_squared_error(train[target].values, gs_train_prediction)))\n",
    "print(\"CV Score : Mean - %.4g | Std - %.4g | Min - %.4g | Max - %.4g\" % (np.mean(cv_score),np.std(cv_score),np.min(cv_score),\n",
    "                                                                  np.max(cv_score)))"
   ]
  },
  {
   "cell_type": "code",
   "execution_count": 69,
   "metadata": {
    "collapsed": false
   },
   "outputs": [
    {
     "name": "stderr",
     "output_type": "stream",
     "text": [
      "C:\\Users\\ranjank\\Anaconda3\\lib\\site-packages\\ipykernel\\__main__.py:2: SettingWithCopyWarning: \n",
      "A value is trying to be set on a copy of a slice from a DataFrame.\n",
      "Try using .loc[row_indexer,col_indexer] = value instead\n",
      "\n",
      "See the caveats in the documentation: http://pandas.pydata.org/pandas-docs/stable/indexing.html#indexing-view-versus-copy\n",
      "  from ipykernel import kernelapp as app\n"
     ]
    }
   ],
   "source": [
    "#prediction on test data\n",
    "test[target] = gs.predict(test[features])\n",
    "\n",
    "#Export submission file:\n",
    "IDcol.append(target)\n",
    "submission = pd.DataFrame({ x: test[x] for x in IDcol})\n",
    "submission.to_csv(\"model_gs_01.csv\", index=False)\n",
    "\n",
    "#coef2 = pd.Series(gs.feature_importances_, features).sort_values(ascending=False)\n",
    "#coef2.plot(kind='bar', title='Feature Importances')"
   ]
  }
 ],
 "metadata": {
  "kernelspec": {
   "display_name": "Python 3",
   "language": "python",
   "name": "python3"
  },
  "language_info": {
   "codemirror_mode": {
    "name": "ipython",
    "version": 3
   },
   "file_extension": ".py",
   "mimetype": "text/x-python",
   "name": "python",
   "nbconvert_exporter": "python",
   "pygments_lexer": "ipython3",
   "version": "3.5.1"
  }
 },
 "nbformat": 4,
 "nbformat_minor": 0
}
