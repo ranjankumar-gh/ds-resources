{
 "cells": [
  {
   "cell_type": "code",
   "execution_count": 303,
   "metadata": {
    "collapsed": true
   },
   "outputs": [],
   "source": [
    "import pandas as pd\n",
    "import numpy as np\n",
    "import math\n",
    "import csv\n",
    "from sklearn import preprocessing\n",
    "from collections import defaultdict\n",
    "from sklearn.cross_validation import train_test_split\n",
    "from sklearn.linear_model import LinearRegression\n",
    "from sklearn.linear_model import Ridge"
   ]
  },
  {
   "cell_type": "code",
   "execution_count": 304,
   "metadata": {
    "collapsed": false
   },
   "outputs": [],
   "source": [
    "train = pd.read_csv(\"Train_UWu5bXk.csv\")\n",
    "test = pd.read_csv(\"Test_u94Q5KV.csv\")\n",
    "train_data = train.copy()\n",
    "test_data = test.copy()"
   ]
  },
  {
   "cell_type": "code",
   "execution_count": 305,
   "metadata": {
    "collapsed": false
   },
   "outputs": [],
   "source": [
    "features = ['Item_Weight',\n",
    "            'Item_Fat_Content',\n",
    "            'Item_Visibility',\n",
    "            'Item_Type',\n",
    "            'Item_MRP',\n",
    "            'Outlet_Establishment_Year',\n",
    "            'Outlet_Size',\n",
    "            'Outlet_Location_Type',\n",
    "            'Outlet_Type']\n",
    "features_category = ['Item_Fat_Content',\n",
    "            'Item_Type',\n",
    "            'Outlet_Establishment_Year',\n",
    "            'Outlet_Size',\n",
    "            'Outlet_Location_Type',\n",
    "            'Outlet_Type']\n",
    "target = ['Item_Outlet_Sales']\n",
    "train_data = train_data[features + target]\n",
    "test_data = test_data[features]"
   ]
  },
  {
   "cell_type": "markdown",
   "metadata": {},
   "source": [
    "Following is the function to convert all categorical 'str' features to numeric categorical features"
   ]
  },
  {
   "cell_type": "code",
   "execution_count": 306,
   "metadata": {
    "collapsed": false
   },
   "outputs": [],
   "source": [
    "def dic_of_categories(data):\n",
    "    print \"dic_of_categories\"\n",
    "    dic_of_dics = {}\n",
    "    for feature in features_category:\n",
    "        j = 1\n",
    "        keys = [np.nan]\n",
    "        values = [np.nan]\n",
    "        for i in data[feature].value_counts().iteritems():\n",
    "            keys.append(i[0])\n",
    "            values.append(j)\n",
    "            j += 1\n",
    "        dic1 = dict(zip(keys, values))\n",
    "        dic_of_dics.setdefault(feature, dic1) \n",
    "    return dic_of_dics"
   ]
  },
  {
   "cell_type": "code",
   "execution_count": 307,
   "metadata": {
    "collapsed": true
   },
   "outputs": [],
   "source": [
    "def categorize_based_on_dic_of_categories(data, dic_of_dics):\n",
    "    print \"categorize_based_on_dic_of_categories\"\n",
    "    for feature in data.columns:\n",
    "        if feature in dic_of_dics:\n",
    "            #print dic_of_dics[feature]\n",
    "            data[feature] = data[feature].apply(lambda x: dic_of_dics[feature][x])"
   ]
  },
  {
   "cell_type": "code",
   "execution_count": 308,
   "metadata": {
    "collapsed": false
   },
   "outputs": [
    {
     "name": "stdout",
     "output_type": "stream",
     "text": [
      "dic_of_categories\n",
      "categorize_based_on_dic_of_categories\n",
      "categorize_based_on_dic_of_categories\n",
      "   Item_Weight  Item_Fat_Content  Item_Visibility  Item_Type  Item_MRP  \\\n",
      "0         9.30                 1         0.016047          5  249.8092   \n",
      "1         5.92                 2         0.019278          9   48.2692   \n",
      "2        17.50                 1         0.016760         10  141.6180   \n",
      "3        19.20                 2         0.000000          1  182.0950   \n",
      "4         8.93                 1         0.000000          3   53.8614   \n",
      "\n",
      "   Outlet_Establishment_Year  Outlet_Size  Outlet_Location_Type  Outlet_Type  \\\n",
      "0                          3            1                     3            1   \n",
      "1                          7            1                     1            4   \n",
      "2                          3            1                     3            1   \n",
      "3                          9          NaN                     1            2   \n",
      "4                          2            3                     1            1   \n",
      "\n",
      "   Item_Outlet_Sales  \n",
      "0          3735.1380  \n",
      "1           443.4228  \n",
      "2          2097.2700  \n",
      "3           732.3800  \n",
      "4           994.7052  \n",
      "   Item_Weight  Item_Fat_Content  Item_Visibility  Item_Type  Item_MRP  \\\n",
      "0       20.750                 1         0.007565          2  107.8622   \n",
      "1        8.300                 4         0.038428          5   87.3198   \n",
      "2       14.600                 1         0.099575         13  241.7538   \n",
      "3        7.315                 1         0.015388          2  155.0340   \n",
      "4          NaN                 2         0.118599          5  234.2300   \n",
      "\n",
      "   Outlet_Establishment_Year  Outlet_Size  Outlet_Location_Type  Outlet_Type  \n",
      "0                          3            1                     3            1  \n",
      "1                          8          NaN                     2            1  \n",
      "2                          9          NaN                     1            2  \n",
      "3                          8          NaN                     2            1  \n",
      "4                          1            1                     1            3  \n"
     ]
    }
   ],
   "source": [
    "dic_of_dics = dic_of_categories(train_data[features]) \n",
    "\n",
    "categorize_based_on_dic_of_categories(train_data, dic_of_dics)\n",
    "categorize_based_on_dic_of_categories(test_data, dic_of_dics)\n",
    "\n",
    "print train_data.head()\n",
    "print test_data.head()"
   ]
  },
  {
   "cell_type": "markdown",
   "metadata": {},
   "source": [
    "### Imputation in train data"
   ]
  },
  {
   "cell_type": "code",
   "execution_count": 309,
   "metadata": {
    "collapsed": false
   },
   "outputs": [],
   "source": [
    "imp = preprocessing.Imputer(missing_values='NaN', strategy='median', axis=0)\n",
    "\n",
    "imp.fit(train_data)\n",
    "train_data_np = imp.transform(train_data)\n",
    "train_data = pd.DataFrame(train_data_np, columns=train_data.columns)\n",
    "\n",
    "imp.fit(test_data)\n",
    "test_data_np = imp.transform(test_data)\n",
    "test_data = pd.DataFrame(test_data_np, columns=test_data.columns)"
   ]
  },
  {
   "cell_type": "code",
   "execution_count": 310,
   "metadata": {
    "collapsed": false
   },
   "outputs": [
    {
     "name": "stdout",
     "output_type": "stream",
     "text": [
      "   Item_Weight  Item_Fat_Content  Item_Visibility  Item_Type  Item_MRP  \\\n",
      "0         9.30                 1         0.016047          5  249.8092   \n",
      "1         5.92                 2         0.019278          9   48.2692   \n",
      "2        17.50                 1         0.016760         10  141.6180   \n",
      "3        19.20                 2         0.000000          1  182.0950   \n",
      "4         8.93                 1         0.000000          3   53.8614   \n",
      "\n",
      "   Outlet_Establishment_Year  Outlet_Size  Outlet_Location_Type  Outlet_Type  \\\n",
      "0                          3            1                     3            1   \n",
      "1                          7            1                     1            4   \n",
      "2                          3            1                     3            1   \n",
      "3                          9            2                     1            2   \n",
      "4                          2            3                     1            1   \n",
      "\n",
      "   Item_Outlet_Sales  \n",
      "0          3735.1380  \n",
      "1           443.4228  \n",
      "2          2097.2700  \n",
      "3           732.3800  \n",
      "4           994.7052  \n",
      "   Item_Weight  Item_Fat_Content  Item_Visibility  Item_Type  Item_MRP  \\\n",
      "0         9.30                 1         0.016047          5  249.8092   \n",
      "1         5.92                 2         0.019278          9   48.2692   \n",
      "2        17.50                 1         0.016760         10  141.6180   \n",
      "3        19.20                 2         0.000000          1  182.0950   \n",
      "4         8.93                 1         0.000000          3   53.8614   \n",
      "\n",
      "   Outlet_Establishment_Year  Outlet_Size  Outlet_Location_Type  Outlet_Type  \\\n",
      "0                          3            1                     3            1   \n",
      "1                          7            1                     1            4   \n",
      "2                          3            1                     3            1   \n",
      "3                          9            2                     1            2   \n",
      "4                          2            3                     1            1   \n",
      "\n",
      "   Item_Outlet_Sales  \n",
      "0          3735.1380  \n",
      "1           443.4228  \n",
      "2          2097.2700  \n",
      "3           732.3800  \n",
      "4           994.7052  \n"
     ]
    }
   ],
   "source": [
    "print train_data.head()\n",
    "print train_data.head()"
   ]
  },
  {
   "cell_type": "code",
   "execution_count": 311,
   "metadata": {
    "collapsed": false
   },
   "outputs": [],
   "source": [
    "train_data['log_Item_MRP'] = train_data['Item_MRP'].apply(lambda x: np.log(x))\n",
    "test_data['log_Item_MRP'] = test_data['Item_MRP'].apply(lambda x: np.log(x))\n",
    "\n",
    "train_data['sqrt_Item_MRP'] = train_data['Item_MRP'].apply(lambda x: np.sqrt(x))\n",
    "test_data['sqrt_Item_MRP'] = test_data['Item_MRP'].apply(lambda x: np.sqrt(x))\n",
    "\n",
    "train_data['cube_root_Item_MRP'] = train_data['Item_MRP'].apply(lambda x: math.pow(x, float(1)/3))\n",
    "test_data['cube_root_Item_MRP'] = test_data['Item_MRP'].apply(lambda x: math.pow(x, float(1)/3))\n",
    "\n",
    "train_data['4th_root_Item_MRP'] = train_data['Item_MRP'].apply(lambda x: math.pow(x, float(1)/4))\n",
    "test_data['4th_root_Item_MRP'] = test_data['Item_MRP'].apply(lambda x: math.pow(x, float(1)/4))\n",
    "\n",
    "train_data['exp_Item_Visibility'] = train_data['Item_Visibility'].apply(lambda x: np.exp(x))\n",
    "test_data['exp_Item_Visibility'] = test_data['Item_Visibility'].apply(lambda x: np.exp(x))\n",
    "\n",
    "train_data['sqroot_Item_Weight'] = train_data['Item_Weight'].apply(lambda x: np.sqrt(x))\n",
    "test_data['sqroot_Item_Weight'] = test_data['Item_Weight'].apply(lambda x: np.sqrt(x))\n",
    "\n",
    "train_data['Total_Item_Visibility'] = train_data['Item_Visibility'] * train_data['Outlet_Size']\n",
    "test_data['Total_Item_Visibility'] = test_data['Item_Visibility'] * train_data['Outlet_Size']\n",
    "\n",
    "train_data['Total_2_Item_Visibility'] = train_data['Total_Item_Visibility'].apply(lambda x: np.square(x))\n",
    "test_data['Total_2_Item_Visibility'] = test_data['Total_Item_Visibility'].apply(lambda x: np.square(x))"
   ]
  },
  {
   "cell_type": "code",
   "execution_count": 312,
   "metadata": {
    "collapsed": true
   },
   "outputs": [],
   "source": [
    "model1_features = features + ['sqrt_Item_MRP', 'cube_root_Item_MRP', '4th_root_Item_MRP', 'exp_Item_Visibility']"
   ]
  },
  {
   "cell_type": "code",
   "execution_count": 313,
   "metadata": {
    "collapsed": false
   },
   "outputs": [],
   "source": [
    "X = train_data[model1_features]\n",
    "y = train_data[target]"
   ]
  },
  {
   "cell_type": "code",
   "execution_count": 314,
   "metadata": {
    "collapsed": false
   },
   "outputs": [
    {
     "data": {
      "text/plain": [
       "Ridge(alpha=0.01, copy_X=True, fit_intercept=True, max_iter=None,\n",
       "   normalize=False, solver='auto', tol=0.001)"
      ]
     },
     "execution_count": 314,
     "metadata": {},
     "output_type": "execute_result"
    }
   ],
   "source": [
    "#model_lr = LinearRegression()\n",
    "#model_lr.fit(X, y)\n",
    "\n",
    "model_ridge = Ridge(alpha=0.001)\n",
    "model_ridge.fit(X, y)"
   ]
  },
  {
   "cell_type": "code",
   "execution_count": 315,
   "metadata": {
    "collapsed": false
   },
   "outputs": [
    {
     "name": "stdout",
     "output_type": "stream",
     "text": [
      "(8523, 13) (8523, 1)\n",
      "(5681, 17)\n"
     ]
    }
   ],
   "source": [
    "print X.shape, y.shape\n",
    "print test_data.shape"
   ]
  },
  {
   "cell_type": "code",
   "execution_count": 316,
   "metadata": {
    "collapsed": false
   },
   "outputs": [
    {
     "name": "stdout",
     "output_type": "stream",
     "text": [
      "[[ 2482.03891685]\n",
      " [ 1107.21532313]\n",
      " [ 3265.85171288]\n",
      " ..., \n",
      " [ 1787.51923722]\n",
      " [ 3098.62266152]\n",
      " [ 1100.62171794]]\n"
     ]
    }
   ],
   "source": [
    "#predictions = model_lr.predict(test_data)\n",
    "predictions = model_ridge.predict(test_data[model1_features])\n",
    "print predictions"
   ]
  },
  {
   "cell_type": "markdown",
   "metadata": {},
   "source": [
    "### Writing the submission file"
   ]
  },
  {
   "cell_type": "code",
   "execution_count": 317,
   "metadata": {
    "collapsed": false
   },
   "outputs": [],
   "source": [
    "with open('submission.csv', 'wb') as csvfile:\n",
    "    submission_writer = csv.writer(csvfile, delimiter=',',\n",
    "                            quotechar='|', quoting=csv.QUOTE_MINIMAL)\n",
    "    submission_writer.writerow(['Item_Identifier', 'Outlet_Identifier', 'Item_Outlet_Sales'])\n",
    "    for i in xrange(len(test)):\n",
    "        submission_writer.writerow([test['Item_Identifier'][i], test['Outlet_Identifier'][i], predictions[i][0]])"
   ]
  }
 ],
 "metadata": {
  "kernelspec": {
   "display_name": "Python 2",
   "language": "python",
   "name": "python2"
  },
  "language_info": {
   "codemirror_mode": {
    "name": "ipython",
    "version": 2
   },
   "file_extension": ".py",
   "mimetype": "text/x-python",
   "name": "python",
   "nbconvert_exporter": "python",
   "pygments_lexer": "ipython2",
   "version": "2.7.10"
  }
 },
 "nbformat": 4,
 "nbformat_minor": 0
}
